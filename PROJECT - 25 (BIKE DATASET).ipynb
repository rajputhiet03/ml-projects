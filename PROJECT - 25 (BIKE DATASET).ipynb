{
 "cells": [
  {
   "cell_type": "markdown",
   "metadata": {},
   "source": [
    "# PROJECT - 25 (BIKE SHARING )"
   ]
  },
  {
   "cell_type": "code",
   "execution_count": 9,
   "metadata": {},
   "outputs": [],
   "source": [
    "import numpy as np\n",
    "import pandas as pd\n",
    "import matplotlib.pyplot as plt\n",
    "import seaborn as sns\n",
    "import sklearn\n",
    "from sklearn.model_selection import train_test_split\n",
    "from sklearn.linear_model import LinearRegression \n",
    "from sklearn.metrics import mean_squared_error,r2_score\n",
    "import warnings\n",
    "warnings.filterwarnings (\"ignore\")"
   ]
  },
  {
   "cell_type": "markdown",
   "metadata": {},
   "source": [
    "# IMPORTING DATASET"
   ]
  },
  {
   "cell_type": "code",
   "execution_count": 10,
   "metadata": {},
   "outputs": [
    {
     "data": {
      "text/html": [
       "<div>\n",
       "<style scoped>\n",
       "    .dataframe tbody tr th:only-of-type {\n",
       "        vertical-align: middle;\n",
       "    }\n",
       "\n",
       "    .dataframe tbody tr th {\n",
       "        vertical-align: top;\n",
       "    }\n",
       "\n",
       "    .dataframe thead th {\n",
       "        text-align: right;\n",
       "    }\n",
       "</style>\n",
       "<table border=\"1\" class=\"dataframe\">\n",
       "  <thead>\n",
       "    <tr style=\"text-align: right;\">\n",
       "      <th></th>\n",
       "      <th>instant</th>\n",
       "      <th>dteday</th>\n",
       "      <th>season</th>\n",
       "      <th>yr</th>\n",
       "      <th>mnth</th>\n",
       "      <th>hr</th>\n",
       "      <th>holiday</th>\n",
       "      <th>weekday</th>\n",
       "      <th>workingday</th>\n",
       "      <th>weathersit</th>\n",
       "      <th>temp</th>\n",
       "      <th>atemp</th>\n",
       "      <th>hum</th>\n",
       "      <th>windspeed</th>\n",
       "      <th>casual</th>\n",
       "      <th>registered</th>\n",
       "      <th>cnt</th>\n",
       "    </tr>\n",
       "  </thead>\n",
       "  <tbody>\n",
       "    <tr>\n",
       "      <th>0</th>\n",
       "      <td>1</td>\n",
       "      <td>1/1/2011</td>\n",
       "      <td>1</td>\n",
       "      <td>0</td>\n",
       "      <td>1</td>\n",
       "      <td>0</td>\n",
       "      <td>0</td>\n",
       "      <td>6</td>\n",
       "      <td>0</td>\n",
       "      <td>1</td>\n",
       "      <td>0.24</td>\n",
       "      <td>0.2879</td>\n",
       "      <td>0.81</td>\n",
       "      <td>0.0</td>\n",
       "      <td>3</td>\n",
       "      <td>13</td>\n",
       "      <td>16</td>\n",
       "    </tr>\n",
       "    <tr>\n",
       "      <th>1</th>\n",
       "      <td>2</td>\n",
       "      <td>1/1/2011</td>\n",
       "      <td>1</td>\n",
       "      <td>0</td>\n",
       "      <td>1</td>\n",
       "      <td>1</td>\n",
       "      <td>0</td>\n",
       "      <td>6</td>\n",
       "      <td>0</td>\n",
       "      <td>1</td>\n",
       "      <td>0.22</td>\n",
       "      <td>0.2727</td>\n",
       "      <td>0.80</td>\n",
       "      <td>0.0</td>\n",
       "      <td>8</td>\n",
       "      <td>32</td>\n",
       "      <td>40</td>\n",
       "    </tr>\n",
       "    <tr>\n",
       "      <th>2</th>\n",
       "      <td>3</td>\n",
       "      <td>1/1/2011</td>\n",
       "      <td>1</td>\n",
       "      <td>0</td>\n",
       "      <td>1</td>\n",
       "      <td>2</td>\n",
       "      <td>0</td>\n",
       "      <td>6</td>\n",
       "      <td>0</td>\n",
       "      <td>1</td>\n",
       "      <td>0.22</td>\n",
       "      <td>0.2727</td>\n",
       "      <td>0.80</td>\n",
       "      <td>0.0</td>\n",
       "      <td>5</td>\n",
       "      <td>27</td>\n",
       "      <td>32</td>\n",
       "    </tr>\n",
       "    <tr>\n",
       "      <th>3</th>\n",
       "      <td>4</td>\n",
       "      <td>1/1/2011</td>\n",
       "      <td>1</td>\n",
       "      <td>0</td>\n",
       "      <td>1</td>\n",
       "      <td>3</td>\n",
       "      <td>0</td>\n",
       "      <td>6</td>\n",
       "      <td>0</td>\n",
       "      <td>1</td>\n",
       "      <td>0.24</td>\n",
       "      <td>0.2879</td>\n",
       "      <td>0.75</td>\n",
       "      <td>0.0</td>\n",
       "      <td>3</td>\n",
       "      <td>10</td>\n",
       "      <td>13</td>\n",
       "    </tr>\n",
       "    <tr>\n",
       "      <th>4</th>\n",
       "      <td>5</td>\n",
       "      <td>1/1/2011</td>\n",
       "      <td>1</td>\n",
       "      <td>0</td>\n",
       "      <td>1</td>\n",
       "      <td>4</td>\n",
       "      <td>0</td>\n",
       "      <td>6</td>\n",
       "      <td>0</td>\n",
       "      <td>1</td>\n",
       "      <td>0.24</td>\n",
       "      <td>0.2879</td>\n",
       "      <td>0.75</td>\n",
       "      <td>0.0</td>\n",
       "      <td>0</td>\n",
       "      <td>1</td>\n",
       "      <td>1</td>\n",
       "    </tr>\n",
       "  </tbody>\n",
       "</table>\n",
       "</div>"
      ],
      "text/plain": [
       "   instant    dteday  season  yr  mnth  hr  holiday  weekday  workingday  \\\n",
       "0        1  1/1/2011       1   0     1   0        0        6           0   \n",
       "1        2  1/1/2011       1   0     1   1        0        6           0   \n",
       "2        3  1/1/2011       1   0     1   2        0        6           0   \n",
       "3        4  1/1/2011       1   0     1   3        0        6           0   \n",
       "4        5  1/1/2011       1   0     1   4        0        6           0   \n",
       "\n",
       "   weathersit  temp   atemp   hum  windspeed  casual  registered  cnt  \n",
       "0           1  0.24  0.2879  0.81        0.0       3          13   16  \n",
       "1           1  0.22  0.2727  0.80        0.0       8          32   40  \n",
       "2           1  0.22  0.2727  0.80        0.0       5          27   32  \n",
       "3           1  0.24  0.2879  0.75        0.0       3          10   13  \n",
       "4           1  0.24  0.2879  0.75        0.0       0           1    1  "
      ]
     },
     "execution_count": 10,
     "metadata": {},
     "output_type": "execute_result"
    }
   ],
   "source": [
    "data=pd.read_csv(\"bike.csv\")\n",
    "data.head()"
   ]
  },
  {
   "cell_type": "code",
   "execution_count": 11,
   "metadata": {},
   "outputs": [
    {
     "data": {
      "text/html": [
       "<div>\n",
       "<style scoped>\n",
       "    .dataframe tbody tr th:only-of-type {\n",
       "        vertical-align: middle;\n",
       "    }\n",
       "\n",
       "    .dataframe tbody tr th {\n",
       "        vertical-align: top;\n",
       "    }\n",
       "\n",
       "    .dataframe thead th {\n",
       "        text-align: right;\n",
       "    }\n",
       "</style>\n",
       "<table border=\"1\" class=\"dataframe\">\n",
       "  <thead>\n",
       "    <tr style=\"text-align: right;\">\n",
       "      <th></th>\n",
       "      <th>instant</th>\n",
       "      <th>dteday</th>\n",
       "      <th>season</th>\n",
       "      <th>yr</th>\n",
       "      <th>mnth</th>\n",
       "      <th>hr</th>\n",
       "      <th>holiday</th>\n",
       "      <th>weekday</th>\n",
       "      <th>workingday</th>\n",
       "      <th>weathersit</th>\n",
       "      <th>temp</th>\n",
       "      <th>atemp</th>\n",
       "      <th>hum</th>\n",
       "      <th>windspeed</th>\n",
       "      <th>casual</th>\n",
       "      <th>registered</th>\n",
       "      <th>cnt</th>\n",
       "    </tr>\n",
       "  </thead>\n",
       "  <tbody>\n",
       "    <tr>\n",
       "      <th>17374</th>\n",
       "      <td>17375</td>\n",
       "      <td>31-12-2012</td>\n",
       "      <td>1</td>\n",
       "      <td>1</td>\n",
       "      <td>12</td>\n",
       "      <td>19</td>\n",
       "      <td>0</td>\n",
       "      <td>1</td>\n",
       "      <td>1</td>\n",
       "      <td>2</td>\n",
       "      <td>0.26</td>\n",
       "      <td>0.2576</td>\n",
       "      <td>0.60</td>\n",
       "      <td>0.1642</td>\n",
       "      <td>11</td>\n",
       "      <td>108</td>\n",
       "      <td>119</td>\n",
       "    </tr>\n",
       "    <tr>\n",
       "      <th>17375</th>\n",
       "      <td>17376</td>\n",
       "      <td>31-12-2012</td>\n",
       "      <td>1</td>\n",
       "      <td>1</td>\n",
       "      <td>12</td>\n",
       "      <td>20</td>\n",
       "      <td>0</td>\n",
       "      <td>1</td>\n",
       "      <td>1</td>\n",
       "      <td>2</td>\n",
       "      <td>0.26</td>\n",
       "      <td>0.2576</td>\n",
       "      <td>0.60</td>\n",
       "      <td>0.1642</td>\n",
       "      <td>8</td>\n",
       "      <td>81</td>\n",
       "      <td>89</td>\n",
       "    </tr>\n",
       "    <tr>\n",
       "      <th>17376</th>\n",
       "      <td>17377</td>\n",
       "      <td>31-12-2012</td>\n",
       "      <td>1</td>\n",
       "      <td>1</td>\n",
       "      <td>12</td>\n",
       "      <td>21</td>\n",
       "      <td>0</td>\n",
       "      <td>1</td>\n",
       "      <td>1</td>\n",
       "      <td>1</td>\n",
       "      <td>0.26</td>\n",
       "      <td>0.2576</td>\n",
       "      <td>0.60</td>\n",
       "      <td>0.1642</td>\n",
       "      <td>7</td>\n",
       "      <td>83</td>\n",
       "      <td>90</td>\n",
       "    </tr>\n",
       "    <tr>\n",
       "      <th>17377</th>\n",
       "      <td>17378</td>\n",
       "      <td>31-12-2012</td>\n",
       "      <td>1</td>\n",
       "      <td>1</td>\n",
       "      <td>12</td>\n",
       "      <td>22</td>\n",
       "      <td>0</td>\n",
       "      <td>1</td>\n",
       "      <td>1</td>\n",
       "      <td>1</td>\n",
       "      <td>0.26</td>\n",
       "      <td>0.2727</td>\n",
       "      <td>0.56</td>\n",
       "      <td>0.1343</td>\n",
       "      <td>13</td>\n",
       "      <td>48</td>\n",
       "      <td>61</td>\n",
       "    </tr>\n",
       "    <tr>\n",
       "      <th>17378</th>\n",
       "      <td>17379</td>\n",
       "      <td>31-12-2012</td>\n",
       "      <td>1</td>\n",
       "      <td>1</td>\n",
       "      <td>12</td>\n",
       "      <td>23</td>\n",
       "      <td>0</td>\n",
       "      <td>1</td>\n",
       "      <td>1</td>\n",
       "      <td>1</td>\n",
       "      <td>0.26</td>\n",
       "      <td>0.2727</td>\n",
       "      <td>0.65</td>\n",
       "      <td>0.1343</td>\n",
       "      <td>12</td>\n",
       "      <td>37</td>\n",
       "      <td>49</td>\n",
       "    </tr>\n",
       "  </tbody>\n",
       "</table>\n",
       "</div>"
      ],
      "text/plain": [
       "       instant      dteday  season  yr  mnth  hr  holiday  weekday  \\\n",
       "17374    17375  31-12-2012       1   1    12  19        0        1   \n",
       "17375    17376  31-12-2012       1   1    12  20        0        1   \n",
       "17376    17377  31-12-2012       1   1    12  21        0        1   \n",
       "17377    17378  31-12-2012       1   1    12  22        0        1   \n",
       "17378    17379  31-12-2012       1   1    12  23        0        1   \n",
       "\n",
       "       workingday  weathersit  temp   atemp   hum  windspeed  casual  \\\n",
       "17374           1           2  0.26  0.2576  0.60     0.1642      11   \n",
       "17375           1           2  0.26  0.2576  0.60     0.1642       8   \n",
       "17376           1           1  0.26  0.2576  0.60     0.1642       7   \n",
       "17377           1           1  0.26  0.2727  0.56     0.1343      13   \n",
       "17378           1           1  0.26  0.2727  0.65     0.1343      12   \n",
       "\n",
       "       registered  cnt  \n",
       "17374         108  119  \n",
       "17375          81   89  \n",
       "17376          83   90  \n",
       "17377          48   61  \n",
       "17378          37   49  "
      ]
     },
     "execution_count": 11,
     "metadata": {},
     "output_type": "execute_result"
    }
   ],
   "source": [
    "data.tail()"
   ]
  },
  {
   "cell_type": "code",
   "execution_count": 12,
   "metadata": {},
   "outputs": [
    {
     "data": {
      "text/html": [
       "<div>\n",
       "<style scoped>\n",
       "    .dataframe tbody tr th:only-of-type {\n",
       "        vertical-align: middle;\n",
       "    }\n",
       "\n",
       "    .dataframe tbody tr th {\n",
       "        vertical-align: top;\n",
       "    }\n",
       "\n",
       "    .dataframe thead th {\n",
       "        text-align: right;\n",
       "    }\n",
       "</style>\n",
       "<table border=\"1\" class=\"dataframe\">\n",
       "  <thead>\n",
       "    <tr style=\"text-align: right;\">\n",
       "      <th></th>\n",
       "      <th>instant</th>\n",
       "      <th>season</th>\n",
       "      <th>yr</th>\n",
       "      <th>mnth</th>\n",
       "      <th>hr</th>\n",
       "      <th>holiday</th>\n",
       "      <th>weekday</th>\n",
       "      <th>workingday</th>\n",
       "      <th>weathersit</th>\n",
       "      <th>temp</th>\n",
       "      <th>atemp</th>\n",
       "      <th>hum</th>\n",
       "      <th>windspeed</th>\n",
       "      <th>casual</th>\n",
       "      <th>registered</th>\n",
       "      <th>cnt</th>\n",
       "    </tr>\n",
       "  </thead>\n",
       "  <tbody>\n",
       "    <tr>\n",
       "      <th>count</th>\n",
       "      <td>17379.0000</td>\n",
       "      <td>17379.000000</td>\n",
       "      <td>17379.000000</td>\n",
       "      <td>17379.000000</td>\n",
       "      <td>17379.000000</td>\n",
       "      <td>17379.000000</td>\n",
       "      <td>17379.000000</td>\n",
       "      <td>17379.000000</td>\n",
       "      <td>17379.000000</td>\n",
       "      <td>17379.000000</td>\n",
       "      <td>17379.000000</td>\n",
       "      <td>17379.000000</td>\n",
       "      <td>17379.000000</td>\n",
       "      <td>17379.000000</td>\n",
       "      <td>17379.000000</td>\n",
       "      <td>17379.000000</td>\n",
       "    </tr>\n",
       "    <tr>\n",
       "      <th>mean</th>\n",
       "      <td>8690.0000</td>\n",
       "      <td>2.501640</td>\n",
       "      <td>0.502561</td>\n",
       "      <td>6.537775</td>\n",
       "      <td>11.546752</td>\n",
       "      <td>0.028770</td>\n",
       "      <td>3.003683</td>\n",
       "      <td>0.682721</td>\n",
       "      <td>1.425283</td>\n",
       "      <td>0.496987</td>\n",
       "      <td>0.475775</td>\n",
       "      <td>0.627229</td>\n",
       "      <td>0.190098</td>\n",
       "      <td>35.676218</td>\n",
       "      <td>153.786869</td>\n",
       "      <td>189.463088</td>\n",
       "    </tr>\n",
       "    <tr>\n",
       "      <th>std</th>\n",
       "      <td>5017.0295</td>\n",
       "      <td>1.106918</td>\n",
       "      <td>0.500008</td>\n",
       "      <td>3.438776</td>\n",
       "      <td>6.914405</td>\n",
       "      <td>0.167165</td>\n",
       "      <td>2.005771</td>\n",
       "      <td>0.465431</td>\n",
       "      <td>0.639357</td>\n",
       "      <td>0.192556</td>\n",
       "      <td>0.171850</td>\n",
       "      <td>0.192930</td>\n",
       "      <td>0.122340</td>\n",
       "      <td>49.305030</td>\n",
       "      <td>151.357286</td>\n",
       "      <td>181.387599</td>\n",
       "    </tr>\n",
       "    <tr>\n",
       "      <th>min</th>\n",
       "      <td>1.0000</td>\n",
       "      <td>1.000000</td>\n",
       "      <td>0.000000</td>\n",
       "      <td>1.000000</td>\n",
       "      <td>0.000000</td>\n",
       "      <td>0.000000</td>\n",
       "      <td>0.000000</td>\n",
       "      <td>0.000000</td>\n",
       "      <td>1.000000</td>\n",
       "      <td>0.020000</td>\n",
       "      <td>0.000000</td>\n",
       "      <td>0.000000</td>\n",
       "      <td>0.000000</td>\n",
       "      <td>0.000000</td>\n",
       "      <td>0.000000</td>\n",
       "      <td>1.000000</td>\n",
       "    </tr>\n",
       "    <tr>\n",
       "      <th>25%</th>\n",
       "      <td>4345.5000</td>\n",
       "      <td>2.000000</td>\n",
       "      <td>0.000000</td>\n",
       "      <td>4.000000</td>\n",
       "      <td>6.000000</td>\n",
       "      <td>0.000000</td>\n",
       "      <td>1.000000</td>\n",
       "      <td>0.000000</td>\n",
       "      <td>1.000000</td>\n",
       "      <td>0.340000</td>\n",
       "      <td>0.333300</td>\n",
       "      <td>0.480000</td>\n",
       "      <td>0.104500</td>\n",
       "      <td>4.000000</td>\n",
       "      <td>34.000000</td>\n",
       "      <td>40.000000</td>\n",
       "    </tr>\n",
       "    <tr>\n",
       "      <th>50%</th>\n",
       "      <td>8690.0000</td>\n",
       "      <td>3.000000</td>\n",
       "      <td>1.000000</td>\n",
       "      <td>7.000000</td>\n",
       "      <td>12.000000</td>\n",
       "      <td>0.000000</td>\n",
       "      <td>3.000000</td>\n",
       "      <td>1.000000</td>\n",
       "      <td>1.000000</td>\n",
       "      <td>0.500000</td>\n",
       "      <td>0.484800</td>\n",
       "      <td>0.630000</td>\n",
       "      <td>0.194000</td>\n",
       "      <td>17.000000</td>\n",
       "      <td>115.000000</td>\n",
       "      <td>142.000000</td>\n",
       "    </tr>\n",
       "    <tr>\n",
       "      <th>75%</th>\n",
       "      <td>13034.5000</td>\n",
       "      <td>3.000000</td>\n",
       "      <td>1.000000</td>\n",
       "      <td>10.000000</td>\n",
       "      <td>18.000000</td>\n",
       "      <td>0.000000</td>\n",
       "      <td>5.000000</td>\n",
       "      <td>1.000000</td>\n",
       "      <td>2.000000</td>\n",
       "      <td>0.660000</td>\n",
       "      <td>0.621200</td>\n",
       "      <td>0.780000</td>\n",
       "      <td>0.253700</td>\n",
       "      <td>48.000000</td>\n",
       "      <td>220.000000</td>\n",
       "      <td>281.000000</td>\n",
       "    </tr>\n",
       "    <tr>\n",
       "      <th>max</th>\n",
       "      <td>17379.0000</td>\n",
       "      <td>4.000000</td>\n",
       "      <td>1.000000</td>\n",
       "      <td>12.000000</td>\n",
       "      <td>23.000000</td>\n",
       "      <td>1.000000</td>\n",
       "      <td>6.000000</td>\n",
       "      <td>1.000000</td>\n",
       "      <td>4.000000</td>\n",
       "      <td>1.000000</td>\n",
       "      <td>1.000000</td>\n",
       "      <td>1.000000</td>\n",
       "      <td>0.850700</td>\n",
       "      <td>367.000000</td>\n",
       "      <td>886.000000</td>\n",
       "      <td>977.000000</td>\n",
       "    </tr>\n",
       "  </tbody>\n",
       "</table>\n",
       "</div>"
      ],
      "text/plain": [
       "          instant        season            yr          mnth            hr  \\\n",
       "count  17379.0000  17379.000000  17379.000000  17379.000000  17379.000000   \n",
       "mean    8690.0000      2.501640      0.502561      6.537775     11.546752   \n",
       "std     5017.0295      1.106918      0.500008      3.438776      6.914405   \n",
       "min        1.0000      1.000000      0.000000      1.000000      0.000000   \n",
       "25%     4345.5000      2.000000      0.000000      4.000000      6.000000   \n",
       "50%     8690.0000      3.000000      1.000000      7.000000     12.000000   \n",
       "75%    13034.5000      3.000000      1.000000     10.000000     18.000000   \n",
       "max    17379.0000      4.000000      1.000000     12.000000     23.000000   \n",
       "\n",
       "            holiday       weekday    workingday    weathersit          temp  \\\n",
       "count  17379.000000  17379.000000  17379.000000  17379.000000  17379.000000   \n",
       "mean       0.028770      3.003683      0.682721      1.425283      0.496987   \n",
       "std        0.167165      2.005771      0.465431      0.639357      0.192556   \n",
       "min        0.000000      0.000000      0.000000      1.000000      0.020000   \n",
       "25%        0.000000      1.000000      0.000000      1.000000      0.340000   \n",
       "50%        0.000000      3.000000      1.000000      1.000000      0.500000   \n",
       "75%        0.000000      5.000000      1.000000      2.000000      0.660000   \n",
       "max        1.000000      6.000000      1.000000      4.000000      1.000000   \n",
       "\n",
       "              atemp           hum     windspeed        casual    registered  \\\n",
       "count  17379.000000  17379.000000  17379.000000  17379.000000  17379.000000   \n",
       "mean       0.475775      0.627229      0.190098     35.676218    153.786869   \n",
       "std        0.171850      0.192930      0.122340     49.305030    151.357286   \n",
       "min        0.000000      0.000000      0.000000      0.000000      0.000000   \n",
       "25%        0.333300      0.480000      0.104500      4.000000     34.000000   \n",
       "50%        0.484800      0.630000      0.194000     17.000000    115.000000   \n",
       "75%        0.621200      0.780000      0.253700     48.000000    220.000000   \n",
       "max        1.000000      1.000000      0.850700    367.000000    886.000000   \n",
       "\n",
       "                cnt  \n",
       "count  17379.000000  \n",
       "mean     189.463088  \n",
       "std      181.387599  \n",
       "min        1.000000  \n",
       "25%       40.000000  \n",
       "50%      142.000000  \n",
       "75%      281.000000  \n",
       "max      977.000000  "
      ]
     },
     "execution_count": 12,
     "metadata": {},
     "output_type": "execute_result"
    }
   ],
   "source": [
    "data.describe()"
   ]
  },
  {
   "cell_type": "code",
   "execution_count": 13,
   "metadata": {},
   "outputs": [
    {
     "data": {
      "text/html": [
       "<div>\n",
       "<style scoped>\n",
       "    .dataframe tbody tr th:only-of-type {\n",
       "        vertical-align: middle;\n",
       "    }\n",
       "\n",
       "    .dataframe tbody tr th {\n",
       "        vertical-align: top;\n",
       "    }\n",
       "\n",
       "    .dataframe thead th {\n",
       "        text-align: right;\n",
       "    }\n",
       "</style>\n",
       "<table border=\"1\" class=\"dataframe\">\n",
       "  <thead>\n",
       "    <tr style=\"text-align: right;\">\n",
       "      <th></th>\n",
       "      <th>instant</th>\n",
       "      <th>season</th>\n",
       "      <th>yr</th>\n",
       "      <th>mnth</th>\n",
       "      <th>hr</th>\n",
       "      <th>holiday</th>\n",
       "      <th>weekday</th>\n",
       "      <th>workingday</th>\n",
       "      <th>weathersit</th>\n",
       "      <th>temp</th>\n",
       "      <th>atemp</th>\n",
       "      <th>hum</th>\n",
       "      <th>windspeed</th>\n",
       "      <th>casual</th>\n",
       "      <th>registered</th>\n",
       "      <th>cnt</th>\n",
       "    </tr>\n",
       "  </thead>\n",
       "  <tbody>\n",
       "    <tr>\n",
       "      <th>instant</th>\n",
       "      <td>1.000000</td>\n",
       "      <td>0.404046</td>\n",
       "      <td>0.866014</td>\n",
       "      <td>0.489164</td>\n",
       "      <td>-0.004775</td>\n",
       "      <td>0.014723</td>\n",
       "      <td>0.001357</td>\n",
       "      <td>-0.003416</td>\n",
       "      <td>-0.014198</td>\n",
       "      <td>0.136178</td>\n",
       "      <td>0.137615</td>\n",
       "      <td>0.009577</td>\n",
       "      <td>-0.074505</td>\n",
       "      <td>0.158295</td>\n",
       "      <td>0.282046</td>\n",
       "      <td>0.278379</td>\n",
       "    </tr>\n",
       "    <tr>\n",
       "      <th>season</th>\n",
       "      <td>0.404046</td>\n",
       "      <td>1.000000</td>\n",
       "      <td>-0.010742</td>\n",
       "      <td>0.830386</td>\n",
       "      <td>-0.006117</td>\n",
       "      <td>-0.009585</td>\n",
       "      <td>-0.002335</td>\n",
       "      <td>0.013743</td>\n",
       "      <td>-0.014524</td>\n",
       "      <td>0.312025</td>\n",
       "      <td>0.319380</td>\n",
       "      <td>0.150625</td>\n",
       "      <td>-0.149773</td>\n",
       "      <td>0.120206</td>\n",
       "      <td>0.174226</td>\n",
       "      <td>0.178056</td>\n",
       "    </tr>\n",
       "    <tr>\n",
       "      <th>yr</th>\n",
       "      <td>0.866014</td>\n",
       "      <td>-0.010742</td>\n",
       "      <td>1.000000</td>\n",
       "      <td>-0.010473</td>\n",
       "      <td>-0.003867</td>\n",
       "      <td>0.006692</td>\n",
       "      <td>-0.004485</td>\n",
       "      <td>-0.002196</td>\n",
       "      <td>-0.019157</td>\n",
       "      <td>0.040913</td>\n",
       "      <td>0.039222</td>\n",
       "      <td>-0.083546</td>\n",
       "      <td>-0.008740</td>\n",
       "      <td>0.142779</td>\n",
       "      <td>0.253684</td>\n",
       "      <td>0.250495</td>\n",
       "    </tr>\n",
       "    <tr>\n",
       "      <th>mnth</th>\n",
       "      <td>0.489164</td>\n",
       "      <td>0.830386</td>\n",
       "      <td>-0.010473</td>\n",
       "      <td>1.000000</td>\n",
       "      <td>-0.005772</td>\n",
       "      <td>0.018430</td>\n",
       "      <td>0.010400</td>\n",
       "      <td>-0.003477</td>\n",
       "      <td>0.005400</td>\n",
       "      <td>0.201691</td>\n",
       "      <td>0.208096</td>\n",
       "      <td>0.164411</td>\n",
       "      <td>-0.135386</td>\n",
       "      <td>0.068457</td>\n",
       "      <td>0.122273</td>\n",
       "      <td>0.120638</td>\n",
       "    </tr>\n",
       "    <tr>\n",
       "      <th>hr</th>\n",
       "      <td>-0.004775</td>\n",
       "      <td>-0.006117</td>\n",
       "      <td>-0.003867</td>\n",
       "      <td>-0.005772</td>\n",
       "      <td>1.000000</td>\n",
       "      <td>0.000479</td>\n",
       "      <td>-0.003498</td>\n",
       "      <td>0.002285</td>\n",
       "      <td>-0.020203</td>\n",
       "      <td>0.137603</td>\n",
       "      <td>0.133750</td>\n",
       "      <td>-0.276498</td>\n",
       "      <td>0.137252</td>\n",
       "      <td>0.301202</td>\n",
       "      <td>0.374141</td>\n",
       "      <td>0.394071</td>\n",
       "    </tr>\n",
       "    <tr>\n",
       "      <th>holiday</th>\n",
       "      <td>0.014723</td>\n",
       "      <td>-0.009585</td>\n",
       "      <td>0.006692</td>\n",
       "      <td>0.018430</td>\n",
       "      <td>0.000479</td>\n",
       "      <td>1.000000</td>\n",
       "      <td>-0.102088</td>\n",
       "      <td>-0.252471</td>\n",
       "      <td>-0.017036</td>\n",
       "      <td>-0.027340</td>\n",
       "      <td>-0.030973</td>\n",
       "      <td>-0.010588</td>\n",
       "      <td>0.003988</td>\n",
       "      <td>0.031564</td>\n",
       "      <td>-0.047345</td>\n",
       "      <td>-0.030927</td>\n",
       "    </tr>\n",
       "    <tr>\n",
       "      <th>weekday</th>\n",
       "      <td>0.001357</td>\n",
       "      <td>-0.002335</td>\n",
       "      <td>-0.004485</td>\n",
       "      <td>0.010400</td>\n",
       "      <td>-0.003498</td>\n",
       "      <td>-0.102088</td>\n",
       "      <td>1.000000</td>\n",
       "      <td>0.035955</td>\n",
       "      <td>0.003311</td>\n",
       "      <td>-0.001795</td>\n",
       "      <td>-0.008821</td>\n",
       "      <td>-0.037158</td>\n",
       "      <td>0.011502</td>\n",
       "      <td>0.032721</td>\n",
       "      <td>0.021578</td>\n",
       "      <td>0.026900</td>\n",
       "    </tr>\n",
       "    <tr>\n",
       "      <th>workingday</th>\n",
       "      <td>-0.003416</td>\n",
       "      <td>0.013743</td>\n",
       "      <td>-0.002196</td>\n",
       "      <td>-0.003477</td>\n",
       "      <td>0.002285</td>\n",
       "      <td>-0.252471</td>\n",
       "      <td>0.035955</td>\n",
       "      <td>1.000000</td>\n",
       "      <td>0.044672</td>\n",
       "      <td>0.055390</td>\n",
       "      <td>0.054667</td>\n",
       "      <td>0.015688</td>\n",
       "      <td>-0.011830</td>\n",
       "      <td>-0.300942</td>\n",
       "      <td>0.134326</td>\n",
       "      <td>0.030284</td>\n",
       "    </tr>\n",
       "    <tr>\n",
       "      <th>weathersit</th>\n",
       "      <td>-0.014198</td>\n",
       "      <td>-0.014524</td>\n",
       "      <td>-0.019157</td>\n",
       "      <td>0.005400</td>\n",
       "      <td>-0.020203</td>\n",
       "      <td>-0.017036</td>\n",
       "      <td>0.003311</td>\n",
       "      <td>0.044672</td>\n",
       "      <td>1.000000</td>\n",
       "      <td>-0.102640</td>\n",
       "      <td>-0.105563</td>\n",
       "      <td>0.418130</td>\n",
       "      <td>0.026226</td>\n",
       "      <td>-0.152628</td>\n",
       "      <td>-0.120966</td>\n",
       "      <td>-0.142426</td>\n",
       "    </tr>\n",
       "    <tr>\n",
       "      <th>temp</th>\n",
       "      <td>0.136178</td>\n",
       "      <td>0.312025</td>\n",
       "      <td>0.040913</td>\n",
       "      <td>0.201691</td>\n",
       "      <td>0.137603</td>\n",
       "      <td>-0.027340</td>\n",
       "      <td>-0.001795</td>\n",
       "      <td>0.055390</td>\n",
       "      <td>-0.102640</td>\n",
       "      <td>1.000000</td>\n",
       "      <td>0.987672</td>\n",
       "      <td>-0.069881</td>\n",
       "      <td>-0.023125</td>\n",
       "      <td>0.459616</td>\n",
       "      <td>0.335361</td>\n",
       "      <td>0.404772</td>\n",
       "    </tr>\n",
       "    <tr>\n",
       "      <th>atemp</th>\n",
       "      <td>0.137615</td>\n",
       "      <td>0.319380</td>\n",
       "      <td>0.039222</td>\n",
       "      <td>0.208096</td>\n",
       "      <td>0.133750</td>\n",
       "      <td>-0.030973</td>\n",
       "      <td>-0.008821</td>\n",
       "      <td>0.054667</td>\n",
       "      <td>-0.105563</td>\n",
       "      <td>0.987672</td>\n",
       "      <td>1.000000</td>\n",
       "      <td>-0.051918</td>\n",
       "      <td>-0.062336</td>\n",
       "      <td>0.454080</td>\n",
       "      <td>0.332559</td>\n",
       "      <td>0.400929</td>\n",
       "    </tr>\n",
       "    <tr>\n",
       "      <th>hum</th>\n",
       "      <td>0.009577</td>\n",
       "      <td>0.150625</td>\n",
       "      <td>-0.083546</td>\n",
       "      <td>0.164411</td>\n",
       "      <td>-0.276498</td>\n",
       "      <td>-0.010588</td>\n",
       "      <td>-0.037158</td>\n",
       "      <td>0.015688</td>\n",
       "      <td>0.418130</td>\n",
       "      <td>-0.069881</td>\n",
       "      <td>-0.051918</td>\n",
       "      <td>1.000000</td>\n",
       "      <td>-0.290105</td>\n",
       "      <td>-0.347028</td>\n",
       "      <td>-0.273933</td>\n",
       "      <td>-0.322911</td>\n",
       "    </tr>\n",
       "    <tr>\n",
       "      <th>windspeed</th>\n",
       "      <td>-0.074505</td>\n",
       "      <td>-0.149773</td>\n",
       "      <td>-0.008740</td>\n",
       "      <td>-0.135386</td>\n",
       "      <td>0.137252</td>\n",
       "      <td>0.003988</td>\n",
       "      <td>0.011502</td>\n",
       "      <td>-0.011830</td>\n",
       "      <td>0.026226</td>\n",
       "      <td>-0.023125</td>\n",
       "      <td>-0.062336</td>\n",
       "      <td>-0.290105</td>\n",
       "      <td>1.000000</td>\n",
       "      <td>0.090287</td>\n",
       "      <td>0.082321</td>\n",
       "      <td>0.093234</td>\n",
       "    </tr>\n",
       "    <tr>\n",
       "      <th>casual</th>\n",
       "      <td>0.158295</td>\n",
       "      <td>0.120206</td>\n",
       "      <td>0.142779</td>\n",
       "      <td>0.068457</td>\n",
       "      <td>0.301202</td>\n",
       "      <td>0.031564</td>\n",
       "      <td>0.032721</td>\n",
       "      <td>-0.300942</td>\n",
       "      <td>-0.152628</td>\n",
       "      <td>0.459616</td>\n",
       "      <td>0.454080</td>\n",
       "      <td>-0.347028</td>\n",
       "      <td>0.090287</td>\n",
       "      <td>1.000000</td>\n",
       "      <td>0.506618</td>\n",
       "      <td>0.694564</td>\n",
       "    </tr>\n",
       "    <tr>\n",
       "      <th>registered</th>\n",
       "      <td>0.282046</td>\n",
       "      <td>0.174226</td>\n",
       "      <td>0.253684</td>\n",
       "      <td>0.122273</td>\n",
       "      <td>0.374141</td>\n",
       "      <td>-0.047345</td>\n",
       "      <td>0.021578</td>\n",
       "      <td>0.134326</td>\n",
       "      <td>-0.120966</td>\n",
       "      <td>0.335361</td>\n",
       "      <td>0.332559</td>\n",
       "      <td>-0.273933</td>\n",
       "      <td>0.082321</td>\n",
       "      <td>0.506618</td>\n",
       "      <td>1.000000</td>\n",
       "      <td>0.972151</td>\n",
       "    </tr>\n",
       "    <tr>\n",
       "      <th>cnt</th>\n",
       "      <td>0.278379</td>\n",
       "      <td>0.178056</td>\n",
       "      <td>0.250495</td>\n",
       "      <td>0.120638</td>\n",
       "      <td>0.394071</td>\n",
       "      <td>-0.030927</td>\n",
       "      <td>0.026900</td>\n",
       "      <td>0.030284</td>\n",
       "      <td>-0.142426</td>\n",
       "      <td>0.404772</td>\n",
       "      <td>0.400929</td>\n",
       "      <td>-0.322911</td>\n",
       "      <td>0.093234</td>\n",
       "      <td>0.694564</td>\n",
       "      <td>0.972151</td>\n",
       "      <td>1.000000</td>\n",
       "    </tr>\n",
       "  </tbody>\n",
       "</table>\n",
       "</div>"
      ],
      "text/plain": [
       "             instant    season        yr      mnth        hr   holiday  \\\n",
       "instant     1.000000  0.404046  0.866014  0.489164 -0.004775  0.014723   \n",
       "season      0.404046  1.000000 -0.010742  0.830386 -0.006117 -0.009585   \n",
       "yr          0.866014 -0.010742  1.000000 -0.010473 -0.003867  0.006692   \n",
       "mnth        0.489164  0.830386 -0.010473  1.000000 -0.005772  0.018430   \n",
       "hr         -0.004775 -0.006117 -0.003867 -0.005772  1.000000  0.000479   \n",
       "holiday     0.014723 -0.009585  0.006692  0.018430  0.000479  1.000000   \n",
       "weekday     0.001357 -0.002335 -0.004485  0.010400 -0.003498 -0.102088   \n",
       "workingday -0.003416  0.013743 -0.002196 -0.003477  0.002285 -0.252471   \n",
       "weathersit -0.014198 -0.014524 -0.019157  0.005400 -0.020203 -0.017036   \n",
       "temp        0.136178  0.312025  0.040913  0.201691  0.137603 -0.027340   \n",
       "atemp       0.137615  0.319380  0.039222  0.208096  0.133750 -0.030973   \n",
       "hum         0.009577  0.150625 -0.083546  0.164411 -0.276498 -0.010588   \n",
       "windspeed  -0.074505 -0.149773 -0.008740 -0.135386  0.137252  0.003988   \n",
       "casual      0.158295  0.120206  0.142779  0.068457  0.301202  0.031564   \n",
       "registered  0.282046  0.174226  0.253684  0.122273  0.374141 -0.047345   \n",
       "cnt         0.278379  0.178056  0.250495  0.120638  0.394071 -0.030927   \n",
       "\n",
       "             weekday  workingday  weathersit      temp     atemp       hum  \\\n",
       "instant     0.001357   -0.003416   -0.014198  0.136178  0.137615  0.009577   \n",
       "season     -0.002335    0.013743   -0.014524  0.312025  0.319380  0.150625   \n",
       "yr         -0.004485   -0.002196   -0.019157  0.040913  0.039222 -0.083546   \n",
       "mnth        0.010400   -0.003477    0.005400  0.201691  0.208096  0.164411   \n",
       "hr         -0.003498    0.002285   -0.020203  0.137603  0.133750 -0.276498   \n",
       "holiday    -0.102088   -0.252471   -0.017036 -0.027340 -0.030973 -0.010588   \n",
       "weekday     1.000000    0.035955    0.003311 -0.001795 -0.008821 -0.037158   \n",
       "workingday  0.035955    1.000000    0.044672  0.055390  0.054667  0.015688   \n",
       "weathersit  0.003311    0.044672    1.000000 -0.102640 -0.105563  0.418130   \n",
       "temp       -0.001795    0.055390   -0.102640  1.000000  0.987672 -0.069881   \n",
       "atemp      -0.008821    0.054667   -0.105563  0.987672  1.000000 -0.051918   \n",
       "hum        -0.037158    0.015688    0.418130 -0.069881 -0.051918  1.000000   \n",
       "windspeed   0.011502   -0.011830    0.026226 -0.023125 -0.062336 -0.290105   \n",
       "casual      0.032721   -0.300942   -0.152628  0.459616  0.454080 -0.347028   \n",
       "registered  0.021578    0.134326   -0.120966  0.335361  0.332559 -0.273933   \n",
       "cnt         0.026900    0.030284   -0.142426  0.404772  0.400929 -0.322911   \n",
       "\n",
       "            windspeed    casual  registered       cnt  \n",
       "instant     -0.074505  0.158295    0.282046  0.278379  \n",
       "season      -0.149773  0.120206    0.174226  0.178056  \n",
       "yr          -0.008740  0.142779    0.253684  0.250495  \n",
       "mnth        -0.135386  0.068457    0.122273  0.120638  \n",
       "hr           0.137252  0.301202    0.374141  0.394071  \n",
       "holiday      0.003988  0.031564   -0.047345 -0.030927  \n",
       "weekday      0.011502  0.032721    0.021578  0.026900  \n",
       "workingday  -0.011830 -0.300942    0.134326  0.030284  \n",
       "weathersit   0.026226 -0.152628   -0.120966 -0.142426  \n",
       "temp        -0.023125  0.459616    0.335361  0.404772  \n",
       "atemp       -0.062336  0.454080    0.332559  0.400929  \n",
       "hum         -0.290105 -0.347028   -0.273933 -0.322911  \n",
       "windspeed    1.000000  0.090287    0.082321  0.093234  \n",
       "casual       0.090287  1.000000    0.506618  0.694564  \n",
       "registered   0.082321  0.506618    1.000000  0.972151  \n",
       "cnt          0.093234  0.694564    0.972151  1.000000  "
      ]
     },
     "execution_count": 13,
     "metadata": {},
     "output_type": "execute_result"
    }
   ],
   "source": [
    "data.corr()"
   ]
  },
  {
   "cell_type": "code",
   "execution_count": 14,
   "metadata": {},
   "outputs": [
    {
     "data": {
      "text/plain": [
       "instant         int64\n",
       "dteday         object\n",
       "season          int64\n",
       "yr              int64\n",
       "mnth            int64\n",
       "hr              int64\n",
       "holiday         int64\n",
       "weekday         int64\n",
       "workingday      int64\n",
       "weathersit      int64\n",
       "temp          float64\n",
       "atemp         float64\n",
       "hum           float64\n",
       "windspeed     float64\n",
       "casual          int64\n",
       "registered      int64\n",
       "cnt             int64\n",
       "dtype: object"
      ]
     },
     "execution_count": 14,
     "metadata": {},
     "output_type": "execute_result"
    }
   ],
   "source": [
    "data.dtypes"
   ]
  },
  {
   "cell_type": "code",
   "execution_count": 15,
   "metadata": {},
   "outputs": [
    {
     "name": "stdout",
     "output_type": "stream",
     "text": [
      "<class 'pandas.core.frame.DataFrame'>\n",
      "RangeIndex: 17379 entries, 0 to 17378\n",
      "Data columns (total 17 columns):\n",
      "instant       17379 non-null int64\n",
      "dteday        17379 non-null object\n",
      "season        17379 non-null int64\n",
      "yr            17379 non-null int64\n",
      "mnth          17379 non-null int64\n",
      "hr            17379 non-null int64\n",
      "holiday       17379 non-null int64\n",
      "weekday       17379 non-null int64\n",
      "workingday    17379 non-null int64\n",
      "weathersit    17379 non-null int64\n",
      "temp          17379 non-null float64\n",
      "atemp         17379 non-null float64\n",
      "hum           17379 non-null float64\n",
      "windspeed     17379 non-null float64\n",
      "casual        17379 non-null int64\n",
      "registered    17379 non-null int64\n",
      "cnt           17379 non-null int64\n",
      "dtypes: float64(4), int64(12), object(1)\n",
      "memory usage: 2.3+ MB\n"
     ]
    }
   ],
   "source": [
    "data.info()"
   ]
  },
  {
   "cell_type": "code",
   "execution_count": 16,
   "metadata": {},
   "outputs": [
    {
     "data": {
      "text/plain": [
       "instant       0\n",
       "dteday        0\n",
       "season        0\n",
       "yr            0\n",
       "mnth          0\n",
       "hr            0\n",
       "holiday       0\n",
       "weekday       0\n",
       "workingday    0\n",
       "weathersit    0\n",
       "temp          0\n",
       "atemp         0\n",
       "hum           0\n",
       "windspeed     0\n",
       "casual        0\n",
       "registered    0\n",
       "cnt           0\n",
       "dtype: int64"
      ]
     },
     "execution_count": 16,
     "metadata": {},
     "output_type": "execute_result"
    }
   ],
   "source": [
    "data.isnull().sum()"
   ]
  },
  {
   "cell_type": "code",
   "execution_count": 17,
   "metadata": {},
   "outputs": [],
   "source": [
    "from sklearn.preprocessing import LabelEncoder\n",
    "le=LabelEncoder()\n",
    "data[\"dteday\"]=le.fit_transform(data[\"dteday\"])"
   ]
  },
  {
   "cell_type": "code",
   "execution_count": 18,
   "metadata": {},
   "outputs": [
    {
     "data": {
      "text/plain": [
       "instant         int64\n",
       "dteday          int32\n",
       "season          int64\n",
       "yr              int64\n",
       "mnth            int64\n",
       "hr              int64\n",
       "holiday         int64\n",
       "weekday         int64\n",
       "workingday      int64\n",
       "weathersit      int64\n",
       "temp          float64\n",
       "atemp         float64\n",
       "hum           float64\n",
       "windspeed     float64\n",
       "casual          int64\n",
       "registered      int64\n",
       "cnt             int64\n",
       "dtype: object"
      ]
     },
     "execution_count": 18,
     "metadata": {},
     "output_type": "execute_result"
    }
   ],
   "source": [
    "data.dtypes"
   ]
  },
  {
   "cell_type": "code",
   "execution_count": 19,
   "metadata": {},
   "outputs": [
    {
     "data": {
      "text/html": [
       "<div>\n",
       "<style scoped>\n",
       "    .dataframe tbody tr th:only-of-type {\n",
       "        vertical-align: middle;\n",
       "    }\n",
       "\n",
       "    .dataframe tbody tr th {\n",
       "        vertical-align: top;\n",
       "    }\n",
       "\n",
       "    .dataframe thead th {\n",
       "        text-align: right;\n",
       "    }\n",
       "</style>\n",
       "<table border=\"1\" class=\"dataframe\">\n",
       "  <thead>\n",
       "    <tr style=\"text-align: right;\">\n",
       "      <th></th>\n",
       "      <th>instant</th>\n",
       "      <th>dteday</th>\n",
       "      <th>season</th>\n",
       "      <th>yr</th>\n",
       "      <th>mnth</th>\n",
       "      <th>hr</th>\n",
       "      <th>holiday</th>\n",
       "      <th>weekday</th>\n",
       "      <th>workingday</th>\n",
       "      <th>weathersit</th>\n",
       "      <th>temp</th>\n",
       "      <th>atemp</th>\n",
       "      <th>hum</th>\n",
       "      <th>windspeed</th>\n",
       "      <th>casual</th>\n",
       "      <th>registered</th>\n",
       "      <th>cnt</th>\n",
       "    </tr>\n",
       "  </thead>\n",
       "  <tbody>\n",
       "    <tr>\n",
       "      <th>0</th>\n",
       "      <td>1</td>\n",
       "      <td>0</td>\n",
       "      <td>1</td>\n",
       "      <td>0</td>\n",
       "      <td>1</td>\n",
       "      <td>0</td>\n",
       "      <td>0</td>\n",
       "      <td>6</td>\n",
       "      <td>0</td>\n",
       "      <td>1</td>\n",
       "      <td>0.24</td>\n",
       "      <td>0.2879</td>\n",
       "      <td>0.81</td>\n",
       "      <td>0.0</td>\n",
       "      <td>3</td>\n",
       "      <td>13</td>\n",
       "      <td>16</td>\n",
       "    </tr>\n",
       "    <tr>\n",
       "      <th>1</th>\n",
       "      <td>2</td>\n",
       "      <td>0</td>\n",
       "      <td>1</td>\n",
       "      <td>0</td>\n",
       "      <td>1</td>\n",
       "      <td>1</td>\n",
       "      <td>0</td>\n",
       "      <td>6</td>\n",
       "      <td>0</td>\n",
       "      <td>1</td>\n",
       "      <td>0.22</td>\n",
       "      <td>0.2727</td>\n",
       "      <td>0.80</td>\n",
       "      <td>0.0</td>\n",
       "      <td>8</td>\n",
       "      <td>32</td>\n",
       "      <td>40</td>\n",
       "    </tr>\n",
       "    <tr>\n",
       "      <th>2</th>\n",
       "      <td>3</td>\n",
       "      <td>0</td>\n",
       "      <td>1</td>\n",
       "      <td>0</td>\n",
       "      <td>1</td>\n",
       "      <td>2</td>\n",
       "      <td>0</td>\n",
       "      <td>6</td>\n",
       "      <td>0</td>\n",
       "      <td>1</td>\n",
       "      <td>0.22</td>\n",
       "      <td>0.2727</td>\n",
       "      <td>0.80</td>\n",
       "      <td>0.0</td>\n",
       "      <td>5</td>\n",
       "      <td>27</td>\n",
       "      <td>32</td>\n",
       "    </tr>\n",
       "    <tr>\n",
       "      <th>3</th>\n",
       "      <td>4</td>\n",
       "      <td>0</td>\n",
       "      <td>1</td>\n",
       "      <td>0</td>\n",
       "      <td>1</td>\n",
       "      <td>3</td>\n",
       "      <td>0</td>\n",
       "      <td>6</td>\n",
       "      <td>0</td>\n",
       "      <td>1</td>\n",
       "      <td>0.24</td>\n",
       "      <td>0.2879</td>\n",
       "      <td>0.75</td>\n",
       "      <td>0.0</td>\n",
       "      <td>3</td>\n",
       "      <td>10</td>\n",
       "      <td>13</td>\n",
       "    </tr>\n",
       "    <tr>\n",
       "      <th>4</th>\n",
       "      <td>5</td>\n",
       "      <td>0</td>\n",
       "      <td>1</td>\n",
       "      <td>0</td>\n",
       "      <td>1</td>\n",
       "      <td>4</td>\n",
       "      <td>0</td>\n",
       "      <td>6</td>\n",
       "      <td>0</td>\n",
       "      <td>1</td>\n",
       "      <td>0.24</td>\n",
       "      <td>0.2879</td>\n",
       "      <td>0.75</td>\n",
       "      <td>0.0</td>\n",
       "      <td>0</td>\n",
       "      <td>1</td>\n",
       "      <td>1</td>\n",
       "    </tr>\n",
       "  </tbody>\n",
       "</table>\n",
       "</div>"
      ],
      "text/plain": [
       "   instant  dteday  season  yr  mnth  hr  holiday  weekday  workingday  \\\n",
       "0        1       0       1   0     1   0        0        6           0   \n",
       "1        2       0       1   0     1   1        0        6           0   \n",
       "2        3       0       1   0     1   2        0        6           0   \n",
       "3        4       0       1   0     1   3        0        6           0   \n",
       "4        5       0       1   0     1   4        0        6           0   \n",
       "\n",
       "   weathersit  temp   atemp   hum  windspeed  casual  registered  cnt  \n",
       "0           1  0.24  0.2879  0.81        0.0       3          13   16  \n",
       "1           1  0.22  0.2727  0.80        0.0       8          32   40  \n",
       "2           1  0.22  0.2727  0.80        0.0       5          27   32  \n",
       "3           1  0.24  0.2879  0.75        0.0       3          10   13  \n",
       "4           1  0.24  0.2879  0.75        0.0       0           1    1  "
      ]
     },
     "execution_count": 19,
     "metadata": {},
     "output_type": "execute_result"
    }
   ],
   "source": [
    "data.head()"
   ]
  },
  {
   "cell_type": "code",
   "execution_count": 20,
   "metadata": {},
   "outputs": [
    {
     "data": {
      "text/html": [
       "<div>\n",
       "<style scoped>\n",
       "    .dataframe tbody tr th:only-of-type {\n",
       "        vertical-align: middle;\n",
       "    }\n",
       "\n",
       "    .dataframe tbody tr th {\n",
       "        vertical-align: top;\n",
       "    }\n",
       "\n",
       "    .dataframe thead th {\n",
       "        text-align: right;\n",
       "    }\n",
       "</style>\n",
       "<table border=\"1\" class=\"dataframe\">\n",
       "  <thead>\n",
       "    <tr style=\"text-align: right;\">\n",
       "      <th></th>\n",
       "      <th>instant</th>\n",
       "      <th>dteday</th>\n",
       "      <th>season</th>\n",
       "      <th>yr</th>\n",
       "      <th>mnth</th>\n",
       "      <th>hr</th>\n",
       "      <th>holiday</th>\n",
       "      <th>weekday</th>\n",
       "      <th>workingday</th>\n",
       "      <th>weathersit</th>\n",
       "      <th>temp</th>\n",
       "      <th>atemp</th>\n",
       "      <th>hum</th>\n",
       "      <th>windspeed</th>\n",
       "      <th>casual</th>\n",
       "      <th>registered</th>\n",
       "      <th>cnt</th>\n",
       "    </tr>\n",
       "  </thead>\n",
       "  <tbody>\n",
       "    <tr>\n",
       "      <th>count</th>\n",
       "      <td>17379.0000</td>\n",
       "      <td>17379.000000</td>\n",
       "      <td>17379.000000</td>\n",
       "      <td>17379.000000</td>\n",
       "      <td>17379.000000</td>\n",
       "      <td>17379.000000</td>\n",
       "      <td>17379.000000</td>\n",
       "      <td>17379.000000</td>\n",
       "      <td>17379.000000</td>\n",
       "      <td>17379.000000</td>\n",
       "      <td>17379.000000</td>\n",
       "      <td>17379.000000</td>\n",
       "      <td>17379.000000</td>\n",
       "      <td>17379.000000</td>\n",
       "      <td>17379.000000</td>\n",
       "      <td>17379.000000</td>\n",
       "      <td>17379.000000</td>\n",
       "    </tr>\n",
       "    <tr>\n",
       "      <th>mean</th>\n",
       "      <td>8690.0000</td>\n",
       "      <td>364.671845</td>\n",
       "      <td>2.501640</td>\n",
       "      <td>0.502561</td>\n",
       "      <td>6.537775</td>\n",
       "      <td>11.546752</td>\n",
       "      <td>0.028770</td>\n",
       "      <td>3.003683</td>\n",
       "      <td>0.682721</td>\n",
       "      <td>1.425283</td>\n",
       "      <td>0.496987</td>\n",
       "      <td>0.475775</td>\n",
       "      <td>0.627229</td>\n",
       "      <td>0.190098</td>\n",
       "      <td>35.676218</td>\n",
       "      <td>153.786869</td>\n",
       "      <td>189.463088</td>\n",
       "    </tr>\n",
       "    <tr>\n",
       "      <th>std</th>\n",
       "      <td>5017.0295</td>\n",
       "      <td>211.323593</td>\n",
       "      <td>1.106918</td>\n",
       "      <td>0.500008</td>\n",
       "      <td>3.438776</td>\n",
       "      <td>6.914405</td>\n",
       "      <td>0.167165</td>\n",
       "      <td>2.005771</td>\n",
       "      <td>0.465431</td>\n",
       "      <td>0.639357</td>\n",
       "      <td>0.192556</td>\n",
       "      <td>0.171850</td>\n",
       "      <td>0.192930</td>\n",
       "      <td>0.122340</td>\n",
       "      <td>49.305030</td>\n",
       "      <td>151.357286</td>\n",
       "      <td>181.387599</td>\n",
       "    </tr>\n",
       "    <tr>\n",
       "      <th>min</th>\n",
       "      <td>1.0000</td>\n",
       "      <td>0.000000</td>\n",
       "      <td>1.000000</td>\n",
       "      <td>0.000000</td>\n",
       "      <td>1.000000</td>\n",
       "      <td>0.000000</td>\n",
       "      <td>0.000000</td>\n",
       "      <td>0.000000</td>\n",
       "      <td>0.000000</td>\n",
       "      <td>1.000000</td>\n",
       "      <td>0.020000</td>\n",
       "      <td>0.000000</td>\n",
       "      <td>0.000000</td>\n",
       "      <td>0.000000</td>\n",
       "      <td>0.000000</td>\n",
       "      <td>0.000000</td>\n",
       "      <td>1.000000</td>\n",
       "    </tr>\n",
       "    <tr>\n",
       "      <th>25%</th>\n",
       "      <td>4345.5000</td>\n",
       "      <td>182.000000</td>\n",
       "      <td>2.000000</td>\n",
       "      <td>0.000000</td>\n",
       "      <td>4.000000</td>\n",
       "      <td>6.000000</td>\n",
       "      <td>0.000000</td>\n",
       "      <td>1.000000</td>\n",
       "      <td>0.000000</td>\n",
       "      <td>1.000000</td>\n",
       "      <td>0.340000</td>\n",
       "      <td>0.333300</td>\n",
       "      <td>0.480000</td>\n",
       "      <td>0.104500</td>\n",
       "      <td>4.000000</td>\n",
       "      <td>34.000000</td>\n",
       "      <td>40.000000</td>\n",
       "    </tr>\n",
       "    <tr>\n",
       "      <th>50%</th>\n",
       "      <td>8690.0000</td>\n",
       "      <td>364.000000</td>\n",
       "      <td>3.000000</td>\n",
       "      <td>1.000000</td>\n",
       "      <td>7.000000</td>\n",
       "      <td>12.000000</td>\n",
       "      <td>0.000000</td>\n",
       "      <td>3.000000</td>\n",
       "      <td>1.000000</td>\n",
       "      <td>1.000000</td>\n",
       "      <td>0.500000</td>\n",
       "      <td>0.484800</td>\n",
       "      <td>0.630000</td>\n",
       "      <td>0.194000</td>\n",
       "      <td>17.000000</td>\n",
       "      <td>115.000000</td>\n",
       "      <td>142.000000</td>\n",
       "    </tr>\n",
       "    <tr>\n",
       "      <th>75%</th>\n",
       "      <td>13034.5000</td>\n",
       "      <td>548.000000</td>\n",
       "      <td>3.000000</td>\n",
       "      <td>1.000000</td>\n",
       "      <td>10.000000</td>\n",
       "      <td>18.000000</td>\n",
       "      <td>0.000000</td>\n",
       "      <td>5.000000</td>\n",
       "      <td>1.000000</td>\n",
       "      <td>2.000000</td>\n",
       "      <td>0.660000</td>\n",
       "      <td>0.621200</td>\n",
       "      <td>0.780000</td>\n",
       "      <td>0.253700</td>\n",
       "      <td>48.000000</td>\n",
       "      <td>220.000000</td>\n",
       "      <td>281.000000</td>\n",
       "    </tr>\n",
       "    <tr>\n",
       "      <th>max</th>\n",
       "      <td>17379.0000</td>\n",
       "      <td>730.000000</td>\n",
       "      <td>4.000000</td>\n",
       "      <td>1.000000</td>\n",
       "      <td>12.000000</td>\n",
       "      <td>23.000000</td>\n",
       "      <td>1.000000</td>\n",
       "      <td>6.000000</td>\n",
       "      <td>1.000000</td>\n",
       "      <td>4.000000</td>\n",
       "      <td>1.000000</td>\n",
       "      <td>1.000000</td>\n",
       "      <td>1.000000</td>\n",
       "      <td>0.850700</td>\n",
       "      <td>367.000000</td>\n",
       "      <td>886.000000</td>\n",
       "      <td>977.000000</td>\n",
       "    </tr>\n",
       "  </tbody>\n",
       "</table>\n",
       "</div>"
      ],
      "text/plain": [
       "          instant        dteday        season            yr          mnth  \\\n",
       "count  17379.0000  17379.000000  17379.000000  17379.000000  17379.000000   \n",
       "mean    8690.0000    364.671845      2.501640      0.502561      6.537775   \n",
       "std     5017.0295    211.323593      1.106918      0.500008      3.438776   \n",
       "min        1.0000      0.000000      1.000000      0.000000      1.000000   \n",
       "25%     4345.5000    182.000000      2.000000      0.000000      4.000000   \n",
       "50%     8690.0000    364.000000      3.000000      1.000000      7.000000   \n",
       "75%    13034.5000    548.000000      3.000000      1.000000     10.000000   \n",
       "max    17379.0000    730.000000      4.000000      1.000000     12.000000   \n",
       "\n",
       "                 hr       holiday       weekday    workingday    weathersit  \\\n",
       "count  17379.000000  17379.000000  17379.000000  17379.000000  17379.000000   \n",
       "mean      11.546752      0.028770      3.003683      0.682721      1.425283   \n",
       "std        6.914405      0.167165      2.005771      0.465431      0.639357   \n",
       "min        0.000000      0.000000      0.000000      0.000000      1.000000   \n",
       "25%        6.000000      0.000000      1.000000      0.000000      1.000000   \n",
       "50%       12.000000      0.000000      3.000000      1.000000      1.000000   \n",
       "75%       18.000000      0.000000      5.000000      1.000000      2.000000   \n",
       "max       23.000000      1.000000      6.000000      1.000000      4.000000   \n",
       "\n",
       "               temp         atemp           hum     windspeed        casual  \\\n",
       "count  17379.000000  17379.000000  17379.000000  17379.000000  17379.000000   \n",
       "mean       0.496987      0.475775      0.627229      0.190098     35.676218   \n",
       "std        0.192556      0.171850      0.192930      0.122340     49.305030   \n",
       "min        0.020000      0.000000      0.000000      0.000000      0.000000   \n",
       "25%        0.340000      0.333300      0.480000      0.104500      4.000000   \n",
       "50%        0.500000      0.484800      0.630000      0.194000     17.000000   \n",
       "75%        0.660000      0.621200      0.780000      0.253700     48.000000   \n",
       "max        1.000000      1.000000      1.000000      0.850700    367.000000   \n",
       "\n",
       "         registered           cnt  \n",
       "count  17379.000000  17379.000000  \n",
       "mean     153.786869    189.463088  \n",
       "std      151.357286    181.387599  \n",
       "min        0.000000      1.000000  \n",
       "25%       34.000000     40.000000  \n",
       "50%      115.000000    142.000000  \n",
       "75%      220.000000    281.000000  \n",
       "max      886.000000    977.000000  "
      ]
     },
     "execution_count": 20,
     "metadata": {},
     "output_type": "execute_result"
    }
   ],
   "source": [
    "data.describe()"
   ]
  },
  {
   "cell_type": "markdown",
   "metadata": {},
   "source": [
    "# DATA SKEWNESS"
   ]
  },
  {
   "cell_type": "code",
   "execution_count": 21,
   "metadata": {},
   "outputs": [
    {
     "data": {
      "text/plain": [
       "instant       0.000000\n",
       "dteday        0.005172\n",
       "season       -0.005416\n",
       "yr           -0.010243\n",
       "mnth         -0.009253\n",
       "hr           -0.010680\n",
       "holiday       5.638538\n",
       "weekday      -0.002998\n",
       "workingday   -0.785258\n",
       "weathersit    1.228047\n",
       "temp         -0.006021\n",
       "atemp        -0.090429\n",
       "hum          -0.111287\n",
       "windspeed     0.574905\n",
       "casual        2.499237\n",
       "registered    1.557904\n",
       "cnt           1.277412\n",
       "dtype: float64"
      ]
     },
     "execution_count": 21,
     "metadata": {},
     "output_type": "execute_result"
    }
   ],
   "source": [
    "data.skew()"
   ]
  },
  {
   "cell_type": "markdown",
   "metadata": {},
   "source": [
    "# CHECKING OUTLIERS"
   ]
  },
  {
   "cell_type": "code",
   "execution_count": 22,
   "metadata": {},
   "outputs": [
    {
     "data": {
      "text/plain": [
       "<matplotlib.axes._subplots.AxesSubplot at 0x53029b0>"
      ]
     },
     "execution_count": 22,
     "metadata": {},
     "output_type": "execute_result"
    },
    {
     "data": {
      "image/png": "[encoded data removed]",
      "text/plain": [
       "<Figure size 432x288 with 1 Axes>"
      ]
     },
     "metadata": {
      "needs_background": "light"
     },
     "output_type": "display_data"
    }
   ],
   "source": [
    "data[\"instant\"].plot.box()"
   ]
  },
  {
   "cell_type": "code",
   "execution_count": 23,
   "metadata": {},
   "outputs": [
    {
     "data": {
      "text/plain": [
       "<matplotlib.axes._subplots.AxesSubplot at 0xb3f2780>"
      ]
     },
     "execution_count": 23,
     "metadata": {},
     "output_type": "execute_result"
    },
    {
     "data": {
      "image/png": "[encoded data removed]",
      "text/plain": [
       "<Figure size 432x288 with 1 Axes>"
      ]
     },
     "metadata": {
      "needs_background": "light"
     },
     "output_type": "display_data"
    }
   ],
   "source": [
    "data[\"dteday\"].plot.box()"
   ]
  },
  {
   "cell_type": "code",
   "execution_count": 24,
   "metadata": {},
   "outputs": [
    {
     "data": {
      "text/plain": [
       "<matplotlib.axes._subplots.AxesSubplot at 0xb4455f8>"
      ]
     },
     "execution_count": 24,
     "metadata": {},
     "output_type": "execute_result"
    },
    {
     "data": {
      "image/png": "[encoded data removed]",
      "text/plain": [
       "<Figure size 432x288 with 1 Axes>"
      ]
     },
     "metadata": {
      "needs_background": "light"
     },
     "output_type": "display_data"
    }
   ],
   "source": [
    "data[\"season\"].plot.box()"
   ]
  },
  {
   "cell_type": "code",
   "execution_count": 25,
   "metadata": {},
   "outputs": [
    {
     "data": {
      "text/plain": [
       "<matplotlib.axes._subplots.AxesSubplot at 0xb4cfdd8>"
      ]
     },
     "execution_count": 25,
     "metadata": {},
     "output_type": "execute_result"
    },
    {
     "data": {
      "image/png": "[encoded data removed]",
      "text/plain": [
       "<Figure size 432x288 with 1 Axes>"
      ]
     },
     "metadata": {
      "needs_background": "light"
     },
     "output_type": "display_data"
    }
   ],
   "source": [
    "data[\"yr\"].plot.box()"
   ]
  },
  {
   "cell_type": "code",
   "execution_count": 26,
   "metadata": {},
   "outputs": [
    {
     "data": {
      "text/plain": [
       "<matplotlib.axes._subplots.AxesSubplot at 0xb4f98d0>"
      ]
     },
     "execution_count": 26,
     "metadata": {},
     "output_type": "execute_result"
    },
    {
     "data": {
      "image/png": "[encoded data removed]",
      "text/plain": [
       "<Figure size 432x288 with 1 Axes>"
      ]
     },
     "metadata": {
      "needs_background": "light"
     },
     "output_type": "display_data"
    }
   ],
   "source": [
    "data[\"mnth\"].plot.box()"
   ]
  },
  {
   "cell_type": "code",
   "execution_count": 27,
   "metadata": {},
   "outputs": [
    {
     "data": {
      "text/plain": [
       "<matplotlib.axes._subplots.AxesSubplot at 0xb582518>"
      ]
     },
     "execution_count": 27,
     "metadata": {},
     "output_type": "execute_result"
    },
    {
     "data": {
      "image/png": "[encoded data removed]",
      "text/plain": [
       "<Figure size 432x288 with 1 Axes>"
      ]
     },
     "metadata": {
      "needs_background": "light"
     },
     "output_type": "display_data"
    }
   ],
   "source": [
    "data[\"hr\"].plot.box()"
   ]
  },
  {
   "cell_type": "code",
   "execution_count": 28,
   "metadata": {},
   "outputs": [
    {
     "data": {
      "text/plain": [
       "<matplotlib.axes._subplots.AxesSubplot at 0xb5e6240>"
      ]
     },
     "execution_count": 28,
     "metadata": {},
     "output_type": "execute_result"
    },
    {
     "data": {
      "image/png": "[encoded data removed]",
      "text/plain": [
       "<Figure size 432x288 with 1 Axes>"
      ]
     },
     "metadata": {
      "needs_background": "light"
     },
     "output_type": "display_data"
    }
   ],
   "source": [
    "data[\"holiday\"].plot.box()"
   ]
  },
  {
   "cell_type": "code",
   "execution_count": 29,
   "metadata": {},
   "outputs": [
    {
     "data": {
      "text/plain": [
       "<matplotlib.axes._subplots.AxesSubplot at 0xb641160>"
      ]
     },
     "execution_count": 29,
     "metadata": {},
     "output_type": "execute_result"
    },
    {
     "data": {
      "image/png": "[encoded data removed]",
      "text/plain": [
       "<Figure size 432x288 with 1 Axes>"
      ]
     },
     "metadata": {
      "needs_background": "light"
     },
     "output_type": "display_data"
    }
   ],
   "source": [
    "data[\"weekday\"].plot.box()"
   ]
  },
  {
   "cell_type": "code",
   "execution_count": 30,
   "metadata": {},
   "outputs": [
    {
     "data": {
      "text/plain": [
       "<matplotlib.axes._subplots.AxesSubplot at 0xb863eb8>"
      ]
     },
     "execution_count": 30,
     "metadata": {},
     "output_type": "execute_result"
    },
    {
     "data": {
      "image/png": "[encoded data removed]",
      "text/plain": [
       "<Figure size 432x288 with 1 Axes>"
      ]
     },
     "metadata": {
      "needs_background": "light"
     },
     "output_type": "display_data"
    }
   ],
   "source": [
    "data[\"workingday\"].plot.box()"
   ]
  },
  {
   "cell_type": "code",
   "execution_count": 31,
   "metadata": {},
   "outputs": [
    {
     "data": {
      "text/plain": [
       "<matplotlib.axes._subplots.AxesSubplot at 0xb8bd6d8>"
      ]
     },
     "execution_count": 31,
     "metadata": {},
     "output_type": "execute_result"
    },
    {
     "data": {
      "image/png": "[encoded data removed]",
      "text/plain": [
       "<Figure size 432x288 with 1 Axes>"
      ]
     },
     "metadata": {
      "needs_background": "light"
     },
     "output_type": "display_data"
    }
   ],
   "source": [
    "data[\"weathersit\"].plot.box()"
   ]
  },
  {
   "cell_type": "markdown",
   "metadata": {},
   "source": [
    "# REMOVING OUTLIERS"
   ]
  },
  {
   "cell_type": "code",
   "execution_count": 32,
   "metadata": {},
   "outputs": [],
   "source": [
    "from scipy.stats import zscore"
   ]
  },
  {
   "cell_type": "code",
   "execution_count": 33,
   "metadata": {},
   "outputs": [
    {
     "data": {
      "text/plain": [
       "array([[1.73195115, 1.72570574, 1.3566343 , ..., 0.66275506, 0.93018925,\n",
       "        0.95633924],\n",
       "       [1.73175182, 1.72570574, 1.3566343 , ..., 0.56134262, 0.80465484,\n",
       "        0.82402209],\n",
       "       [1.73155249, 1.72570574, 1.3566343 , ..., 0.62219008, 0.83769021,\n",
       "        0.8681278 ],\n",
       "       ...,\n",
       "       [1.73155249, 1.04737251, 1.3566343 , ..., 0.58162511, 0.46769408,\n",
       "        0.54836135],\n",
       "       [1.73175182, 1.04737251, 1.3566343 , ..., 0.45993017, 0.69894166,\n",
       "        0.70824458],\n",
       "       [1.73195115, 1.04737251, 1.3566343 , ..., 0.48021266, 0.77161947,\n",
       "        0.77440315]])"
      ]
     },
     "execution_count": 33,
     "metadata": {},
     "output_type": "execute_result"
    }
   ],
   "source": [
    "z=np.abs(zscore(data))\n",
    "z"
   ]
  },
  {
   "cell_type": "code",
   "execution_count": 34,
   "metadata": {},
   "outputs": [
    {
     "name": "stdout",
     "output_type": "stream",
     "text": [
      "(array([  265,   372,   373, ..., 17341, 17343, 17344], dtype=int64), array([13,  6,  6, ..., 13, 13, 13], dtype=int64))\n"
     ]
    }
   ],
   "source": [
    "thresholds=3\n",
    "print(np.where(z>3))"
   ]
  },
  {
   "cell_type": "code",
   "execution_count": 35,
   "metadata": {},
   "outputs": [
    {
     "data": {
      "text/html": [
       "<div>\n",
       "<style scoped>\n",
       "    .dataframe tbody tr th:only-of-type {\n",
       "        vertical-align: middle;\n",
       "    }\n",
       "\n",
       "    .dataframe tbody tr th {\n",
       "        vertical-align: top;\n",
       "    }\n",
       "\n",
       "    .dataframe thead th {\n",
       "        text-align: right;\n",
       "    }\n",
       "</style>\n",
       "<table border=\"1\" class=\"dataframe\">\n",
       "  <thead>\n",
       "    <tr style=\"text-align: right;\">\n",
       "      <th></th>\n",
       "      <th>instant</th>\n",
       "      <th>dteday</th>\n",
       "      <th>season</th>\n",
       "      <th>yr</th>\n",
       "      <th>mnth</th>\n",
       "      <th>hr</th>\n",
       "      <th>holiday</th>\n",
       "      <th>weekday</th>\n",
       "      <th>workingday</th>\n",
       "      <th>weathersit</th>\n",
       "      <th>temp</th>\n",
       "      <th>atemp</th>\n",
       "      <th>hum</th>\n",
       "      <th>windspeed</th>\n",
       "      <th>casual</th>\n",
       "      <th>registered</th>\n",
       "      <th>cnt</th>\n",
       "    </tr>\n",
       "  </thead>\n",
       "  <tbody>\n",
       "    <tr>\n",
       "      <th>0</th>\n",
       "      <td>1</td>\n",
       "      <td>0</td>\n",
       "      <td>1</td>\n",
       "      <td>0</td>\n",
       "      <td>1</td>\n",
       "      <td>0</td>\n",
       "      <td>0</td>\n",
       "      <td>6</td>\n",
       "      <td>0</td>\n",
       "      <td>1</td>\n",
       "      <td>0.24</td>\n",
       "      <td>0.2879</td>\n",
       "      <td>0.81</td>\n",
       "      <td>0.0</td>\n",
       "      <td>3</td>\n",
       "      <td>13</td>\n",
       "      <td>16</td>\n",
       "    </tr>\n",
       "    <tr>\n",
       "      <th>1</th>\n",
       "      <td>2</td>\n",
       "      <td>0</td>\n",
       "      <td>1</td>\n",
       "      <td>0</td>\n",
       "      <td>1</td>\n",
       "      <td>1</td>\n",
       "      <td>0</td>\n",
       "      <td>6</td>\n",
       "      <td>0</td>\n",
       "      <td>1</td>\n",
       "      <td>0.22</td>\n",
       "      <td>0.2727</td>\n",
       "      <td>0.80</td>\n",
       "      <td>0.0</td>\n",
       "      <td>8</td>\n",
       "      <td>32</td>\n",
       "      <td>40</td>\n",
       "    </tr>\n",
       "    <tr>\n",
       "      <th>2</th>\n",
       "      <td>3</td>\n",
       "      <td>0</td>\n",
       "      <td>1</td>\n",
       "      <td>0</td>\n",
       "      <td>1</td>\n",
       "      <td>2</td>\n",
       "      <td>0</td>\n",
       "      <td>6</td>\n",
       "      <td>0</td>\n",
       "      <td>1</td>\n",
       "      <td>0.22</td>\n",
       "      <td>0.2727</td>\n",
       "      <td>0.80</td>\n",
       "      <td>0.0</td>\n",
       "      <td>5</td>\n",
       "      <td>27</td>\n",
       "      <td>32</td>\n",
       "    </tr>\n",
       "    <tr>\n",
       "      <th>3</th>\n",
       "      <td>4</td>\n",
       "      <td>0</td>\n",
       "      <td>1</td>\n",
       "      <td>0</td>\n",
       "      <td>1</td>\n",
       "      <td>3</td>\n",
       "      <td>0</td>\n",
       "      <td>6</td>\n",
       "      <td>0</td>\n",
       "      <td>1</td>\n",
       "      <td>0.24</td>\n",
       "      <td>0.2879</td>\n",
       "      <td>0.75</td>\n",
       "      <td>0.0</td>\n",
       "      <td>3</td>\n",
       "      <td>10</td>\n",
       "      <td>13</td>\n",
       "    </tr>\n",
       "    <tr>\n",
       "      <th>4</th>\n",
       "      <td>5</td>\n",
       "      <td>0</td>\n",
       "      <td>1</td>\n",
       "      <td>0</td>\n",
       "      <td>1</td>\n",
       "      <td>4</td>\n",
       "      <td>0</td>\n",
       "      <td>6</td>\n",
       "      <td>0</td>\n",
       "      <td>1</td>\n",
       "      <td>0.24</td>\n",
       "      <td>0.2879</td>\n",
       "      <td>0.75</td>\n",
       "      <td>0.0</td>\n",
       "      <td>0</td>\n",
       "      <td>1</td>\n",
       "      <td>1</td>\n",
       "    </tr>\n",
       "  </tbody>\n",
       "</table>\n",
       "</div>"
      ],
      "text/plain": [
       "   instant  dteday  season  yr  mnth  hr  holiday  weekday  workingday  \\\n",
       "0        1       0       1   0     1   0        0        6           0   \n",
       "1        2       0       1   0     1   1        0        6           0   \n",
       "2        3       0       1   0     1   2        0        6           0   \n",
       "3        4       0       1   0     1   3        0        6           0   \n",
       "4        5       0       1   0     1   4        0        6           0   \n",
       "\n",
       "   weathersit  temp   atemp   hum  windspeed  casual  registered  cnt  \n",
       "0           1  0.24  0.2879  0.81        0.0       3          13   16  \n",
       "1           1  0.22  0.2727  0.80        0.0       8          32   40  \n",
       "2           1  0.22  0.2727  0.80        0.0       5          27   32  \n",
       "3           1  0.24  0.2879  0.75        0.0       3          10   13  \n",
       "4           1  0.24  0.2879  0.75        0.0       0           1    1  "
      ]
     },
     "execution_count": 35,
     "metadata": {},
     "output_type": "execute_result"
    }
   ],
   "source": [
    "data_new=data[(z<3).all(axis=1)]\n",
    "data_new.head()"
   ]
  },
  {
   "cell_type": "code",
   "execution_count": 36,
   "metadata": {},
   "outputs": [
    {
     "data": {
      "text/plain": [
       "instant       0.065496\n",
       "dteday       -0.000268\n",
       "season       -0.001745\n",
       "yr            0.072604\n",
       "mnth          0.001745\n",
       "hr            0.040502\n",
       "holiday       0.000000\n",
       "weekday      -0.033635\n",
       "workingday   -0.952375\n",
       "weathersit    1.195608\n",
       "temp          0.032055\n",
       "atemp        -0.047799\n",
       "hum          -0.113191\n",
       "windspeed     0.399708\n",
       "casual        1.811459\n",
       "registered    1.195922\n",
       "cnt           0.967983\n",
       "dtype: float64"
      ]
     },
     "execution_count": 36,
     "metadata": {},
     "output_type": "execute_result"
    }
   ],
   "source": [
    "data_new.skew()"
   ]
  },
  {
   "cell_type": "markdown",
   "metadata": {},
   "source": [
    "# VISUALIZATION"
   ]
  },
  {
   "cell_type": "code",
   "execution_count": 37,
   "metadata": {},
   "outputs": [
    {
     "data": {
      "text/plain": [
       "<matplotlib.axes._subplots.AxesSubplot at 0xb969160>"
      ]
     },
     "execution_count": 37,
     "metadata": {},
     "output_type": "execute_result"
    },
    {
     "data": {
      "image/png": "[encoded data removed]",
      "text/plain": [
       "<Figure size 432x288 with 2 Axes>"
      ]
     },
     "metadata": {
      "needs_background": "light"
     },
     "output_type": "display_data"
    }
   ],
   "source": [
    "sns.heatmap(data_new.isnull())"
   ]
  },
  {
   "cell_type": "code",
   "execution_count": 38,
   "metadata": {},
   "outputs": [
    {
     "data": {
      "text/plain": [
       "<matplotlib.axes._subplots.AxesSubplot at 0xbe2eda0>"
      ]
     },
     "execution_count": 38,
     "metadata": {},
     "output_type": "execute_result"
    },
    {
     "data": {
      "image/png": "[encoded data removed]",
      "text/plain": [
       "<Figure size 432x288 with 2 Axes>"
      ]
     },
     "metadata": {
      "needs_background": "light"
     },
     "output_type": "display_data"
    }
   ],
   "source": [
    "sns.heatmap(data_new.corr())"
   ]
  },
  {
   "cell_type": "code",
   "execution_count": 39,
   "metadata": {},
   "outputs": [
    {
     "data": {
      "text/plain": [
       "array([[<matplotlib.axes._subplots.AxesSubplot object at 0x000000000C1297B8>,\n",
       "        <matplotlib.axes._subplots.AxesSubplot object at 0x000000000C5A3358>,\n",
       "        <matplotlib.axes._subplots.AxesSubplot object at 0x000000000C5D3908>,\n",
       "        <matplotlib.axes._subplots.AxesSubplot object at 0x000000000C605EB8>],\n",
       "       [<matplotlib.axes._subplots.AxesSubplot object at 0x000000000CA444A8>,\n",
       "        <matplotlib.axes._subplots.AxesSubplot object at 0x000000000CA72A58>,\n",
       "        <matplotlib.axes._subplots.AxesSubplot object at 0x000000000CAB2048>,\n",
       "        <matplotlib.axes._subplots.AxesSubplot object at 0x000000000CAE3630>],\n",
       "       [<matplotlib.axes._subplots.AxesSubplot object at 0x000000000CAE3668>,\n",
       "        <matplotlib.axes._subplots.AxesSubplot object at 0x000000000CB52160>,\n",
       "        <matplotlib.axes._subplots.AxesSubplot object at 0x000000000CB84710>,\n",
       "        <matplotlib.axes._subplots.AxesSubplot object at 0x000000000B4C3C50>],\n",
       "       [<matplotlib.axes._subplots.AxesSubplot object at 0x000000000CBE6240>,\n",
       "        <matplotlib.axes._subplots.AxesSubplot object at 0x000000000CC167F0>,\n",
       "        <matplotlib.axes._subplots.AxesSubplot object at 0x000000000CC49DA0>,\n",
       "        <matplotlib.axes._subplots.AxesSubplot object at 0x000000000CC86390>],\n",
       "       [<matplotlib.axes._subplots.AxesSubplot object at 0x000000000CCB6940>,\n",
       "        <matplotlib.axes._subplots.AxesSubplot object at 0x000000000CCE9EF0>,\n",
       "        <matplotlib.axes._subplots.AxesSubplot object at 0x000000000CD284E0>,\n",
       "        <matplotlib.axes._subplots.AxesSubplot object at 0x000000000D1EAA90>]],\n",
       "      dtype=object)"
      ]
     },
     "execution_count": 39,
     "metadata": {},
     "output_type": "execute_result"
    },
    {
     "data": {
      "image/png": "[encoded data removed]",
      "text/plain": [
       "<Figure size 432x288 with 20 Axes>"
      ]
     },
     "metadata": {
      "needs_background": "light"
     },
     "output_type": "display_data"
    }
   ],
   "source": [
    "data_new.hist()"
   ]
  },
  {
   "cell_type": "code",
   "execution_count": 40,
   "metadata": {},
   "outputs": [
    {
     "data": {
      "text/plain": [
       "array([[<matplotlib.axes._subplots.AxesSubplot object at 0x000000000ED08208>,\n",
       "        <matplotlib.axes._subplots.AxesSubplot object at 0x000000000ECF0390>,\n",
       "        <matplotlib.axes._subplots.AxesSubplot object at 0x000000000ED8C7B8>,\n",
       "        <matplotlib.axes._subplots.AxesSubplot object at 0x000000000EDB5D68>,\n",
       "        <matplotlib.axes._subplots.AxesSubplot object at 0x000000000EDF2358>,\n",
       "        <matplotlib.axes._subplots.AxesSubplot object at 0x000000000EE22908>,\n",
       "        <matplotlib.axes._subplots.AxesSubplot object at 0x000000000EE53EB8>,\n",
       "        <matplotlib.axes._subplots.AxesSubplot object at 0x000000000EE914E0>,\n",
       "        <matplotlib.axes._subplots.AxesSubplot object at 0x000000000EE91518>,\n",
       "        <matplotlib.axes._subplots.AxesSubplot object at 0x000000000EF00048>,\n",
       "        <matplotlib.axes._subplots.AxesSubplot object at 0x000000000EF335C0>,\n",
       "        <matplotlib.axes._subplots.AxesSubplot object at 0x000000000EF65B70>,\n",
       "        <matplotlib.axes._subplots.AxesSubplot object at 0x000000000EFA2160>,\n",
       "        <matplotlib.axes._subplots.AxesSubplot object at 0x000000000EFD3710>,\n",
       "        <matplotlib.axes._subplots.AxesSubplot object at 0x000000000F007CC0>,\n",
       "        <matplotlib.axes._subplots.AxesSubplot object at 0x000000000F0442B0>,\n",
       "        <matplotlib.axes._subplots.AxesSubplot object at 0x000000000F072860>],\n",
       "       [<matplotlib.axes._subplots.AxesSubplot object at 0x000000000F0A5E10>,\n",
       "        <matplotlib.axes._subplots.AxesSubplot object at 0x000000000F0E2400>,\n",
       "        <matplotlib.axes._subplots.AxesSubplot object at 0x000000000F1139B0>,\n",
       "        <matplotlib.axes._subplots.AxesSubplot object at 0x000000000F148F60>,\n",
       "        <matplotlib.axes._subplots.AxesSubplot object at 0x000000000F184550>,\n",
       "        <matplotlib.axes._subplots.AxesSubplot object at 0x000000000F1B6780>,\n",
       "        <matplotlib.axes._subplots.AxesSubplot object at 0x000000000F1E8D30>,\n",
       "        <matplotlib.axes._subplots.AxesSubplot object at 0x000000000F225320>,\n",
       "        <matplotlib.axes._subplots.AxesSubplot object at 0x000000000F2568D0>,\n",
       "        <matplotlib.axes._subplots.AxesSubplot object at 0x000000000F28AE80>,\n",
       "        <matplotlib.axes._subplots.AxesSubplot object at 0x000000000F2C7470>,\n",
       "        <matplotlib.axes._subplots.AxesSubplot object at 0x000000000F2FBA20>,\n",
       "        <matplotlib.axes._subplots.AxesSubplot object at 0x000000000F32CFD0>,\n",
       "        <matplotlib.axes._subplots.AxesSubplot object at 0x000000000F3685C0>,\n",
       "        <matplotlib.axes._subplots.AxesSubplot object at 0x000000000F399B70>,\n",
       "        <matplotlib.axes._subplots.AxesSubplot object at 0x000000000F3D8160>,\n",
       "        <matplotlib.axes._subplots.AxesSubplot object at 0x000000000F409710>],\n",
       "       [<matplotlib.axes._subplots.AxesSubplot object at 0x000000000F43BCC0>,\n",
       "        <matplotlib.axes._subplots.AxesSubplot object at 0x000000000F4792B0>,\n",
       "        <matplotlib.axes._subplots.AxesSubplot object at 0x000000000F4A9860>,\n",
       "        <matplotlib.axes._subplots.AxesSubplot object at 0x000000000F4DCE10>,\n",
       "        <matplotlib.axes._subplots.AxesSubplot object at 0x000000000F519400>,\n",
       "        <matplotlib.axes._subplots.AxesSubplot object at 0x000000000F54A9B0>,\n",
       "        <matplotlib.axes._subplots.AxesSubplot object at 0x000000000F57EF60>,\n",
       "        <matplotlib.axes._subplots.AxesSubplot object at 0x000000000F5BB550>,\n",
       "        <matplotlib.axes._subplots.AxesSubplot object at 0x000000000F5EBB00>,\n",
       "        <matplotlib.axes._subplots.AxesSubplot object at 0x000000000F62A0F0>,\n",
       "        <matplotlib.axes._subplots.AxesSubplot object at 0x000000000F65B6A0>,\n",
       "        <matplotlib.axes._subplots.AxesSubplot object at 0x000000000F68BC50>,\n",
       "        <matplotlib.axes._subplots.AxesSubplot object at 0x000000000F6CD240>,\n",
       "        <matplotlib.axes._subplots.AxesSubplot object at 0x000000000F6FC7F0>,\n",
       "        <matplotlib.axes._subplots.AxesSubplot object at 0x000000000F730DA0>,\n",
       "        <matplotlib.axes._subplots.AxesSubplot object at 0x000000000F76E390>,\n",
       "        <matplotlib.axes._subplots.AxesSubplot object at 0x000000000F79D940>],\n",
       "       [<matplotlib.axes._subplots.AxesSubplot object at 0x000000000F7D0EF0>,\n",
       "        <matplotlib.axes._subplots.AxesSubplot object at 0x000000000F80D4E0>,\n",
       "        <matplotlib.axes._subplots.AxesSubplot object at 0x000000000F83EA90>,\n",
       "        <matplotlib.axes._subplots.AxesSubplot object at 0x000000000F87D080>,\n",
       "        <matplotlib.axes._subplots.AxesSubplot object at 0x000000000F8AF630>,\n",
       "        <matplotlib.axes._subplots.AxesSubplot object at 0x000000000F8E1BE0>,\n",
       "        <matplotlib.axes._subplots.AxesSubplot object at 0x000000000F91F1D0>,\n",
       "        <matplotlib.axes._subplots.AxesSubplot object at 0x000000000F94E780>,\n",
       "        <matplotlib.axes._subplots.AxesSubplot object at 0x000000000F97ED30>,\n",
       "        <matplotlib.axes._subplots.AxesSubplot object at 0x000000000F9BF320>,\n",
       "        <matplotlib.axes._subplots.AxesSubplot object at 0x000000000F9EE8D0>,\n",
       "        <matplotlib.axes._subplots.AxesSubplot object at 0x000000000FA21E80>,\n",
       "        <matplotlib.axes._subplots.AxesSubplot object at 0x000000000FA60470>,\n",
       "        <matplotlib.axes._subplots.AxesSubplot object at 0x000000000FA90A20>,\n",
       "        <matplotlib.axes._subplots.AxesSubplot object at 0x000000000FAC4FD0>,\n",
       "        <matplotlib.axes._subplots.AxesSubplot object at 0x000000000FB025C0>,\n",
       "        <matplotlib.axes._subplots.AxesSubplot object at 0x000000000FB34B70>],\n",
       "       [<matplotlib.axes._subplots.AxesSubplot object at 0x000000000FB72160>,\n",
       "        <matplotlib.axes._subplots.AxesSubplot object at 0x000000000FBA2710>,\n",
       "        <matplotlib.axes._subplots.AxesSubplot object at 0x000000000FBD5CC0>,\n",
       "        <matplotlib.axes._subplots.AxesSubplot object at 0x000000000FC112B0>,\n",
       "        <matplotlib.axes._subplots.AxesSubplot object at 0x000000000FC42860>,\n",
       "        <matplotlib.axes._subplots.AxesSubplot object at 0x000000000FC75E10>,\n",
       "        <matplotlib.axes._subplots.AxesSubplot object at 0x000000000FCB2400>,\n",
       "        <matplotlib.axes._subplots.AxesSubplot object at 0x000000000FCE49B0>,\n",
       "        <matplotlib.axes._subplots.AxesSubplot object at 0x000000000FD17F60>,\n",
       "        <matplotlib.axes._subplots.AxesSubplot object at 0x000000000FD55550>,\n",
       "        <matplotlib.axes._subplots.AxesSubplot object at 0x000000000FD87B00>,\n",
       "        <matplotlib.axes._subplots.AxesSubplot object at 0x000000000FDC50F0>,\n",
       "        <matplotlib.axes._subplots.AxesSubplot object at 0x000000000FDF56A0>,\n",
       "        <matplotlib.axes._subplots.AxesSubplot object at 0x000000000FE26C50>,\n",
       "        <matplotlib.axes._subplots.AxesSubplot object at 0x000000000FE66240>,\n",
       "        <matplotlib.axes._subplots.AxesSubplot object at 0x000000000FE937F0>,\n",
       "        <matplotlib.axes._subplots.AxesSubplot object at 0x000000000FEC8DA0>],\n",
       "       [<matplotlib.axes._subplots.AxesSubplot object at 0x000000000FF05390>,\n",
       "        <matplotlib.axes._subplots.AxesSubplot object at 0x000000000FF35940>,\n",
       "        <matplotlib.axes._subplots.AxesSubplot object at 0x000000000FF69EF0>,\n",
       "        <matplotlib.axes._subplots.AxesSubplot object at 0x000000000FFA44E0>,\n",
       "        <matplotlib.axes._subplots.AxesSubplot object at 0x000000000FFD7A90>,\n",
       "        <matplotlib.axes._subplots.AxesSubplot object at 0x0000000010016080>,\n",
       "        <matplotlib.axes._subplots.AxesSubplot object at 0x0000000010047630>,\n",
       "        <matplotlib.axes._subplots.AxesSubplot object at 0x0000000010079BE0>,\n",
       "        <matplotlib.axes._subplots.AxesSubplot object at 0x00000000100B71D0>,\n",
       "        <matplotlib.axes._subplots.AxesSubplot object at 0x00000000100E8780>,\n",
       "        <matplotlib.axes._subplots.AxesSubplot object at 0x0000000010119D30>,\n",
       "        <matplotlib.axes._subplots.AxesSubplot object at 0x0000000010158320>,\n",
       "        <matplotlib.axes._subplots.AxesSubplot object at 0x00000000101878D0>,\n",
       "        <matplotlib.axes._subplots.AxesSubplot object at 0x00000000101BCE80>,\n",
       "        <matplotlib.axes._subplots.AxesSubplot object at 0x00000000101FA470>,\n",
       "        <matplotlib.axes._subplots.AxesSubplot object at 0x000000001022AA20>,\n",
       "        <matplotlib.axes._subplots.AxesSubplot object at 0x000000001025EFD0>],\n",
       "       [<matplotlib.axes._subplots.AxesSubplot object at 0x00000000102995C0>,\n",
       "        <matplotlib.axes._subplots.AxesSubplot object at 0x00000000102CBB70>,\n",
       "        <matplotlib.axes._subplots.AxesSubplot object at 0x000000001030A160>,\n",
       "        <matplotlib.axes._subplots.AxesSubplot object at 0x0000000010339710>,\n",
       "        <matplotlib.axes._subplots.AxesSubplot object at 0x000000001036CCC0>,\n",
       "        <matplotlib.axes._subplots.AxesSubplot object at 0x00000000103A82B0>,\n",
       "        <matplotlib.axes._subplots.AxesSubplot object at 0x00000000103DA860>,\n",
       "        <matplotlib.axes._subplots.AxesSubplot object at 0x000000001040CE10>,\n",
       "        <matplotlib.axes._subplots.AxesSubplot object at 0x000000001044A400>,\n",
       "        <matplotlib.axes._subplots.AxesSubplot object at 0x000000001047B9B0>,\n",
       "        <matplotlib.axes._subplots.AxesSubplot object at 0x00000000104AFF60>,\n",
       "        <matplotlib.axes._subplots.AxesSubplot object at 0x00000000104ED550>,\n",
       "        <matplotlib.axes._subplots.AxesSubplot object at 0x000000001051CB00>,\n",
       "        <matplotlib.axes._subplots.AxesSubplot object at 0x000000001055A0F0>,\n",
       "        <matplotlib.axes._subplots.AxesSubplot object at 0x000000001058D6A0>,\n",
       "        <matplotlib.axes._subplots.AxesSubplot object at 0x00000000105BEC50>,\n",
       "        <matplotlib.axes._subplots.AxesSubplot object at 0x00000000105FE240>],\n",
       "       [<matplotlib.axes._subplots.AxesSubplot object at 0x000000001062D7F0>,\n",
       "        <matplotlib.axes._subplots.AxesSubplot object at 0x0000000010661DA0>,\n",
       "        <matplotlib.axes._subplots.AxesSubplot object at 0x000000001069E390>,\n",
       "        <matplotlib.axes._subplots.AxesSubplot object at 0x00000000106CC940>,\n",
       "        <matplotlib.axes._subplots.AxesSubplot object at 0x0000000010700EF0>,\n",
       "        <matplotlib.axes._subplots.AxesSubplot object at 0x000000001073D4E0>,\n",
       "        <matplotlib.axes._subplots.AxesSubplot object at 0x000000001076EA90>,\n",
       "        <matplotlib.axes._subplots.AxesSubplot object at 0x00000000107AF080>,\n",
       "        <matplotlib.axes._subplots.AxesSubplot object at 0x00000000107E1630>,\n",
       "        <matplotlib.axes._subplots.AxesSubplot object at 0x0000000010811BE0>,\n",
       "        <matplotlib.axes._subplots.AxesSubplot object at 0x00000000108501D0>,\n",
       "        <matplotlib.axes._subplots.AxesSubplot object at 0x0000000010880780>,\n",
       "        <matplotlib.axes._subplots.AxesSubplot object at 0x00000000108B1D30>,\n",
       "        <matplotlib.axes._subplots.AxesSubplot object at 0x00000000108F0320>,\n",
       "        <matplotlib.axes._subplots.AxesSubplot object at 0x00000000109208D0>,\n",
       "        <matplotlib.axes._subplots.AxesSubplot object at 0x0000000010952E80>,\n",
       "        <matplotlib.axes._subplots.AxesSubplot object at 0x0000000010990470>],\n",
       "       [<matplotlib.axes._subplots.AxesSubplot object at 0x00000000109C1A20>,\n",
       "        <matplotlib.axes._subplots.AxesSubplot object at 0x00000000109F6FD0>,\n",
       "        <matplotlib.axes._subplots.AxesSubplot object at 0x0000000010A305C0>,\n",
       "        <matplotlib.axes._subplots.AxesSubplot object at 0x0000000010A63B70>,\n",
       "        <matplotlib.axes._subplots.AxesSubplot object at 0x0000000010AA3160>,\n",
       "        <matplotlib.axes._subplots.AxesSubplot object at 0x0000000010AD2710>,\n",
       "        <matplotlib.axes._subplots.AxesSubplot object at 0x0000000010B03CC0>,\n",
       "        <matplotlib.axes._subplots.AxesSubplot object at 0x0000000010B412B0>,\n",
       "        <matplotlib.axes._subplots.AxesSubplot object at 0x0000000010B73860>,\n",
       "        <matplotlib.axes._subplots.AxesSubplot object at 0x0000000010BA7E10>,\n",
       "        <matplotlib.axes._subplots.AxesSubplot object at 0x0000000010BE4400>,\n",
       "        <matplotlib.axes._subplots.AxesSubplot object at 0x0000000010C159B0>,\n",
       "        <matplotlib.axes._subplots.AxesSubplot object at 0x0000000010C47F60>,\n",
       "        <matplotlib.axes._subplots.AxesSubplot object at 0x0000000010C85550>,\n",
       "        <matplotlib.axes._subplots.AxesSubplot object at 0x0000000010CB5B00>,\n",
       "        <matplotlib.axes._subplots.AxesSubplot object at 0x0000000010CF50F0>,\n",
       "        <matplotlib.axes._subplots.AxesSubplot object at 0x0000000010D256A0>],\n",
       "       [<matplotlib.axes._subplots.AxesSubplot object at 0x0000000010D56C50>,\n",
       "        <matplotlib.axes._subplots.AxesSubplot object at 0x0000000010D96240>,\n",
       "        <matplotlib.axes._subplots.AxesSubplot object at 0x0000000010DC77F0>,\n",
       "        <matplotlib.axes._subplots.AxesSubplot object at 0x0000000010DF8DA0>,\n",
       "        <matplotlib.axes._subplots.AxesSubplot object at 0x0000000010E35390>,\n",
       "        <matplotlib.axes._subplots.AxesSubplot object at 0x0000000010E67940>,\n",
       "        <matplotlib.axes._subplots.AxesSubplot object at 0x0000000010E9AEF0>,\n",
       "        <matplotlib.axes._subplots.AxesSubplot object at 0x0000000010ED64E0>,\n",
       "        <matplotlib.axes._subplots.AxesSubplot object at 0x0000000010F08A90>,\n",
       "        <matplotlib.axes._subplots.AxesSubplot object at 0x0000000010F48080>,\n",
       "        <matplotlib.axes._subplots.AxesSubplot object at 0x0000000010F77630>,\n",
       "        <matplotlib.axes._subplots.AxesSubplot object at 0x0000000010FAABE0>,\n",
       "        <matplotlib.axes._subplots.AxesSubplot object at 0x0000000011FB91D0>,\n",
       "        <matplotlib.axes._subplots.AxesSubplot object at 0x0000000011FE8780>,\n",
       "        <matplotlib.axes._subplots.AxesSubplot object at 0x000000001201AD30>,\n",
       "        <matplotlib.axes._subplots.AxesSubplot object at 0x0000000012059320>,\n",
       "        <matplotlib.axes._subplots.AxesSubplot object at 0x000000001208A8D0>],\n",
       "       [<matplotlib.axes._subplots.AxesSubplot object at 0x00000000120BDE80>,\n",
       "        <matplotlib.axes._subplots.AxesSubplot object at 0x00000000120F9470>,\n",
       "        <matplotlib.axes._subplots.AxesSubplot object at 0x000000001212CA20>,\n",
       "        <matplotlib.axes._subplots.AxesSubplot object at 0x000000001215FFD0>,\n",
       "        <matplotlib.axes._subplots.AxesSubplot object at 0x00000000121985C0>,\n",
       "        <matplotlib.axes._subplots.AxesSubplot object at 0x00000000121CBB70>,\n",
       "        <matplotlib.axes._subplots.AxesSubplot object at 0x000000001220C160>,\n",
       "        <matplotlib.axes._subplots.AxesSubplot object at 0x000000001223B710>,\n",
       "        <matplotlib.axes._subplots.AxesSubplot object at 0x000000001226CCC0>,\n",
       "        <matplotlib.axes._subplots.AxesSubplot object at 0x00000000122AB2B0>,\n",
       "        <matplotlib.axes._subplots.AxesSubplot object at 0x00000000122DB860>,\n",
       "        <matplotlib.axes._subplots.AxesSubplot object at 0x000000001230FE10>,\n",
       "        <matplotlib.axes._subplots.AxesSubplot object at 0x000000001234D400>,\n",
       "        <matplotlib.axes._subplots.AxesSubplot object at 0x000000001237D9B0>,\n",
       "        <matplotlib.axes._subplots.AxesSubplot object at 0x00000000123B0F60>,\n",
       "        <matplotlib.axes._subplots.AxesSubplot object at 0x00000000123EE550>,\n",
       "        <matplotlib.axes._subplots.AxesSubplot object at 0x000000001241EB00>],\n",
       "       [<matplotlib.axes._subplots.AxesSubplot object at 0x000000001245A0F0>,\n",
       "        <matplotlib.axes._subplots.AxesSubplot object at 0x000000001248E6A0>,\n",
       "        <matplotlib.axes._subplots.AxesSubplot object at 0x00000000124BFC50>,\n",
       "        <matplotlib.axes._subplots.AxesSubplot object at 0x00000000124FE240>,\n",
       "        <matplotlib.axes._subplots.AxesSubplot object at 0x000000001252F7F0>,\n",
       "        <matplotlib.axes._subplots.AxesSubplot object at 0x0000000012561DA0>,\n",
       "        <matplotlib.axes._subplots.AxesSubplot object at 0x00000000125A0390>,\n",
       "        <matplotlib.axes._subplots.AxesSubplot object at 0x00000000125CF940>,\n",
       "        <matplotlib.axes._subplots.AxesSubplot object at 0x0000000012604EF0>,\n",
       "        <matplotlib.axes._subplots.AxesSubplot object at 0x00000000126404E0>,\n",
       "        <matplotlib.axes._subplots.AxesSubplot object at 0x0000000012673A90>,\n",
       "        <matplotlib.axes._subplots.AxesSubplot object at 0x00000000126B2080>,\n",
       "        <matplotlib.axes._subplots.AxesSubplot object at 0x00000000126E1630>,\n",
       "        <matplotlib.axes._subplots.AxesSubplot object at 0x0000000012712BE0>,\n",
       "        <matplotlib.axes._subplots.AxesSubplot object at 0x000000001274F1D0>,\n",
       "        <matplotlib.axes._subplots.AxesSubplot object at 0x0000000012780780>,\n",
       "        <matplotlib.axes._subplots.AxesSubplot object at 0x00000000127B2D30>],\n",
       "       [<matplotlib.axes._subplots.AxesSubplot object at 0x00000000127EF320>,\n",
       "        <matplotlib.axes._subplots.AxesSubplot object at 0x00000000128218D0>,\n",
       "        <matplotlib.axes._subplots.AxesSubplot object at 0x0000000012853E80>,\n",
       "        <matplotlib.axes._subplots.AxesSubplot object at 0x0000000012891470>,\n",
       "        <matplotlib.axes._subplots.AxesSubplot object at 0x00000000128C3A20>,\n",
       "        <matplotlib.axes._subplots.AxesSubplot object at 0x00000000128F8FD0>,\n",
       "        <matplotlib.axes._subplots.AxesSubplot object at 0x00000000129345C0>,\n",
       "        <matplotlib.axes._subplots.AxesSubplot object at 0x0000000012966B70>,\n",
       "        <matplotlib.axes._subplots.AxesSubplot object at 0x00000000129A5160>,\n",
       "        <matplotlib.axes._subplots.AxesSubplot object at 0x00000000129D3710>,\n",
       "        <matplotlib.axes._subplots.AxesSubplot object at 0x0000000012A07CC0>,\n",
       "        <matplotlib.axes._subplots.AxesSubplot object at 0x0000000012A432B0>,\n",
       "        <matplotlib.axes._subplots.AxesSubplot object at 0x0000000012A74860>,\n",
       "        <matplotlib.axes._subplots.AxesSubplot object at 0x0000000012AA9E10>,\n",
       "        <matplotlib.axes._subplots.AxesSubplot object at 0x0000000012AE5400>,\n",
       "        <matplotlib.axes._subplots.AxesSubplot object at 0x0000000012B149B0>,\n",
       "        <matplotlib.axes._subplots.AxesSubplot object at 0x0000000012B47F60>],\n",
       "       [<matplotlib.axes._subplots.AxesSubplot object at 0x0000000012B85550>,\n",
       "        <matplotlib.axes._subplots.AxesSubplot object at 0x0000000012BB7B00>,\n",
       "        <matplotlib.axes._subplots.AxesSubplot object at 0x0000000012BF40F0>,\n",
       "        <matplotlib.axes._subplots.AxesSubplot object at 0x0000000012C266A0>,\n",
       "        <matplotlib.axes._subplots.AxesSubplot object at 0x0000000012C56C50>,\n",
       "        <matplotlib.axes._subplots.AxesSubplot object at 0x0000000012C97240>,\n",
       "        <matplotlib.axes._subplots.AxesSubplot object at 0x0000000012CC67F0>,\n",
       "        <matplotlib.axes._subplots.AxesSubplot object at 0x0000000012CFADA0>,\n",
       "        <matplotlib.axes._subplots.AxesSubplot object at 0x0000000012D38390>,\n",
       "        <matplotlib.axes._subplots.AxesSubplot object at 0x0000000012D68940>,\n",
       "        <matplotlib.axes._subplots.AxesSubplot object at 0x0000000012D9DEF0>,\n",
       "        <matplotlib.axes._subplots.AxesSubplot object at 0x0000000012DD74E0>,\n",
       "        <matplotlib.axes._subplots.AxesSubplot object at 0x0000000012E0BA90>,\n",
       "        <matplotlib.axes._subplots.AxesSubplot object at 0x0000000012E49080>,\n",
       "        <matplotlib.axes._subplots.AxesSubplot object at 0x0000000012E7B630>,\n",
       "        <matplotlib.axes._subplots.AxesSubplot object at 0x0000000012EADBE0>,\n",
       "        <matplotlib.axes._subplots.AxesSubplot object at 0x0000000012EEA1D0>],\n",
       "       [<matplotlib.axes._subplots.AxesSubplot object at 0x0000000012F1D780>,\n",
       "        <matplotlib.axes._subplots.AxesSubplot object at 0x0000000012F4CD30>,\n",
       "        <matplotlib.axes._subplots.AxesSubplot object at 0x0000000012F8A320>,\n",
       "        <matplotlib.axes._subplots.AxesSubplot object at 0x0000000012FBA8D0>,\n",
       "        <matplotlib.axes._subplots.AxesSubplot object at 0x0000000012FEFE80>,\n",
       "        <matplotlib.axes._subplots.AxesSubplot object at 0x000000001302B470>,\n",
       "        <matplotlib.axes._subplots.AxesSubplot object at 0x000000001305DA20>,\n",
       "        <matplotlib.axes._subplots.AxesSubplot object at 0x0000000013091FD0>,\n",
       "        <matplotlib.axes._subplots.AxesSubplot object at 0x00000000130CC5C0>,\n",
       "        <matplotlib.axes._subplots.AxesSubplot object at 0x00000000130FEB70>,\n",
       "        <matplotlib.axes._subplots.AxesSubplot object at 0x000000001313C160>,\n",
       "        <matplotlib.axes._subplots.AxesSubplot object at 0x000000001316D710>,\n",
       "        <matplotlib.axes._subplots.AxesSubplot object at 0x000000001319FCC0>,\n",
       "        <matplotlib.axes._subplots.AxesSubplot object at 0x00000000131DD2B0>,\n",
       "        <matplotlib.axes._subplots.AxesSubplot object at 0x000000001320D860>,\n",
       "        <matplotlib.axes._subplots.AxesSubplot object at 0x0000000013242E10>,\n",
       "        <matplotlib.axes._subplots.AxesSubplot object at 0x000000001327F400>],\n",
       "       [<matplotlib.axes._subplots.AxesSubplot object at 0x00000000132AF9B0>,\n",
       "        <matplotlib.axes._subplots.AxesSubplot object at 0x00000000132E2F60>,\n",
       "        <matplotlib.axes._subplots.AxesSubplot object at 0x0000000013320550>,\n",
       "        <matplotlib.axes._subplots.AxesSubplot object at 0x0000000013350B00>,\n",
       "        <matplotlib.axes._subplots.AxesSubplot object at 0x00000000133900F0>,\n",
       "        <matplotlib.axes._subplots.AxesSubplot object at 0x00000000133C16A0>,\n",
       "        <matplotlib.axes._subplots.AxesSubplot object at 0x00000000133F1C50>,\n",
       "        <matplotlib.axes._subplots.AxesSubplot object at 0x0000000013432240>,\n",
       "        <matplotlib.axes._subplots.AxesSubplot object at 0x00000000134627F0>,\n",
       "        <matplotlib.axes._subplots.AxesSubplot object at 0x0000000013495DA0>,\n",
       "        <matplotlib.axes._subplots.AxesSubplot object at 0x00000000134D1390>,\n",
       "        <matplotlib.axes._subplots.AxesSubplot object at 0x0000000013500940>,\n",
       "        <matplotlib.axes._subplots.AxesSubplot object at 0x0000000013536EF0>,\n",
       "        <matplotlib.axes._subplots.AxesSubplot object at 0x00000000135704E0>,\n",
       "        <matplotlib.axes._subplots.AxesSubplot object at 0x00000000135A2A90>,\n",
       "        <matplotlib.axes._subplots.AxesSubplot object at 0x00000000135E4080>,\n",
       "        <matplotlib.axes._subplots.AxesSubplot object at 0x0000000013613630>],\n",
       "       [<matplotlib.axes._subplots.AxesSubplot object at 0x0000000013644BE0>,\n",
       "        <matplotlib.axes._subplots.AxesSubplot object at 0x00000000136821D0>,\n",
       "        <matplotlib.axes._subplots.AxesSubplot object at 0x00000000136B4780>,\n",
       "        <matplotlib.axes._subplots.AxesSubplot object at 0x00000000136E7D30>,\n",
       "        <matplotlib.axes._subplots.AxesSubplot object at 0x0000000013724320>,\n",
       "        <matplotlib.axes._subplots.AxesSubplot object at 0x00000000137578D0>,\n",
       "        <matplotlib.axes._subplots.AxesSubplot object at 0x0000000013787E80>,\n",
       "        <matplotlib.axes._subplots.AxesSubplot object at 0x00000000137C4470>,\n",
       "        <matplotlib.axes._subplots.AxesSubplot object at 0x00000000137F7A20>,\n",
       "        <matplotlib.axes._subplots.AxesSubplot object at 0x000000001382AFD0>,\n",
       "        <matplotlib.axes._subplots.AxesSubplot object at 0x00000000138665C0>,\n",
       "        <matplotlib.axes._subplots.AxesSubplot object at 0x0000000013897B70>,\n",
       "        <matplotlib.axes._subplots.AxesSubplot object at 0x00000000138D8160>,\n",
       "        <matplotlib.axes._subplots.AxesSubplot object at 0x0000000013906710>,\n",
       "        <matplotlib.axes._subplots.AxesSubplot object at 0x0000000013939CC0>,\n",
       "        <matplotlib.axes._subplots.AxesSubplot object at 0x00000000139772B0>,\n",
       "        <matplotlib.axes._subplots.AxesSubplot object at 0x00000000139A6860>]],\n",
       "      dtype=object)"
      ]
     },
     "execution_count": 40,
     "metadata": {},
     "output_type": "execute_result"
    },
    {
     "data": {
      "image/png": "[encoded data removed]",
      "text/plain": [
       "<Figure size 432x288 with 289 Axes>"
      ]
     },
     "metadata": {
      "needs_background": "light"
     },
     "output_type": "display_data"
    }
   ],
   "source": [
    "from pandas.plotting import scatter_matrix\n",
    "scatter_matrix(data_new)"
   ]
  },
  {
   "cell_type": "markdown",
   "metadata": {},
   "source": [
    "# SPLITTING INTO X AND Y"
   ]
  },
  {
   "cell_type": "code",
   "execution_count": 41,
   "metadata": {},
   "outputs": [
    {
     "data": {
      "text/html": [
       "<div>\n",
       "<style scoped>\n",
       "    .dataframe tbody tr th:only-of-type {\n",
       "        vertical-align: middle;\n",
       "    }\n",
       "\n",
       "    .dataframe tbody tr th {\n",
       "        vertical-align: top;\n",
       "    }\n",
       "\n",
       "    .dataframe thead th {\n",
       "        text-align: right;\n",
       "    }\n",
       "</style>\n",
       "<table border=\"1\" class=\"dataframe\">\n",
       "  <thead>\n",
       "    <tr style=\"text-align: right;\">\n",
       "      <th></th>\n",
       "      <th>instant</th>\n",
       "      <th>dteday</th>\n",
       "      <th>season</th>\n",
       "      <th>yr</th>\n",
       "      <th>mnth</th>\n",
       "      <th>hr</th>\n",
       "      <th>holiday</th>\n",
       "      <th>weekday</th>\n",
       "      <th>workingday</th>\n",
       "      <th>weathersit</th>\n",
       "      <th>temp</th>\n",
       "      <th>atemp</th>\n",
       "      <th>hum</th>\n",
       "      <th>windspeed</th>\n",
       "      <th>casual</th>\n",
       "      <th>registered</th>\n",
       "    </tr>\n",
       "  </thead>\n",
       "  <tbody>\n",
       "    <tr>\n",
       "      <th>0</th>\n",
       "      <td>1</td>\n",
       "      <td>0</td>\n",
       "      <td>1</td>\n",
       "      <td>0</td>\n",
       "      <td>1</td>\n",
       "      <td>0</td>\n",
       "      <td>0</td>\n",
       "      <td>6</td>\n",
       "      <td>0</td>\n",
       "      <td>1</td>\n",
       "      <td>0.24</td>\n",
       "      <td>0.2879</td>\n",
       "      <td>0.81</td>\n",
       "      <td>0.0</td>\n",
       "      <td>3</td>\n",
       "      <td>13</td>\n",
       "    </tr>\n",
       "    <tr>\n",
       "      <th>1</th>\n",
       "      <td>2</td>\n",
       "      <td>0</td>\n",
       "      <td>1</td>\n",
       "      <td>0</td>\n",
       "      <td>1</td>\n",
       "      <td>1</td>\n",
       "      <td>0</td>\n",
       "      <td>6</td>\n",
       "      <td>0</td>\n",
       "      <td>1</td>\n",
       "      <td>0.22</td>\n",
       "      <td>0.2727</td>\n",
       "      <td>0.80</td>\n",
       "      <td>0.0</td>\n",
       "      <td>8</td>\n",
       "      <td>32</td>\n",
       "    </tr>\n",
       "    <tr>\n",
       "      <th>2</th>\n",
       "      <td>3</td>\n",
       "      <td>0</td>\n",
       "      <td>1</td>\n",
       "      <td>0</td>\n",
       "      <td>1</td>\n",
       "      <td>2</td>\n",
       "      <td>0</td>\n",
       "      <td>6</td>\n",
       "      <td>0</td>\n",
       "      <td>1</td>\n",
       "      <td>0.22</td>\n",
       "      <td>0.2727</td>\n",
       "      <td>0.80</td>\n",
       "      <td>0.0</td>\n",
       "      <td>5</td>\n",
       "      <td>27</td>\n",
       "    </tr>\n",
       "    <tr>\n",
       "      <th>3</th>\n",
       "      <td>4</td>\n",
       "      <td>0</td>\n",
       "      <td>1</td>\n",
       "      <td>0</td>\n",
       "      <td>1</td>\n",
       "      <td>3</td>\n",
       "      <td>0</td>\n",
       "      <td>6</td>\n",
       "      <td>0</td>\n",
       "      <td>1</td>\n",
       "      <td>0.24</td>\n",
       "      <td>0.2879</td>\n",
       "      <td>0.75</td>\n",
       "      <td>0.0</td>\n",
       "      <td>3</td>\n",
       "      <td>10</td>\n",
       "    </tr>\n",
       "    <tr>\n",
       "      <th>4</th>\n",
       "      <td>5</td>\n",
       "      <td>0</td>\n",
       "      <td>1</td>\n",
       "      <td>0</td>\n",
       "      <td>1</td>\n",
       "      <td>4</td>\n",
       "      <td>0</td>\n",
       "      <td>6</td>\n",
       "      <td>0</td>\n",
       "      <td>1</td>\n",
       "      <td>0.24</td>\n",
       "      <td>0.2879</td>\n",
       "      <td>0.75</td>\n",
       "      <td>0.0</td>\n",
       "      <td>0</td>\n",
       "      <td>1</td>\n",
       "    </tr>\n",
       "  </tbody>\n",
       "</table>\n",
       "</div>"
      ],
      "text/plain": [
       "   instant  dteday  season  yr  mnth  hr  holiday  weekday  workingday  \\\n",
       "0        1       0       1   0     1   0        0        6           0   \n",
       "1        2       0       1   0     1   1        0        6           0   \n",
       "2        3       0       1   0     1   2        0        6           0   \n",
       "3        4       0       1   0     1   3        0        6           0   \n",
       "4        5       0       1   0     1   4        0        6           0   \n",
       "\n",
       "   weathersit  temp   atemp   hum  windspeed  casual  registered  \n",
       "0           1  0.24  0.2879  0.81        0.0       3          13  \n",
       "1           1  0.22  0.2727  0.80        0.0       8          32  \n",
       "2           1  0.22  0.2727  0.80        0.0       5          27  \n",
       "3           1  0.24  0.2879  0.75        0.0       3          10  \n",
       "4           1  0.24  0.2879  0.75        0.0       0           1  "
      ]
     },
     "execution_count": 41,
     "metadata": {},
     "output_type": "execute_result"
    }
   ],
   "source": [
    "x=data_new.drop(\"cnt\",axis=1)\n",
    "x.head()"
   ]
  },
  {
   "cell_type": "code",
   "execution_count": 42,
   "metadata": {},
   "outputs": [
    {
     "data": {
      "text/plain": [
       "0         16\n",
       "1         40\n",
       "2         32\n",
       "3         13\n",
       "4          1\n",
       "5          1\n",
       "6          2\n",
       "7          3\n",
       "8          8\n",
       "9         14\n",
       "10        36\n",
       "11        56\n",
       "12        84\n",
       "13        94\n",
       "14       106\n",
       "15       110\n",
       "16        93\n",
       "17        67\n",
       "18        35\n",
       "19        37\n",
       "20        36\n",
       "21        34\n",
       "22        28\n",
       "23        39\n",
       "24        17\n",
       "25        17\n",
       "26         9\n",
       "27         6\n",
       "28         3\n",
       "29         2\n",
       "        ... \n",
       "17349    125\n",
       "17350    102\n",
       "17351     72\n",
       "17352     47\n",
       "17353     36\n",
       "17354     49\n",
       "17355     34\n",
       "17356     19\n",
       "17357     11\n",
       "17358      1\n",
       "17359      3\n",
       "17360      9\n",
       "17361     40\n",
       "17362     85\n",
       "17363    196\n",
       "17364    157\n",
       "17365    120\n",
       "17366    157\n",
       "17367    224\n",
       "17368    203\n",
       "17369    247\n",
       "17370    315\n",
       "17371    214\n",
       "17372    164\n",
       "17373    122\n",
       "17374    119\n",
       "17375     89\n",
       "17376     90\n",
       "17377     61\n",
       "17378     49\n",
       "Name: cnt, Length: 15934, dtype: int64"
      ]
     },
     "execution_count": 42,
     "metadata": {},
     "output_type": "execute_result"
    }
   ],
   "source": [
    "y=data_new[\"cnt\"]\n",
    "y"
   ]
  },
  {
   "cell_type": "markdown",
   "metadata": {},
   "source": [
    "# TRAINING AND TESTING PHASE"
   ]
  },
  {
   "cell_type": "code",
   "execution_count": 43,
   "metadata": {},
   "outputs": [],
   "source": [
    "x_train,x_test,y_train,y_test=train_test_split(x,y,test_size=.22,random_state=100)"
   ]
  },
  {
   "cell_type": "code",
   "execution_count": 44,
   "metadata": {},
   "outputs": [
    {
     "data": {
      "text/plain": [
       "(12428, 16)"
      ]
     },
     "execution_count": 44,
     "metadata": {},
     "output_type": "execute_result"
    }
   ],
   "source": [
    "x_train.shape"
   ]
  },
  {
   "cell_type": "code",
   "execution_count": 45,
   "metadata": {},
   "outputs": [
    {
     "data": {
      "text/plain": [
       "(3506, 16)"
      ]
     },
     "execution_count": 45,
     "metadata": {},
     "output_type": "execute_result"
    }
   ],
   "source": [
    "x_test.shape"
   ]
  },
  {
   "cell_type": "code",
   "execution_count": 46,
   "metadata": {},
   "outputs": [
    {
     "data": {
      "text/plain": [
       "(12428,)"
      ]
     },
     "execution_count": 46,
     "metadata": {},
     "output_type": "execute_result"
    }
   ],
   "source": [
    "y_train.shape"
   ]
  },
  {
   "cell_type": "code",
   "execution_count": 47,
   "metadata": {},
   "outputs": [
    {
     "data": {
      "text/plain": [
       "(3506,)"
      ]
     },
     "execution_count": 47,
     "metadata": {},
     "output_type": "execute_result"
    }
   ],
   "source": [
    "y_test.shape"
   ]
  },
  {
   "cell_type": "markdown",
   "metadata": {},
   "source": [
    "# APPLYING ALGORITHMS"
   ]
  },
  {
   "cell_type": "code",
   "execution_count": 48,
   "metadata": {},
   "outputs": [],
   "source": [
    "lr=LinearRegression()"
   ]
  },
  {
   "cell_type": "code",
   "execution_count": 49,
   "metadata": {},
   "outputs": [
    {
     "data": {
      "text/plain": [
       "LinearRegression(copy_X=True, fit_intercept=True, n_jobs=None, normalize=False)"
      ]
     },
     "execution_count": 49,
     "metadata": {},
     "output_type": "execute_result"
    }
   ],
   "source": [
    "lr.fit(x_train,y_train)"
   ]
  },
  {
   "cell_type": "code",
   "execution_count": 50,
   "metadata": {},
   "outputs": [],
   "source": [
    "predlr=lr.predict(x_test)"
   ]
  },
  {
   "cell_type": "code",
   "execution_count": 51,
   "metadata": {},
   "outputs": [
    {
     "name": "stdout",
     "output_type": "stream",
     "text": [
      "1.0\n"
     ]
    }
   ],
   "source": [
    "print(lr.score(x_train,y_train))"
   ]
  },
  {
   "cell_type": "code",
   "execution_count": 52,
   "metadata": {},
   "outputs": [
    {
     "name": "stdout",
     "output_type": "stream",
     "text": [
      "1.0\n"
     ]
    }
   ],
   "source": [
    "print(r2_score(y_test,predlr))"
   ]
  },
  {
   "cell_type": "code",
   "execution_count": 53,
   "metadata": {},
   "outputs": [
    {
     "name": "stdout",
     "output_type": "stream",
     "text": [
      "2.6800547979187545e-23\n"
     ]
    }
   ],
   "source": [
    "print(mean_squared_error(y_test,predlr))"
   ]
  },
  {
   "cell_type": "code",
   "execution_count": 54,
   "metadata": {},
   "outputs": [],
   "source": [
    "from sklearn.model_selection import KFold\n",
    "from sklearn.model_selection import cross_val_score"
   ]
  },
  {
   "cell_type": "code",
   "execution_count": 55,
   "metadata": {},
   "outputs": [
    {
     "name": "stdout",
     "output_type": "stream",
     "text": [
      "[1. 1. 1. 1. 1. 1. 1. 1. 1. 1.]\n"
     ]
    }
   ],
   "source": [
    "kfold=KFold(n_splits=10, random_state=0)\n",
    "model=LinearRegression()\n",
    "print(cross_val_score(model, x, y, cv=kfold))"
   ]
  },
  {
   "cell_type": "code",
   "execution_count": 56,
   "metadata": {},
   "outputs": [],
   "source": [
    "from sklearn.tree import DecisionTreeRegressor"
   ]
  },
  {
   "cell_type": "code",
   "execution_count": 59,
   "metadata": {},
   "outputs": [
    {
     "data": {
      "text/plain": [
       "DecisionTreeRegressor(criterion='mse', max_depth=4, max_features=None,\n",
       "                      max_leaf_nodes=20, min_impurity_decrease=0.0,\n",
       "                      min_impurity_split=None, min_samples_leaf=1,\n",
       "                      min_samples_split=4, min_weight_fraction_leaf=0.0,\n",
       "                      presort=False, random_state=None, splitter='best')"
      ]
     },
     "execution_count": 59,
     "metadata": {},
     "output_type": "execute_result"
    }
   ],
   "source": [
    "dtr = DecisionTreeRegressor(max_depth=4,\n",
    "                            min_samples_split=4,\n",
    "                            max_leaf_nodes=20)\n",
    "dtr.fit(x,y)"
   ]
  },
  {
   "cell_type": "code",
   "execution_count": 60,
   "metadata": {},
   "outputs": [
    {
     "data": {
      "text/plain": [
       "0.9756402619865109"
      ]
     },
     "execution_count": 60,
     "metadata": {},
     "output_type": "execute_result"
    }
   ],
   "source": [
    "dtr.score(x,y)"
   ]
  },
  {
   "cell_type": "code",
   "execution_count": 61,
   "metadata": {},
   "outputs": [
    {
     "data": {
      "text/plain": [
       "['bikes.pkl']"
      ]
     },
     "execution_count": 61,
     "metadata": {},
     "output_type": "execute_result"
    }
   ],
   "source": [
    "#save the model\n",
    "from sklearn.externals import joblib\n",
    "joblib.dump(lr,\"bikes.pkl\")"
   ]
  },
  {
   "cell_type": "code",
   "execution_count": null,
   "metadata": {},
   "outputs": [],
   "source": []
  }
 ],
 "metadata": {
  "kernelspec": {
   "display_name": "Python 3",
   "language": "python",
   "name": "python3"
  },
  "language_info": {
   "codemirror_mode": {
    "name": "ipython",
    "version": 3
   },
   "file_extension": ".py",
   "mimetype": "text/x-python",
   "name": "python",
   "nbconvert_exporter": "python",
   "pygments_lexer": "ipython3",
   "version": "3.7.3"
  }
 },
 "nbformat": 4,
 "nbformat_minor": 2
}
