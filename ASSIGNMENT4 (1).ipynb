{
  "nbformat": 4,
  "nbformat_minor": 0,
  "metadata": {
    "colab": {
      "name": "ASSIGNMENT4.ipynb",
      "provenance": [],
      "collapsed_sections": []
    },
    "kernelspec": {
      "name": "python3",
      "display_name": "Python 3"
    },
    "accelerator": "GPU"
  },
  "cells": [
    {
      "cell_type": "code",
      "metadata": {
        "id": "0gC0BzNnAsFI",
        "colab_type": "code",
        "colab": {
          "base_uri": "https://localhost:8080/",
          "height": 125
        },
        "outputId": "f77ec1b5-0bb2-4852-be04-294651f496fe"
      },
      "source": [
        "from google.colab import drive\n",
        "drive.mount('/content/drive/')"
      ],
      "execution_count": null,
      "outputs": [
        {
          "output_type": "stream",
          "text": [
            "Go to this URL in a browser: https://accounts.google.com/o/oauth2/auth?client_id=947318989803-6bn6qk8qdgf4n4g3pfee6491hc0brc4i.apps.googleusercontent.com&redirect_uri=urn%3aietf%3awg%3aoauth%3a2.0%3aoob&response_type=code&scope=email%20https%3a%2f%2fwww.googleapis.com%2fauth%2fdocs.test%20https%3a%2f%2fwww.googleapis.com%2fauth%2fdrive%20https%3a%2f%2fwww.googleapis.com%2fauth%2fdrive.photos.readonly%20https%3a%2f%2fwww.googleapis.com%2fauth%2fpeopleapi.readonly\n",
            "\n",
            "Enter your authorization code:\n",
            "··········\n",
            "Mounted at /content/drive/\n"
          ],
          "name": "stdout"
        }
      ]
    },
    {
      "cell_type": "code",
      "metadata": {
        "id": "aYNKPxrO4fEf",
        "colab_type": "code",
        "colab": {
          "base_uri": "https://localhost:8080/",
          "height": 34
        },
        "outputId": "e01adeb8-0d05-46a4-a5a5-0e8028fe2509"
      },
      "source": [
        "from zipfile import ZipFile\n",
        "train_path = '/content/drive/My Drive/amazon.zip' \n",
        "with ZipFile (train_path , \"r\") as zip:\n",
        "  zip.extractall()\n",
        "  print(\"Finsih\")"
      ],
      "execution_count": null,
      "outputs": [
        {
          "output_type": "stream",
          "text": [
            "Finsih\n"
          ],
          "name": "stdout"
        }
      ]
    },
    {
      "cell_type": "code",
      "metadata": {
        "id": "6lrXveKhAxfY",
        "colab_type": "code",
        "colab": {
          "base_uri": "https://localhost:8080/",
          "height": 34
        },
        "outputId": "fa16bb5b-5413-42d3-c82f-6c9b0658ed07"
      },
      "source": [
        "import keras,os\n",
        "from keras.models import Sequential\n",
        "from keras.layers import Dense, Conv2D, MaxPool2D , Flatten\n",
        "from keras.preprocessing.image import ImageDataGenerator\n",
        "import numpy as np"
      ],
      "execution_count": null,
      "outputs": [
        {
          "output_type": "stream",
          "text": [
            "Using TensorFlow backend.\n"
          ],
          "name": "stderr"
        }
      ]
    },
    {
      "cell_type": "code",
      "metadata": {
        "id": "WbL0F0b7A6km",
        "colab_type": "code",
        "colab": {
          "base_uri": "https://localhost:8080/",
          "height": 52
        },
        "outputId": "ad18d854-25fd-417b-e93f-053eb74450c8"
      },
      "source": [
        "trdata = ImageDataGenerator()\n",
        "traindata = trdata.flow_from_directory(directory=\"/content/drive/My Drive/train\",target_size=(150,150))\n",
        "tsdata = ImageDataGenerator()\n",
        "testdata = tsdata.flow_from_directory(directory=\"/content/amazon/testing\", target_size=(150,150))"
      ],
      "execution_count": null,
      "outputs": [
        {
          "output_type": "stream",
          "text": [
            "Found 1700 images belonging to 3 classes.\n",
            "Found 30 images belonging to 3 classes.\n"
          ],
          "name": "stdout"
        }
      ]
    },
    {
      "cell_type": "code",
      "metadata": {
        "id": "frTUr-HDBLU3",
        "colab_type": "code",
        "colab": {}
      },
      "source": [
        "nb_train_samples=1700\n",
        "nb_validation_samples=30\n",
        "batch_size=50\n",
        "epochs=20"
      ],
      "execution_count": null,
      "outputs": []
    },
    {
      "cell_type": "code",
      "metadata": {
        "id": "jlvnRG9aBwSL",
        "colab_type": "code",
        "colab": {}
      },
      "source": [
        "model = Sequential()\n",
        "model.add(Conv2D(input_shape=(150,150,3),filters=64,kernel_size=(3,3),padding=\"same\", activation=\"relu\"))\n",
        "model.add(Conv2D(filters=64,kernel_size=(3,3),padding=\"same\", activation=\"relu\"))\n",
        "model.add(MaxPool2D(pool_size=(2,2),strides=(2,2)))\n",
        "model.add(Conv2D(filters=128, kernel_size=(3,3), padding=\"same\", activation=\"relu\"))\n",
        "model.add(Conv2D(filters=128, kernel_size=(3,3), padding=\"same\", activation=\"relu\"))\n",
        "model.add(MaxPool2D(pool_size=(2,2),strides=(2,2)))\n",
        "model.add(Conv2D(filters=256, kernel_size=(3,3), padding=\"same\", activation=\"relu\"))\n",
        "model.add(Conv2D(filters=256, kernel_size=(3,3), padding=\"same\", activation=\"relu\"))\n",
        "model.add(Conv2D(filters=256, kernel_size=(3,3), padding=\"same\", activation=\"relu\"))\n",
        "model.add(MaxPool2D(pool_size=(2,2),strides=(2,2)))\n",
        "model.add(Conv2D(filters=512, kernel_size=(3,3), padding=\"same\", activation=\"relu\"))\n",
        "model.add(Conv2D(filters=512, kernel_size=(3,3), padding=\"same\", activation=\"relu\"))\n",
        "model.add(Conv2D(filters=512, kernel_size=(3,3), padding=\"same\", activation=\"relu\"))\n",
        "model.add(MaxPool2D(pool_size=(2,2),strides=(2,2)))\n",
        "model.add(Conv2D(filters=512, kernel_size=(3,3), padding=\"same\", activation=\"relu\"))\n",
        "model.add(Conv2D(filters=512, kernel_size=(3,3), padding=\"same\", activation=\"relu\"))\n",
        "model.add(Conv2D(filters=512, kernel_size=(3,3), padding=\"same\", activation=\"relu\"))\n",
        "model.add(MaxPool2D(pool_size=(2,2),strides=(2,2)))\n",
        "model.add(Flatten())\n",
        "model.add(Dense(units=4096,activation=\"relu\"))\n",
        "model.add(Dense(units=4096,activation=\"relu\"))\n",
        "model.add(Dense(units=3, activation=\"softmax\"))"
      ],
      "execution_count": null,
      "outputs": []
    },
    {
      "cell_type": "code",
      "metadata": {
        "id": "2-HU26jeB1LL",
        "colab_type": "code",
        "colab": {
          "base_uri": "https://localhost:8080/",
          "height": 941
        },
        "outputId": "b52bc0db-ae4f-4b7d-cb09-c512848c64d2"
      },
      "source": [
        "model.summary()"
      ],
      "execution_count": null,
      "outputs": [
        {
          "output_type": "stream",
          "text": [
            "Model: \"sequential_1\"\n",
            "_________________________________________________________________\n",
            "Layer (type)                 Output Shape              Param #   \n",
            "=================================================================\n",
            "conv2d_1 (Conv2D)            (None, 150, 150, 64)      1792      \n",
            "_________________________________________________________________\n",
            "conv2d_2 (Conv2D)            (None, 150, 150, 64)      36928     \n",
            "_________________________________________________________________\n",
            "max_pooling2d_1 (MaxPooling2 (None, 75, 75, 64)        0         \n",
            "_________________________________________________________________\n",
            "conv2d_3 (Conv2D)            (None, 75, 75, 128)       73856     \n",
            "_________________________________________________________________\n",
            "conv2d_4 (Conv2D)            (None, 75, 75, 128)       147584    \n",
            "_________________________________________________________________\n",
            "max_pooling2d_2 (MaxPooling2 (None, 37, 37, 128)       0         \n",
            "_________________________________________________________________\n",
            "conv2d_5 (Conv2D)            (None, 37, 37, 256)       295168    \n",
            "_________________________________________________________________\n",
            "conv2d_6 (Conv2D)            (None, 37, 37, 256)       590080    \n",
            "_________________________________________________________________\n",
            "conv2d_7 (Conv2D)            (None, 37, 37, 256)       590080    \n",
            "_________________________________________________________________\n",
            "max_pooling2d_3 (MaxPooling2 (None, 18, 18, 256)       0         \n",
            "_________________________________________________________________\n",
            "conv2d_8 (Conv2D)            (None, 18, 18, 512)       1180160   \n",
            "_________________________________________________________________\n",
            "conv2d_9 (Conv2D)            (None, 18, 18, 512)       2359808   \n",
            "_________________________________________________________________\n",
            "conv2d_10 (Conv2D)           (None, 18, 18, 512)       2359808   \n",
            "_________________________________________________________________\n",
            "max_pooling2d_4 (MaxPooling2 (None, 9, 9, 512)         0         \n",
            "_________________________________________________________________\n",
            "conv2d_11 (Conv2D)           (None, 9, 9, 512)         2359808   \n",
            "_________________________________________________________________\n",
            "conv2d_12 (Conv2D)           (None, 9, 9, 512)         2359808   \n",
            "_________________________________________________________________\n",
            "conv2d_13 (Conv2D)           (None, 9, 9, 512)         2359808   \n",
            "_________________________________________________________________\n",
            "max_pooling2d_5 (MaxPooling2 (None, 4, 4, 512)         0         \n",
            "_________________________________________________________________\n",
            "flatten_1 (Flatten)          (None, 8192)              0         \n",
            "_________________________________________________________________\n",
            "dense_1 (Dense)              (None, 4096)              33558528  \n",
            "_________________________________________________________________\n",
            "dense_2 (Dense)              (None, 4096)              16781312  \n",
            "_________________________________________________________________\n",
            "dense_3 (Dense)              (None, 3)                 12291     \n",
            "=================================================================\n",
            "Total params: 65,066,819\n",
            "Trainable params: 65,066,819\n",
            "Non-trainable params: 0\n",
            "_________________________________________________________________\n"
          ],
          "name": "stdout"
        }
      ]
    },
    {
      "cell_type": "markdown",
      "metadata": {
        "id": "VJNMnWYZxHYM",
        "colab_type": "text"
      },
      "source": [
        "# Using SGD+Momentum"
      ]
    },
    {
      "cell_type": "code",
      "metadata": {
        "id": "A5Qcb1pRB_u8",
        "colab_type": "code",
        "colab": {}
      },
      "source": [
        "from keras.callbacks import Callback\n",
        "from keras.optimizers import Adam\n",
        "from keras.callbacks import ModelCheckpoint, EarlyStopping, ReduceLROnPlateau\n",
        "from keras.optimizers import SGD\n",
        "\n",
        "checkpoint= ModelCheckpoint(\"Model.h5\", monitor=\"val_accuracy\",mode='max', save_best_only=True,verbose=1)\n",
        "\n",
        "earlystop= EarlyStopping(monitor=\"val_accuracy\",min_delta=0,patience=5,verbose=1,restore_best_weights=True)\n",
        "\n",
        "reduce_lr= ReduceLROnPlateau(monitor=\"val_accuracy\", factor=0.2, patience=5, verbose=1, min_delta=0.001)\n",
        "\n",
        "#putiing callbacks into callback list\n",
        "callbacks = [earlystop, checkpoint, reduce_lr]\n",
        "momentums = [0.0, 0.5, 0.9, 0.99]\n",
        "opt = SGD(lr=0.01, momentum=0.5, decay=0.01)\n",
        "#we use a very small learning rate\n",
        "model.compile(loss = 'categorical_crossentropy',\n",
        "              optimizer=opt,\n",
        "              metrics=['accuracy'])"
      ],
      "execution_count": null,
      "outputs": []
    },
    {
      "cell_type": "code",
      "metadata": {
        "id": "in_eXnguCcB4",
        "colab_type": "code",
        "colab": {
          "base_uri": "https://localhost:8080/",
          "height": 798
        },
        "outputId": "0bdb8190-c764-4962-dac7-796c2bdb89c4"
      },
      "source": [
        "history=model.fit_generator(\n",
        "    traindata,\n",
        "    steps_per_epoch=nb_train_samples//batch_size,\n",
        "    epochs=epochs,\n",
        "    validation_data=testdata,\n",
        "    validation_steps=nb_validation_samples//batch_size,\n",
        "    callbacks = [earlystop, checkpoint, reduce_lr])"
      ],
      "execution_count": null,
      "outputs": [
        {
          "output_type": "stream",
          "text": [
            "Epoch 1/20\n",
            "34/34 [==============================] - 471s 14s/step - loss: 1.0824 - accuracy: 0.4519 - val_loss: 1.0940 - val_accuracy: 0.3333\n",
            "\n",
            "Epoch 00001: val_accuracy improved from -inf to 0.33333, saving model to Model.h5\n",
            "Epoch 2/20\n",
            "34/34 [==============================] - 277s 8s/step - loss: 1.0474 - accuracy: 0.4835 - val_loss: 1.2927 - val_accuracy: 0.3333\n",
            "\n",
            "Epoch 00002: val_accuracy did not improve from 0.33333\n",
            "Epoch 3/20\n",
            "34/34 [==============================] - 15s 447ms/step - loss: 0.9296 - accuracy: 0.5538 - val_loss: 1.0431 - val_accuracy: 0.6000\n",
            "\n",
            "Epoch 00003: val_accuracy improved from 0.33333 to 0.60000, saving model to Model.h5\n",
            "Epoch 4/20\n",
            "34/34 [==============================] - 16s 459ms/step - loss: 0.6868 - accuracy: 0.6746 - val_loss: 0.5533 - val_accuracy: 0.6667\n",
            "\n",
            "Epoch 00004: val_accuracy improved from 0.60000 to 0.66667, saving model to Model.h5\n",
            "Epoch 5/20\n",
            "34/34 [==============================] - 15s 451ms/step - loss: 0.5282 - accuracy: 0.7377 - val_loss: 0.5869 - val_accuracy: 0.7000\n",
            "\n",
            "Epoch 00005: val_accuracy improved from 0.66667 to 0.70000, saving model to Model.h5\n",
            "Epoch 6/20\n",
            "34/34 [==============================] - 15s 453ms/step - loss: 0.7325 - accuracy: 0.6500 - val_loss: 0.6890 - val_accuracy: 0.6000\n",
            "\n",
            "Epoch 00006: val_accuracy did not improve from 0.70000\n",
            "Epoch 7/20\n",
            "34/34 [==============================] - 16s 465ms/step - loss: 0.5497 - accuracy: 0.7215 - val_loss: 0.6537 - val_accuracy: 0.6333\n",
            "\n",
            "Epoch 00007: val_accuracy did not improve from 0.70000\n",
            "Epoch 8/20\n",
            "34/34 [==============================] - 15s 454ms/step - loss: 0.4895 - accuracy: 0.7434 - val_loss: 0.7204 - val_accuracy: 0.6333\n",
            "\n",
            "Epoch 00008: val_accuracy did not improve from 0.70000\n",
            "Epoch 9/20\n",
            "34/34 [==============================] - 15s 454ms/step - loss: 0.4266 - accuracy: 0.7943 - val_loss: 0.8059 - val_accuracy: 0.6667\n",
            "\n",
            "Epoch 00009: val_accuracy did not improve from 0.70000\n",
            "Epoch 10/20\n",
            "34/34 [==============================] - 16s 463ms/step - loss: 0.3856 - accuracy: 0.8300 - val_loss: 0.7150 - val_accuracy: 0.7000\n",
            "Restoring model weights from the end of the best epoch\n",
            "\n",
            "Epoch 00010: val_accuracy did not improve from 0.70000\n",
            "\n",
            "Epoch 00010: ReduceLROnPlateau reducing learning rate to 0.0019999999552965165.\n",
            "Epoch 00010: early stopping\n"
          ],
          "name": "stdout"
        }
      ]
    },
    {
      "cell_type": "markdown",
      "metadata": {
        "id": "18Umq1eqndSa",
        "colab_type": "text"
      },
      "source": [
        "# Using Adam optimiser"
      ]
    },
    {
      "cell_type": "code",
      "metadata": {
        "id": "kuSvpviSnvbg",
        "colab_type": "code",
        "colab": {}
      },
      "source": [
        "from keras.layers import Dense, Dropout, Flatten, Conv2D, MaxPool2D, BatchNormalization\n",
        "from keras.optimizers import Adam"
      ],
      "execution_count": null,
      "outputs": []
    },
    {
      "cell_type": "code",
      "metadata": {
        "id": "J4DqGY63ncZI",
        "colab_type": "code",
        "colab": {}
      },
      "source": [
        "model = Sequential()\n",
        "\n",
        "model.add(Conv2D(32, kernel_size=(3,3),input_shape=(150, 150, 3), activation = 'relu'))\n",
        "model.add(Conv2D(32, kernel_size=(3,3), activation = 'relu'))\n",
        "model.add(MaxPool2D(2,2))\n",
        "model.add(BatchNormalization())\n",
        "model.add(Dropout(0.4))\n",
        "\n",
        "model.add(Conv2D(64, kernel_size=(3,3),activation = 'relu'))\n",
        "model.add(Conv2D(64, kernel_size=(3,3),activation = 'relu'))\n",
        "model.add(MaxPool2D(2,2))\n",
        "model.add(BatchNormalization())\n",
        "model.add(Dropout(0.4))\n",
        "\n",
        "model.add(Conv2D(128, kernel_size=(3,3), activation = 'relu'))\n",
        "model.add(BatchNormalization())\n",
        "\n",
        "model.add(Flatten())\n",
        "model.add(Dense(256, activation = \"relu\"))\n",
        "model.add(Dropout(0.4))\n",
        "model.add(Dense(128, activation = \"relu\"))\n",
        "model.add(Dropout(0.4))\n",
        "model.add(Dense(units=3, activation = \"softmax\"))"
      ],
      "execution_count": null,
      "outputs": []
    },
    {
      "cell_type": "code",
      "metadata": {
        "id": "kSjFdKnJCtL4",
        "colab_type": "code",
        "colab": {
          "base_uri": "https://localhost:8080/",
          "height": 798
        },
        "outputId": "48a7555f-cea3-4dfe-d3dd-fa5c2ab8271e"
      },
      "source": [
        "model.summary()"
      ],
      "execution_count": null,
      "outputs": [
        {
          "output_type": "stream",
          "text": [
            "Model: \"sequential_2\"\n",
            "_________________________________________________________________\n",
            "Layer (type)                 Output Shape              Param #   \n",
            "=================================================================\n",
            "conv2d_14 (Conv2D)           (None, 148, 148, 32)      896       \n",
            "_________________________________________________________________\n",
            "conv2d_15 (Conv2D)           (None, 146, 146, 32)      9248      \n",
            "_________________________________________________________________\n",
            "max_pooling2d_6 (MaxPooling2 (None, 73, 73, 32)        0         \n",
            "_________________________________________________________________\n",
            "batch_normalization_1 (Batch (None, 73, 73, 32)        128       \n",
            "_________________________________________________________________\n",
            "dropout_1 (Dropout)          (None, 73, 73, 32)        0         \n",
            "_________________________________________________________________\n",
            "conv2d_16 (Conv2D)           (None, 71, 71, 64)        18496     \n",
            "_________________________________________________________________\n",
            "conv2d_17 (Conv2D)           (None, 69, 69, 64)        36928     \n",
            "_________________________________________________________________\n",
            "max_pooling2d_7 (MaxPooling2 (None, 34, 34, 64)        0         \n",
            "_________________________________________________________________\n",
            "batch_normalization_2 (Batch (None, 34, 34, 64)        256       \n",
            "_________________________________________________________________\n",
            "dropout_2 (Dropout)          (None, 34, 34, 64)        0         \n",
            "_________________________________________________________________\n",
            "conv2d_18 (Conv2D)           (None, 32, 32, 128)       73856     \n",
            "_________________________________________________________________\n",
            "batch_normalization_3 (Batch (None, 32, 32, 128)       512       \n",
            "_________________________________________________________________\n",
            "flatten_2 (Flatten)          (None, 131072)            0         \n",
            "_________________________________________________________________\n",
            "dense_4 (Dense)              (None, 256)               33554688  \n",
            "_________________________________________________________________\n",
            "dropout_3 (Dropout)          (None, 256)               0         \n",
            "_________________________________________________________________\n",
            "dense_5 (Dense)              (None, 128)               32896     \n",
            "_________________________________________________________________\n",
            "dropout_4 (Dropout)          (None, 128)               0         \n",
            "_________________________________________________________________\n",
            "dense_6 (Dense)              (None, 3)                 387       \n",
            "=================================================================\n",
            "Total params: 33,728,291\n",
            "Trainable params: 33,727,843\n",
            "Non-trainable params: 448\n",
            "_________________________________________________________________\n"
          ],
          "name": "stdout"
        }
      ]
    },
    {
      "cell_type": "code",
      "metadata": {
        "id": "N13B87KznzCj",
        "colab_type": "code",
        "colab": {}
      },
      "source": [
        "checkpoint= ModelCheckpoint(\"Model.h5\", monitor=\"val_accuracy\",mode='max', save_best_only=True,verbose=1)\n",
        "\n",
        "earlystop= EarlyStopping(monitor=\"val_accuracy\",min_delta=0,patience=5,verbose=1,restore_best_weights=True)\n",
        "\n",
        "reduce_lr= ReduceLROnPlateau(monitor=\"val_accuracy\", factor=0.2, patience=5, verbose=1, min_delta=0.001)\n",
        "\n",
        "#putiing callbacks into callback list\n",
        "callbacks = [earlystop, checkpoint, reduce_lr]\n",
        "momentums = [0.0, 0.5, 0.9, 0.99]\n",
        "opt = Adam(lr=0.001)\n",
        "#we use a very small learning rate\n",
        "model.compile(loss = 'categorical_crossentropy',\n",
        "              optimizer=opt,\n",
        "              metrics=['accuracy'])"
      ],
      "execution_count": null,
      "outputs": []
    },
    {
      "cell_type": "code",
      "metadata": {
        "id": "JjHCJkm-oRQU",
        "colab_type": "code",
        "colab": {
          "base_uri": "https://localhost:8080/",
          "height": 1000
        },
        "outputId": "167890f3-860c-40fa-f7ae-3ad8664aa596"
      },
      "source": [
        "history=model.fit_generator(\n",
        "    traindata,\n",
        "    steps_per_epoch=nb_train_samples//batch_size,\n",
        "    epochs=epochs,\n",
        "    validation_data=testdata,\n",
        "    validation_steps=nb_validation_samples//batch_size,\n",
        "    callbacks = [earlystop, checkpoint, reduce_lr])"
      ],
      "execution_count": null,
      "outputs": [
        {
          "output_type": "stream",
          "text": [
            "Epoch 1/20\n",
            "34/34 [==============================] - 9s 258ms/step - loss: 3.6216 - accuracy: 0.7206 - val_loss: 142.9827 - val_accuracy: 0.3333\n",
            "\n",
            "Epoch 00001: val_accuracy improved from -inf to 0.33333, saving model to Model.h5\n",
            "Epoch 2/20\n",
            "34/34 [==============================] - 6s 180ms/step - loss: 3.4551 - accuracy: 0.7736 - val_loss: 61.5959 - val_accuracy: 0.3333\n",
            "\n",
            "Epoch 00002: val_accuracy did not improve from 0.33333\n",
            "Epoch 3/20\n",
            "34/34 [==============================] - 6s 167ms/step - loss: 2.7899 - accuracy: 0.8000 - val_loss: 12.3108 - val_accuracy: 0.7000\n",
            "\n",
            "Epoch 00003: val_accuracy improved from 0.33333 to 0.70000, saving model to Model.h5\n",
            "Epoch 4/20\n",
            "34/34 [==============================] - 6s 170ms/step - loss: 2.2222 - accuracy: 0.8024 - val_loss: 4.9279 - val_accuracy: 0.5667\n",
            "\n",
            "Epoch 00004: val_accuracy did not improve from 0.70000\n",
            "Epoch 5/20\n",
            "34/34 [==============================] - 6s 168ms/step - loss: 1.3073 - accuracy: 0.8387 - val_loss: 2.5695 - val_accuracy: 0.7667\n",
            "\n",
            "Epoch 00005: val_accuracy improved from 0.70000 to 0.76667, saving model to Model.h5\n",
            "Epoch 6/20\n",
            "34/34 [==============================] - 6s 169ms/step - loss: 2.2002 - accuracy: 0.8311 - val_loss: 64.5439 - val_accuracy: 0.4667\n",
            "\n",
            "Epoch 00006: val_accuracy did not improve from 0.76667\n",
            "Epoch 7/20\n",
            "34/34 [==============================] - 6s 172ms/step - loss: 1.8471 - accuracy: 0.8548 - val_loss: 3.3106 - val_accuracy: 0.8000\n",
            "\n",
            "Epoch 00007: val_accuracy improved from 0.76667 to 0.80000, saving model to Model.h5\n",
            "Epoch 8/20\n",
            "34/34 [==============================] - 6s 168ms/step - loss: 1.4014 - accuracy: 0.8557 - val_loss: 19.0097 - val_accuracy: 0.4667\n",
            "\n",
            "Epoch 00008: val_accuracy did not improve from 0.80000\n",
            "Epoch 9/20\n",
            "34/34 [==============================] - 6s 172ms/step - loss: 0.6948 - accuracy: 0.8906 - val_loss: 0.6861 - val_accuracy: 0.8333\n",
            "\n",
            "Epoch 00009: val_accuracy improved from 0.80000 to 0.83333, saving model to Model.h5\n",
            "Epoch 10/20\n",
            "34/34 [==============================] - 6s 169ms/step - loss: 0.6318 - accuracy: 0.8802 - val_loss: 0.6235 - val_accuracy: 0.7333\n",
            "\n",
            "Epoch 00010: val_accuracy did not improve from 0.83333\n",
            "Epoch 11/20\n",
            "34/34 [==============================] - 6s 169ms/step - loss: 0.3993 - accuracy: 0.9066 - val_loss: 28.1515 - val_accuracy: 0.4333\n",
            "\n",
            "Epoch 00011: val_accuracy did not improve from 0.83333\n",
            "Epoch 12/20\n",
            "34/34 [==============================] - 6s 169ms/step - loss: 0.3016 - accuracy: 0.9170 - val_loss: 1.3759 - val_accuracy: 0.8000\n",
            "\n",
            "Epoch 00012: val_accuracy did not improve from 0.83333\n",
            "Epoch 13/20\n",
            "34/34 [==============================] - 6s 170ms/step - loss: 0.2663 - accuracy: 0.9347 - val_loss: 0.7890 - val_accuracy: 0.7000\n",
            "\n",
            "Epoch 00013: val_accuracy did not improve from 0.83333\n",
            "Epoch 14/20\n",
            "34/34 [==============================] - 6s 168ms/step - loss: 0.3029 - accuracy: 0.9198 - val_loss: 0.8816 - val_accuracy: 0.7000\n",
            "Restoring model weights from the end of the best epoch\n",
            "\n",
            "Epoch 00014: val_accuracy did not improve from 0.83333\n",
            "\n",
            "Epoch 00014: ReduceLROnPlateau reducing learning rate to 0.00020000000949949026.\n",
            "Epoch 00014: early stopping\n"
          ],
          "name": "stdout"
        }
      ]
    },
    {
      "cell_type": "markdown",
      "metadata": {
        "id": "Txn49Q78sL6M",
        "colab_type": "text"
      },
      "source": [
        "# Using RMSprop optimizer"
      ]
    },
    {
      "cell_type": "code",
      "metadata": {
        "id": "ZiPpWw9SoYBi",
        "colab_type": "code",
        "colab": {}
      },
      "source": [
        "from keras.optimizers import RMSprop"
      ],
      "execution_count": null,
      "outputs": []
    },
    {
      "cell_type": "code",
      "metadata": {
        "id": "ZJwSTfN1sUw7",
        "colab_type": "code",
        "colab": {}
      },
      "source": [
        "checkpoint= ModelCheckpoint(\"Model.h5\", monitor=\"val_accuracy\",mode='max', save_best_only=True,verbose=1)\n",
        "\n",
        "earlystop= EarlyStopping(monitor=\"val_accuracy\",min_delta=0,patience=5,verbose=1,restore_best_weights=True)\n",
        "\n",
        "reduce_lr= ReduceLROnPlateau(monitor=\"val_accuracy\", factor=0.2, patience=5, verbose=1, min_delta=0.001)\n",
        "\n",
        "#putiing callbacks into callback list\n",
        "callbacks = [earlystop, checkpoint, reduce_lr]\n",
        "opt = RMSprop(lr=0.001)\n",
        "#we use a very small learning rate\n",
        "model.compile(loss = 'categorical_crossentropy',\n",
        "              optimizer=opt,\n",
        "              metrics=['accuracy'])"
      ],
      "execution_count": null,
      "outputs": []
    },
    {
      "cell_type": "code",
      "metadata": {
        "id": "_xuUfG3psgHr",
        "colab_type": "code",
        "colab": {
          "base_uri": "https://localhost:8080/",
          "height": 798
        },
        "outputId": "60cebff2-9a38-449f-bb76-b670e0dc5be2"
      },
      "source": [
        "history=model.fit_generator(\n",
        "    traindata,\n",
        "    steps_per_epoch=nb_train_samples//batch_size,\n",
        "    epochs=epochs,\n",
        "    validation_data=testdata,\n",
        "    validation_steps=nb_validation_samples//batch_size,\n",
        "    callbacks = [earlystop, checkpoint, reduce_lr])"
      ],
      "execution_count": null,
      "outputs": [
        {
          "output_type": "stream",
          "text": [
            "Epoch 1/20\n",
            "34/34 [==============================] - 7s 208ms/step - loss: 2.0157 - accuracy: 0.8396 - val_loss: 94.0608 - val_accuracy: 0.3667\n",
            "\n",
            "Epoch 00001: val_accuracy improved from -inf to 0.36667, saving model to Model.h5\n",
            "Epoch 2/20\n",
            "34/34 [==============================] - 6s 166ms/step - loss: 1.1586 - accuracy: 0.8483 - val_loss: 5.9573 - val_accuracy: 0.6000\n",
            "\n",
            "Epoch 00002: val_accuracy improved from 0.36667 to 0.60000, saving model to Model.h5\n",
            "Epoch 3/20\n",
            "34/34 [==============================] - 5s 160ms/step - loss: 1.0693 - accuracy: 0.8472 - val_loss: 2.2761 - val_accuracy: 0.7000\n",
            "\n",
            "Epoch 00003: val_accuracy improved from 0.60000 to 0.70000, saving model to Model.h5\n",
            "Epoch 4/20\n",
            "34/34 [==============================] - 6s 166ms/step - loss: 0.8589 - accuracy: 0.8778 - val_loss: 1.4053 - val_accuracy: 0.6667\n",
            "\n",
            "Epoch 00004: val_accuracy did not improve from 0.70000\n",
            "Epoch 5/20\n",
            "34/34 [==============================] - 6s 163ms/step - loss: 0.7215 - accuracy: 0.8764 - val_loss: 1.7360 - val_accuracy: 0.7667\n",
            "\n",
            "Epoch 00005: val_accuracy improved from 0.70000 to 0.76667, saving model to Model.h5\n",
            "Epoch 6/20\n",
            "34/34 [==============================] - 6s 164ms/step - loss: 0.7060 - accuracy: 0.8741 - val_loss: 0.8963 - val_accuracy: 0.7333\n",
            "\n",
            "Epoch 00006: val_accuracy did not improve from 0.76667\n",
            "Epoch 7/20\n",
            "34/34 [==============================] - 6s 164ms/step - loss: 0.5582 - accuracy: 0.8868 - val_loss: 3.1245 - val_accuracy: 0.7333\n",
            "\n",
            "Epoch 00007: val_accuracy did not improve from 0.76667\n",
            "Epoch 8/20\n",
            "34/34 [==============================] - 6s 162ms/step - loss: 0.6104 - accuracy: 0.9000 - val_loss: 14.4047 - val_accuracy: 0.5667\n",
            "\n",
            "Epoch 00008: val_accuracy did not improve from 0.76667\n",
            "Epoch 9/20\n",
            "34/34 [==============================] - 6s 162ms/step - loss: 0.9241 - accuracy: 0.8623 - val_loss: 3.3899 - val_accuracy: 0.6667\n",
            "\n",
            "Epoch 00009: val_accuracy did not improve from 0.76667\n",
            "Epoch 10/20\n",
            "34/34 [==============================] - 6s 162ms/step - loss: 0.6518 - accuracy: 0.8840 - val_loss: 1.1015 - val_accuracy: 0.6000\n",
            "Restoring model weights from the end of the best epoch\n",
            "\n",
            "Epoch 00010: val_accuracy did not improve from 0.76667\n",
            "\n",
            "Epoch 00010: ReduceLROnPlateau reducing learning rate to 0.00020000000949949026.\n",
            "Epoch 00010: early stopping\n"
          ],
          "name": "stdout"
        }
      ]
    },
    {
      "cell_type": "markdown",
      "metadata": {
        "id": "yFU5u2yStdMW",
        "colab_type": "text"
      },
      "source": [
        "# Using Nadam Optimizer"
      ]
    },
    {
      "cell_type": "code",
      "metadata": {
        "id": "xQw3Le2Fsjmx",
        "colab_type": "code",
        "colab": {}
      },
      "source": [
        "from keras.optimizers import Nadam"
      ],
      "execution_count": null,
      "outputs": []
    },
    {
      "cell_type": "code",
      "metadata": {
        "id": "eaDCkVDGtcXZ",
        "colab_type": "code",
        "colab": {}
      },
      "source": [
        "checkpoint= ModelCheckpoint(\"Model.h5\", monitor=\"val_accuracy\",mode='max', save_best_only=True,verbose=1)\n",
        "\n",
        "earlystop= EarlyStopping(monitor=\"val_accuracy\",min_delta=0,patience=5,verbose=1,restore_best_weights=True)\n",
        "\n",
        "reduce_lr= ReduceLROnPlateau(monitor=\"val_accuracy\", factor=0.2, patience=5, verbose=1, min_delta=0.001)\n",
        "\n",
        "#putiing callbacks into callback list\n",
        "callbacks = [earlystop, checkpoint, reduce_lr]\n",
        "opt = Nadam(lr=0.001, beta_1=0.9, beta_2=0.999, epsilon=1e-07)\n",
        "#we use a very small learning rate\n",
        "model.compile(loss = 'categorical_crossentropy',\n",
        "              optimizer=opt,\n",
        "              metrics=['accuracy'])"
      ],
      "execution_count": null,
      "outputs": []
    },
    {
      "cell_type": "code",
      "metadata": {
        "id": "Y0AhhUuCtxn_",
        "colab_type": "code",
        "colab": {
          "base_uri": "https://localhost:8080/",
          "height": 941
        },
        "outputId": "71b86439-16e7-4ff4-8117-a6936015fd94"
      },
      "source": [
        "history=model.fit_generator(\n",
        "    traindata,\n",
        "    steps_per_epoch=nb_train_samples//batch_size,\n",
        "    epochs=epochs,\n",
        "    validation_data=testdata,\n",
        "    validation_steps=nb_validation_samples//batch_size,\n",
        "    callbacks = [earlystop, checkpoint, reduce_lr])"
      ],
      "execution_count": null,
      "outputs": [
        {
          "output_type": "stream",
          "text": [
            "Epoch 1/20\n",
            "34/34 [==============================] - 8s 241ms/step - loss: 0.6762 - accuracy: 0.8851 - val_loss: 2.9882 - val_accuracy: 0.7000\n",
            "\n",
            "Epoch 00001: val_accuracy improved from -inf to 0.70000, saving model to Model.h5\n",
            "Epoch 2/20\n",
            "34/34 [==============================] - 6s 187ms/step - loss: 0.8930 - accuracy: 0.8972 - val_loss: 0.7477 - val_accuracy: 0.8000\n",
            "\n",
            "Epoch 00002: val_accuracy improved from 0.70000 to 0.80000, saving model to Model.h5\n",
            "Epoch 3/20\n",
            "34/34 [==============================] - 6s 185ms/step - loss: 0.7425 - accuracy: 0.8906 - val_loss: 32.7597 - val_accuracy: 0.5000\n",
            "\n",
            "Epoch 00003: val_accuracy did not improve from 0.80000\n",
            "Epoch 4/20\n",
            "34/34 [==============================] - 7s 192ms/step - loss: 0.6705 - accuracy: 0.8971 - val_loss: 0.5008 - val_accuracy: 0.8333\n",
            "\n",
            "Epoch 00004: val_accuracy improved from 0.80000 to 0.83333, saving model to Model.h5\n",
            "Epoch 5/20\n",
            "34/34 [==============================] - 6s 186ms/step - loss: 1.3483 - accuracy: 0.8830 - val_loss: 1696.0919 - val_accuracy: 0.3333\n",
            "\n",
            "Epoch 00005: val_accuracy did not improve from 0.83333\n",
            "Epoch 6/20\n",
            "34/34 [==============================] - 6s 186ms/step - loss: 0.9235 - accuracy: 0.8632 - val_loss: 19.0068 - val_accuracy: 0.7000\n",
            "\n",
            "Epoch 00006: val_accuracy did not improve from 0.83333\n",
            "Epoch 7/20\n",
            "34/34 [==============================] - 6s 187ms/step - loss: 0.5816 - accuracy: 0.8717 - val_loss: 5.6065 - val_accuracy: 0.8667\n",
            "\n",
            "Epoch 00007: val_accuracy improved from 0.83333 to 0.86667, saving model to Model.h5\n",
            "Epoch 8/20\n",
            "34/34 [==============================] - 6s 189ms/step - loss: 0.3836 - accuracy: 0.8869 - val_loss: 8.0422 - val_accuracy: 0.7000\n",
            "\n",
            "Epoch 00008: val_accuracy did not improve from 0.86667\n",
            "Epoch 9/20\n",
            "34/34 [==============================] - 6s 190ms/step - loss: 0.2812 - accuracy: 0.8998 - val_loss: 0.4617 - val_accuracy: 0.7333\n",
            "\n",
            "Epoch 00009: val_accuracy did not improve from 0.86667\n",
            "Epoch 10/20\n",
            "34/34 [==============================] - 6s 185ms/step - loss: 0.6409 - accuracy: 0.9050 - val_loss: 17.1439 - val_accuracy: 0.5667\n",
            "\n",
            "Epoch 00010: val_accuracy did not improve from 0.86667\n",
            "Epoch 11/20\n",
            "34/34 [==============================] - 6s 188ms/step - loss: 0.4436 - accuracy: 0.9173 - val_loss: 7.9961 - val_accuracy: 0.7333\n",
            "\n",
            "Epoch 00011: val_accuracy did not improve from 0.86667\n",
            "Epoch 12/20\n",
            "34/34 [==============================] - 6s 191ms/step - loss: 0.2888 - accuracy: 0.9237 - val_loss: 0.3989 - val_accuracy: 0.7667\n",
            "Restoring model weights from the end of the best epoch\n",
            "\n",
            "Epoch 00012: val_accuracy did not improve from 0.86667\n",
            "\n",
            "Epoch 00012: ReduceLROnPlateau reducing learning rate to 0.00020000000949949026.\n",
            "Epoch 00012: early stopping\n"
          ],
          "name": "stdout"
        }
      ]
    },
    {
      "cell_type": "markdown",
      "metadata": {
        "id": "QjhAJvoRuS63",
        "colab_type": "text"
      },
      "source": [
        "# Nesterov Accelerated Gradient Descent"
      ]
    },
    {
      "cell_type": "code",
      "metadata": {
        "id": "Um3FvEVvt4pn",
        "colab_type": "code",
        "colab": {}
      },
      "source": [
        "from keras.optimizers import SGD\n",
        "\n",
        "checkpoint= ModelCheckpoint(\"Model.h5\", monitor=\"val_accuracy\",mode='max', save_best_only=True,verbose=1)\n",
        "\n",
        "earlystop= EarlyStopping(monitor=\"val_accuracy\",min_delta=0,patience=5,verbose=1,restore_best_weights=True)\n",
        "\n",
        "reduce_lr= ReduceLROnPlateau(monitor=\"val_accuracy\", factor=0.2, patience=5, verbose=1, min_delta=0.001)\n",
        "\n",
        "#putiing callbacks into callback list\n",
        "callbacks = [earlystop, checkpoint, reduce_lr]\n",
        "momentums = [0.0, 0.5, 0.9, 0.99]\n",
        "opt = SGD(lr=0.001, momentum=0.0, decay=0.01,nesterov=True)\n",
        "#we use a very small learning rate\n",
        "model.compile(loss = 'categorical_crossentropy',\n",
        "              optimizer=opt,\n",
        "              metrics=['accuracy'])"
      ],
      "execution_count": null,
      "outputs": []
    },
    {
      "cell_type": "code",
      "metadata": {
        "id": "RtjDQnwvwqzH",
        "colab_type": "code",
        "colab": {
          "base_uri": "https://localhost:8080/",
          "height": 585
        },
        "outputId": "b22c6eb3-2ff6-4cb7-d88e-96eb9c42ab53"
      },
      "source": [
        "history=model.fit_generator(\n",
        "    traindata,\n",
        "    steps_per_epoch=nb_train_samples//batch_size,\n",
        "    epochs=epochs,\n",
        "    validation_data=testdata,\n",
        "    validation_steps=nb_validation_samples//batch_size,\n",
        "    callbacks = [earlystop, checkpoint, reduce_lr])"
      ],
      "execution_count": null,
      "outputs": [
        {
          "output_type": "stream",
          "text": [
            "Epoch 1/20\n",
            "34/34 [==============================] - 7s 197ms/step - loss: 0.2848 - accuracy: 0.9123 - val_loss: 8.6605 - val_accuracy: 0.9000\n",
            "\n",
            "Epoch 00001: val_accuracy improved from -inf to 0.90000, saving model to Model.h5\n",
            "Epoch 2/20\n",
            "34/34 [==============================] - 5s 152ms/step - loss: 0.4131 - accuracy: 0.8915 - val_loss: 0.2333 - val_accuracy: 0.9667\n",
            "\n",
            "Epoch 00002: val_accuracy improved from 0.90000 to 0.96667, saving model to Model.h5\n",
            "Epoch 3/20\n",
            "34/34 [==============================] - 5s 149ms/step - loss: 0.2628 - accuracy: 0.9142 - val_loss: 66.9409 - val_accuracy: 0.5000\n",
            "\n",
            "Epoch 00003: val_accuracy did not improve from 0.96667\n",
            "Epoch 4/20\n",
            "34/34 [==============================] - 5s 151ms/step - loss: 0.3475 - accuracy: 0.9160 - val_loss: 12.4678 - val_accuracy: 0.8000\n",
            "\n",
            "Epoch 00004: val_accuracy did not improve from 0.96667\n",
            "Epoch 5/20\n",
            "34/34 [==============================] - 5s 152ms/step - loss: 0.2831 - accuracy: 0.9210 - val_loss: 5.4653 - val_accuracy: 0.8667\n",
            "\n",
            "Epoch 00005: val_accuracy did not improve from 0.96667\n",
            "Epoch 6/20\n",
            "34/34 [==============================] - 5s 151ms/step - loss: 0.3417 - accuracy: 0.9113 - val_loss: 3.8567 - val_accuracy: 0.8667\n",
            "\n",
            "Epoch 00006: val_accuracy did not improve from 0.96667\n",
            "Epoch 7/20\n",
            "34/34 [==============================] - 5s 153ms/step - loss: 0.1993 - accuracy: 0.9292 - val_loss: 1.1499 - val_accuracy: 0.8667\n",
            "Restoring model weights from the end of the best epoch\n",
            "\n",
            "Epoch 00007: val_accuracy did not improve from 0.96667\n",
            "\n",
            "Epoch 00007: ReduceLROnPlateau reducing learning rate to 0.00020000000949949026.\n",
            "Epoch 00007: early stopping\n"
          ],
          "name": "stdout"
        }
      ]
    },
    {
      "cell_type": "code",
      "metadata": {
        "id": "MW5RbFOew3o9",
        "colab_type": "code",
        "colab": {}
      },
      "source": [
        ""
      ],
      "execution_count": null,
      "outputs": []
    }
  ]
}