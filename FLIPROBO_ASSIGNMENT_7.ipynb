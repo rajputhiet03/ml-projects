{
  "nbformat": 4,
  "nbformat_minor": 0,
  "metadata": {
    "colab": {
      "name": "FLIPROBO ASSIGNMENT 7.ipynb",
      "provenance": [],
      "collapsed_sections": []
    },
    "kernelspec": {
      "name": "python3",
      "display_name": "Python 3"
    },
    "accelerator": "TPU"
  },
  "cells": [
    {
      "cell_type": "code",
      "metadata": {
        "id": "fO4SqODInYv2",
        "colab_type": "code",
        "colab": {}
      },
      "source": [
        "import nltk\n",
        "\n",
        "from gensim.models import Word2Vec\n",
        "from nltk.corpus import stopwords\n",
        "import matplotlib.pyplot as plt\n",
        "%matplotlib inline\n",
        "import re\n",
        "\n",
        "paragraph = \"\"\"Life is beautiful, but not always. It has lots of problems you have to face everyday. \n",
        "               Don't worry though! All these problems make you strong, it gives you courage to stand alone in future.\n",
        "               Life is full of moments of joy, pleasure, success and comfort punctuated by misery, defeat, failures and problems.\n",
        "               There is no human being on Earth, strong, powerful, wise or rich, who has not experienced, struggle, suffering \n",
        "               or failure. You have to work hard to reach to the highest position. Life is full of paths, you just have to choose\n",
        "               the right one. Life is interesting and amazing like the stars up in the skies.With no doubt, \n",
        "               Life is beautiful and full of celebrations. However you should always be ready to face adversity and challenges. \n",
        "               There are difficult situations in life as well.Be careful!! You might get hurt too hard. \n",
        "               Life is sometimes too selfish to think about yourself. Then life is too hard to handle. \n",
        "               Falling in love! People tend to fall in love nowadays but i personally think the right time has to come... \n",
        "               You might also get hurt in Love. You might be broken-hearted as the people say.\n",
        "               Life is the place where people treat everyone differently, racism exists as well as bullying. \n",
        "               People tend to say bad stuff behind people's back. There are millions of people using horrible\n",
        "               words to call people, People use people everyday.Life is not that easy in my view. Sometimes,\n",
        "               all you want to do is sit alone and question yourself with hundred of questions.\n",
        "               Am I ugly as the people say?  Why don't i have any friends?\n",
        "               Why is the world so hard to live in? What do i look like in other peoples eyes?\n",
        "               Why don't i have the same colour of the skin as everyone else? :'( :'(How can i make others happy?\n",
        "               The questions does not stop. You ask those questions over and over again. When you don't have \n",
        "               any answers, you want to scream out loud or cry.Bullying? Racism? What are all these?, I don't understand \n",
        "               what people get from making others unhappy and upset. Every single one of you there in the world have your own beauty. \n",
        "               EVERYTHING IS BEAUTIFUL! So don't sit there saying i'm ugly say i'm PRETTY or HANDSOME, \n",
        "               Damnn care about what people say.\"RUMORS ARE SPREADED BY HATERS, CARRIED BY FOOLS AND ACCEPTED BY IDIOT!\"\n",
        "               Treat people the way they treat you! Be strong and face these saddo people around the world.\n",
        "               Haters are always around you. but it doesn't matter cause they are the ones who make you famous. \n",
        "               So what? If you're not beautiful, pretty, you have life and thats the most of it. Not everyone \n",
        "               gets to live and those who do are sooo lucky! People die, life changes, people come and go but guess \n",
        "               what you have to go with it however much it hurts . You miss people who were in your life, that's the\n",
        "               way they remind you that they still exist in your life. I know the feeling of that, I miss my handsome uncle\n",
        "               as well but i know we can never meet again. I know he is not here anymore, So what i will still love him the\n",
        "               most in my life. People say forget the past, life in present and save the future for tomorrow. I think that\n",
        "               is true, but i cannot forget my past, it has all those beautiful moments which mean the world to me. It is\n",
        "               the hardest thing but i just try try try and try. Don't give up or lose hope on anything.\n",
        "               Live your life however you want  Have fun! Dance as much you want! Take risks.. Trust yourself. Believe in yourself....\n",
        "               Damn care about haters! There is so much to do so stop faffing about.Life is too short to save it for tomorrow.\n",
        "               Don't give up and Hope always! Love Forever!! Do what your heart says... DREAM AS MUCH AS YOU LIKE AND MAKE IT TRUE!\n",
        "               YOU ONLY LIVE ONCE SO MAKE THE MOST OF IT ! <3 Learn lessons from the mistakes....\n",
        "               From this i learned awful a lot things. I started to enjoy life instead of listening to sad songs and\n",
        "               sitting alone. Happiness came into my life but there is sadness as well. Everyday i used to dress in \n",
        "               dull clothes now i love colours i used to hate going out of my house but guess what all these sound outside\n",
        "               sounds attractive than sad songs. Rock music is what i listen to now, sometimes sad as well All things in \n",
        "               life depends on what your mood and the situation.\"\"\""
      ],
      "execution_count": 1,
      "outputs": []
    },
    {
      "cell_type": "code",
      "metadata": {
        "id": "pGcG45mirBxu",
        "colab_type": "code",
        "colab": {}
      },
      "source": [
        "# Preprocessing the data  (for more details on regular expression visit https://regexr.com/)\n",
        "text = re.sub(r'\\[[0-9]*\\]',' ',paragraph)\n",
        "text = re.sub(r'\\s+',' ',text)\n",
        "\n",
        "text = text.lower()\n",
        "\n",
        "text = re.sub(r'\\d',' ',text)\n",
        "text = re.sub(r'\\s+',' ',text)"
      ],
      "execution_count": 2,
      "outputs": []
    },
    {
      "cell_type": "code",
      "metadata": {
        "id": "KudHFVAsrQDA",
        "colab_type": "code",
        "colab": {
          "base_uri": "https://localhost:8080/",
          "height": 1000
        },
        "outputId": "65648a8b-e931-4b21-8040-ec1bb220d4c8"
      },
      "source": [
        "import nltk\n",
        "nltk.download('punkt')\n",
        "# Preparing the dataset\n",
        "sentences = nltk.sent_tokenize(text)\n",
        "sentences"
      ],
      "execution_count": 3,
      "outputs": [
        {
          "output_type": "stream",
          "text": [
            "[nltk_data] Downloading package punkt to /root/nltk_data...\n",
            "[nltk_data]   Unzipping tokenizers/punkt.zip.\n"
          ],
          "name": "stdout"
        },
        {
          "output_type": "execute_result",
          "data": {
            "text/plain": [
              "['life is beautiful, but not always.',\n",
              " 'it has lots of problems you have to face everyday.',\n",
              " \"don't worry though!\",\n",
              " 'all these problems make you strong, it gives you courage to stand alone in future.',\n",
              " 'life is full of moments of joy, pleasure, success and comfort punctuated by misery, defeat, failures and problems.',\n",
              " 'there is no human being on earth, strong, powerful, wise or rich, who has not experienced, struggle, suffering or failure.',\n",
              " 'you have to work hard to reach to the highest position.',\n",
              " 'life is full of paths, you just have to choose the right one.',\n",
              " 'life is interesting and amazing like the stars up in the skies.with no doubt, life is beautiful and full of celebrations.',\n",
              " 'however you should always be ready to face adversity and challenges.',\n",
              " 'there are difficult situations in life as well.be careful!!',\n",
              " 'you might get hurt too hard.',\n",
              " 'life is sometimes too selfish to think about yourself.',\n",
              " 'then life is too hard to handle.',\n",
              " 'falling in love!',\n",
              " 'people tend to fall in love nowadays but i personally think the right time has to come... you might also get hurt in love.',\n",
              " 'you might be broken-hearted as the people say.',\n",
              " 'life is the place where people treat everyone differently, racism exists as well as bullying.',\n",
              " \"people tend to say bad stuff behind people's back.\",\n",
              " 'there are millions of people using horrible words to call people, people use people everyday.life is not that easy in my view.',\n",
              " 'sometimes, all you want to do is sit alone and question yourself with hundred of questions.',\n",
              " 'am i ugly as the people say?',\n",
              " \"why don't i have any friends?\",\n",
              " 'why is the world so hard to live in?',\n",
              " 'what do i look like in other peoples eyes?',\n",
              " \"why don't i have the same colour of the skin as everyone else?\",\n",
              " \":'( :'(how can i make others happy?\",\n",
              " 'the questions does not stop.',\n",
              " 'you ask those questions over and over again.',\n",
              " \"when you don't have any answers, you want to scream out loud or cry.bullying?\",\n",
              " 'racism?',\n",
              " \"what are all these?, i don't understand what people get from making others unhappy and upset.\",\n",
              " 'every single one of you there in the world have your own beauty.',\n",
              " 'everything is beautiful!',\n",
              " \"so don't sit there saying i'm ugly say i'm pretty or handsome, damnn care about what people say.\",\n",
              " '\"rumors are spreaded by haters, carried by fools and accepted by idiot!\"',\n",
              " 'treat people the way they treat you!',\n",
              " 'be strong and face these saddo people around the world.',\n",
              " 'haters are always around you.',\n",
              " \"but it doesn't matter cause they are the ones who make you famous.\",\n",
              " 'so what?',\n",
              " \"if you're not beautiful, pretty, you have life and thats the most of it.\",\n",
              " 'not everyone gets to live and those who do are sooo lucky!',\n",
              " 'people die, life changes, people come and go but guess what you have to go with it however much it hurts .',\n",
              " \"you miss people who were in your life, that's the way they remind you that they still exist in your life.\",\n",
              " 'i know the feeling of that, i miss my handsome uncle as well but i know we can never meet again.',\n",
              " 'i know he is not here anymore, so what i will still love him the most in my life.',\n",
              " 'people say forget the past, life in present and save the future for tomorrow.',\n",
              " 'i think that is true, but i cannot forget my past, it has all those beautiful moments which mean the world to me.',\n",
              " 'it is the hardest thing but i just try try try and try.',\n",
              " \"don't give up or lose hope on anything.\",\n",
              " 'live your life however you want have fun!',\n",
              " 'dance as much you want!',\n",
              " 'take risks.. trust yourself.',\n",
              " 'believe in yourself.... damn care about haters!',\n",
              " 'there is so much to do so stop faffing about.life is too short to save it for tomorrow.',\n",
              " \"don't give up and hope always!\",\n",
              " 'love forever!!',\n",
              " 'do what your heart says... dream as much as you like and make it true!',\n",
              " 'you only live once so make the most of it !',\n",
              " '< learn lessons from the mistakes.... from this i learned awful a lot things.',\n",
              " 'i started to enjoy life instead of listening to sad songs and sitting alone.',\n",
              " 'happiness came into my life but there is sadness as well.',\n",
              " 'everyday i used to dress in dull clothes now i love colours i used to hate going out of my house but guess what all these sound outside sounds attractive than sad songs.',\n",
              " 'rock music is what i listen to now, sometimes sad as well all things in life depends on what your mood and the situation.']"
            ]
          },
          "metadata": {
            "tags": []
          },
          "execution_count": 3
        }
      ]
    },
    {
      "cell_type": "code",
      "metadata": {
        "id": "kqxtkWturaER",
        "colab_type": "code",
        "colab": {}
      },
      "source": [
        "sent_word = [nltk.word_tokenize(sentence) for sentence in sentences]"
      ],
      "execution_count": 4,
      "outputs": []
    },
    {
      "cell_type": "code",
      "metadata": {
        "id": "YqchmsEMsNMr",
        "colab_type": "code",
        "colab": {
          "base_uri": "https://localhost:8080/",
          "height": 1000
        },
        "outputId": "6f657deb-ead6-46f5-a510-9e3f87585f74"
      },
      "source": [
        "sent_word"
      ],
      "execution_count": 5,
      "outputs": [
        {
          "output_type": "execute_result",
          "data": {
            "text/plain": [
              "[['life', 'is', 'beautiful', ',', 'but', 'not', 'always', '.'],\n",
              " ['it',\n",
              "  'has',\n",
              "  'lots',\n",
              "  'of',\n",
              "  'problems',\n",
              "  'you',\n",
              "  'have',\n",
              "  'to',\n",
              "  'face',\n",
              "  'everyday',\n",
              "  '.'],\n",
              " ['do', \"n't\", 'worry', 'though', '!'],\n",
              " ['all',\n",
              "  'these',\n",
              "  'problems',\n",
              "  'make',\n",
              "  'you',\n",
              "  'strong',\n",
              "  ',',\n",
              "  'it',\n",
              "  'gives',\n",
              "  'you',\n",
              "  'courage',\n",
              "  'to',\n",
              "  'stand',\n",
              "  'alone',\n",
              "  'in',\n",
              "  'future',\n",
              "  '.'],\n",
              " ['life',\n",
              "  'is',\n",
              "  'full',\n",
              "  'of',\n",
              "  'moments',\n",
              "  'of',\n",
              "  'joy',\n",
              "  ',',\n",
              "  'pleasure',\n",
              "  ',',\n",
              "  'success',\n",
              "  'and',\n",
              "  'comfort',\n",
              "  'punctuated',\n",
              "  'by',\n",
              "  'misery',\n",
              "  ',',\n",
              "  'defeat',\n",
              "  ',',\n",
              "  'failures',\n",
              "  'and',\n",
              "  'problems',\n",
              "  '.'],\n",
              " ['there',\n",
              "  'is',\n",
              "  'no',\n",
              "  'human',\n",
              "  'being',\n",
              "  'on',\n",
              "  'earth',\n",
              "  ',',\n",
              "  'strong',\n",
              "  ',',\n",
              "  'powerful',\n",
              "  ',',\n",
              "  'wise',\n",
              "  'or',\n",
              "  'rich',\n",
              "  ',',\n",
              "  'who',\n",
              "  'has',\n",
              "  'not',\n",
              "  'experienced',\n",
              "  ',',\n",
              "  'struggle',\n",
              "  ',',\n",
              "  'suffering',\n",
              "  'or',\n",
              "  'failure',\n",
              "  '.'],\n",
              " ['you',\n",
              "  'have',\n",
              "  'to',\n",
              "  'work',\n",
              "  'hard',\n",
              "  'to',\n",
              "  'reach',\n",
              "  'to',\n",
              "  'the',\n",
              "  'highest',\n",
              "  'position',\n",
              "  '.'],\n",
              " ['life',\n",
              "  'is',\n",
              "  'full',\n",
              "  'of',\n",
              "  'paths',\n",
              "  ',',\n",
              "  'you',\n",
              "  'just',\n",
              "  'have',\n",
              "  'to',\n",
              "  'choose',\n",
              "  'the',\n",
              "  'right',\n",
              "  'one',\n",
              "  '.'],\n",
              " ['life',\n",
              "  'is',\n",
              "  'interesting',\n",
              "  'and',\n",
              "  'amazing',\n",
              "  'like',\n",
              "  'the',\n",
              "  'stars',\n",
              "  'up',\n",
              "  'in',\n",
              "  'the',\n",
              "  'skies.with',\n",
              "  'no',\n",
              "  'doubt',\n",
              "  ',',\n",
              "  'life',\n",
              "  'is',\n",
              "  'beautiful',\n",
              "  'and',\n",
              "  'full',\n",
              "  'of',\n",
              "  'celebrations',\n",
              "  '.'],\n",
              " ['however',\n",
              "  'you',\n",
              "  'should',\n",
              "  'always',\n",
              "  'be',\n",
              "  'ready',\n",
              "  'to',\n",
              "  'face',\n",
              "  'adversity',\n",
              "  'and',\n",
              "  'challenges',\n",
              "  '.'],\n",
              " ['there',\n",
              "  'are',\n",
              "  'difficult',\n",
              "  'situations',\n",
              "  'in',\n",
              "  'life',\n",
              "  'as',\n",
              "  'well.be',\n",
              "  'careful',\n",
              "  '!',\n",
              "  '!'],\n",
              " ['you', 'might', 'get', 'hurt', 'too', 'hard', '.'],\n",
              " ['life',\n",
              "  'is',\n",
              "  'sometimes',\n",
              "  'too',\n",
              "  'selfish',\n",
              "  'to',\n",
              "  'think',\n",
              "  'about',\n",
              "  'yourself',\n",
              "  '.'],\n",
              " ['then', 'life', 'is', 'too', 'hard', 'to', 'handle', '.'],\n",
              " ['falling', 'in', 'love', '!'],\n",
              " ['people',\n",
              "  'tend',\n",
              "  'to',\n",
              "  'fall',\n",
              "  'in',\n",
              "  'love',\n",
              "  'nowadays',\n",
              "  'but',\n",
              "  'i',\n",
              "  'personally',\n",
              "  'think',\n",
              "  'the',\n",
              "  'right',\n",
              "  'time',\n",
              "  'has',\n",
              "  'to',\n",
              "  'come',\n",
              "  '...',\n",
              "  'you',\n",
              "  'might',\n",
              "  'also',\n",
              "  'get',\n",
              "  'hurt',\n",
              "  'in',\n",
              "  'love',\n",
              "  '.'],\n",
              " ['you', 'might', 'be', 'broken-hearted', 'as', 'the', 'people', 'say', '.'],\n",
              " ['life',\n",
              "  'is',\n",
              "  'the',\n",
              "  'place',\n",
              "  'where',\n",
              "  'people',\n",
              "  'treat',\n",
              "  'everyone',\n",
              "  'differently',\n",
              "  ',',\n",
              "  'racism',\n",
              "  'exists',\n",
              "  'as',\n",
              "  'well',\n",
              "  'as',\n",
              "  'bullying',\n",
              "  '.'],\n",
              " ['people',\n",
              "  'tend',\n",
              "  'to',\n",
              "  'say',\n",
              "  'bad',\n",
              "  'stuff',\n",
              "  'behind',\n",
              "  'people',\n",
              "  \"'s\",\n",
              "  'back',\n",
              "  '.'],\n",
              " ['there',\n",
              "  'are',\n",
              "  'millions',\n",
              "  'of',\n",
              "  'people',\n",
              "  'using',\n",
              "  'horrible',\n",
              "  'words',\n",
              "  'to',\n",
              "  'call',\n",
              "  'people',\n",
              "  ',',\n",
              "  'people',\n",
              "  'use',\n",
              "  'people',\n",
              "  'everyday.life',\n",
              "  'is',\n",
              "  'not',\n",
              "  'that',\n",
              "  'easy',\n",
              "  'in',\n",
              "  'my',\n",
              "  'view',\n",
              "  '.'],\n",
              " ['sometimes',\n",
              "  ',',\n",
              "  'all',\n",
              "  'you',\n",
              "  'want',\n",
              "  'to',\n",
              "  'do',\n",
              "  'is',\n",
              "  'sit',\n",
              "  'alone',\n",
              "  'and',\n",
              "  'question',\n",
              "  'yourself',\n",
              "  'with',\n",
              "  'hundred',\n",
              "  'of',\n",
              "  'questions',\n",
              "  '.'],\n",
              " ['am', 'i', 'ugly', 'as', 'the', 'people', 'say', '?'],\n",
              " ['why', 'do', \"n't\", 'i', 'have', 'any', 'friends', '?'],\n",
              " ['why', 'is', 'the', 'world', 'so', 'hard', 'to', 'live', 'in', '?'],\n",
              " ['what', 'do', 'i', 'look', 'like', 'in', 'other', 'peoples', 'eyes', '?'],\n",
              " ['why',\n",
              "  'do',\n",
              "  \"n't\",\n",
              "  'i',\n",
              "  'have',\n",
              "  'the',\n",
              "  'same',\n",
              "  'colour',\n",
              "  'of',\n",
              "  'the',\n",
              "  'skin',\n",
              "  'as',\n",
              "  'everyone',\n",
              "  'else',\n",
              "  '?'],\n",
              " [':',\n",
              "  \"'\",\n",
              "  '(',\n",
              "  ':',\n",
              "  \"'\",\n",
              "  '(',\n",
              "  'how',\n",
              "  'can',\n",
              "  'i',\n",
              "  'make',\n",
              "  'others',\n",
              "  'happy',\n",
              "  '?'],\n",
              " ['the', 'questions', 'does', 'not', 'stop', '.'],\n",
              " ['you', 'ask', 'those', 'questions', 'over', 'and', 'over', 'again', '.'],\n",
              " ['when',\n",
              "  'you',\n",
              "  'do',\n",
              "  \"n't\",\n",
              "  'have',\n",
              "  'any',\n",
              "  'answers',\n",
              "  ',',\n",
              "  'you',\n",
              "  'want',\n",
              "  'to',\n",
              "  'scream',\n",
              "  'out',\n",
              "  'loud',\n",
              "  'or',\n",
              "  'cry.bullying',\n",
              "  '?'],\n",
              " ['racism', '?'],\n",
              " ['what',\n",
              "  'are',\n",
              "  'all',\n",
              "  'these',\n",
              "  '?',\n",
              "  ',',\n",
              "  'i',\n",
              "  'do',\n",
              "  \"n't\",\n",
              "  'understand',\n",
              "  'what',\n",
              "  'people',\n",
              "  'get',\n",
              "  'from',\n",
              "  'making',\n",
              "  'others',\n",
              "  'unhappy',\n",
              "  'and',\n",
              "  'upset',\n",
              "  '.'],\n",
              " ['every',\n",
              "  'single',\n",
              "  'one',\n",
              "  'of',\n",
              "  'you',\n",
              "  'there',\n",
              "  'in',\n",
              "  'the',\n",
              "  'world',\n",
              "  'have',\n",
              "  'your',\n",
              "  'own',\n",
              "  'beauty',\n",
              "  '.'],\n",
              " ['everything', 'is', 'beautiful', '!'],\n",
              " ['so',\n",
              "  'do',\n",
              "  \"n't\",\n",
              "  'sit',\n",
              "  'there',\n",
              "  'saying',\n",
              "  'i',\n",
              "  \"'m\",\n",
              "  'ugly',\n",
              "  'say',\n",
              "  'i',\n",
              "  \"'m\",\n",
              "  'pretty',\n",
              "  'or',\n",
              "  'handsome',\n",
              "  ',',\n",
              "  'damnn',\n",
              "  'care',\n",
              "  'about',\n",
              "  'what',\n",
              "  'people',\n",
              "  'say',\n",
              "  '.'],\n",
              " ['``',\n",
              "  'rumors',\n",
              "  'are',\n",
              "  'spreaded',\n",
              "  'by',\n",
              "  'haters',\n",
              "  ',',\n",
              "  'carried',\n",
              "  'by',\n",
              "  'fools',\n",
              "  'and',\n",
              "  'accepted',\n",
              "  'by',\n",
              "  'idiot',\n",
              "  '!',\n",
              "  \"''\"],\n",
              " ['treat', 'people', 'the', 'way', 'they', 'treat', 'you', '!'],\n",
              " ['be',\n",
              "  'strong',\n",
              "  'and',\n",
              "  'face',\n",
              "  'these',\n",
              "  'saddo',\n",
              "  'people',\n",
              "  'around',\n",
              "  'the',\n",
              "  'world',\n",
              "  '.'],\n",
              " ['haters', 'are', 'always', 'around', 'you', '.'],\n",
              " ['but',\n",
              "  'it',\n",
              "  'does',\n",
              "  \"n't\",\n",
              "  'matter',\n",
              "  'cause',\n",
              "  'they',\n",
              "  'are',\n",
              "  'the',\n",
              "  'ones',\n",
              "  'who',\n",
              "  'make',\n",
              "  'you',\n",
              "  'famous',\n",
              "  '.'],\n",
              " ['so', 'what', '?'],\n",
              " ['if',\n",
              "  'you',\n",
              "  \"'re\",\n",
              "  'not',\n",
              "  'beautiful',\n",
              "  ',',\n",
              "  'pretty',\n",
              "  ',',\n",
              "  'you',\n",
              "  'have',\n",
              "  'life',\n",
              "  'and',\n",
              "  'thats',\n",
              "  'the',\n",
              "  'most',\n",
              "  'of',\n",
              "  'it',\n",
              "  '.'],\n",
              " ['not',\n",
              "  'everyone',\n",
              "  'gets',\n",
              "  'to',\n",
              "  'live',\n",
              "  'and',\n",
              "  'those',\n",
              "  'who',\n",
              "  'do',\n",
              "  'are',\n",
              "  'sooo',\n",
              "  'lucky',\n",
              "  '!'],\n",
              " ['people',\n",
              "  'die',\n",
              "  ',',\n",
              "  'life',\n",
              "  'changes',\n",
              "  ',',\n",
              "  'people',\n",
              "  'come',\n",
              "  'and',\n",
              "  'go',\n",
              "  'but',\n",
              "  'guess',\n",
              "  'what',\n",
              "  'you',\n",
              "  'have',\n",
              "  'to',\n",
              "  'go',\n",
              "  'with',\n",
              "  'it',\n",
              "  'however',\n",
              "  'much',\n",
              "  'it',\n",
              "  'hurts',\n",
              "  '.'],\n",
              " ['you',\n",
              "  'miss',\n",
              "  'people',\n",
              "  'who',\n",
              "  'were',\n",
              "  'in',\n",
              "  'your',\n",
              "  'life',\n",
              "  ',',\n",
              "  'that',\n",
              "  \"'s\",\n",
              "  'the',\n",
              "  'way',\n",
              "  'they',\n",
              "  'remind',\n",
              "  'you',\n",
              "  'that',\n",
              "  'they',\n",
              "  'still',\n",
              "  'exist',\n",
              "  'in',\n",
              "  'your',\n",
              "  'life',\n",
              "  '.'],\n",
              " ['i',\n",
              "  'know',\n",
              "  'the',\n",
              "  'feeling',\n",
              "  'of',\n",
              "  'that',\n",
              "  ',',\n",
              "  'i',\n",
              "  'miss',\n",
              "  'my',\n",
              "  'handsome',\n",
              "  'uncle',\n",
              "  'as',\n",
              "  'well',\n",
              "  'but',\n",
              "  'i',\n",
              "  'know',\n",
              "  'we',\n",
              "  'can',\n",
              "  'never',\n",
              "  'meet',\n",
              "  'again',\n",
              "  '.'],\n",
              " ['i',\n",
              "  'know',\n",
              "  'he',\n",
              "  'is',\n",
              "  'not',\n",
              "  'here',\n",
              "  'anymore',\n",
              "  ',',\n",
              "  'so',\n",
              "  'what',\n",
              "  'i',\n",
              "  'will',\n",
              "  'still',\n",
              "  'love',\n",
              "  'him',\n",
              "  'the',\n",
              "  'most',\n",
              "  'in',\n",
              "  'my',\n",
              "  'life',\n",
              "  '.'],\n",
              " ['people',\n",
              "  'say',\n",
              "  'forget',\n",
              "  'the',\n",
              "  'past',\n",
              "  ',',\n",
              "  'life',\n",
              "  'in',\n",
              "  'present',\n",
              "  'and',\n",
              "  'save',\n",
              "  'the',\n",
              "  'future',\n",
              "  'for',\n",
              "  'tomorrow',\n",
              "  '.'],\n",
              " ['i',\n",
              "  'think',\n",
              "  'that',\n",
              "  'is',\n",
              "  'true',\n",
              "  ',',\n",
              "  'but',\n",
              "  'i',\n",
              "  'can',\n",
              "  'not',\n",
              "  'forget',\n",
              "  'my',\n",
              "  'past',\n",
              "  ',',\n",
              "  'it',\n",
              "  'has',\n",
              "  'all',\n",
              "  'those',\n",
              "  'beautiful',\n",
              "  'moments',\n",
              "  'which',\n",
              "  'mean',\n",
              "  'the',\n",
              "  'world',\n",
              "  'to',\n",
              "  'me',\n",
              "  '.'],\n",
              " ['it',\n",
              "  'is',\n",
              "  'the',\n",
              "  'hardest',\n",
              "  'thing',\n",
              "  'but',\n",
              "  'i',\n",
              "  'just',\n",
              "  'try',\n",
              "  'try',\n",
              "  'try',\n",
              "  'and',\n",
              "  'try',\n",
              "  '.'],\n",
              " ['do', \"n't\", 'give', 'up', 'or', 'lose', 'hope', 'on', 'anything', '.'],\n",
              " ['live', 'your', 'life', 'however', 'you', 'want', 'have', 'fun', '!'],\n",
              " ['dance', 'as', 'much', 'you', 'want', '!'],\n",
              " ['take', 'risks..', 'trust', 'yourself', '.'],\n",
              " ['believe',\n",
              "  'in',\n",
              "  'yourself',\n",
              "  '...',\n",
              "  '.',\n",
              "  'damn',\n",
              "  'care',\n",
              "  'about',\n",
              "  'haters',\n",
              "  '!'],\n",
              " ['there',\n",
              "  'is',\n",
              "  'so',\n",
              "  'much',\n",
              "  'to',\n",
              "  'do',\n",
              "  'so',\n",
              "  'stop',\n",
              "  'faffing',\n",
              "  'about.life',\n",
              "  'is',\n",
              "  'too',\n",
              "  'short',\n",
              "  'to',\n",
              "  'save',\n",
              "  'it',\n",
              "  'for',\n",
              "  'tomorrow',\n",
              "  '.'],\n",
              " ['do', \"n't\", 'give', 'up', 'and', 'hope', 'always', '!'],\n",
              " ['love', 'forever', '!', '!'],\n",
              " ['do',\n",
              "  'what',\n",
              "  'your',\n",
              "  'heart',\n",
              "  'says',\n",
              "  '...',\n",
              "  'dream',\n",
              "  'as',\n",
              "  'much',\n",
              "  'as',\n",
              "  'you',\n",
              "  'like',\n",
              "  'and',\n",
              "  'make',\n",
              "  'it',\n",
              "  'true',\n",
              "  '!'],\n",
              " ['you', 'only', 'live', 'once', 'so', 'make', 'the', 'most', 'of', 'it', '!'],\n",
              " ['<',\n",
              "  'learn',\n",
              "  'lessons',\n",
              "  'from',\n",
              "  'the',\n",
              "  'mistakes',\n",
              "  '...',\n",
              "  '.',\n",
              "  'from',\n",
              "  'this',\n",
              "  'i',\n",
              "  'learned',\n",
              "  'awful',\n",
              "  'a',\n",
              "  'lot',\n",
              "  'things',\n",
              "  '.'],\n",
              " ['i',\n",
              "  'started',\n",
              "  'to',\n",
              "  'enjoy',\n",
              "  'life',\n",
              "  'instead',\n",
              "  'of',\n",
              "  'listening',\n",
              "  'to',\n",
              "  'sad',\n",
              "  'songs',\n",
              "  'and',\n",
              "  'sitting',\n",
              "  'alone',\n",
              "  '.'],\n",
              " ['happiness',\n",
              "  'came',\n",
              "  'into',\n",
              "  'my',\n",
              "  'life',\n",
              "  'but',\n",
              "  'there',\n",
              "  'is',\n",
              "  'sadness',\n",
              "  'as',\n",
              "  'well',\n",
              "  '.'],\n",
              " ['everyday',\n",
              "  'i',\n",
              "  'used',\n",
              "  'to',\n",
              "  'dress',\n",
              "  'in',\n",
              "  'dull',\n",
              "  'clothes',\n",
              "  'now',\n",
              "  'i',\n",
              "  'love',\n",
              "  'colours',\n",
              "  'i',\n",
              "  'used',\n",
              "  'to',\n",
              "  'hate',\n",
              "  'going',\n",
              "  'out',\n",
              "  'of',\n",
              "  'my',\n",
              "  'house',\n",
              "  'but',\n",
              "  'guess',\n",
              "  'what',\n",
              "  'all',\n",
              "  'these',\n",
              "  'sound',\n",
              "  'outside',\n",
              "  'sounds',\n",
              "  'attractive',\n",
              "  'than',\n",
              "  'sad',\n",
              "  'songs',\n",
              "  '.'],\n",
              " ['rock',\n",
              "  'music',\n",
              "  'is',\n",
              "  'what',\n",
              "  'i',\n",
              "  'listen',\n",
              "  'to',\n",
              "  'now',\n",
              "  ',',\n",
              "  'sometimes',\n",
              "  'sad',\n",
              "  'as',\n",
              "  'well',\n",
              "  'all',\n",
              "  'things',\n",
              "  'in',\n",
              "  'life',\n",
              "  'depends',\n",
              "  'on',\n",
              "  'what',\n",
              "  'your',\n",
              "  'mood',\n",
              "  'and',\n",
              "  'the',\n",
              "  'situation',\n",
              "  '.']]"
            ]
          },
          "metadata": {
            "tags": []
          },
          "execution_count": 5
        }
      ]
    },
    {
      "cell_type": "code",
      "metadata": {
        "id": "a6N9uuhgsQNi",
        "colab_type": "code",
        "colab": {
          "base_uri": "https://localhost:8080/",
          "height": 54
        },
        "outputId": "f6a9125c-728d-4a34-b2c8-93d371adbbce"
      },
      "source": [
        "import nltk\n",
        "nltk.download('stopwords')\n",
        "#sent_word = [nltk.word_tokenize(sentence) for sentence in sentences]\n",
        "\n",
        "for i in range(len(sent_word)):\n",
        "    sent_word[i] = [word for word in sent_word[i]\n",
        "                    if word not in stopwords.words('english')]"
      ],
      "execution_count": 6,
      "outputs": [
        {
          "output_type": "stream",
          "text": [
            "[nltk_data] Downloading package stopwords to /root/nltk_data...\n",
            "[nltk_data]   Unzipping corpora/stopwords.zip.\n"
          ],
          "name": "stdout"
        }
      ]
    },
    {
      "cell_type": "code",
      "metadata": {
        "id": "msRGLz9wsc_O",
        "colab_type": "code",
        "colab": {
          "base_uri": "https://localhost:8080/",
          "height": 1000
        },
        "outputId": "d6f76e9d-9099-444a-c56a-ca72fd7e5a01"
      },
      "source": [
        "sent_word"
      ],
      "execution_count": 7,
      "outputs": [
        {
          "output_type": "execute_result",
          "data": {
            "text/plain": [
              "[['life', 'beautiful', ',', 'always', '.'],\n",
              " ['lots', 'problems', 'face', 'everyday', '.'],\n",
              " [\"n't\", 'worry', 'though', '!'],\n",
              " ['problems',\n",
              "  'make',\n",
              "  'strong',\n",
              "  ',',\n",
              "  'gives',\n",
              "  'courage',\n",
              "  'stand',\n",
              "  'alone',\n",
              "  'future',\n",
              "  '.'],\n",
              " ['life',\n",
              "  'full',\n",
              "  'moments',\n",
              "  'joy',\n",
              "  ',',\n",
              "  'pleasure',\n",
              "  ',',\n",
              "  'success',\n",
              "  'comfort',\n",
              "  'punctuated',\n",
              "  'misery',\n",
              "  ',',\n",
              "  'defeat',\n",
              "  ',',\n",
              "  'failures',\n",
              "  'problems',\n",
              "  '.'],\n",
              " ['human',\n",
              "  'earth',\n",
              "  ',',\n",
              "  'strong',\n",
              "  ',',\n",
              "  'powerful',\n",
              "  ',',\n",
              "  'wise',\n",
              "  'rich',\n",
              "  ',',\n",
              "  'experienced',\n",
              "  ',',\n",
              "  'struggle',\n",
              "  ',',\n",
              "  'suffering',\n",
              "  'failure',\n",
              "  '.'],\n",
              " ['work', 'hard', 'reach', 'highest', 'position', '.'],\n",
              " ['life', 'full', 'paths', ',', 'choose', 'right', 'one', '.'],\n",
              " ['life',\n",
              "  'interesting',\n",
              "  'amazing',\n",
              "  'like',\n",
              "  'stars',\n",
              "  'skies.with',\n",
              "  'doubt',\n",
              "  ',',\n",
              "  'life',\n",
              "  'beautiful',\n",
              "  'full',\n",
              "  'celebrations',\n",
              "  '.'],\n",
              " ['however', 'always', 'ready', 'face', 'adversity', 'challenges', '.'],\n",
              " ['difficult', 'situations', 'life', 'well.be', 'careful', '!', '!'],\n",
              " ['might', 'get', 'hurt', 'hard', '.'],\n",
              " ['life', 'sometimes', 'selfish', 'think', '.'],\n",
              " ['life', 'hard', 'handle', '.'],\n",
              " ['falling', 'love', '!'],\n",
              " ['people',\n",
              "  'tend',\n",
              "  'fall',\n",
              "  'love',\n",
              "  'nowadays',\n",
              "  'personally',\n",
              "  'think',\n",
              "  'right',\n",
              "  'time',\n",
              "  'come',\n",
              "  '...',\n",
              "  'might',\n",
              "  'also',\n",
              "  'get',\n",
              "  'hurt',\n",
              "  'love',\n",
              "  '.'],\n",
              " ['might', 'broken-hearted', 'people', 'say', '.'],\n",
              " ['life',\n",
              "  'place',\n",
              "  'people',\n",
              "  'treat',\n",
              "  'everyone',\n",
              "  'differently',\n",
              "  ',',\n",
              "  'racism',\n",
              "  'exists',\n",
              "  'well',\n",
              "  'bullying',\n",
              "  '.'],\n",
              " ['people',\n",
              "  'tend',\n",
              "  'say',\n",
              "  'bad',\n",
              "  'stuff',\n",
              "  'behind',\n",
              "  'people',\n",
              "  \"'s\",\n",
              "  'back',\n",
              "  '.'],\n",
              " ['millions',\n",
              "  'people',\n",
              "  'using',\n",
              "  'horrible',\n",
              "  'words',\n",
              "  'call',\n",
              "  'people',\n",
              "  ',',\n",
              "  'people',\n",
              "  'use',\n",
              "  'people',\n",
              "  'everyday.life',\n",
              "  'easy',\n",
              "  'view',\n",
              "  '.'],\n",
              " ['sometimes',\n",
              "  ',',\n",
              "  'want',\n",
              "  'sit',\n",
              "  'alone',\n",
              "  'question',\n",
              "  'hundred',\n",
              "  'questions',\n",
              "  '.'],\n",
              " ['ugly', 'people', 'say', '?'],\n",
              " [\"n't\", 'friends', '?'],\n",
              " ['world', 'hard', 'live', '?'],\n",
              " ['look', 'like', 'peoples', 'eyes', '?'],\n",
              " [\"n't\", 'colour', 'skin', 'everyone', 'else', '?'],\n",
              " [':', \"'\", '(', ':', \"'\", '(', 'make', 'others', 'happy', '?'],\n",
              " ['questions', 'stop', '.'],\n",
              " ['ask', 'questions', '.'],\n",
              " [\"n't\", 'answers', ',', 'want', 'scream', 'loud', 'cry.bullying', '?'],\n",
              " ['racism', '?'],\n",
              " ['?',\n",
              "  ',',\n",
              "  \"n't\",\n",
              "  'understand',\n",
              "  'people',\n",
              "  'get',\n",
              "  'making',\n",
              "  'others',\n",
              "  'unhappy',\n",
              "  'upset',\n",
              "  '.'],\n",
              " ['every', 'single', 'one', 'world', 'beauty', '.'],\n",
              " ['everything', 'beautiful', '!'],\n",
              " [\"n't\",\n",
              "  'sit',\n",
              "  'saying',\n",
              "  \"'m\",\n",
              "  'ugly',\n",
              "  'say',\n",
              "  \"'m\",\n",
              "  'pretty',\n",
              "  'handsome',\n",
              "  ',',\n",
              "  'damnn',\n",
              "  'care',\n",
              "  'people',\n",
              "  'say',\n",
              "  '.'],\n",
              " ['``',\n",
              "  'rumors',\n",
              "  'spreaded',\n",
              "  'haters',\n",
              "  ',',\n",
              "  'carried',\n",
              "  'fools',\n",
              "  'accepted',\n",
              "  'idiot',\n",
              "  '!',\n",
              "  \"''\"],\n",
              " ['treat', 'people', 'way', 'treat', '!'],\n",
              " ['strong', 'face', 'saddo', 'people', 'around', 'world', '.'],\n",
              " ['haters', 'always', 'around', '.'],\n",
              " [\"n't\", 'matter', 'cause', 'ones', 'make', 'famous', '.'],\n",
              " ['?'],\n",
              " [\"'re\", 'beautiful', ',', 'pretty', ',', 'life', 'thats', '.'],\n",
              " ['everyone', 'gets', 'live', 'sooo', 'lucky', '!'],\n",
              " ['people',\n",
              "  'die',\n",
              "  ',',\n",
              "  'life',\n",
              "  'changes',\n",
              "  ',',\n",
              "  'people',\n",
              "  'come',\n",
              "  'go',\n",
              "  'guess',\n",
              "  'go',\n",
              "  'however',\n",
              "  'much',\n",
              "  'hurts',\n",
              "  '.'],\n",
              " ['miss',\n",
              "  'people',\n",
              "  'life',\n",
              "  ',',\n",
              "  \"'s\",\n",
              "  'way',\n",
              "  'remind',\n",
              "  'still',\n",
              "  'exist',\n",
              "  'life',\n",
              "  '.'],\n",
              " ['know',\n",
              "  'feeling',\n",
              "  ',',\n",
              "  'miss',\n",
              "  'handsome',\n",
              "  'uncle',\n",
              "  'well',\n",
              "  'know',\n",
              "  'never',\n",
              "  'meet',\n",
              "  '.'],\n",
              " ['know', 'anymore', ',', 'still', 'love', 'life', '.'],\n",
              " ['people',\n",
              "  'say',\n",
              "  'forget',\n",
              "  'past',\n",
              "  ',',\n",
              "  'life',\n",
              "  'present',\n",
              "  'save',\n",
              "  'future',\n",
              "  'tomorrow',\n",
              "  '.'],\n",
              " ['think',\n",
              "  'true',\n",
              "  ',',\n",
              "  'forget',\n",
              "  'past',\n",
              "  ',',\n",
              "  'beautiful',\n",
              "  'moments',\n",
              "  'mean',\n",
              "  'world',\n",
              "  '.'],\n",
              " ['hardest', 'thing', 'try', 'try', 'try', 'try', '.'],\n",
              " [\"n't\", 'give', 'lose', 'hope', 'anything', '.'],\n",
              " ['live', 'life', 'however', 'want', 'fun', '!'],\n",
              " ['dance', 'much', 'want', '!'],\n",
              " ['take', 'risks..', 'trust', '.'],\n",
              " ['believe', '...', '.', 'damn', 'care', 'haters', '!'],\n",
              " ['much', 'stop', 'faffing', 'about.life', 'short', 'save', 'tomorrow', '.'],\n",
              " [\"n't\", 'give', 'hope', 'always', '!'],\n",
              " ['love', 'forever', '!', '!'],\n",
              " ['heart', 'says', '...', 'dream', 'much', 'like', 'make', 'true', '!'],\n",
              " ['live', 'make', '!'],\n",
              " ['<',\n",
              "  'learn',\n",
              "  'lessons',\n",
              "  'mistakes',\n",
              "  '...',\n",
              "  '.',\n",
              "  'learned',\n",
              "  'awful',\n",
              "  'lot',\n",
              "  'things',\n",
              "  '.'],\n",
              " ['started',\n",
              "  'enjoy',\n",
              "  'life',\n",
              "  'instead',\n",
              "  'listening',\n",
              "  'sad',\n",
              "  'songs',\n",
              "  'sitting',\n",
              "  'alone',\n",
              "  '.'],\n",
              " ['happiness', 'came', 'life', 'sadness', 'well', '.'],\n",
              " ['everyday',\n",
              "  'used',\n",
              "  'dress',\n",
              "  'dull',\n",
              "  'clothes',\n",
              "  'love',\n",
              "  'colours',\n",
              "  'used',\n",
              "  'hate',\n",
              "  'going',\n",
              "  'house',\n",
              "  'guess',\n",
              "  'sound',\n",
              "  'outside',\n",
              "  'sounds',\n",
              "  'attractive',\n",
              "  'sad',\n",
              "  'songs',\n",
              "  '.'],\n",
              " ['rock',\n",
              "  'music',\n",
              "  'listen',\n",
              "  ',',\n",
              "  'sometimes',\n",
              "  'sad',\n",
              "  'well',\n",
              "  'things',\n",
              "  'life',\n",
              "  'depends',\n",
              "  'mood',\n",
              "  'situation',\n",
              "  '.']]"
            ]
          },
          "metadata": {
            "tags": []
          },
          "execution_count": 7
        }
      ]
    },
    {
      "cell_type": "code",
      "metadata": {
        "id": "ftpZ6YnGsshP",
        "colab_type": "code",
        "colab": {}
      },
      "source": [
        "# Training the Word2Vec model\n",
        "model = Word2Vec(sent_word, min_count=1)\n",
        "\n",
        "\n",
        "words = model.wv.vocab"
      ],
      "execution_count": 8,
      "outputs": []
    },
    {
      "cell_type": "code",
      "metadata": {
        "id": "Y9OMvr18s3yk",
        "colab_type": "code",
        "colab": {
          "base_uri": "https://localhost:8080/",
          "height": 472
        },
        "outputId": "a69a7847-3fd2-41d7-ab03-f6332079691d"
      },
      "source": [
        "# Test the word vectors\n",
        "vector = model.wv['life']\n",
        "\n",
        "print(vector)"
      ],
      "execution_count": 9,
      "outputs": [
        {
          "output_type": "stream",
          "text": [
            "[ 7.9939602e-04 -1.7726185e-03  1.3673755e-03 -4.7664586e-03\n",
            "  4.9499176e-03  2.7316436e-03 -4.5252992e-03 -1.1586598e-03\n",
            "  2.8132682e-03 -2.1571780e-03 -3.4751257e-04 -3.4319991e-03\n",
            "  2.7007544e-03 -2.0935293e-03 -3.8026124e-03 -2.4461150e-03\n",
            "  3.7827480e-03  4.2427126e-03  1.9337559e-03 -4.7322609e-03\n",
            "  6.5889722e-04 -4.4944738e-03  1.6348395e-03 -2.8616176e-03\n",
            "  2.5680794e-03 -3.3932787e-03  1.3193206e-04  2.3878999e-03\n",
            " -1.8731544e-03  1.8021419e-03 -4.9491595e-03 -4.1439324e-03\n",
            " -4.8118886e-03  4.4355616e-03 -1.3331529e-03 -2.8814441e-03\n",
            " -4.4816234e-03  2.3236652e-03 -4.1921716e-03 -3.8548284e-03\n",
            "  8.9228805e-04  3.1833581e-03 -1.0542568e-04  3.1466044e-03\n",
            "  2.9246791e-03 -9.5929811e-04  7.5275061e-04 -2.1365567e-03\n",
            "  4.0858667e-03 -4.0847640e-03 -4.2200666e-03  4.6871197e-03\n",
            "  8.6736126e-04 -1.2784047e-03  1.6906050e-04 -1.3462261e-03\n",
            "  3.9386372e-03 -1.7581641e-03  2.0992665e-03  3.7022133e-03\n",
            "  4.2694397e-03  1.3121758e-03  2.7811376e-03  4.5857234e-03\n",
            " -3.6955086e-04 -3.0943423e-03 -2.6989819e-03 -7.9869950e-04\n",
            "  1.7752449e-03  3.9021156e-03  2.9200532e-03  1.4663121e-03\n",
            " -4.5208829e-03 -2.5855382e-03 -4.8418695e-04  4.8219584e-04\n",
            "  2.5072410e-03  4.8731393e-03 -2.9924002e-03  2.6271113e-03\n",
            " -4.3907943e-03 -2.4659266e-03 -6.7444000e-04 -4.2753117e-04\n",
            " -5.5442237e-05  9.1236219e-04 -2.5861461e-03  4.1496004e-03\n",
            "  3.0596151e-03 -1.7150382e-03 -1.4923625e-03  9.2265697e-04\n",
            " -2.7490063e-03  4.9543078e-03 -3.1726512e-03 -3.0021272e-03\n",
            "  2.7167795e-03  2.8405210e-03  4.8276004e-03 -8.4240566e-04]\n"
          ],
          "name": "stdout"
        }
      ]
    },
    {
      "cell_type": "code",
      "metadata": {
        "id": "A4OoF7hbs7-y",
        "colab_type": "code",
        "colab": {
          "base_uri": "https://localhost:8080/",
          "height": 437
        },
        "outputId": "1d354f3c-e104-4a13-ab44-ade8cfded90e"
      },
      "source": [
        "# Most similar words\n",
        "similar = model.wv.most_similar('life',topn=20)\n",
        "\n",
        "similar"
      ],
      "execution_count": 10,
      "outputs": [
        {
          "output_type": "stream",
          "text": [
            "/usr/local/lib/python3.6/dist-packages/gensim/matutils.py:737: FutureWarning: Conversion of the second argument of issubdtype from `int` to `np.signedinteger` is deprecated. In future, it will be treated as `np.int64 == np.dtype(int).type`.\n",
            "  if np.issubdtype(vec.dtype, np.int):\n"
          ],
          "name": "stderr"
        },
        {
          "output_type": "execute_result",
          "data": {
            "text/plain": [
              "[('still', 0.25957009196281433),\n",
              " ('pleasure', 0.2516217827796936),\n",
              " ('pretty', 0.24673795700073242),\n",
              " ('(', 0.22561746835708618),\n",
              " (\"'m\", 0.19647887349128723),\n",
              " ('think', 0.18282487988471985),\n",
              " ('one', 0.1744590401649475),\n",
              " ('wise', 0.16931161284446716),\n",
              " ('awful', 0.16719332337379456),\n",
              " ('attractive', 0.16519418358802795),\n",
              " ('sometimes', 0.16290220618247986),\n",
              " ('back', 0.15827462077140808),\n",
              " ('dress', 0.15157659351825714),\n",
              " ('stop', 0.14916548132896423),\n",
              " ('falling', 0.1384301632642746),\n",
              " ('!', 0.13634976744651794),\n",
              " ('ones', 0.13601335883140564),\n",
              " ('peoples', 0.13003009557724),\n",
              " (',', 0.1285245567560196),\n",
              " ('view', 0.12843403220176697)]"
            ]
          },
          "metadata": {
            "tags": []
          },
          "execution_count": 10
        }
      ]
    },
    {
      "cell_type": "code",
      "metadata": {
        "id": "4s_EVHWUtPpv",
        "colab_type": "code",
        "colab": {
          "base_uri": "https://localhost:8080/",
          "height": 92
        },
        "outputId": "2a5efedc-5e84-4db5-babf-9ac0bea9335f"
      },
      "source": [
        "# You can also check words similarity and compare above\n",
        "model.wv.similarity(w1='problems',w2='hard')"
      ],
      "execution_count": 11,
      "outputs": [
        {
          "output_type": "stream",
          "text": [
            "/usr/local/lib/python3.6/dist-packages/gensim/matutils.py:737: FutureWarning: Conversion of the second argument of issubdtype from `int` to `np.signedinteger` is deprecated. In future, it will be treated as `np.int64 == np.dtype(int).type`.\n",
            "  if np.issubdtype(vec.dtype, np.int):\n"
          ],
          "name": "stderr"
        },
        {
          "output_type": "execute_result",
          "data": {
            "text/plain": [
              "-0.04563052"
            ]
          },
          "metadata": {
            "tags": []
          },
          "execution_count": 11
        }
      ]
    },
    {
      "cell_type": "code",
      "metadata": {
        "id": "1r3oURU2tmx4",
        "colab_type": "code",
        "colab": {
          "base_uri": "https://localhost:8080/",
          "height": 92
        },
        "outputId": "043407be-8a5a-495a-baee-e23aee7c07bd"
      },
      "source": [
        "model.wv.similarity(w1='moments',w2='situation')"
      ],
      "execution_count": 12,
      "outputs": [
        {
          "output_type": "stream",
          "text": [
            "/usr/local/lib/python3.6/dist-packages/gensim/matutils.py:737: FutureWarning: Conversion of the second argument of issubdtype from `int` to `np.signedinteger` is deprecated. In future, it will be treated as `np.int64 == np.dtype(int).type`.\n",
            "  if np.issubdtype(vec.dtype, np.int):\n"
          ],
          "name": "stderr"
        },
        {
          "output_type": "execute_result",
          "data": {
            "text/plain": [
              "-0.023204971"
            ]
          },
          "metadata": {
            "tags": []
          },
          "execution_count": 12
        }
      ]
    },
    {
      "cell_type": "code",
      "metadata": {
        "id": "a3J4vG2Ct2bn",
        "colab_type": "code",
        "colab": {
          "base_uri": "https://localhost:8080/",
          "height": 92
        },
        "outputId": "ba33019c-6c43-4e50-b0cb-b82970c1b6da"
      },
      "source": [
        "model.wv.similarity(w1='defeat',w2='failure')"
      ],
      "execution_count": 13,
      "outputs": [
        {
          "output_type": "stream",
          "text": [
            "/usr/local/lib/python3.6/dist-packages/gensim/matutils.py:737: FutureWarning: Conversion of the second argument of issubdtype from `int` to `np.signedinteger` is deprecated. In future, it will be treated as `np.int64 == np.dtype(int).type`.\n",
            "  if np.issubdtype(vec.dtype, np.int):\n"
          ],
          "name": "stderr"
        },
        {
          "output_type": "execute_result",
          "data": {
            "text/plain": [
              "0.1011059"
            ]
          },
          "metadata": {
            "tags": []
          },
          "execution_count": 13
        }
      ]
    },
    {
      "cell_type": "code",
      "metadata": {
        "id": "fOVV1bQKuJer",
        "colab_type": "code",
        "colab": {
          "base_uri": "https://localhost:8080/",
          "height": 92
        },
        "outputId": "b40a190e-8357-4a66-a961-11fde1ad2763"
      },
      "source": [
        "#Same words similarity\n",
        "model.wv.similarity(w1='future',w2='future')"
      ],
      "execution_count": 14,
      "outputs": [
        {
          "output_type": "stream",
          "text": [
            "/usr/local/lib/python3.6/dist-packages/gensim/matutils.py:737: FutureWarning: Conversion of the second argument of issubdtype from `int` to `np.signedinteger` is deprecated. In future, it will be treated as `np.int64 == np.dtype(int).type`.\n",
            "  if np.issubdtype(vec.dtype, np.int):\n"
          ],
          "name": "stderr"
        },
        {
          "output_type": "execute_result",
          "data": {
            "text/plain": [
              "1.0"
            ]
          },
          "metadata": {
            "tags": []
          },
          "execution_count": 14
        }
      ]
    },
    {
      "cell_type": "code",
      "metadata": {
        "id": "c2nRuxKjuZLM",
        "colab_type": "code",
        "colab": {
          "base_uri": "https://localhost:8080/",
          "height": 92
        },
        "outputId": "ce9132c9-375a-4f67-8bc9-d3579a11ce7b"
      },
      "source": [
        "model.wv.similarity(w1='joy',w2='pleasure')"
      ],
      "execution_count": 15,
      "outputs": [
        {
          "output_type": "stream",
          "text": [
            "/usr/local/lib/python3.6/dist-packages/gensim/matutils.py:737: FutureWarning: Conversion of the second argument of issubdtype from `int` to `np.signedinteger` is deprecated. In future, it will be treated as `np.int64 == np.dtype(int).type`.\n",
            "  if np.issubdtype(vec.dtype, np.int):\n"
          ],
          "name": "stderr"
        },
        {
          "output_type": "execute_result",
          "data": {
            "text/plain": [
              "0.097860195"
            ]
          },
          "metadata": {
            "tags": []
          },
          "execution_count": 15
        }
      ]
    },
    {
      "cell_type": "code",
      "metadata": {
        "id": "iJwik-GAvQ32",
        "colab_type": "code",
        "colab": {
          "base_uri": "https://localhost:8080/",
          "height": 92
        },
        "outputId": "3f468469-01a8-4caf-c74c-05ab13f5fd2c"
      },
      "source": [
        "model.wv.similarity(w1='struggle',w2='suffering')"
      ],
      "execution_count": 16,
      "outputs": [
        {
          "output_type": "stream",
          "text": [
            "/usr/local/lib/python3.6/dist-packages/gensim/matutils.py:737: FutureWarning: Conversion of the second argument of issubdtype from `int` to `np.signedinteger` is deprecated. In future, it will be treated as `np.int64 == np.dtype(int).type`.\n",
            "  if np.issubdtype(vec.dtype, np.int):\n"
          ],
          "name": "stderr"
        },
        {
          "output_type": "execute_result",
          "data": {
            "text/plain": [
              "0.011055041"
            ]
          },
          "metadata": {
            "tags": []
          },
          "execution_count": 16
        }
      ]
    },
    {
      "cell_type": "code",
      "metadata": {
        "id": "ancYQYWGvcNJ",
        "colab_type": "code",
        "colab": {
          "base_uri": "https://localhost:8080/",
          "height": 92
        },
        "outputId": "7a66417b-9fb3-480d-ad76-3f9196f4c08c"
      },
      "source": [
        "model.wv.similarity(w1='strong',w2='powerful')"
      ],
      "execution_count": 17,
      "outputs": [
        {
          "output_type": "stream",
          "text": [
            "/usr/local/lib/python3.6/dist-packages/gensim/matutils.py:737: FutureWarning: Conversion of the second argument of issubdtype from `int` to `np.signedinteger` is deprecated. In future, it will be treated as `np.int64 == np.dtype(int).type`.\n",
            "  if np.issubdtype(vec.dtype, np.int):\n"
          ],
          "name": "stderr"
        },
        {
          "output_type": "execute_result",
          "data": {
            "text/plain": [
              "0.022351852"
            ]
          },
          "metadata": {
            "tags": []
          },
          "execution_count": 17
        }
      ]
    },
    {
      "cell_type": "code",
      "metadata": {
        "id": "vlf500FPvkFM",
        "colab_type": "code",
        "colab": {
          "base_uri": "https://localhost:8080/",
          "height": 92
        },
        "outputId": "83fc372d-a79d-4b47-c98c-3f7c91c554fb"
      },
      "source": [
        "model.wv.similarity(w1='celebrations',w2='joy')"
      ],
      "execution_count": 18,
      "outputs": [
        {
          "output_type": "stream",
          "text": [
            "/usr/local/lib/python3.6/dist-packages/gensim/matutils.py:737: FutureWarning: Conversion of the second argument of issubdtype from `int` to `np.signedinteger` is deprecated. In future, it will be treated as `np.int64 == np.dtype(int).type`.\n",
            "  if np.issubdtype(vec.dtype, np.int):\n"
          ],
          "name": "stderr"
        },
        {
          "output_type": "execute_result",
          "data": {
            "text/plain": [
              "0.13845721"
            ]
          },
          "metadata": {
            "tags": []
          },
          "execution_count": 18
        }
      ]
    },
    {
      "cell_type": "code",
      "metadata": {
        "id": "uGWXIIz7wZUd",
        "colab_type": "code",
        "colab": {
          "base_uri": "https://localhost:8080/",
          "height": 92
        },
        "outputId": "61eb8f53-b5c7-4601-cbab-d997124b1db5"
      },
      "source": [
        "model.wv.similarity(w1='human',w2='people')"
      ],
      "execution_count": 19,
      "outputs": [
        {
          "output_type": "stream",
          "text": [
            "/usr/local/lib/python3.6/dist-packages/gensim/matutils.py:737: FutureWarning: Conversion of the second argument of issubdtype from `int` to `np.signedinteger` is deprecated. In future, it will be treated as `np.int64 == np.dtype(int).type`.\n",
            "  if np.issubdtype(vec.dtype, np.int):\n"
          ],
          "name": "stderr"
        },
        {
          "output_type": "execute_result",
          "data": {
            "text/plain": [
              "0.06389705"
            ]
          },
          "metadata": {
            "tags": []
          },
          "execution_count": 19
        }
      ]
    },
    {
      "cell_type": "code",
      "metadata": {
        "id": "nMA6nNGiwwjD",
        "colab_type": "code",
        "colab": {
          "base_uri": "https://localhost:8080/",
          "height": 92
        },
        "outputId": "640bef7d-81de-413f-b562-944ec0c9a56c"
      },
      "source": [
        "model.wv.similarity(w1='hurt',w2='broken-hearted')"
      ],
      "execution_count": 20,
      "outputs": [
        {
          "output_type": "stream",
          "text": [
            "/usr/local/lib/python3.6/dist-packages/gensim/matutils.py:737: FutureWarning: Conversion of the second argument of issubdtype from `int` to `np.signedinteger` is deprecated. In future, it will be treated as `np.int64 == np.dtype(int).type`.\n",
            "  if np.issubdtype(vec.dtype, np.int):\n"
          ],
          "name": "stderr"
        },
        {
          "output_type": "execute_result",
          "data": {
            "text/plain": [
              "0.029838933"
            ]
          },
          "metadata": {
            "tags": []
          },
          "execution_count": 20
        }
      ]
    },
    {
      "cell_type": "code",
      "metadata": {
        "id": "Dn3GAfITxB-Q",
        "colab_type": "code",
        "colab": {
          "base_uri": "https://localhost:8080/",
          "height": 92
        },
        "outputId": "bb41dcdd-a811-46ec-c739-d306d5a79118"
      },
      "source": [
        "model.wv.similarity(w1='unhappy',w2='upset')"
      ],
      "execution_count": 21,
      "outputs": [
        {
          "output_type": "stream",
          "text": [
            "/usr/local/lib/python3.6/dist-packages/gensim/matutils.py:737: FutureWarning: Conversion of the second argument of issubdtype from `int` to `np.signedinteger` is deprecated. In future, it will be treated as `np.int64 == np.dtype(int).type`.\n",
            "  if np.issubdtype(vec.dtype, np.int):\n"
          ],
          "name": "stderr"
        },
        {
          "output_type": "execute_result",
          "data": {
            "text/plain": [
              "0.1472864"
            ]
          },
          "metadata": {
            "tags": []
          },
          "execution_count": 21
        }
      ]
    },
    {
      "cell_type": "code",
      "metadata": {
        "id": "-FcQ3AYwxKl2",
        "colab_type": "code",
        "colab": {
          "base_uri": "https://localhost:8080/",
          "height": 92
        },
        "outputId": "36997767-0e08-4cb9-fdd3-8cd900ae93e4"
      },
      "source": [
        "model.wv.similarity(w1='beauty',w2='beautiful')"
      ],
      "execution_count": 22,
      "outputs": [
        {
          "output_type": "stream",
          "text": [
            "/usr/local/lib/python3.6/dist-packages/gensim/matutils.py:737: FutureWarning: Conversion of the second argument of issubdtype from `int` to `np.signedinteger` is deprecated. In future, it will be treated as `np.int64 == np.dtype(int).type`.\n",
            "  if np.issubdtype(vec.dtype, np.int):\n"
          ],
          "name": "stderr"
        },
        {
          "output_type": "execute_result",
          "data": {
            "text/plain": [
              "-0.12218682"
            ]
          },
          "metadata": {
            "tags": []
          },
          "execution_count": 22
        }
      ]
    },
    {
      "cell_type": "code",
      "metadata": {
        "id": "kMZBkdonxUNv",
        "colab_type": "code",
        "colab": {
          "base_uri": "https://localhost:8080/",
          "height": 92
        },
        "outputId": "589a17f6-261f-4b05-96f8-f90c359e09fc"
      },
      "source": [
        "model.wv.similarity(w1='life',w2='live')"
      ],
      "execution_count": 23,
      "outputs": [
        {
          "output_type": "stream",
          "text": [
            "/usr/local/lib/python3.6/dist-packages/gensim/matutils.py:737: FutureWarning: Conversion of the second argument of issubdtype from `int` to `np.signedinteger` is deprecated. In future, it will be treated as `np.int64 == np.dtype(int).type`.\n",
            "  if np.issubdtype(vec.dtype, np.int):\n"
          ],
          "name": "stderr"
        },
        {
          "output_type": "execute_result",
          "data": {
            "text/plain": [
              "0.022491034"
            ]
          },
          "metadata": {
            "tags": []
          },
          "execution_count": 23
        }
      ]
    },
    {
      "cell_type": "code",
      "metadata": {
        "id": "XqGfzP26xc_m",
        "colab_type": "code",
        "colab": {
          "base_uri": "https://localhost:8080/",
          "height": 92
        },
        "outputId": "b52e7871-1407-4ab1-edca-b65f3c134fe9"
      },
      "source": [
        "model.wv.similarity(w1='future',w2='tomorrow')"
      ],
      "execution_count": 24,
      "outputs": [
        {
          "output_type": "stream",
          "text": [
            "/usr/local/lib/python3.6/dist-packages/gensim/matutils.py:737: FutureWarning: Conversion of the second argument of issubdtype from `int` to `np.signedinteger` is deprecated. In future, it will be treated as `np.int64 == np.dtype(int).type`.\n",
            "  if np.issubdtype(vec.dtype, np.int):\n"
          ],
          "name": "stderr"
        },
        {
          "output_type": "execute_result",
          "data": {
            "text/plain": [
              "0.054596663"
            ]
          },
          "metadata": {
            "tags": []
          },
          "execution_count": 24
        }
      ]
    },
    {
      "cell_type": "code",
      "metadata": {
        "id": "bxSqLDkkx1nd",
        "colab_type": "code",
        "colab": {
          "base_uri": "https://localhost:8080/",
          "height": 92
        },
        "outputId": "0cb03446-4500-4787-b980-a9e3602e8944"
      },
      "source": [
        "model.wv.similarity(w1='selfish',w2='mean')"
      ],
      "execution_count": 25,
      "outputs": [
        {
          "output_type": "stream",
          "text": [
            "/usr/local/lib/python3.6/dist-packages/gensim/matutils.py:737: FutureWarning: Conversion of the second argument of issubdtype from `int` to `np.signedinteger` is deprecated. In future, it will be treated as `np.int64 == np.dtype(int).type`.\n",
            "  if np.issubdtype(vec.dtype, np.int):\n"
          ],
          "name": "stderr"
        },
        {
          "output_type": "execute_result",
          "data": {
            "text/plain": [
              "0.07512616"
            ]
          },
          "metadata": {
            "tags": []
          },
          "execution_count": 25
        }
      ]
    },
    {
      "cell_type": "code",
      "metadata": {
        "id": "Zaz5dRAhx9ex",
        "colab_type": "code",
        "colab": {
          "base_uri": "https://localhost:8080/",
          "height": 92
        },
        "outputId": "3c11fa90-af0d-4e94-be76-7106952dcf8c"
      },
      "source": [
        "model.wv.similarity(w1='enjoy',w2='joy')"
      ],
      "execution_count": 26,
      "outputs": [
        {
          "output_type": "stream",
          "text": [
            "/usr/local/lib/python3.6/dist-packages/gensim/matutils.py:737: FutureWarning: Conversion of the second argument of issubdtype from `int` to `np.signedinteger` is deprecated. In future, it will be treated as `np.int64 == np.dtype(int).type`.\n",
            "  if np.issubdtype(vec.dtype, np.int):\n"
          ],
          "name": "stderr"
        },
        {
          "output_type": "execute_result",
          "data": {
            "text/plain": [
              "0.16555059"
            ]
          },
          "metadata": {
            "tags": []
          },
          "execution_count": 26
        }
      ]
    },
    {
      "cell_type": "code",
      "metadata": {
        "id": "DuBQmTkSyS0o",
        "colab_type": "code",
        "colab": {
          "base_uri": "https://localhost:8080/",
          "height": 92
        },
        "outputId": "312a0d84-5443-401c-bcff-4920f0d66a87"
      },
      "source": [
        "model.wv.similarity(w1='sad',w2='hurt')"
      ],
      "execution_count": 27,
      "outputs": [
        {
          "output_type": "stream",
          "text": [
            "/usr/local/lib/python3.6/dist-packages/gensim/matutils.py:737: FutureWarning: Conversion of the second argument of issubdtype from `int` to `np.signedinteger` is deprecated. In future, it will be treated as `np.int64 == np.dtype(int).type`.\n",
            "  if np.issubdtype(vec.dtype, np.int):\n"
          ],
          "name": "stderr"
        },
        {
          "output_type": "execute_result",
          "data": {
            "text/plain": [
              "-0.04610549"
            ]
          },
          "metadata": {
            "tags": []
          },
          "execution_count": 27
        }
      ]
    },
    {
      "cell_type": "code",
      "metadata": {
        "id": "kz-I9Tp3yamO",
        "colab_type": "code",
        "colab": {
          "base_uri": "https://localhost:8080/",
          "height": 92
        },
        "outputId": "b3472bf8-014b-4f1a-8a9a-323d47f3899e"
      },
      "source": [
        "model.wv.similarity(w1='sad',w2='alone')"
      ],
      "execution_count": 28,
      "outputs": [
        {
          "output_type": "stream",
          "text": [
            "/usr/local/lib/python3.6/dist-packages/gensim/matutils.py:737: FutureWarning: Conversion of the second argument of issubdtype from `int` to `np.signedinteger` is deprecated. In future, it will be treated as `np.int64 == np.dtype(int).type`.\n",
            "  if np.issubdtype(vec.dtype, np.int):\n"
          ],
          "name": "stderr"
        },
        {
          "output_type": "execute_result",
          "data": {
            "text/plain": [
              "0.19169687"
            ]
          },
          "metadata": {
            "tags": []
          },
          "execution_count": 28
        }
      ]
    },
    {
      "cell_type": "code",
      "metadata": {
        "id": "c9V24NQjydmJ",
        "colab_type": "code",
        "colab": {
          "base_uri": "https://localhost:8080/",
          "height": 92
        },
        "outputId": "322b5861-50a7-4ef1-b08b-ea71bd846479"
      },
      "source": [
        "model.wv.similarity(w1='sound',w2='songs')"
      ],
      "execution_count": 29,
      "outputs": [
        {
          "output_type": "stream",
          "text": [
            "/usr/local/lib/python3.6/dist-packages/gensim/matutils.py:737: FutureWarning: Conversion of the second argument of issubdtype from `int` to `np.signedinteger` is deprecated. In future, it will be treated as `np.int64 == np.dtype(int).type`.\n",
            "  if np.issubdtype(vec.dtype, np.int):\n"
          ],
          "name": "stderr"
        },
        {
          "output_type": "execute_result",
          "data": {
            "text/plain": [
              "0.03427035"
            ]
          },
          "metadata": {
            "tags": []
          },
          "execution_count": 29
        }
      ]
    },
    {
      "cell_type": "code",
      "metadata": {
        "id": "5sRtIX2LymyW",
        "colab_type": "code",
        "colab": {
          "base_uri": "https://localhost:8080/",
          "height": 92
        },
        "outputId": "eb11e832-43f0-47dc-958d-b95a5d8ba69f"
      },
      "source": [
        "model.wv.similarity(w1='listening',w2='songs')"
      ],
      "execution_count": 30,
      "outputs": [
        {
          "output_type": "stream",
          "text": [
            "/usr/local/lib/python3.6/dist-packages/gensim/matutils.py:737: FutureWarning: Conversion of the second argument of issubdtype from `int` to `np.signedinteger` is deprecated. In future, it will be treated as `np.int64 == np.dtype(int).type`.\n",
            "  if np.issubdtype(vec.dtype, np.int):\n"
          ],
          "name": "stderr"
        },
        {
          "output_type": "execute_result",
          "data": {
            "text/plain": [
              "-0.08457598"
            ]
          },
          "metadata": {
            "tags": []
          },
          "execution_count": 30
        }
      ]
    },
    {
      "cell_type": "code",
      "metadata": {
        "id": "6uM8ii9vzVpU",
        "colab_type": "code",
        "colab": {
          "base_uri": "https://localhost:8080/",
          "height": 541
        },
        "outputId": "f84f5f77-0668-4146-d7a1-5be702883a62"
      },
      "source": [
        "from sklearn.manifold import  TSNE\n",
        "vocab = ['life','live','joy','future','present','tomorrow','friends','happy','forget','past','success','defeat','sad','hurt','broken-hearted','give',\n",
        "         'take','miss','remind','strong','powerful','world','human','people','struggle','suffering','situations']\n",
        "def tsne_plot(model):\n",
        "    labels = []\n",
        "    wordvecs = []\n",
        "\n",
        "    for word in vocab:\n",
        "        wordvecs.append(model[word])\n",
        "        labels.append(word)\n",
        "    \n",
        "    tsne_model = TSNE(perplexity=3, n_components=3, init='pca', random_state=42)\n",
        "    coordinates = tsne_model.fit_transform(wordvecs)\n",
        "\n",
        "    x = []\n",
        "    y = []\n",
        "    for value in coordinates:\n",
        "        x.append(value[0])\n",
        "        y.append(value[1])\n",
        "        \n",
        "    plt.figure(figsize=(15,8)) \n",
        "    for i in range(len(x)):\n",
        "        plt.scatter(x[i],y[i])\n",
        "        plt.annotate(labels[i],\n",
        "                     xy=(x[i], y[i]),\n",
        "                     xytext=(2, 2),\n",
        "                     textcoords='offset points', ha='left')\n",
        "\n",
        "    plt.show()\n",
        "\n",
        "tsne_plot(model)"
      ],
      "execution_count": 31,
      "outputs": [
        {
          "output_type": "stream",
          "text": [
            "/usr/local/lib/python3.6/dist-packages/ipykernel_launcher.py:9: DeprecationWarning: Call to deprecated `__getitem__` (Method will be removed in 4.0.0, use self.wv.__getitem__() instead).\n",
            "  if __name__ == '__main__':\n"
          ],
          "name": "stderr"
        },
        {
          "output_type": "display_data",
          "data": {
            "image/png": "[encoded data removed]",
            "text/plain": [
              "<Figure size 1080x576 with 1 Axes>"
            ]
          },
          "metadata": {
            "tags": [],
            "needs_background": "light"
          }
        }
      ]
    },
    {
      "cell_type": "code",
      "metadata": {
        "id": "2xXNP1yQ00r2",
        "colab_type": "code",
        "colab": {}
      },
      "source": [
        ""
      ],
      "execution_count": 31,
      "outputs": []
    }
  ]
}