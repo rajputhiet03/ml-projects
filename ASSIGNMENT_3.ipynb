{
  "nbformat": 4,
  "nbformat_minor": 0,
  "metadata": {
    "colab": {
      "name": "ASSIGNMENT 3.ipynb",
      "provenance": [],
      "collapsed_sections": []
    },
    "kernelspec": {
      "name": "python3",
      "display_name": "Python 3"
    },
    "accelerator": "TPU"
  },
  "cells": [
    {
      "cell_type": "code",
      "metadata": {
        "id": "g3E0aUM_Zfka",
        "colab_type": "code",
        "colab": {
          "base_uri": "https://localhost:8080/",
          "height": 125
        },
        "outputId": "3bd33937-5a9d-4799-9e60-9661acc6c0f7"
      },
      "source": [
        "from google.colab import drive\n",
        "drive.mount('/content/drive')"
      ],
      "execution_count": 1,
      "outputs": [
        {
          "output_type": "stream",
          "text": [
            "Go to this URL in a browser: https://accounts.google.com/o/oauth2/auth?client_id=947318989803-6bn6qk8qdgf4n4g3pfee6491hc0brc4i.apps.googleusercontent.com&redirect_uri=urn%3aietf%3awg%3aoauth%3a2.0%3aoob&response_type=code&scope=email%20https%3a%2f%2fwww.googleapis.com%2fauth%2fdocs.test%20https%3a%2f%2fwww.googleapis.com%2fauth%2fdrive%20https%3a%2f%2fwww.googleapis.com%2fauth%2fdrive.photos.readonly%20https%3a%2f%2fwww.googleapis.com%2fauth%2fpeopleapi.readonly\n",
            "\n",
            "Enter your authorization code:\n",
            "··········\n",
            "Mounted at /content/drive\n"
          ],
          "name": "stdout"
        }
      ]
    },
    {
      "cell_type": "code",
      "metadata": {
        "id": "urFk3qahZmro",
        "colab_type": "code",
        "colab": {
          "base_uri": "https://localhost:8080/",
          "height": 34
        },
        "outputId": "69ca8cdf-9db5-4be1-803a-6ec807bd1140"
      },
      "source": [
        "from zipfile import ZipFile\n",
        "train_path = '/content/drive/My Drive/amazon.zip' \n",
        "with ZipFile (train_path , \"r\") as zip:\n",
        "  zip.extractall()\n",
        "  print(\"Finsih\")\n"
      ],
      "execution_count": 3,
      "outputs": [
        {
          "output_type": "stream",
          "text": [
            "Finsih\n"
          ],
          "name": "stdout"
        }
      ]
    },
    {
      "cell_type": "code",
      "metadata": {
        "id": "fayCy6WrauRF",
        "colab_type": "code",
        "colab": {}
      },
      "source": [
        "import cv2\n",
        "import numpy as np\n",
        "from google.colab.patches import cv2_imshow"
      ],
      "execution_count": 4,
      "outputs": []
    },
    {
      "cell_type": "code",
      "metadata": {
        "id": "E2XdOtZbbDEz",
        "colab_type": "code",
        "colab": {}
      },
      "source": [
        "import os\n",
        "import random\n",
        "from scipy import ndarray"
      ],
      "execution_count": 5,
      "outputs": []
    },
    {
      "cell_type": "code",
      "metadata": {
        "id": "9r5YQQATbF6Q",
        "colab_type": "code",
        "colab": {}
      },
      "source": [
        "from scipy import ndimage, misc\n",
        "import numpy as np\n",
        "import os\n",
        "import cv2\n",
        "\n",
        "def rotate():\n",
        "    outPath = \"/content/drive/My Drive/train/jeans\"\n",
        "    path = \"/content/amazon/training/jeans\"\n",
        "\n",
        "    # iterate through the names of contents of the folder\n",
        "    for image_path in os.listdir(path):\n",
        "\n",
        "        # create the full input path and read the file\n",
        "        input_path = os.path.join(path, image_path)\n",
        "        image_to_rotate = cv2.imread(input_path)\n",
        "\n",
        "        # rotate the image\n",
        "        img_rotate_90_clockwise = cv2.rotate(image_to_rotate, cv2.ROTATE_90_CLOCKWISE)\n",
        "\n",
        "\n",
        "        # create full output path, 'example.jpg' \n",
        "        # becomes 'rotate_example.jpg', save the file to disk\n",
        "        fullpath = os.path.join(outPath, 'rotated_'+image_path)\n",
        "        cv2.imwrite(fullpath, img_rotate_90_clockwise)\n",
        "\n",
        "if __name__ == '__main__':\n",
        "    rotate()"
      ],
      "execution_count": 6,
      "outputs": []
    },
    {
      "cell_type": "code",
      "metadata": {
        "id": "S-b34Ds6beUL",
        "colab_type": "code",
        "colab": {}
      },
      "source": [
        "def resize():\n",
        "    outPath = \"/content/drive/My Drive/train/jeans\"\n",
        "    path = \"/content/amazon/training/jeans\"\n",
        "\n",
        "    # iterate through the names of contents of the folder\n",
        "    for image_path in os.listdir(path):\n",
        "\n",
        "        # create the full input path and read the file\n",
        "        input_path = os.path.join(path, image_path)\n",
        "        image_to_resize = cv2.imread(input_path)\n",
        "\n",
        "        # resize the image\n",
        "        image_resized = cv2.resize(image_to_resize, (300, 200))\n",
        "\n",
        "        image_rgb = cv2.cvtColor(image_to_resize, cv2.COLOR_BGR2RGB)\n",
        "\n",
        "        # create full output path, 'example.jpg' \n",
        "        # becomes 'resize_example.jpg', save the file to disk\n",
        "        fullpath = os.path.join(outPath, 'resize_'+image_path)\n",
        "        cv2.imwrite(fullpath, image_resized)\n",
        "\n",
        "if __name__ == '__main__':\n",
        "    resize()"
      ],
      "execution_count": 8,
      "outputs": []
    },
    {
      "cell_type": "code",
      "metadata": {
        "id": "kYx7FNviblmF",
        "colab_type": "code",
        "colab": {}
      },
      "source": [
        "def flip():\n",
        "    outPath = \"/content/drive/My Drive/train/jeans\"\n",
        "    path = \"/content/amazon/training/jeans\"\n",
        "\n",
        "    # iterate through the names of contents of the folder\n",
        "    for image_path in os.listdir(path):\n",
        "\n",
        "        # create the full input path and read the file\n",
        "        input_path = os.path.join(path, image_path)\n",
        "        image_to_flip = cv2.imread(input_path)\n",
        "\n",
        "        # flip the image\n",
        "        img_flip_ud = cv2.flip(image_to_flip, 0)\n",
        "        \n",
        "\n",
        "\n",
        "        # create full output path, 'example.jpg' \n",
        "        # becomes 'flip_example.jpg', save the file to disk\n",
        "        fullpath = os.path.join(outPath, 'flip_'+image_path)\n",
        "        cv2.imwrite(fullpath, img_flip_ud)\n",
        "\n",
        "if __name__ == '__main__':\n",
        "    flip()"
      ],
      "execution_count": 9,
      "outputs": []
    },
    {
      "cell_type": "code",
      "metadata": {
        "id": "6fjXPSumb64h",
        "colab_type": "code",
        "colab": {}
      },
      "source": [
        "def sharpen():\n",
        "    outPath = \"/content/drive/My Drive/train/jeans\"\n",
        "    path = \"/content/amazon/training/jeans\"\n",
        "\n",
        "    # iterate through the names of contents of the folder\n",
        "    for image_path in os.listdir(path):\n",
        "\n",
        "        # create the full input path and read the file\n",
        "        input_path = os.path.join(path, image_path)\n",
        "        image_to_sharp = cv2.imread(input_path)\n",
        "\n",
        "        # sharp the image\n",
        "        kernel = np.array([[0, -1, 0], \n",
        "                   [-1, 5,-1], \n",
        "                   [0, -1, 0]])\n",
        "        \n",
        "\n",
        "        # Sharpen image\n",
        "        image_sharp = cv2.filter2D(image_to_sharp, -1, kernel)\n",
        "        \n",
        "        # create full output path, 'example.jpg' \n",
        "        # becomes 'sharp_example.jpg', save the file to disk\n",
        "        fullpath = os.path.join(outPath, 'sharp_'+image_path)\n",
        "        cv2.imwrite(fullpath, image_sharp)\n",
        "\n",
        "if __name__ == '__main__':\n",
        "    sharpen()"
      ],
      "execution_count": 10,
      "outputs": []
    },
    {
      "cell_type": "code",
      "metadata": {
        "id": "gtSQA7LMcgUp",
        "colab_type": "code",
        "colab": {}
      },
      "source": [
        "def bright():\n",
        "    outPath = \"/content/drive/My Drive/train/jeans\"\n",
        "    path = \"/content/amazon/training/jeans\"\n",
        "\n",
        "    # iterate through the names of contents of the folder\n",
        "    for image_path in os.listdir(path):\n",
        "\n",
        "        # create the full input path and read the file\n",
        "        input_path = os.path.join(path, image_path)\n",
        "        image_to_bright = cv2.imread(input_path)\n",
        "\n",
        "        # bright the image\n",
        "        image= cv2.add(image_to_bright,np.array([50.0]))\n",
        "        \n",
        "\n",
        "\n",
        "        # create full output path, 'example.jpg' \n",
        "        # becomes 'bright_example.jpg', save the file to disk\n",
        "        fullpath = os.path.join(outPath, 'bright_'+image_path)\n",
        "        cv2.imwrite(fullpath, image)\n",
        "\n",
        "if __name__ == '__main__':\n",
        "    bright()"
      ],
      "execution_count": 11,
      "outputs": []
    },
    {
      "cell_type": "code",
      "metadata": {
        "id": "fb5yGzwscudh",
        "colab_type": "code",
        "colab": {}
      },
      "source": [
        "def decbright():\n",
        "    outPath = \"/content/amazon/training/jeans\"\n",
        "    path = \"/content/drive/My Drive/train/jeans\"\n",
        "\n",
        "    # iterate through the names of contents of the folder\n",
        "    for image_path in os.listdir(path):\n",
        "\n",
        "        # create the full input path and read the file\n",
        "        input_path = os.path.join(path, image_path)\n",
        "        image_to_bright = cv2.imread(input_path)\n",
        "\n",
        "        # bright the image\n",
        "        image= cv2.add(image_to_bright,np.array([-50.0]))\n",
        "        \n",
        "\n",
        "\n",
        "        # create full output path, 'example.jpg' \n",
        "        # becomes 'bright_example.jpg', save the file to disk\n",
        "        fullpath = os.path.join(outPath, 'decbright_'+image_path)\n",
        "        cv2.imwrite(fullpath, image)\n",
        "\n",
        "if __name__ == '__main__':\n",
        "    decbright()"
      ],
      "execution_count": 12,
      "outputs": []
    },
    {
      "cell_type": "code",
      "metadata": {
        "id": "aXCa4iyOc9cM",
        "colab_type": "code",
        "colab": {}
      },
      "source": [
        ""
      ],
      "execution_count": null,
      "outputs": []
    },
    {
      "cell_type": "code",
      "metadata": {
        "id": "CD7eyAqxduaD",
        "colab_type": "code",
        "colab": {}
      },
      "source": [
        "def rotate():\n",
        "    outPath = \"/content/drive/My Drive/train/saree\"\n",
        "    path = \"/content/amazon/training/sarees\"\n",
        "\n",
        "    # iterate through the names of contents of the folder\n",
        "    for image_path in os.listdir(path):\n",
        "\n",
        "        # create the full input path and read the file\n",
        "        input_path = os.path.join(path, image_path)\n",
        "        image_to_rotate = cv2.imread(input_path)\n",
        "\n",
        "        # rotate the image\n",
        "        img_rotate_90_clockwise = cv2.rotate(image_to_rotate, cv2.ROTATE_90_CLOCKWISE)\n",
        "\n",
        "\n",
        "        # create full output path, 'example.jpg' \n",
        "        # becomes 'rotate_example.jpg', save the file to disk\n",
        "        fullpath = os.path.join(outPath, 'rotated_'+image_path)\n",
        "        cv2.imwrite(fullpath, img_rotate_90_clockwise)\n",
        "\n",
        "if __name__ == '__main__':\n",
        "    rotate()"
      ],
      "execution_count": 13,
      "outputs": []
    },
    {
      "cell_type": "code",
      "metadata": {
        "id": "dBN9gwIBdwfy",
        "colab_type": "code",
        "colab": {}
      },
      "source": [
        "def bright():\n",
        "    outPath = \"/content/drive/My Drive/train/saree\"\n",
        "    path = \"/content/amazon/training/sarees\"\n",
        "\n",
        "    # iterate through the names of contents of the folder\n",
        "    for image_path in os.listdir(path):\n",
        "\n",
        "        # create the full input path and read the file\n",
        "        input_path = os.path.join(path, image_path)\n",
        "        image_to_bright = cv2.imread(input_path)\n",
        "\n",
        "        # bright the image\n",
        "        image= cv2.add(image_to_bright,np.array([50.0]))\n",
        "        \n",
        "\n",
        "\n",
        "        # create full output path, 'example.jpg' \n",
        "        # becomes 'bright_example.jpg', save the file to disk\n",
        "        fullpath = os.path.join(outPath, 'bright_'+image_path)\n",
        "        cv2.imwrite(fullpath, image)\n",
        "\n",
        "if __name__ == '__main__':\n",
        "    bright()"
      ],
      "execution_count": 14,
      "outputs": []
    },
    {
      "cell_type": "code",
      "metadata": {
        "id": "IMrga6u_dxV5",
        "colab_type": "code",
        "colab": {}
      },
      "source": [
        "def decbright():\n",
        "    outPath = \"/content/drive/My Drive/train/saree\"\n",
        "    path = \"/content/amazon/training/sarees\"\n",
        "\n",
        "    # iterate through the names of contents of the folder\n",
        "    for image_path in os.listdir(path):\n",
        "\n",
        "        # create the full input path and read the file\n",
        "        input_path = os.path.join(path, image_path)\n",
        "        image_to_bright = cv2.imread(input_path)\n",
        "\n",
        "        # bright the image\n",
        "        image= cv2.add(image_to_bright,np.array([-50.0]))\n",
        "        \n",
        "\n",
        "\n",
        "        # create full output path, 'example.jpg' \n",
        "        # becomes 'bright_example.jpg', save the file to disk\n",
        "        fullpath = os.path.join(outPath, 'decbright_'+image_path)\n",
        "        cv2.imwrite(fullpath, image)\n",
        "\n",
        "if __name__ == '__main__':\n",
        "    decbright()"
      ],
      "execution_count": 15,
      "outputs": []
    },
    {
      "cell_type": "code",
      "metadata": {
        "id": "crnEiTP0dyK0",
        "colab_type": "code",
        "colab": {}
      },
      "source": [
        "def flip():\n",
        "    outPath = \"/content/drive/My Drive/train/saree\"\n",
        "    path = \"/content/amazon/training/sarees\"\n",
        "\n",
        "    # iterate through the names of contents of the folder\n",
        "    for image_path in os.listdir(path):\n",
        "\n",
        "        # create the full input path and read the file\n",
        "        input_path = os.path.join(path, image_path)\n",
        "        image_to_flip = cv2.imread(input_path)\n",
        "\n",
        "        # flip the image\n",
        "        img_flip_ud = cv2.flip(image_to_flip, 0)\n",
        "        \n",
        "\n",
        "\n",
        "        # create full output path, 'example.jpg' \n",
        "        # becomes 'flip_example.jpg', save the file to disk\n",
        "        fullpath = os.path.join(outPath, 'flip_'+image_path)\n",
        "        cv2.imwrite(fullpath, img_flip_ud)\n",
        "\n",
        "if __name__ == '__main__':\n",
        "    flip()"
      ],
      "execution_count": 16,
      "outputs": []
    },
    {
      "cell_type": "code",
      "metadata": {
        "id": "0KBHOulvdyr7",
        "colab_type": "code",
        "colab": {}
      },
      "source": [
        "def resize():\n",
        "    outPath = \"/content/drive/My Drive/train/saree\"\n",
        "    path = \"/content/amazon/training/sarees\"\n",
        "\n",
        "    # iterate through the names of contents of the folder\n",
        "    for image_path in os.listdir(path):\n",
        "\n",
        "        # create the full input path and read the file\n",
        "        input_path = os.path.join(path, image_path)\n",
        "        image_to_resize = cv2.imread(input_path)\n",
        "\n",
        "        # resize the image\n",
        "        image_resized = cv2.resize(image_to_resize, (300, 200))\n",
        "\n",
        "        image_rgb = cv2.cvtColor(image_to_resize, cv2.COLOR_BGR2RGB)\n",
        "\n",
        "        # create full output path, 'example.jpg' \n",
        "        # becomes 'resize_example.jpg', save the file to disk\n",
        "        fullpath = os.path.join(outPath, 'resize_'+image_path)\n",
        "        cv2.imwrite(fullpath, image_resized)\n",
        "\n",
        "if __name__ == '__main__':\n",
        "    resize()"
      ],
      "execution_count": 17,
      "outputs": []
    },
    {
      "cell_type": "code",
      "metadata": {
        "id": "JihII_IedzPW",
        "colab_type": "code",
        "colab": {}
      },
      "source": [
        "def sharpen():\n",
        "    outPath = \"/content/drive/My Drive/train/saree\"\n",
        "    path = \"/content/amazon/training/sarees\"\n",
        "\n",
        "    # iterate through the names of contents of the folder\n",
        "    for image_path in os.listdir(path):\n",
        "\n",
        "        # create the full input path and read the file\n",
        "        input_path = os.path.join(path, image_path)\n",
        "        image_to_sharp = cv2.imread(input_path)\n",
        "\n",
        "        # sharp the image\n",
        "        kernel = np.array([[0, -1, 0], \n",
        "                   [-1, 5,-1], \n",
        "                   [0, -1, 0]])\n",
        "        \n",
        "\n",
        "        # Sharpen image\n",
        "        image_sharp = cv2.filter2D(image_to_sharp, -1, kernel)\n",
        "        \n",
        "        # create full output path, 'example.jpg' \n",
        "        # becomes 'sharp_example.jpg', save the file to disk\n",
        "        fullpath = os.path.join(outPath, 'sharp_'+image_path)\n",
        "        cv2.imwrite(fullpath, image_sharp)\n",
        "\n",
        "if __name__ == '__main__':\n",
        "    sharpen()"
      ],
      "execution_count": 19,
      "outputs": []
    },
    {
      "cell_type": "code",
      "metadata": {
        "id": "QGRE7DOodz1J",
        "colab_type": "code",
        "colab": {}
      },
      "source": [
        ""
      ],
      "execution_count": null,
      "outputs": []
    },
    {
      "cell_type": "code",
      "metadata": {
        "id": "FW8FHifKe0Ei",
        "colab_type": "code",
        "colab": {}
      },
      "source": [
        "def rotate():\n",
        "    outPath = \"/content/drive/My Drive/train/trouser\"\n",
        "    path = \"/content/amazon/training/trousers\"\n",
        "\n",
        "    # iterate through the names of contents of the folder\n",
        "    for image_path in os.listdir(path):\n",
        "\n",
        "        # create the full input path and read the file\n",
        "        input_path = os.path.join(path, image_path)\n",
        "        image_to_rotate = cv2.imread(input_path)\n",
        "\n",
        "        # rotate the image\n",
        "        img_rotate_90_clockwise = cv2.rotate(image_to_rotate, cv2.ROTATE_90_CLOCKWISE)\n",
        "\n",
        "\n",
        "        # create full output path, 'example.jpg' \n",
        "        # becomes 'rotate_example.jpg', save the file to disk\n",
        "        fullpath = os.path.join(outPath, 'rotated_'+image_path)\n",
        "        cv2.imwrite(fullpath, img_rotate_90_clockwise)\n",
        "\n",
        "if __name__ == '__main__':\n",
        "    rotate()"
      ],
      "execution_count": 20,
      "outputs": []
    },
    {
      "cell_type": "code",
      "metadata": {
        "id": "9jsNgXOsf2ht",
        "colab_type": "code",
        "colab": {}
      },
      "source": [
        "def resize():\n",
        "    outPath = \"/content/drive/My Drive/train/trouser\"\n",
        "    path = \"/content/amazon/training/trousers\"\n",
        "\n",
        "    # iterate through the names of contents of the folder\n",
        "    for image_path in os.listdir(path):\n",
        "\n",
        "        # create the full input path and read the file\n",
        "        input_path = os.path.join(path, image_path)\n",
        "        image_to_resize = cv2.imread(input_path)\n",
        "\n",
        "        # resize the image\n",
        "        image_resized = cv2.resize(image_to_resize, (300, 200))\n",
        "\n",
        "        image_rgb = cv2.cvtColor(image_to_resize, cv2.COLOR_BGR2RGB)\n",
        "\n",
        "        # create full output path, 'example.jpg' \n",
        "        # becomes 'resize_example.jpg', save the file to disk\n",
        "        fullpath = os.path.join(outPath, 'resize_'+image_path)\n",
        "        cv2.imwrite(fullpath, image_resized)\n",
        "\n",
        "if __name__ == '__main__':\n",
        "    resize()"
      ],
      "execution_count": 21,
      "outputs": []
    },
    {
      "cell_type": "code",
      "metadata": {
        "id": "dfMZJHFXf3DX",
        "colab_type": "code",
        "colab": {}
      },
      "source": [
        "def flip():\n",
        "    outPath = \"/content/drive/My Drive/train/trouser\"\n",
        "    path = \"/content/amazon/training/trousers\"\n",
        "\n",
        "    # iterate through the names of contents of the folder\n",
        "    for image_path in os.listdir(path):\n",
        "\n",
        "        # create the full input path and read the file\n",
        "        input_path = os.path.join(path, image_path)\n",
        "        image_to_flip = cv2.imread(input_path)\n",
        "\n",
        "        # flip the image\n",
        "        img_flip_ud = cv2.flip(image_to_flip, 0)\n",
        "        \n",
        "\n",
        "\n",
        "        # create full output path, 'example.jpg' \n",
        "        # becomes 'flip_example.jpg', save the file to disk\n",
        "        fullpath = os.path.join(outPath, 'flip_'+image_path)\n",
        "        cv2.imwrite(fullpath, img_flip_ud)\n",
        "\n",
        "if __name__ == '__main__':\n",
        "    flip()"
      ],
      "execution_count": 22,
      "outputs": []
    },
    {
      "cell_type": "code",
      "metadata": {
        "id": "REUIovpLf3ip",
        "colab_type": "code",
        "colab": {}
      },
      "source": [
        "def sharpen():\n",
        "    outPath = \"/content/drive/My Drive/train/trouser\"\n",
        "    path = \"/content/amazon/training/trousers\"\n",
        "\n",
        "    # iterate through the names of contents of the folder\n",
        "    for image_path in os.listdir(path):\n",
        "\n",
        "        # create the full input path and read the file\n",
        "        input_path = os.path.join(path, image_path)\n",
        "        image_to_sharp = cv2.imread(input_path)\n",
        "\n",
        "        # sharp the image\n",
        "        kernel = np.array([[0, -1, 0], \n",
        "                   [-1, 5,-1], \n",
        "                   [0, -1, 0]])\n",
        "        \n",
        "\n",
        "        # Sharpen image\n",
        "        image_sharp = cv2.filter2D(image_to_sharp, -1, kernel)\n",
        "        \n",
        "        # create full output path, 'example.jpg' \n",
        "        # becomes 'sharp_example.jpg', save the file to disk\n",
        "        fullpath = os.path.join(outPath, 'sharp_'+image_path)\n",
        "        cv2.imwrite(fullpath, image_sharp)\n",
        "\n",
        "if __name__ == '__main__':\n",
        "    sharpen()"
      ],
      "execution_count": 23,
      "outputs": []
    },
    {
      "cell_type": "code",
      "metadata": {
        "id": "W2SfUlF7f4Fw",
        "colab_type": "code",
        "colab": {}
      },
      "source": [
        "def bright():\n",
        "    outPath = \"/content/drive/My Drive/train/trouser\"\n",
        "    path = \"/content/amazon/training/trousers\"\n",
        "\n",
        "    # iterate through the names of contents of the folder\n",
        "    for image_path in os.listdir(path):\n",
        "\n",
        "        # create the full input path and read the file\n",
        "        input_path = os.path.join(path, image_path)\n",
        "        image_to_bright = cv2.imread(input_path)\n",
        "\n",
        "        # bright the image\n",
        "        image= cv2.add(image_to_bright,np.array([50.0]))\n",
        "        \n",
        "\n",
        "\n",
        "        # create full output path, 'example.jpg' \n",
        "        # becomes 'bright_example.jpg', save the file to disk\n",
        "        fullpath = os.path.join(outPath, 'bright_'+image_path)\n",
        "        cv2.imwrite(fullpath, image)\n",
        "\n",
        "if __name__ == '__main__':\n",
        "    bright()"
      ],
      "execution_count": 24,
      "outputs": []
    },
    {
      "cell_type": "code",
      "metadata": {
        "id": "JB0Rr2pmf4ss",
        "colab_type": "code",
        "colab": {}
      },
      "source": [
        "def decbright():\n",
        "    outPath = \"/content/drive/My Drive/train/trouser\"\n",
        "    path = \"/content/amazon/training/trousers\"\n",
        "\n",
        "    # iterate through the names of contents of the folder\n",
        "    for image_path in os.listdir(path):\n",
        "\n",
        "        # create the full input path and read the file\n",
        "        input_path = os.path.join(path, image_path)\n",
        "        image_to_bright = cv2.imread(input_path)\n",
        "\n",
        "        # bright the image\n",
        "        image= cv2.add(image_to_bright,np.array([-50.0]))\n",
        "        \n",
        "\n",
        "\n",
        "        # create full output path, 'example.jpg' \n",
        "        # becomes 'bright_example.jpg', save the file to disk\n",
        "        fullpath = os.path.join(outPath, 'decbright_'+image_path)\n",
        "        cv2.imwrite(fullpath, image)\n",
        "\n",
        "if __name__ == '__main__':\n",
        "    decbright()"
      ],
      "execution_count": 25,
      "outputs": []
    },
    {
      "cell_type": "code",
      "metadata": {
        "id": "1EWqQyYDg2as",
        "colab_type": "code",
        "colab": {}
      },
      "source": [
        ""
      ],
      "execution_count": 25,
      "outputs": []
    },
    {
      "cell_type": "code",
      "metadata": {
        "id": "gf0UgYvcg7Om",
        "colab_type": "code",
        "colab": {
          "base_uri": "https://localhost:8080/",
          "height": 34
        },
        "outputId": "2b4ff435-1644-49bc-8828-7552c30c61b7"
      },
      "source": [
        "from keras.models import Sequential\n",
        "from keras.layers import Conv2D, MaxPooling2D\n",
        "from keras.layers import Activation, Dropout, Flatten, Dense\n",
        "from keras import backend as K"
      ],
      "execution_count": 26,
      "outputs": [
        {
          "output_type": "stream",
          "text": [
            "Using TensorFlow backend.\n"
          ],
          "name": "stderr"
        }
      ]
    },
    {
      "cell_type": "code",
      "metadata": {
        "id": "Wnpagv5khAlo",
        "colab_type": "code",
        "colab": {}
      },
      "source": [
        "# dimensions of our images.\n",
        "input_shape=(150,150,3)\n",
        "img_width, img_height = 150, 150\n",
        "\n",
        "train_data_dir = '/content/drive/My Drive/train'\n",
        "validation_data_dir = '/content/amazon/testing'"
      ],
      "execution_count": 27,
      "outputs": []
    },
    {
      "cell_type": "code",
      "metadata": {
        "id": "qpNSaTAehTQp",
        "colab_type": "code",
        "colab": {}
      },
      "source": [
        "from keras.preprocessing.image import ImageDataGenerator, load_img"
      ],
      "execution_count": 28,
      "outputs": []
    },
    {
      "cell_type": "code",
      "metadata": {
        "id": "GBHwi0f7hXZr",
        "colab_type": "code",
        "colab": {
          "base_uri": "https://localhost:8080/",
          "height": 52
        },
        "outputId": "6dea207c-5eb6-489b-816d-5297339eccf4"
      },
      "source": [
        "datagen=ImageDataGenerator(rescale=1./255)\n",
        "\n",
        "train_generator=datagen.flow_from_directory(\n",
        "         train_data_dir,\n",
        "         target_size=(img_width,img_height),\n",
        "         batch_size=8,\n",
        "         class_mode='categorical')\n",
        "\n",
        "validation_generator=datagen.flow_from_directory(\n",
        "         validation_data_dir,\n",
        "         target_size=(img_width,img_height),\n",
        "         batch_size=16,\n",
        "         class_mode='categorical')"
      ],
      "execution_count": 29,
      "outputs": [
        {
          "output_type": "stream",
          "text": [
            "Found 1700 images belonging to 3 classes.\n",
            "Found 30 images belonging to 3 classes.\n"
          ],
          "name": "stdout"
        }
      ]
    },
    {
      "cell_type": "code",
      "metadata": {
        "id": "1vFYvsIrhbwJ",
        "colab_type": "code",
        "colab": {}
      },
      "source": [
        "nb_train_samples=1700\n",
        "nb_validation_samples=30\n",
        "batch_size=10\n",
        "epochs=20"
      ],
      "execution_count": 31,
      "outputs": []
    },
    {
      "cell_type": "code",
      "metadata": {
        "id": "1nvFZhZ2hkO1",
        "colab_type": "code",
        "colab": {}
      },
      "source": [
        "model = Sequential()\n",
        "model.add(Conv2D(32, (3, 3), input_shape=input_shape))\n",
        "model.add(Activation('relu'))\n",
        "model.add(MaxPooling2D(pool_size=(2, 2)))\n",
        "model.add(Dropout(0.2))\n",
        "\n",
        "model.add(Conv2D(32, (3, 3)))\n",
        "model.add(Activation('relu'))\n",
        "model.add(MaxPooling2D(pool_size=(2, 2)))\n",
        "model.add(Dropout(0.2))\n",
        "\n",
        "model.add(Conv2D(64, (3, 3)))\n",
        "model.add(Activation('relu'))\n",
        "model.add(MaxPooling2D(pool_size=(2, 2)))\n",
        "model.add(Dropout(0.2))\n",
        "\n",
        "#flatten layer\n",
        "model.add(Flatten()) # Output convert into one dimension layer and will go to Dense layer\n",
        "model.add(Dense(64))\n",
        "model.add(Activation('relu'))\n",
        "model.add(Dropout(0.5))\n",
        "model.add(Dense(1))\n",
        "model.add(Dense(3, activation='softmax'))"
      ],
      "execution_count": 32,
      "outputs": []
    },
    {
      "cell_type": "code",
      "metadata": {
        "id": "m8sQLNPuhxax",
        "colab_type": "code",
        "colab": {
          "base_uri": "https://localhost:8080/",
          "height": 798
        },
        "outputId": "803410e5-9ac9-4f03-c3df-f3e7e078c9ae"
      },
      "source": [
        "model.summary()"
      ],
      "execution_count": 33,
      "outputs": [
        {
          "output_type": "stream",
          "text": [
            "Model: \"sequential_1\"\n",
            "_________________________________________________________________\n",
            "Layer (type)                 Output Shape              Param #   \n",
            "=================================================================\n",
            "conv2d_1 (Conv2D)            (None, 148, 148, 32)      896       \n",
            "_________________________________________________________________\n",
            "activation_1 (Activation)    (None, 148, 148, 32)      0         \n",
            "_________________________________________________________________\n",
            "max_pooling2d_1 (MaxPooling2 (None, 74, 74, 32)        0         \n",
            "_________________________________________________________________\n",
            "dropout_1 (Dropout)          (None, 74, 74, 32)        0         \n",
            "_________________________________________________________________\n",
            "conv2d_2 (Conv2D)            (None, 72, 72, 32)        9248      \n",
            "_________________________________________________________________\n",
            "activation_2 (Activation)    (None, 72, 72, 32)        0         \n",
            "_________________________________________________________________\n",
            "max_pooling2d_2 (MaxPooling2 (None, 36, 36, 32)        0         \n",
            "_________________________________________________________________\n",
            "dropout_2 (Dropout)          (None, 36, 36, 32)        0         \n",
            "_________________________________________________________________\n",
            "conv2d_3 (Conv2D)            (None, 34, 34, 64)        18496     \n",
            "_________________________________________________________________\n",
            "activation_3 (Activation)    (None, 34, 34, 64)        0         \n",
            "_________________________________________________________________\n",
            "max_pooling2d_3 (MaxPooling2 (None, 17, 17, 64)        0         \n",
            "_________________________________________________________________\n",
            "dropout_3 (Dropout)          (None, 17, 17, 64)        0         \n",
            "_________________________________________________________________\n",
            "flatten_1 (Flatten)          (None, 18496)             0         \n",
            "_________________________________________________________________\n",
            "dense_1 (Dense)              (None, 64)                1183808   \n",
            "_________________________________________________________________\n",
            "activation_4 (Activation)    (None, 64)                0         \n",
            "_________________________________________________________________\n",
            "dropout_4 (Dropout)          (None, 64)                0         \n",
            "_________________________________________________________________\n",
            "dense_2 (Dense)              (None, 1)                 65        \n",
            "_________________________________________________________________\n",
            "dense_3 (Dense)              (None, 3)                 6         \n",
            "=================================================================\n",
            "Total params: 1,212,519\n",
            "Trainable params: 1,212,519\n",
            "Non-trainable params: 0\n",
            "_________________________________________________________________\n"
          ],
          "name": "stdout"
        }
      ]
    },
    {
      "cell_type": "code",
      "metadata": {
        "id": "uLqOo2Oth0U5",
        "colab_type": "code",
        "colab": {}
      },
      "source": [
        "from keras.optimizers import Adam\n",
        "opt = Adam(lr=0.001)\n",
        "model.compile(optimizer=opt, loss='categorical_crossentropy', metrics=['accuracy'])"
      ],
      "execution_count": 34,
      "outputs": []
    },
    {
      "cell_type": "code",
      "metadata": {
        "id": "K_W959j-h4QN",
        "colab_type": "code",
        "colab": {
          "base_uri": "https://localhost:8080/",
          "height": 727
        },
        "outputId": "24b729d9-f844-49a2-bead-16a5a50bebae"
      },
      "source": [
        "history=model.fit_generator(\n",
        "    train_generator,\n",
        "    steps_per_epoch=nb_train_samples//batch_size,\n",
        "    epochs=epochs,\n",
        "    validation_data=validation_generator,\n",
        "    validation_steps=nb_validation_samples//batch_size)"
      ],
      "execution_count": 36,
      "outputs": [
        {
          "output_type": "stream",
          "text": [
            "Epoch 1/20\n",
            "170/170 [==============================] - 44s 257ms/step - loss: 0.8505 - accuracy: 0.5708 - val_loss: 0.7609 - val_accuracy: 0.6087\n",
            "Epoch 2/20\n",
            "170/170 [==============================] - 43s 253ms/step - loss: 0.6185 - accuracy: 0.6860 - val_loss: 0.5946 - val_accuracy: 0.7500\n",
            "Epoch 3/20\n",
            "170/170 [==============================] - 43s 252ms/step - loss: 0.5614 - accuracy: 0.7552 - val_loss: 0.7030 - val_accuracy: 0.6522\n",
            "Epoch 4/20\n",
            "170/170 [==============================] - 44s 256ms/step - loss: 0.5237 - accuracy: 0.7676 - val_loss: 0.5285 - val_accuracy: 0.7273\n",
            "Epoch 5/20\n",
            "170/170 [==============================] - 43s 252ms/step - loss: 0.4733 - accuracy: 0.7876 - val_loss: 0.8567 - val_accuracy: 0.6522\n",
            "Epoch 6/20\n",
            "170/170 [==============================] - 43s 253ms/step - loss: 0.4904 - accuracy: 0.8127 - val_loss: 0.5704 - val_accuracy: 0.7273\n",
            "Epoch 7/20\n",
            "170/170 [==============================] - 43s 256ms/step - loss: 0.4588 - accuracy: 0.8112 - val_loss: 0.5277 - val_accuracy: 0.7826\n",
            "Epoch 8/20\n",
            "170/170 [==============================] - 43s 255ms/step - loss: 0.4073 - accuracy: 0.8360 - val_loss: 0.3174 - val_accuracy: 0.8864\n",
            "Epoch 9/20\n",
            "170/170 [==============================] - 43s 253ms/step - loss: 0.3916 - accuracy: 0.8503 - val_loss: 0.6438 - val_accuracy: 0.7826\n",
            "Epoch 10/20\n",
            "170/170 [==============================] - 43s 252ms/step - loss: 0.3220 - accuracy: 0.8938 - val_loss: 0.3349 - val_accuracy: 0.8636\n",
            "Epoch 11/20\n",
            "170/170 [==============================] - 43s 253ms/step - loss: 0.2977 - accuracy: 0.8968 - val_loss: 1.0415 - val_accuracy: 0.7391\n",
            "Epoch 12/20\n",
            "170/170 [==============================] - 43s 252ms/step - loss: 0.2851 - accuracy: 0.9007 - val_loss: 0.6057 - val_accuracy: 0.8409\n",
            "Epoch 13/20\n",
            "170/170 [==============================] - 43s 251ms/step - loss: 0.2687 - accuracy: 0.9135 - val_loss: 0.2684 - val_accuracy: 0.7826\n",
            "Epoch 14/20\n",
            "170/170 [==============================] - 43s 252ms/step - loss: 0.2247 - accuracy: 0.9299 - val_loss: 0.7144 - val_accuracy: 0.7955\n",
            "Epoch 15/20\n",
            "170/170 [==============================] - 43s 253ms/step - loss: 0.2704 - accuracy: 0.9140 - val_loss: 0.5737 - val_accuracy: 0.8043\n",
            "Epoch 16/20\n",
            "170/170 [==============================] - 43s 252ms/step - loss: 0.2300 - accuracy: 0.9277 - val_loss: 0.5681 - val_accuracy: 0.7727\n",
            "Epoch 17/20\n",
            "170/170 [==============================] - 43s 251ms/step - loss: 0.2043 - accuracy: 0.9336 - val_loss: 0.4871 - val_accuracy: 0.8261\n",
            "Epoch 18/20\n",
            "170/170 [==============================] - 43s 252ms/step - loss: 0.1799 - accuracy: 0.9507 - val_loss: 0.0701 - val_accuracy: 0.8636\n",
            "Epoch 19/20\n",
            "170/170 [==============================] - 43s 254ms/step - loss: 0.1338 - accuracy: 0.9646 - val_loss: 0.6747 - val_accuracy: 0.8696\n",
            "Epoch 20/20\n",
            "170/170 [==============================] - 43s 255ms/step - loss: 0.1549 - accuracy: 0.9580 - val_loss: 0.8360 - val_accuracy: 0.7727\n"
          ],
          "name": "stdout"
        }
      ]
    },
    {
      "cell_type": "code",
      "metadata": {
        "id": "DsKNMYVdh7Vz",
        "colab_type": "code",
        "colab": {}
      },
      "source": [
        "#model saving\n",
        "model.save('Model.h5')"
      ],
      "execution_count": 37,
      "outputs": []
    },
    {
      "cell_type": "code",
      "metadata": {
        "id": "9-7rvKzJkuvN",
        "colab_type": "code",
        "colab": {
          "base_uri": "https://localhost:8080/",
          "height": 573
        },
        "outputId": "7264c0cd-11b1-4a55-c9cb-3a97c34f59ff"
      },
      "source": [
        "# Plot training & validation accuracy values\n",
        "import matplotlib.pyplot as plt\n",
        "%matplotlib inline\n",
        "plt.plot(history.history['accuracy'])\n",
        "plt.plot(history.history['val_accuracy'])\n",
        "plt.title('Model accuracy')\n",
        "plt.ylabel('Accuracy')\n",
        "plt.xlabel('Epoch')\n",
        "plt.legend(['Train', 'Val'], loc='upper left')\n",
        "plt.show()\n",
        "\n",
        "# Plot training & validation loss values\n",
        "plt.plot(history.history['loss'])\n",
        "plt.plot(history.history['val_loss'])\n",
        "plt.title('Model loss')\n",
        "plt.ylabel('Loss')\n",
        "plt.xlabel('Epoch')\n",
        "plt.legend(['Train', 'Val'], loc='upper left')\n",
        "plt.show()"
      ],
      "execution_count": 38,
      "outputs": [
        {
          "output_type": "display_data",
          "data": {
            "image/png": "[encoded data removed]",
            "text/plain": [
              "<Figure size 432x288 with 1 Axes>"
            ]
          },
          "metadata": {
            "tags": [],
            "needs_background": "light"
          }
        },
        {
          "output_type": "display_data",
          "data": {
            "image/png": "[encoded data removed]",
            "text/plain": [
              "<Figure size 432x288 with 1 Axes>"
            ]
          },
          "metadata": {
            "tags": [],
            "needs_background": "light"
          }
        }
      ]
    },
    {
      "cell_type": "code",
      "metadata": {
        "id": "GvFlfbZAkzds",
        "colab_type": "code",
        "colab": {}
      },
      "source": [
        ""
      ],
      "execution_count": null,
      "outputs": []
    }
  ]
}