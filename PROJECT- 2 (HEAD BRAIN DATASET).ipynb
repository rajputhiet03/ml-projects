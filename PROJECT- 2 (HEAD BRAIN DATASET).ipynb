{
 "cells": [
  {
   "cell_type": "markdown",
   "metadata": {},
   "source": [
    "# PROJECT - 2"
   ]
  },
  {
   "cell_type": "markdown",
   "metadata": {},
   "source": [
    "# HEADSIZE-BRAINWEIGHT DATASET"
   ]
  },
  {
   "cell_type": "code",
   "execution_count": 83,
   "metadata": {},
   "outputs": [],
   "source": [
    "import pandas as pd\n",
    "import numpy as np\n",
    "import matplotlib.pyplot as plt\n",
    "import seaborn as sns\n",
    "import sklearn\n",
    "from sklearn.linear_model import LinearRegression"
   ]
  },
  {
   "cell_type": "code",
   "execution_count": 84,
   "metadata": {},
   "outputs": [
    {
     "data": {
      "text/html": [
       "<div>\n",
       "<style scoped>\n",
       "    .dataframe tbody tr th:only-of-type {\n",
       "        vertical-align: middle;\n",
       "    }\n",
       "\n",
       "    .dataframe tbody tr th {\n",
       "        vertical-align: top;\n",
       "    }\n",
       "\n",
       "    .dataframe thead th {\n",
       "        text-align: right;\n",
       "    }\n",
       "</style>\n",
       "<table border=\"1\" class=\"dataframe\">\n",
       "  <thead>\n",
       "    <tr style=\"text-align: right;\">\n",
       "      <th></th>\n",
       "      <th>Gender</th>\n",
       "      <th>AgeRange</th>\n",
       "      <th>HeadSize</th>\n",
       "      <th>BrainWeight</th>\n",
       "    </tr>\n",
       "  </thead>\n",
       "  <tbody>\n",
       "    <tr>\n",
       "      <th>0</th>\n",
       "      <td>1</td>\n",
       "      <td>1</td>\n",
       "      <td>4512</td>\n",
       "      <td>1530</td>\n",
       "    </tr>\n",
       "    <tr>\n",
       "      <th>1</th>\n",
       "      <td>1</td>\n",
       "      <td>1</td>\n",
       "      <td>3738</td>\n",
       "      <td>1297</td>\n",
       "    </tr>\n",
       "    <tr>\n",
       "      <th>2</th>\n",
       "      <td>1</td>\n",
       "      <td>1</td>\n",
       "      <td>4261</td>\n",
       "      <td>1335</td>\n",
       "    </tr>\n",
       "    <tr>\n",
       "      <th>3</th>\n",
       "      <td>1</td>\n",
       "      <td>1</td>\n",
       "      <td>3777</td>\n",
       "      <td>1282</td>\n",
       "    </tr>\n",
       "    <tr>\n",
       "      <th>4</th>\n",
       "      <td>1</td>\n",
       "      <td>1</td>\n",
       "      <td>4177</td>\n",
       "      <td>1590</td>\n",
       "    </tr>\n",
       "  </tbody>\n",
       "</table>\n",
       "</div>"
      ],
      "text/plain": [
       "   Gender  AgeRange  HeadSize  BrainWeight\n",
       "0       1         1      4512         1530\n",
       "1       1         1      3738         1297\n",
       "2       1         1      4261         1335\n",
       "3       1         1      3777         1282\n",
       "4       1         1      4177         1590"
      ]
     },
     "execution_count": 84,
     "metadata": {},
     "output_type": "execute_result"
    }
   ],
   "source": [
    "data=pd.read_csv(\"headbrain.csv\")\n",
    "data.head()"
   ]
  },
  {
   "cell_type": "code",
   "execution_count": 85,
   "metadata": {},
   "outputs": [
    {
     "data": {
      "text/html": [
       "<div>\n",
       "<style scoped>\n",
       "    .dataframe tbody tr th:only-of-type {\n",
       "        vertical-align: middle;\n",
       "    }\n",
       "\n",
       "    .dataframe tbody tr th {\n",
       "        vertical-align: top;\n",
       "    }\n",
       "\n",
       "    .dataframe thead th {\n",
       "        text-align: right;\n",
       "    }\n",
       "</style>\n",
       "<table border=\"1\" class=\"dataframe\">\n",
       "  <thead>\n",
       "    <tr style=\"text-align: right;\">\n",
       "      <th></th>\n",
       "      <th>Gender</th>\n",
       "      <th>AgeRange</th>\n",
       "      <th>HeadSize</th>\n",
       "      <th>BrainWeight</th>\n",
       "    </tr>\n",
       "  </thead>\n",
       "  <tbody>\n",
       "    <tr>\n",
       "      <th>232</th>\n",
       "      <td>2</td>\n",
       "      <td>2</td>\n",
       "      <td>3214</td>\n",
       "      <td>1110</td>\n",
       "    </tr>\n",
       "    <tr>\n",
       "      <th>233</th>\n",
       "      <td>2</td>\n",
       "      <td>2</td>\n",
       "      <td>3394</td>\n",
       "      <td>1215</td>\n",
       "    </tr>\n",
       "    <tr>\n",
       "      <th>234</th>\n",
       "      <td>2</td>\n",
       "      <td>2</td>\n",
       "      <td>3233</td>\n",
       "      <td>1104</td>\n",
       "    </tr>\n",
       "    <tr>\n",
       "      <th>235</th>\n",
       "      <td>2</td>\n",
       "      <td>2</td>\n",
       "      <td>3352</td>\n",
       "      <td>1170</td>\n",
       "    </tr>\n",
       "    <tr>\n",
       "      <th>236</th>\n",
       "      <td>2</td>\n",
       "      <td>2</td>\n",
       "      <td>3391</td>\n",
       "      <td>1120</td>\n",
       "    </tr>\n",
       "  </tbody>\n",
       "</table>\n",
       "</div>"
      ],
      "text/plain": [
       "     Gender  AgeRange  HeadSize  BrainWeight\n",
       "232       2         2      3214         1110\n",
       "233       2         2      3394         1215\n",
       "234       2         2      3233         1104\n",
       "235       2         2      3352         1170\n",
       "236       2         2      3391         1120"
      ]
     },
     "execution_count": 85,
     "metadata": {},
     "output_type": "execute_result"
    }
   ],
   "source": [
    "data.tail()"
   ]
  },
  {
   "cell_type": "code",
   "execution_count": 86,
   "metadata": {},
   "outputs": [
    {
     "data": {
      "text/plain": [
       "Gender         int64\n",
       "AgeRange       int64\n",
       "HeadSize       int64\n",
       "BrainWeight    int64\n",
       "dtype: object"
      ]
     },
     "execution_count": 86,
     "metadata": {},
     "output_type": "execute_result"
    }
   ],
   "source": [
    "data.dtypes"
   ]
  },
  {
   "cell_type": "code",
   "execution_count": 87,
   "metadata": {},
   "outputs": [
    {
     "data": {
      "text/html": [
       "<div>\n",
       "<style scoped>\n",
       "    .dataframe tbody tr th:only-of-type {\n",
       "        vertical-align: middle;\n",
       "    }\n",
       "\n",
       "    .dataframe tbody tr th {\n",
       "        vertical-align: top;\n",
       "    }\n",
       "\n",
       "    .dataframe thead th {\n",
       "        text-align: right;\n",
       "    }\n",
       "</style>\n",
       "<table border=\"1\" class=\"dataframe\">\n",
       "  <thead>\n",
       "    <tr style=\"text-align: right;\">\n",
       "      <th></th>\n",
       "      <th>Gender</th>\n",
       "      <th>AgeRange</th>\n",
       "      <th>HeadSize</th>\n",
       "      <th>BrainWeight</th>\n",
       "    </tr>\n",
       "  </thead>\n",
       "  <tbody>\n",
       "    <tr>\n",
       "      <th>count</th>\n",
       "      <td>237.000000</td>\n",
       "      <td>237.000000</td>\n",
       "      <td>237.000000</td>\n",
       "      <td>237.000000</td>\n",
       "    </tr>\n",
       "    <tr>\n",
       "      <th>mean</th>\n",
       "      <td>1.434599</td>\n",
       "      <td>1.535865</td>\n",
       "      <td>3633.991561</td>\n",
       "      <td>1282.873418</td>\n",
       "    </tr>\n",
       "    <tr>\n",
       "      <th>std</th>\n",
       "      <td>0.496753</td>\n",
       "      <td>0.499768</td>\n",
       "      <td>365.261422</td>\n",
       "      <td>120.340446</td>\n",
       "    </tr>\n",
       "    <tr>\n",
       "      <th>min</th>\n",
       "      <td>1.000000</td>\n",
       "      <td>1.000000</td>\n",
       "      <td>2720.000000</td>\n",
       "      <td>955.000000</td>\n",
       "    </tr>\n",
       "    <tr>\n",
       "      <th>25%</th>\n",
       "      <td>1.000000</td>\n",
       "      <td>1.000000</td>\n",
       "      <td>3389.000000</td>\n",
       "      <td>1207.000000</td>\n",
       "    </tr>\n",
       "    <tr>\n",
       "      <th>50%</th>\n",
       "      <td>1.000000</td>\n",
       "      <td>2.000000</td>\n",
       "      <td>3614.000000</td>\n",
       "      <td>1280.000000</td>\n",
       "    </tr>\n",
       "    <tr>\n",
       "      <th>75%</th>\n",
       "      <td>2.000000</td>\n",
       "      <td>2.000000</td>\n",
       "      <td>3876.000000</td>\n",
       "      <td>1350.000000</td>\n",
       "    </tr>\n",
       "    <tr>\n",
       "      <th>max</th>\n",
       "      <td>2.000000</td>\n",
       "      <td>2.000000</td>\n",
       "      <td>4747.000000</td>\n",
       "      <td>1635.000000</td>\n",
       "    </tr>\n",
       "  </tbody>\n",
       "</table>\n",
       "</div>"
      ],
      "text/plain": [
       "           Gender    AgeRange     HeadSize  BrainWeight\n",
       "count  237.000000  237.000000   237.000000   237.000000\n",
       "mean     1.434599    1.535865  3633.991561  1282.873418\n",
       "std      0.496753    0.499768   365.261422   120.340446\n",
       "min      1.000000    1.000000  2720.000000   955.000000\n",
       "25%      1.000000    1.000000  3389.000000  1207.000000\n",
       "50%      1.000000    2.000000  3614.000000  1280.000000\n",
       "75%      2.000000    2.000000  3876.000000  1350.000000\n",
       "max      2.000000    2.000000  4747.000000  1635.000000"
      ]
     },
     "execution_count": 87,
     "metadata": {},
     "output_type": "execute_result"
    }
   ],
   "source": [
    "data.describe()"
   ]
  },
  {
   "cell_type": "code",
   "execution_count": 88,
   "metadata": {},
   "outputs": [
    {
     "name": "stdout",
     "output_type": "stream",
     "text": [
      "<class 'pandas.core.frame.DataFrame'>\n",
      "RangeIndex: 237 entries, 0 to 236\n",
      "Data columns (total 4 columns):\n",
      "Gender         237 non-null int64\n",
      "AgeRange       237 non-null int64\n",
      "HeadSize       237 non-null int64\n",
      "BrainWeight    237 non-null int64\n",
      "dtypes: int64(4)\n",
      "memory usage: 7.5 KB\n"
     ]
    }
   ],
   "source": [
    "data.info()"
   ]
  },
  {
   "cell_type": "code",
   "execution_count": 89,
   "metadata": {},
   "outputs": [
    {
     "data": {
      "text/html": [
       "<div>\n",
       "<style scoped>\n",
       "    .dataframe tbody tr th:only-of-type {\n",
       "        vertical-align: middle;\n",
       "    }\n",
       "\n",
       "    .dataframe tbody tr th {\n",
       "        vertical-align: top;\n",
       "    }\n",
       "\n",
       "    .dataframe thead th {\n",
       "        text-align: right;\n",
       "    }\n",
       "</style>\n",
       "<table border=\"1\" class=\"dataframe\">\n",
       "  <thead>\n",
       "    <tr style=\"text-align: right;\">\n",
       "      <th></th>\n",
       "      <th>Gender</th>\n",
       "      <th>AgeRange</th>\n",
       "      <th>HeadSize</th>\n",
       "      <th>BrainWeight</th>\n",
       "    </tr>\n",
       "  </thead>\n",
       "  <tbody>\n",
       "    <tr>\n",
       "      <th>Gender</th>\n",
       "      <td>1.000000</td>\n",
       "      <td>-0.088652</td>\n",
       "      <td>-0.514050</td>\n",
       "      <td>-0.465266</td>\n",
       "    </tr>\n",
       "    <tr>\n",
       "      <th>AgeRange</th>\n",
       "      <td>-0.088652</td>\n",
       "      <td>1.000000</td>\n",
       "      <td>-0.105428</td>\n",
       "      <td>-0.169438</td>\n",
       "    </tr>\n",
       "    <tr>\n",
       "      <th>HeadSize</th>\n",
       "      <td>-0.514050</td>\n",
       "      <td>-0.105428</td>\n",
       "      <td>1.000000</td>\n",
       "      <td>0.799570</td>\n",
       "    </tr>\n",
       "    <tr>\n",
       "      <th>BrainWeight</th>\n",
       "      <td>-0.465266</td>\n",
       "      <td>-0.169438</td>\n",
       "      <td>0.799570</td>\n",
       "      <td>1.000000</td>\n",
       "    </tr>\n",
       "  </tbody>\n",
       "</table>\n",
       "</div>"
      ],
      "text/plain": [
       "               Gender  AgeRange  HeadSize  BrainWeight\n",
       "Gender       1.000000 -0.088652 -0.514050    -0.465266\n",
       "AgeRange    -0.088652  1.000000 -0.105428    -0.169438\n",
       "HeadSize    -0.514050 -0.105428  1.000000     0.799570\n",
       "BrainWeight -0.465266 -0.169438  0.799570     1.000000"
      ]
     },
     "execution_count": 89,
     "metadata": {},
     "output_type": "execute_result"
    }
   ],
   "source": [
    "data.corr()"
   ]
  },
  {
   "cell_type": "code",
   "execution_count": 90,
   "metadata": {},
   "outputs": [
    {
     "data": {
      "text/plain": [
       "Gender           0.496753\n",
       "AgeRange         0.499768\n",
       "HeadSize       365.261422\n",
       "BrainWeight    120.340446\n",
       "dtype: float64"
      ]
     },
     "execution_count": 90,
     "metadata": {},
     "output_type": "execute_result"
    }
   ],
   "source": [
    "data.std()"
   ]
  },
  {
   "cell_type": "code",
   "execution_count": 91,
   "metadata": {},
   "outputs": [
    {
     "data": {
      "text/plain": [
       "Gender              0.246764\n",
       "AgeRange            0.249768\n",
       "HeadSize       133415.906708\n",
       "BrainWeight     14481.822892\n",
       "dtype: float64"
      ]
     },
     "execution_count": 91,
     "metadata": {},
     "output_type": "execute_result"
    }
   ],
   "source": [
    "data.var()"
   ]
  },
  {
   "cell_type": "code",
   "execution_count": 92,
   "metadata": {},
   "outputs": [
    {
     "data": {
      "text/plain": [
       "Gender            1.434599\n",
       "AgeRange          1.535865\n",
       "HeadSize       3633.991561\n",
       "BrainWeight    1282.873418\n",
       "dtype: float64"
      ]
     },
     "execution_count": 92,
     "metadata": {},
     "output_type": "execute_result"
    }
   ],
   "source": [
    "data.mean()"
   ]
  },
  {
   "cell_type": "code",
   "execution_count": 93,
   "metadata": {},
   "outputs": [
    {
     "data": {
      "text/plain": [
       "Gender         0.265554\n",
       "AgeRange      -0.144748\n",
       "HeadSize       0.238807\n",
       "BrainWeight    0.265478\n",
       "dtype: float64"
      ]
     },
     "execution_count": 93,
     "metadata": {},
     "output_type": "execute_result"
    }
   ],
   "source": [
    "data.skew()"
   ]
  },
  {
   "cell_type": "code",
   "execution_count": 94,
   "metadata": {},
   "outputs": [
    {
     "data": {
      "text/plain": [
       "Gender         0\n",
       "AgeRange       0\n",
       "HeadSize       0\n",
       "BrainWeight    0\n",
       "dtype: int64"
      ]
     },
     "execution_count": 94,
     "metadata": {},
     "output_type": "execute_result"
    }
   ],
   "source": [
    "data.isnull().sum()"
   ]
  },
  {
   "cell_type": "code",
   "execution_count": 95,
   "metadata": {},
   "outputs": [
    {
     "data": {
      "text/plain": [
       "<matplotlib.axes._subplots.AxesSubplot at 0xcfd7438>"
      ]
     },
     "execution_count": 95,
     "metadata": {},
     "output_type": "execute_result"
    },
    {
     "data": {
      "image/png": "[encoded data removed]",
      "text/plain": [
       "<Figure size 432x288 with 2 Axes>"
      ]
     },
     "metadata": {
      "needs_background": "light"
     },
     "output_type": "display_data"
    }
   ],
   "source": [
    "sns.heatmap(data.isnull())"
   ]
  },
  {
   "cell_type": "code",
   "execution_count": 96,
   "metadata": {},
   "outputs": [
    {
     "data": {
      "text/plain": [
       "<matplotlib.axes._subplots.AxesSubplot at 0xe8799e8>"
      ]
     },
     "execution_count": 96,
     "metadata": {},
     "output_type": "execute_result"
    },
    {
     "data": {
      "image/png": "[encoded data removed]",
      "text/plain": [
       "<Figure size 432x288 with 2 Axes>"
      ]
     },
     "metadata": {
      "needs_background": "light"
     },
     "output_type": "display_data"
    }
   ],
   "source": [
    "sns.heatmap(data.corr())"
   ]
  },
  {
   "cell_type": "code",
   "execution_count": 97,
   "metadata": {},
   "outputs": [
    {
     "data": {
      "text/plain": [
       "<matplotlib.axes._subplots.AxesSubplot at 0xe906400>"
      ]
     },
     "execution_count": 97,
     "metadata": {},
     "output_type": "execute_result"
    },
    {
     "data": {
      "image/png": "[encoded data removed]",
      "text/plain": [
       "<Figure size 432x288 with 1 Axes>"
      ]
     },
     "metadata": {
      "needs_background": "light"
     },
     "output_type": "display_data"
    }
   ],
   "source": [
    "data.plot.hist()"
   ]
  },
  {
   "cell_type": "code",
   "execution_count": 98,
   "metadata": {},
   "outputs": [
    {
     "data": {
      "text/plain": [
       "array([[<matplotlib.axes._subplots.AxesSubplot object at 0x000000000E9E2898>,\n",
       "        <matplotlib.axes._subplots.AxesSubplot object at 0x000000000EA02860>,\n",
       "        <matplotlib.axes._subplots.AxesSubplot object at 0x000000000EA31E10>,\n",
       "        <matplotlib.axes._subplots.AxesSubplot object at 0x000000000EA6D400>],\n",
       "       [<matplotlib.axes._subplots.AxesSubplot object at 0x000000000EA9F9B0>,\n",
       "        <matplotlib.axes._subplots.AxesSubplot object at 0x000000000EAD3F60>,\n",
       "        <matplotlib.axes._subplots.AxesSubplot object at 0x000000000EB0B550>,\n",
       "        <matplotlib.axes._subplots.AxesSubplot object at 0x000000000EB3DB38>],\n",
       "       [<matplotlib.axes._subplots.AxesSubplot object at 0x000000000EB3DB70>,\n",
       "        <matplotlib.axes._subplots.AxesSubplot object at 0x000000000EBAD668>,\n",
       "        <matplotlib.axes._subplots.AxesSubplot object at 0x000000000EBDEC18>,\n",
       "        <matplotlib.axes._subplots.AxesSubplot object at 0x000000000EC10860>],\n",
       "       [<matplotlib.axes._subplots.AxesSubplot object at 0x000000000EC2FD68>,\n",
       "        <matplotlib.axes._subplots.AxesSubplot object at 0x000000000EC6C358>,\n",
       "        <matplotlib.axes._subplots.AxesSubplot object at 0x000000000EC9C908>,\n",
       "        <matplotlib.axes._subplots.AxesSubplot object at 0x000000000ECD0EB8>]],\n",
       "      dtype=object)"
      ]
     },
     "execution_count": 98,
     "metadata": {},
     "output_type": "execute_result"
    },
    {
     "data": {
      "image/png": "[encoded data removed]",
      "text/plain": [
       "<Figure size 432x288 with 16 Axes>"
      ]
     },
     "metadata": {
      "needs_background": "light"
     },
     "output_type": "display_data"
    }
   ],
   "source": [
    "from pandas.plotting import scatter_matrix\n",
    "scatter_matrix(data)"
   ]
  },
  {
   "cell_type": "code",
   "execution_count": 99,
   "metadata": {},
   "outputs": [
    {
     "data": {
      "text/plain": [
       "<seaborn.axisgrid.PairGrid at 0xed51b00>"
      ]
     },
     "execution_count": 99,
     "metadata": {},
     "output_type": "execute_result"
    },
    {
     "data": {
      "image/png": "[encoded data removed]",
      "text/plain": [
       "<Figure size 720x720 with 20 Axes>"
      ]
     },
     "metadata": {
      "needs_background": "light"
     },
     "output_type": "display_data"
    }
   ],
   "source": [
    "sns.pairplot(data)"
   ]
  },
  {
   "cell_type": "markdown",
   "metadata": {},
   "source": [
    "# CHECKING OUTLIERS"
   ]
  },
  {
   "cell_type": "code",
   "execution_count": 100,
   "metadata": {},
   "outputs": [
    {
     "data": {
      "text/plain": [
       "<matplotlib.axes._subplots.AxesSubplot at 0xf6b6710>"
      ]
     },
     "execution_count": 100,
     "metadata": {},
     "output_type": "execute_result"
    },
    {
     "data": {
      "image/png": "[encoded data removed]",
      "text/plain": [
       "<Figure size 432x288 with 1 Axes>"
      ]
     },
     "metadata": {
      "needs_background": "light"
     },
     "output_type": "display_data"
    }
   ],
   "source": [
    "data[\"HeadSize\"].plot.box()"
   ]
  },
  {
   "cell_type": "code",
   "execution_count": 101,
   "metadata": {},
   "outputs": [
    {
     "data": {
      "text/plain": [
       "<matplotlib.axes._subplots.AxesSubplot at 0xf70d518>"
      ]
     },
     "execution_count": 101,
     "metadata": {},
     "output_type": "execute_result"
    },
    {
     "data": {
      "image/png": "[encoded data removed]",
      "text/plain": [
       "<Figure size 432x288 with 1 Axes>"
      ]
     },
     "metadata": {
      "needs_background": "light"
     },
     "output_type": "display_data"
    }
   ],
   "source": [
    "data[\"BrainWeight\"].plot.box()"
   ]
  },
  {
   "cell_type": "code",
   "execution_count": 102,
   "metadata": {},
   "outputs": [
    {
     "data": {
      "text/plain": [
       "<matplotlib.axes._subplots.AxesSubplot at 0xf95db00>"
      ]
     },
     "execution_count": 102,
     "metadata": {},
     "output_type": "execute_result"
    },
    {
     "data": {
      "image/png": "[encoded data removed]",
      "text/plain": [
       "<Figure size 432x288 with 1 Axes>"
      ]
     },
     "metadata": {
      "needs_background": "light"
     },
     "output_type": "display_data"
    }
   ],
   "source": [
    "data[\"Gender\"].plot.box()"
   ]
  },
  {
   "cell_type": "code",
   "execution_count": 103,
   "metadata": {},
   "outputs": [
    {
     "data": {
      "text/plain": [
       "array([[0.8767307 , 1.07449777, 2.40886829, 2.0579083 ],\n",
       "       [0.8767307 , 1.07449777, 0.28535333, 0.11763692],\n",
       "       [0.8767307 , 1.07449777, 1.72023489, 0.43407603],\n",
       "       [0.8767307 , 1.07449777, 0.39235214, 0.00727325],\n",
       "       [0.8767307 , 1.07449777, 1.4897759 , 2.557549  ],\n",
       "       [0.8767307 , 1.07449777, 0.13441126, 0.14261896],\n",
       "       [0.8767307 , 1.07449777, 0.41430062, 0.97535345],\n",
       "       [0.8767307 , 1.07449777, 0.2057438 , 0.23211156],\n",
       "       [0.8767307 , 1.07449777, 0.05759159, 0.60062293],\n",
       "       [0.8767307 , 1.07449777, 0.95478182, 0.76716983],\n",
       "       [0.8767307 , 1.07449777, 0.52399669, 0.47571276],\n",
       "       [0.8767307 , 1.07449777, 0.98496097, 0.80880656],\n",
       "       [0.8767307 , 1.07449777, 0.01648451, 0.60062293],\n",
       "       [0.8767307 , 1.07449777, 1.57482624, 1.99128954],\n",
       "       [0.8767307 , 1.07449777, 0.54324791, 0.62349678],\n",
       "       [0.8767307 , 1.07449777, 0.66396452, 1.01699018],\n",
       "       [0.8767307 , 1.07449777, 0.37584448, 0.62560497],\n",
       "       [0.8767307 , 1.07449777, 0.46089482, 0.0760002 ],\n",
       "       [0.8767307 , 1.07449777, 1.47875536, 0.47571276],\n",
       "       [0.8767307 , 1.07449777, 2.16743507, 0.97535345],\n",
       "       [0.8767307 , 1.07449777, 0.66945164, 0.61727762],\n",
       "       [0.8767307 , 1.07449777, 1.13036962, 0.03436347],\n",
       "       [0.8767307 , 1.07449777, 0.46642825, 0.06556467],\n",
       "       [0.8767307 , 1.07449777, 0.20853367, 0.10720139],\n",
       "       [0.8767307 , 1.07449777, 3.05360475, 2.93227952],\n",
       "       [0.8767307 , 1.07449777, 2.16469151, 1.84972468],\n",
       "       [0.8767307 , 1.07449777, 1.10293403, 1.7248145 ],\n",
       "       [0.8767307 , 1.07449777, 1.06452419, 1.68317778],\n",
       "       [0.8767307 , 1.07449777, 0.49381754, 0.22589241],\n",
       "       [0.8767307 , 1.07449777, 1.48428878, 1.14190035],\n",
       "       [0.8767307 , 1.07449777, 0.41978774, 0.29251117],\n",
       "       [0.8767307 , 1.07449777, 0.44447977, 1.24182849],\n",
       "       [0.8767307 , 1.07449777, 1.28675251, 0.67556904],\n",
       "       [0.8767307 , 1.07449777, 1.44587895, 1.01699018],\n",
       "       [0.8767307 , 1.07449777, 1.43764827, 1.24182849],\n",
       "       [0.8767307 , 1.07449777, 0.49386384, 0.63182412],\n",
       "       [0.8767307 , 1.07449777, 0.2935377 , 0.76716983],\n",
       "       [0.8767307 , 1.07449777, 0.31278892, 0.55898621],\n",
       "       [0.8767307 , 1.07449777, 0.82304466, 0.39033112],\n",
       "       [0.8767307 , 1.07449777, 0.38956228, 0.27374829],\n",
       "       [0.8767307 , 1.07449777, 0.89991063, 0.55898621],\n",
       "       [0.8767307 , 1.07449777, 0.35389601, 0.30916586],\n",
       "       [0.8767307 , 1.07449777, 1.8683871 , 2.01627157],\n",
       "       [0.8767307 , 1.07449777, 0.46642825, 2.3910021 ],\n",
       "       [0.8767307 , 1.07449777, 0.62829825, 0.47571276],\n",
       "       [0.8767307 , 1.07449777, 1.09744691, 1.15855504],\n",
       "       [0.8767307 , 1.07449777, 1.84918218, 1.85805202],\n",
       "       [0.8767307 , 1.07449777, 1.2867062 , 0.56520536],\n",
       "       [0.8767307 , 1.07449777, 0.01922807, 0.23421975],\n",
       "       [0.8767307 , 1.07449777, 0.02745875, 0.14261896],\n",
       "       [0.8767307 , 1.07449777, 0.70511792, 0.49025926],\n",
       "       [0.8767307 , 1.07449777, 0.4362491 , 0.55898621],\n",
       "       [0.8767307 , 1.07449777, 1.74492692, 0.43407603],\n",
       "       [0.8767307 , 1.07449777, 1.17701013, 0.89208   ],\n",
       "       [0.8767307 , 1.07449777, 1.0370886 , 0.97535345],\n",
       "       [0.8767307 , 1.07449777, 0.4828433 , 0.48193191],\n",
       "       [0.8767307 , 1.07449777, 0.70237436, 0.22589241],\n",
       "       [0.8767307 , 0.93066736, 1.45959675, 2.30772865],\n",
       "       [0.8767307 , 0.93066736, 0.82583453, 0.39243931],\n",
       "       [0.8767307 , 0.93066736, 0.09604773, 0.50691395],\n",
       "       [0.8767307 , 0.93066736, 0.63652893, 1.10026363],\n",
       "       [0.8767307 , 0.93066736, 0.66117466, 0.89829916],\n",
       "       [0.8767307 , 0.93066736, 2.21681914, 0.39243931],\n",
       "       [0.8767307 , 0.93066736, 1.69828641, 1.68317778],\n",
       "       [0.8767307 , 0.93066736, 0.25517418, 1.5582676 ],\n",
       "       [0.8767307 , 0.93066736, 0.83676246, 1.23139296],\n",
       "       [0.8767307 , 0.93066736, 0.60081635, 0.22589241],\n",
       "       [0.8767307 , 0.93066736, 0.71878941, 1.07317341],\n",
       "       [0.8767307 , 0.93066736, 2.18389643, 1.8913614 ],\n",
       "       [0.8767307 , 0.93066736, 2.04946202, 1.10026363],\n",
       "       [0.8767307 , 0.93066736, 1.02611436, 1.54161291],\n",
       "       [0.8767307 , 0.93066736, 0.61458046, 0.89208   ],\n",
       "       [0.8767307 , 0.93066736, 1.33613657, 0.80880656],\n",
       "       [0.8767307 , 0.93066736, 1.16054877, 1.24182849],\n",
       "       [0.8767307 , 0.93066736, 0.52129944, 0.35702174],\n",
       "       [0.8767307 , 0.93066736, 0.6584311 , 0.73175226],\n",
       "       [0.8767307 , 0.93066736, 0.20848736, 0.48193191],\n",
       "       [0.8767307 , 0.93066736, 0.746225  , 0.79004368],\n",
       "       [0.8767307 , 0.93066736, 0.81211673, 0.2570936 ],\n",
       "       [0.8767307 , 0.93066736, 0.55147859, 0.26752913],\n",
       "       [0.8767307 , 0.93066736, 0.53776079, 0.31538501],\n",
       "       [0.8767307 , 0.93066736, 0.60909334, 1.2251738 ],\n",
       "       [0.8767307 , 0.93066736, 1.05624721, 0.03225529],\n",
       "       [0.8767307 , 0.93066736, 0.15635973, 0.31538501],\n",
       "       [0.8767307 , 0.93066736, 0.82034741, 0.21756506],\n",
       "       [0.8767307 , 0.93066736, 0.59263198, 1.07528159],\n",
       "       [0.8767307 , 0.93066736, 0.89163365, 1.35630313],\n",
       "       [0.8767307 , 0.93066736, 0.62550839, 0.52356864],\n",
       "       [0.8767307 , 0.93066736, 0.35115245, 0.02392794],\n",
       "       [0.8767307 , 0.93066736, 0.74901487, 1.30844725],\n",
       "       [0.8767307 , 0.93066736, 1.44313539, 0.72553311],\n",
       "       [0.8767307 , 0.93066736, 0.86694161, 0.7567343 ],\n",
       "       [0.8767307 , 0.93066736, 0.07684282, 0.44029519],\n",
       "       [0.8767307 , 0.93066736, 0.72706639, 0.52567683],\n",
       "       [0.8767307 , 0.93066736, 0.18109807, 0.05934551],\n",
       "       [0.8767307 , 0.93066736, 0.39783926, 0.98157261],\n",
       "       [0.8767307 , 0.93066736, 0.44168991, 0.35702174],\n",
       "       [0.8767307 , 0.93066736, 0.3950494 , 1.25637499],\n",
       "       [0.8767307 , 0.93066736, 0.05489434, 0.34036705],\n",
       "       [0.8767307 , 0.93066736, 0.42797211, 0.10720139],\n",
       "       [0.8767307 , 0.93066736, 0.3813316 , 0.54022333],\n",
       "       [0.8767307 , 0.93066736, 0.54873503, 1.2251738 ],\n",
       "       [0.8767307 , 0.93066736, 0.66396452, 2.54089431],\n",
       "       [0.8767307 , 0.93066736, 0.07409926, 0.30916586],\n",
       "       [0.8767307 , 0.93066736, 0.0438738 , 0.05934551],\n",
       "       [0.8767307 , 0.93066736, 0.03843298, 0.19047484],\n",
       "       [0.8767307 , 0.93066736, 1.09195979, 1.18353708],\n",
       "       [0.8767307 , 0.93066736, 0.6447133 , 0.47360457],\n",
       "       [0.8767307 , 0.93066736, 0.7737069 , 0.64225966],\n",
       "       [0.8767307 , 0.93066736, 2.18389643, 2.80736935],\n",
       "       [0.8767307 , 0.93066736, 0.16738028, 0.22589241],\n",
       "       [0.8767307 , 0.93066736, 0.30176838, 0.27374829],\n",
       "       [0.8767307 , 0.93066736, 0.17282109, 0.10098223],\n",
       "       [0.8767307 , 0.93066736, 0.10971922, 0.05934551],\n",
       "       [0.8767307 , 0.93066736, 0.68861025, 0.05934551],\n",
       "       [0.8767307 , 0.93066736, 0.37035736, 0.06556467],\n",
       "       [0.8767307 , 0.93066736, 0.12343702, 0.27374829],\n",
       "       [0.8767307 , 0.93066736, 0.72980995, 0.10720139],\n",
       "       [0.8767307 , 0.93066736, 1.31693166, 0.65891435],\n",
       "       [0.8767307 , 0.93066736, 0.83132165, 0.14261896],\n",
       "       [0.8767307 , 0.93066736, 0.6447133 , 0.91495385],\n",
       "       [0.8767307 , 0.93066736, 1.55287777, 0.22378422],\n",
       "       [0.8767307 , 0.93066736, 2.34302287, 1.30844725],\n",
       "       [0.8767307 , 0.93066736, 0.05484804, 0.85666244],\n",
       "       [0.8767307 , 0.93066736, 1.14408742, 0.19258303],\n",
       "       [0.8767307 , 0.93066736, 0.40606994, 0.55898621],\n",
       "       [0.8767307 , 0.93066736, 0.66666178, 1.31466641],\n",
       "       [0.8767307 , 0.93066736, 1.39919214, 0.98157261],\n",
       "       [0.8767307 , 0.93066736, 1.14957454, 0.2425471 ],\n",
       "       [0.8767307 , 0.93066736, 0.14264194, 0.14261896],\n",
       "       [0.8767307 , 0.93066736, 0.08781705, 0.10720139],\n",
       "       [0.8767307 , 0.93066736, 0.27981991, 0.43407603],\n",
       "       [0.8767307 , 0.93066736, 1.13036962, 1.3917207 ],\n",
       "       [0.8767307 , 0.93066736, 0.09056061, 0.22589241],\n",
       "       [1.1406011 , 1.07449777, 2.13172249, 2.13074621],\n",
       "       [1.1406011 , 1.07449777, 0.54320161, 0.39865846],\n",
       "       [1.1406011 , 1.07449777, 0.43076198, 0.19047484],\n",
       "       [1.1406011 , 1.07449777, 0.91083856, 0.98157261],\n",
       "       [1.1406011 , 1.07449777, 1.45406332, 1.68939693],\n",
       "       [1.1406011 , 1.07449777, 1.27024484, 1.29801172],\n",
       "       [1.1406011 , 1.07449777, 0.17007753, 0.10720139],\n",
       "       [1.1406011 , 1.07449777, 0.28530702, 0.2570936 ],\n",
       "       [1.1406011 , 1.07449777, 1.25927061, 0.69011554],\n",
       "       [1.1406011 , 1.07449777, 0.53771449, 0.05934551],\n",
       "       [1.1406011 , 1.07449777, 0.73804063, 0.42574869],\n",
       "       [1.1406011 , 1.07449777, 0.72706639, 0.80880656],\n",
       "       [1.1406011 , 1.07449777, 0.63922618, 1.18975623],\n",
       "       [1.1406011 , 1.07449777, 1.00686314, 0.3320397 ],\n",
       "       [1.1406011 , 1.07449777, 0.50204822, 0.47571276],\n",
       "       [1.1406011 , 1.07449777, 1.49247315, 0.95659058],\n",
       "       [1.1406011 , 1.07449777, 0.60630347, 0.32582055],\n",
       "       [1.1406011 , 1.07449777, 0.85322382, 0.28207563],\n",
       "       [1.1406011 , 1.07449777, 0.12622688, 0.3174932 ],\n",
       "       [1.1406011 , 1.07449777, 0.53497093, 0.7567343 ],\n",
       "       [1.1406011 , 1.07449777, 0.60086266, 0.75051514],\n",
       "       [1.1406011 , 1.07449777, 1.31139823, 0.93993589],\n",
       "       [1.1406011 , 1.07449777, 0.97394043, 0.14883811],\n",
       "       [1.1406011 , 1.07449777, 0.20030299, 0.39865846],\n",
       "       [1.1406011 , 1.07449777, 1.02062724, 0.15927365],\n",
       "       [1.1406011 , 1.07449777, 1.00137602, 0.34869439],\n",
       "       [1.1406011 , 1.07449777, 1.54460078, 1.70605162],\n",
       "       [1.1406011 , 1.07449777, 0.39783926, 1.97463485],\n",
       "       [1.1406011 , 1.07449777, 0.23592295, 1.47499415],\n",
       "       [1.1406011 , 1.07449777, 0.93827416, 1.73103366],\n",
       "       [1.1406011 , 1.07449777, 0.37584448, 0.02392794],\n",
       "       [1.1406011 , 1.07449777, 1.51442163, 0.85666244],\n",
       "       [1.1406011 , 1.07449777, 1.05899077, 0.27374829],\n",
       "       [1.1406011 , 1.07449777, 0.75719924, 0.77338899],\n",
       "       [1.1406011 , 1.07449777, 0.46368469, 0.75884249],\n",
       "       [1.1406011 , 1.07449777, 0.18653889, 0.19258303],\n",
       "       [1.1406011 , 1.07449777, 1.34157739, 0.67346085],\n",
       "       [1.1406011 , 1.07449777, 0.35938313, 0.35702174],\n",
       "       [1.1406011 , 1.07449777, 0.17282109, 0.27585648],\n",
       "       [1.1406011 , 1.07449777, 0.2469435 , 0.02392794],\n",
       "       [1.1406011 , 1.07449777, 0.05210448, 0.55898621],\n",
       "       [1.1406011 , 1.07449777, 1.18245094, 0.85666244],\n",
       "       [1.1406011 , 1.07449777, 0.06856583, 0.60684209],\n",
       "       [1.1406011 , 1.07449777, 0.20025668, 1.29801172],\n",
       "       [1.1406011 , 1.07449777, 0.94655114, 0.34247524],\n",
       "       [1.1406011 , 1.07449777, 0.27707635, 0.60684209],\n",
       "       [1.1406011 , 1.07449777, 0.15091892, 0.05934551],\n",
       "       [1.1406011 , 1.07449777, 1.30591112, 1.52285003],\n",
       "       [1.1406011 , 1.07449777, 1.01788369, 0.02392794],\n",
       "       [1.1406011 , 1.07449777, 1.24280925, 0.89829916],\n",
       "       [1.1406011 , 1.07449777, 0.42522855, 1.02320934],\n",
       "       [1.1406011 , 1.07449777, 0.02197163, 0.64847881],\n",
       "       [1.1406011 , 1.07449777, 0.00546397, 0.9982273 ],\n",
       "       [1.1406011 , 0.93066736, 1.5500879 , 2.17238294],\n",
       "       [1.1406011 , 0.93066736, 0.6584311 , 0.3320397 ],\n",
       "       [1.1406011 , 0.93066736, 0.18932875, 0.55898621],\n",
       "       [1.1406011 , 0.93066736, 1.2867062 , 0.38200377],\n",
       "       [1.1406011 , 0.93066736, 0.76817348, 0.65680616],\n",
       "       [1.1406011 , 0.93066736, 1.7393935 , 1.60612348],\n",
       "       [1.1406011 , 0.93066736, 0.1454318 , 0.60062293],\n",
       "       [1.1406011 , 0.93066736, 0.21397448, 0.27374829],\n",
       "       [1.1406011 , 0.93066736, 2.36218148, 1.72270631],\n",
       "       [1.1406011 , 0.93066736, 1.58026705, 1.35630313],\n",
       "       [1.1406011 , 0.93066736, 0.79560907, 0.52356864],\n",
       "       [1.1406011 , 0.93066736, 0.38681872, 0.35702174],\n",
       "       [1.1406011 , 0.93066736, 0.92455636, 0.52356864],\n",
       "       [1.1406011 , 0.93066736, 0.75171212, 1.56448676],\n",
       "       [1.1406011 , 0.93066736, 1.11386196, 0.39865846],\n",
       "       [1.1406011 , 0.93066736, 0.97942755, 1.48121331],\n",
       "       [1.1406011 , 0.93066736, 0.59537554, 1.01699018],\n",
       "       [1.1406011 , 0.93066736, 1.55557502, 1.10648279],\n",
       "       [1.1406011 , 0.93066736, 0.1591496 , 0.18425568],\n",
       "       [1.1406011 , 0.93066736, 0.63648263, 0.52356864],\n",
       "       [1.1406011 , 0.93066736, 0.99044809, 0.10930958],\n",
       "       [1.1406011 , 0.93066736, 0.86694161, 0.89829916],\n",
       "       [1.1406011 , 0.93066736, 2.50759013, 2.73031505],\n",
       "       [1.1406011 , 0.93066736, 1.91223774, 1.77267038],\n",
       "       [1.1406011 , 0.93066736, 0.14812905, 0.30916586],\n",
       "       [1.1406011 , 0.93066736, 1.90675062, 1.85594383],\n",
       "       [1.1406011 , 0.93066736, 1.76957265, 1.27302968],\n",
       "       [1.1406011 , 0.93066736, 0.1316677 , 0.27374829],\n",
       "       [1.1406011 , 0.93066736, 1.31139823, 0.48193191],\n",
       "       [1.1406011 , 0.93066736, 1.06447789, 0.85666244],\n",
       "       [1.1406011 , 0.93066736, 1.2729884 , 0.87331713],\n",
       "       [1.1406011 , 0.93066736, 1.00411958, 1.17310154],\n",
       "       [1.1406011 , 0.93066736, 0.6721489 , 1.27302968],\n",
       "       [1.1406011 , 0.93066736, 0.69409737, 0.81502571],\n",
       "       [1.1406011 , 0.93066736, 2.11251758, 2.25565639],\n",
       "       [1.1406011 , 0.93066736, 0.29084045, 0.02392794],\n",
       "       [1.1406011 , 0.93066736, 0.42522855, 1.497868  ],\n",
       "       [1.1406011 , 0.93066736, 0.03568942, 1.04197221],\n",
       "       [1.1406011 , 0.93066736, 0.22499502, 0.14261896],\n",
       "       [1.1406011 , 0.93066736, 0.96022263, 0.30705767],\n",
       "       [1.1406011 , 0.93066736, 1.563852  , 0.80880656],\n",
       "       [1.1406011 , 0.93066736, 0.27712265, 0.55898621],\n",
       "       [1.1406011 , 0.93066736, 1.14129755, 1.85594383],\n",
       "       [1.1406011 , 0.93066736, 0.13994468, 0.55898621],\n",
       "       [1.1406011 , 0.93066736, 0.19207231, 0.52356864],\n",
       "       [1.1406011 , 0.93066736, 1.15227179, 1.43957658],\n",
       "       [1.1406011 , 0.93066736, 0.6584311 , 0.56520536],\n",
       "       [1.1406011 , 0.93066736, 1.10014416, 1.48954065],\n",
       "       [1.1406011 , 0.93066736, 0.77366059, 0.93993589],\n",
       "       [1.1406011 , 0.93066736, 0.66666178, 1.35630313]])"
      ]
     },
     "execution_count": 103,
     "metadata": {},
     "output_type": "execute_result"
    }
   ],
   "source": [
    "from scipy.stats import zscore\n",
    "z=np.abs(zscore(data))\n",
    "z"
   ]
  },
  {
   "cell_type": "code",
   "execution_count": 104,
   "metadata": {},
   "outputs": [
    {
     "name": "stdout",
     "output_type": "stream",
     "text": [
      "(array([24], dtype=int64), array([2], dtype=int64))\n"
     ]
    }
   ],
   "source": [
    "threshold=3\n",
    "print(np.where(z>3))"
   ]
  },
  {
   "cell_type": "code",
   "execution_count": 105,
   "metadata": {},
   "outputs": [],
   "source": [
    "data=data[(z<3).all(axis=1)]"
   ]
  },
  {
   "cell_type": "code",
   "execution_count": 106,
   "metadata": {},
   "outputs": [
    {
     "data": {
      "text/plain": [
       "array([[2.09892151e-04, 2.09892151e-04, 9.47033384e-01, 3.21134990e-01],\n",
       "       [2.52740870e-04, 2.52740870e-04, 9.44745370e-01, 3.27804908e-01],\n",
       "       [2.23952242e-04, 2.23952242e-04, 9.54260502e-01, 2.98976243e-01],\n",
       "       [2.50711975e-04, 2.50711975e-04, 9.46939131e-01, 3.21412752e-01],\n",
       "       [2.23744269e-04, 2.23744269e-04, 9.34579813e-01, 3.55753388e-01],\n",
       "       [2.62231307e-04, 2.62231307e-04, 9.40099237e-01, 3.40900700e-01],\n",
       "       [2.47793413e-04, 2.47793413e-04, 9.37898070e-01, 3.46910779e-01],\n",
       "       [2.64985440e-04, 2.64985440e-04, 9.43083179e-01, 3.32556727e-01],\n",
       "       [2.59152633e-04, 2.59152633e-04, 9.36318464e-01, 3.51151818e-01],\n",
       "       [2.37376720e-04, 2.37376720e-04, 9.45234100e-01, 3.26392990e-01],\n",
       "       [2.70667458e-04, 2.70667458e-04, 9.31908059e-01, 3.62694394e-01],\n",
       "       [2.36700805e-04, 2.36700805e-04, 9.45146313e-01, 3.26647110e-01],\n",
       "       [2.57465070e-04, 2.57465070e-04, 9.37172855e-01, 3.48865170e-01],\n",
       "       [2.23474149e-04, 2.23474149e-04, 9.40379220e-01, 3.40127655e-01],\n",
       "       [2.48886469e-04, 2.48886469e-04, 9.53732947e-01, 3.00654854e-01],\n",
       "       [2.42554153e-04, 2.42554153e-04, 9.40139895e-01, 3.40788584e-01],\n",
       "       [2.66565509e-04, 2.66565509e-04, 9.32179587e-01, 3.61995962e-01],\n",
       "       [2.70345104e-04, 2.70345104e-04, 9.37016132e-01, 3.49285875e-01],\n",
       "       [2.96504588e-04, 2.96504588e-04, 9.17681700e-01, 3.97316148e-01],\n",
       "       [2.15506341e-04, 2.15506341e-04, 9.53400053e-01, 3.01708877e-01],\n",
       "       [2.43393777e-04, 2.43393777e-04, 9.43881066e-01, 3.30285355e-01],\n",
       "       [2.35529034e-04, 2.35529034e-04, 9.52950470e-01, 3.03125866e-01],\n",
       "       [2.49253025e-04, 2.49253025e-04, 9.48158508e-01, 3.17797607e-01],\n",
       "       [2.55014083e-04, 2.55014083e-04, 9.46102248e-01, 3.23867885e-01],\n",
       "       [2.14039272e-04, 2.14039272e-04, 9.46695700e-01, 3.22129104e-01],\n",
       "       [2.32436246e-04, 2.32436246e-04, 9.38112690e-01, 3.46330007e-01],\n",
       "       [2.33242148e-04, 2.33242148e-04, 9.38099921e-01, 3.46364590e-01],\n",
       "       [2.70703485e-04, 2.70703485e-04, 9.35009839e-01, 3.54621566e-01],\n",
       "       [2.26763625e-04, 2.26763625e-04, 9.46738135e-01, 3.22004348e-01],\n",
       "       [2.49389005e-04, 2.49389005e-04, 9.44436162e-01, 3.28694709e-01],\n",
       "       [2.46480117e-04, 2.46480117e-04, 9.35638525e-01, 3.52959528e-01],\n",
       "       [2.31278905e-04, 2.31278905e-04, 9.48937347e-01, 3.15464426e-01],\n",
       "       [2.27696831e-04, 2.27696831e-04, 9.47446515e-01, 3.19914048e-01],\n",
       "       [2.27392622e-04, 2.27392622e-04, 9.45498520e-01, 3.25626234e-01],\n",
       "       [2.49973075e-04, 2.49973075e-04, 9.53397307e-01, 3.01717501e-01],\n",
       "       [2.64162709e-04, 2.64162709e-04, 9.31701876e-01, 3.63223725e-01],\n",
       "       [2.51021809e-04, 2.51021809e-04, 9.40829739e-01, 3.38879442e-01],\n",
       "       [2.81235777e-04, 2.81235777e-04, 9.37640082e-01, 3.47607421e-01],\n",
       "       [2.69615578e-04, 2.69615578e-04, 9.41497599e-01, 3.37019473e-01],\n",
       "       [2.38909609e-04, 2.38909609e-04, 9.46559873e-01, 3.22527973e-01],\n",
       "       [2.66999834e-04, 2.66999834e-04, 9.35834418e-01, 3.52439781e-01],\n",
       "       [2.18504986e-04, 2.18504986e-04, 9.42849016e-01, 3.33220104e-01],\n",
       "       [2.42998349e-04, 2.42998349e-04, 9.24365718e-01, 3.81507407e-01],\n",
       "       [2.44569908e-04, 2.44569908e-04, 9.44773556e-01, 3.27723677e-01],\n",
       "       [2.33792686e-04, 2.33792686e-04, 9.43119696e-01, 3.32453200e-01],\n",
       "       [2.19122848e-04, 2.19122848e-04, 9.43981228e-01, 3.29999009e-01],\n",
       "       [2.94967900e-04, 2.94967900e-04, 9.33573405e-01, 3.58385999e-01],\n",
       "       [2.58409114e-04, 2.58409114e-04, 9.40867582e-01, 3.38774348e-01],\n",
       "       [2.58468372e-04, 2.58468372e-04, 9.41858746e-01, 3.36008883e-01],\n",
       "       [2.45159468e-04, 2.45159468e-04, 9.53915489e-01, 3.00075189e-01],\n",
       "       [2.48380323e-04, 2.48380323e-04, 9.42106563e-01, 3.35313435e-01],\n",
       "       [2.23522283e-04, 2.23522283e-04, 9.54440149e-01, 2.98402248e-01],\n",
       "       [2.32872768e-04, 2.32872768e-04, 9.46162057e-01, 3.23693148e-01],\n",
       "       [2.35335514e-04, 2.35335514e-04, 9.44166083e-01, 3.29469720e-01],\n",
       "       [2.72585926e-04, 2.72585926e-04, 9.42602133e-01, 3.33917760e-01],\n",
       "       [2.43625767e-04, 2.43625767e-04, 9.47704234e-01, 3.19149755e-01],\n",
       "       [2.24794825e-04, 4.49589650e-04, 9.36495241e-01, 3.50679927e-01],\n",
       "       [2.40749865e-04, 4.81499730e-04, 9.47350720e-01, 3.20197321e-01],\n",
       "       [2.58588359e-04, 5.17176717e-04, 9.48760687e-01, 3.15994974e-01],\n",
       "       [2.42906082e-04, 4.85812164e-04, 9.39074913e-01, 3.43712106e-01],\n",
       "       [2.78497742e-04, 5.56995484e-04, 9.44942838e-01, 3.27234847e-01],\n",
       "       [2.15664197e-04, 4.31328395e-04, 9.57980364e-01, 2.86833382e-01],\n",
       "       [2.21985350e-04, 4.43970701e-04, 9.44103696e-01, 3.29648245e-01],\n",
       "       [2.49599138e-04, 4.99198276e-04, 9.30255988e-01, 3.66910733e-01],\n",
       "       [2.84319654e-04, 5.68639308e-04, 9.46500129e-01, 3.22702808e-01],\n",
       "       [2.73400338e-04, 5.46800677e-04, 9.33662156e-01, 3.58154443e-01],\n",
       "       [2.80583515e-04, 5.61167029e-04, 9.46127611e-01, 3.23793376e-01],\n",
       "       [2.13662508e-04, 4.27325016e-04, 9.46524910e-01, 3.22630387e-01],\n",
       "       [2.17209734e-04, 4.34419468e-04, 9.51595845e-01, 3.07351774e-01],\n",
       "       [2.34280760e-04, 4.68561519e-04, 9.38997285e-01, 3.43924155e-01],\n",
       "       [2.43856972e-04, 4.87713944e-04, 9.40800198e-01, 3.38961191e-01],\n",
       "       [2.30100722e-04, 4.60201444e-04, 9.48245074e-01, 3.17538996e-01],\n",
       "       [2.32433232e-04, 4.64866465e-04, 9.42981624e-01, 3.32844389e-01],\n",
       "       [2.48754826e-04, 4.97509652e-04, 9.51238454e-01, 3.08455984e-01],\n",
       "       [2.77914345e-04, 5.55828691e-04, 9.43241288e-01, 3.32107643e-01],\n",
       "       [2.65747058e-04, 5.31494116e-04, 9.45528032e-01, 3.25540146e-01],\n",
       "       [2.80447895e-04, 5.60895790e-04, 9.42865822e-01, 3.33172099e-01],\n",
       "       [2.42447155e-04, 4.84894310e-04, 9.52817320e-01, 3.03543838e-01],\n",
       "       [2.46658407e-04, 4.93316814e-04, 9.45934991e-01, 3.24355805e-01],\n",
       "       [2.48306964e-04, 4.96613928e-04, 9.51015673e-01, 3.09142170e-01],\n",
       "       [2.43154015e-04, 4.86308031e-04, 9.37601884e-01, 3.47710242e-01],\n",
       "       [2.86394879e-04, 5.72789758e-04, 9.30496962e-01, 3.66299050e-01],\n",
       "       [2.64028218e-04, 5.28056436e-04, 9.44428935e-01, 3.28715131e-01],\n",
       "       [2.41247854e-04, 4.82495708e-04, 9.48827809e-01, 3.15793441e-01],\n",
       "       [2.43857117e-04, 4.87714234e-04, 9.38849901e-01, 3.44326249e-01],\n",
       "       [2.86253581e-04, 5.72507163e-04, 9.47213101e-01, 3.20604011e-01],\n",
       "       [2.76403010e-04, 5.52806020e-04, 9.41428652e-01, 3.37211672e-01],\n",
       "       [2.67927670e-04, 5.35855340e-04, 9.39354411e-01, 3.42947418e-01],\n",
       "       [2.40158145e-04, 4.80316289e-04, 9.38297871e-01, 3.45827728e-01],\n",
       "       [2.28321779e-04, 4.56643558e-04, 9.49818601e-01, 3.12800837e-01],\n",
       "       [2.83638094e-04, 5.67276188e-04, 9.41111195e-01, 3.38096608e-01],\n",
       "       [2.58862870e-04, 5.17725741e-04, 9.47955831e-01, 3.18401330e-01],\n",
       "       [2.42436375e-04, 4.84872750e-04, 9.45259425e-01, 3.26319360e-01],\n",
       "       [2.55204159e-04, 5.10408317e-04, 9.44255387e-01, 3.29213364e-01],\n",
       "       [2.52876464e-04, 5.05752928e-04, 9.55620157e-01, 2.94601080e-01],\n",
       "       [2.71169712e-04, 5.42339424e-04, 9.41772410e-01, 3.36250443e-01],\n",
       "       [2.72554153e-04, 5.45108307e-04, 9.51213995e-01, 3.08531302e-01],\n",
       "       [2.59113577e-04, 5.18227155e-04, 9.46801011e-01, 3.21819063e-01],\n",
       "       [2.70079083e-04, 5.40158166e-04, 9.39335050e-01, 3.43000435e-01],\n",
       "       [2.70185873e-04, 5.40371745e-04, 9.44299625e-01, 3.29086393e-01],\n",
       "       [2.44379299e-04, 4.88758597e-04, 9.36950231e-01, 3.49462397e-01],\n",
       "       [2.38738118e-04, 4.77476237e-04, 9.25348947e-01, 3.79116132e-01],\n",
       "       [2.56957138e-04, 5.13914277e-04, 9.40720084e-01, 3.39183423e-01],\n",
       "       [2.60342268e-04, 5.20684536e-04, 9.41918325e-01, 3.35841525e-01],\n",
       "       [2.59102931e-04, 5.18205862e-04, 9.45207492e-01, 3.26469693e-01],\n",
       "       [2.33841184e-04, 4.67682369e-04, 9.42847655e-01, 3.33223688e-01],\n",
       "       [2.76751663e-04, 5.53503326e-04, 9.40678902e-01, 3.39297539e-01],\n",
       "       [2.41228999e-04, 4.82457999e-04, 9.44652762e-01, 3.28071439e-01],\n",
       "       [2.12002887e-04, 4.24005774e-04, 9.39172790e-01, 3.43444677e-01],\n",
       "       [2.55079383e-04, 5.10158766e-04, 9.42518320e-01, 3.34153992e-01],\n",
       "       [2.67442008e-04, 5.34884016e-04, 9.42465636e-01, 3.34302510e-01],\n",
       "       [2.63257538e-04, 5.26515075e-04, 9.40092667e-01, 3.40918511e-01],\n",
       "       [2.61882950e-04, 5.23765899e-04, 9.41207321e-01, 3.37829005e-01],\n",
       "       [2.76196792e-04, 5.52393585e-04, 9.34373749e-01, 3.56293862e-01],\n",
       "       [2.68524059e-04, 5.37048118e-04, 9.39565683e-01, 3.42368175e-01],\n",
       "       [2.63126682e-04, 5.26253364e-04, 9.44361662e-01, 3.28908353e-01],\n",
       "       [2.43808871e-04, 4.87617742e-04, 9.50854598e-01, 3.09637266e-01],\n",
       "       [2.30755301e-04, 4.61510601e-04, 9.49327306e-01, 3.14288719e-01],\n",
       "       [2.41191717e-04, 4.82383435e-04, 9.49571792e-01, 3.13549233e-01],\n",
       "       [2.78109142e-04, 5.56218284e-04, 9.45292973e-01, 3.26222023e-01],\n",
       "       [2.28113555e-04, 4.56227109e-04, 9.58076929e-01, 2.86510624e-01],\n",
       "       [2.12162938e-04, 4.24325875e-04, 9.52187264e-01, 3.05514630e-01],\n",
       "       [2.63035868e-04, 5.26071736e-04, 9.50611628e-01, 3.10382324e-01],\n",
       "       [2.34944857e-04, 4.69889715e-04, 9.51761617e-01, 3.06837984e-01],\n",
       "       [2.49021177e-04, 4.98042354e-04, 9.41798092e-01, 3.36178589e-01],\n",
       "       [2.79896784e-04, 5.59793569e-04, 9.49129996e-01, 3.14883882e-01],\n",
       "       [2.99925847e-04, 5.99851693e-04, 9.36968344e-01, 3.49413611e-01],\n",
       "       [2.34738175e-04, 4.69476350e-04, 9.51393824e-01, 3.07976486e-01],\n",
       "       [2.62425353e-04, 5.24850706e-04, 9.40007614e-01, 3.41152959e-01],\n",
       "       [2.57748558e-04, 5.15497116e-04, 9.44906215e-01, 3.27340669e-01],\n",
       "       [2.64839071e-04, 5.29678143e-04, 9.35411600e-01, 3.53560160e-01],\n",
       "       [2.32667509e-04, 4.65335018e-04, 9.41372741e-01, 3.37367888e-01],\n",
       "       [2.56807391e-04, 5.13614782e-04, 9.41712702e-01, 3.36417682e-01],\n",
       "       [6.58765566e-04, 3.29382783e-04, 9.41046612e-01, 3.38276118e-01],\n",
       "       [5.47763792e-04, 2.73881896e-04, 9.41058195e-01, 3.38244142e-01],\n",
       "       [5.00637373e-04, 2.50318686e-04, 9.48958140e-01, 3.15401545e-01],\n",
       "       [5.71185368e-04, 2.85592684e-04, 9.43027043e-01, 3.32715477e-01],\n",
       "       [6.08546221e-04, 3.04273110e-04, 9.44463734e-01, 3.28614959e-01],\n",
       "       [5.94297222e-04, 2.97148611e-04, 9.42258245e-01, 3.34886485e-01],\n",
       "       [5.27557798e-04, 2.63778899e-04, 9.42218227e-01, 3.34999202e-01],\n",
       "       [5.33980977e-04, 2.66990489e-04, 9.42476425e-01, 3.34272092e-01],\n",
       "       [5.89239539e-04, 2.94619770e-04, 9.35417768e-01, 3.53543724e-01],\n",
       "       [5.44654938e-04, 2.72327469e-04, 9.36261838e-01, 3.51302435e-01],\n",
       "       [4.84886315e-04, 2.42443158e-04, 9.46255645e-01, 3.23419172e-01],\n",
       "       [4.83557439e-04, 2.41778720e-04, 9.42695228e-01, 3.33654633e-01],\n",
       "       [5.57572531e-04, 2.78786265e-04, 9.48152089e-01, 3.17816343e-01],\n",
       "       [5.72168361e-04, 2.86084181e-04, 9.34637018e-01, 3.55602637e-01],\n",
       "       [5.40244533e-04, 2.70122266e-04, 9.32191942e-01, 3.61963837e-01],\n",
       "       [6.05440223e-04, 3.02720111e-04, 9.35405144e-01, 3.53577090e-01],\n",
       "       [5.46434667e-04, 2.73217333e-04, 9.32490759e-01, 3.61193315e-01],\n",
       "       [5.63383970e-04, 2.81691985e-04, 9.36062466e-01, 3.51833289e-01],\n",
       "       [5.11519893e-04, 2.55759946e-04, 9.41196602e-01, 3.37858889e-01],\n",
       "       [5.49492231e-04, 2.74746115e-04, 9.44851891e-01, 3.27497370e-01],\n",
       "       [4.88958929e-04, 2.44479465e-04, 9.41979377e-01, 3.35670305e-01],\n",
       "       [5.94195814e-04, 2.97097907e-04, 9.37640995e-01, 3.47604551e-01],\n",
       "       [5.69062682e-04, 2.84531341e-04, 9.32978266e-01, 3.59932146e-01],\n",
       "       [5.11860975e-04, 2.55930487e-04, 9.48734316e-01, 3.16074152e-01],\n",
       "       [4.74803018e-04, 2.37401509e-04, 9.51030445e-01, 3.09096765e-01],\n",
       "       [5.71978706e-04, 2.85989353e-04, 9.34899195e-01, 3.54912787e-01],\n",
       "       [6.14494280e-04, 3.07247140e-04, 9.43555967e-01, 3.31212417e-01],\n",
       "       [4.91010178e-04, 2.45505089e-04, 9.27763731e-01, 3.73167735e-01],\n",
       "       [5.21287646e-04, 2.60643823e-04, 9.24764285e-01, 3.80539982e-01],\n",
       "       [5.77521289e-04, 2.88760644e-04, 9.50600042e-01, 3.10417693e-01],\n",
       "       [5.37071683e-04, 2.68535842e-04, 9.39069838e-01, 3.43725877e-01],\n",
       "       [6.06029192e-04, 3.03014596e-04, 9.33890986e-01, 3.57557224e-01],\n",
       "       [5.74674469e-04, 2.87337235e-04, 9.33271338e-01, 3.59171543e-01],\n",
       "       [5.61384428e-04, 2.80692214e-04, 9.42564454e-01, 3.34023735e-01],\n",
       "       [4.94608930e-04, 2.47304465e-04, 9.40498881e-01, 3.39796335e-01],\n",
       "       [5.26644187e-04, 2.63322094e-04, 9.39006586e-01, 3.43898654e-01],\n",
       "       [5.94022995e-04, 2.97011497e-04, 9.34101159e-01, 3.57007820e-01],\n",
       "       [5.38213951e-04, 2.69106975e-04, 9.42681735e-01, 3.33692650e-01],\n",
       "       [5.25517529e-04, 2.62758765e-04, 9.38311548e-01, 3.45790534e-01],\n",
       "       [5.07892699e-04, 2.53946349e-04, 9.45696205e-01, 3.25051327e-01],\n",
       "       [5.18289011e-04, 2.59144506e-04, 9.36807388e-01, 3.49845083e-01],\n",
       "       [5.85918150e-04, 2.92959075e-04, 9.38347917e-01, 3.45691708e-01],\n",
       "       [5.25425322e-04, 2.62712661e-04, 9.48129994e-01, 3.17882320e-01],\n",
       "       [5.35463143e-04, 2.67731572e-04, 9.53392127e-01, 3.01733481e-01],\n",
       "       [4.76928855e-04, 2.38464427e-04, 9.48849956e-01, 3.15726902e-01],\n",
       "       [5.35552615e-04, 2.67776308e-04, 9.46053695e-01, 3.24009332e-01],\n",
       "       [5.11764662e-04, 2.55882331e-04, 9.43949918e-01, 3.30088207e-01],\n",
       "       [5.98069197e-04, 2.99034599e-04, 9.44351262e-01, 3.28938058e-01],\n",
       "       [4.75672615e-04, 2.37836307e-04, 9.52534411e-01, 3.04430473e-01],\n",
       "       [5.89783441e-04, 2.94891721e-04, 9.38050563e-01, 3.46497772e-01],\n",
       "       [5.45361225e-04, 2.72680612e-04, 9.48655850e-01, 3.16309510e-01],\n",
       "       [5.21353440e-04, 2.60676720e-04, 9.49384614e-01, 3.14115448e-01],\n",
       "       [5.24430682e-04, 2.62215341e-04, 9.52366119e-01, 3.04956442e-01],\n",
       "       [6.18296278e-04, 6.18296278e-04, 9.48775639e-01, 3.15949398e-01],\n",
       "       [5.53333596e-04, 5.53333596e-04, 9.39007113e-01, 3.43896830e-01],\n",
       "       [5.07432551e-04, 5.07432551e-04, 9.39511367e-01, 3.42516972e-01],\n",
       "       [5.88556084e-04, 5.88556084e-04, 9.31390002e-01, 3.64021938e-01],\n",
       "       [5.61236955e-04, 5.61236955e-04, 9.41194374e-01, 3.37864647e-01],\n",
       "       [6.26589663e-04, 6.26589663e-04, 9.39884494e-01, 3.41491366e-01],\n",
       "       [5.09151473e-04, 5.09151473e-04, 9.38620740e-01, 3.44950123e-01],\n",
       "       [5.30602097e-04, 5.30602097e-04, 9.43410529e-01, 3.31626311e-01],\n",
       "       [6.72394728e-04, 6.72394728e-04, 9.32275290e-01, 3.61748364e-01],\n",
       "       [6.14127935e-04, 6.14127935e-04, 9.39001612e-01, 3.43911643e-01],\n",
       "       [5.61861064e-04, 5.61861064e-04, 9.39431699e-01, 3.42735249e-01],\n",
       "       [5.39582499e-04, 5.39582499e-04, 9.42380834e-01, 3.34541149e-01],\n",
       "       [5.68911954e-04, 5.68911954e-04, 9.37851355e-01, 3.47036292e-01],\n",
       "       [5.65942806e-04, 5.65942806e-04, 9.50783915e-01, 3.09853686e-01],\n",
       "       [5.78672673e-04, 5.78672673e-04, 9.33977694e-01, 3.57330376e-01],\n",
       "       [5.78320686e-04, 5.78320686e-04, 9.47578444e-01, 3.19522179e-01],\n",
       "       [4.87888561e-04, 4.87888561e-04, 9.39429423e-01, 3.42741714e-01],\n",
       "       [6.10591049e-04, 6.10591049e-04, 9.36341374e-01, 3.51089853e-01],\n",
       "       [5.10744531e-04, 5.10744531e-04, 9.42834404e-01, 3.33260806e-01],\n",
       "       [5.53381908e-04, 5.53381908e-04, 9.41302626e-01, 3.37562964e-01],\n",
       "       [4.76195214e-04, 4.76195214e-04, 9.51199940e-01, 3.08574499e-01],\n",
       "       [5.68196562e-04, 5.68196562e-04, 9.42638096e-01, 3.33815480e-01],\n",
       "       [6.93774239e-04, 6.93774239e-04, 9.43532964e-01, 3.31277199e-01],\n",
       "       [6.39827972e-04, 6.39827972e-04, 9.39587377e-01, 3.42307965e-01],\n",
       "       [5.24163875e-04, 5.24163875e-04, 9.38253336e-01, 3.45948157e-01],\n",
       "       [6.40140818e-04, 6.40140818e-04, 9.40686932e-01, 3.39274633e-01],\n",
       "       [6.25886005e-04, 6.25886005e-04, 9.35386635e-01, 3.53625593e-01],\n",
       "       [5.26645885e-04, 5.26645885e-04, 9.44276073e-01, 3.29153678e-01],\n",
       "       [5.90771215e-04, 5.90771215e-04, 9.32236978e-01, 3.61847369e-01],\n",
       "       [5.79067725e-04, 5.79067725e-04, 9.39826918e-01, 3.41649958e-01],\n",
       "       [5.91400492e-04, 5.91400492e-04, 9.37369780e-01, 3.48334890e-01],\n",
       "       [5.77735651e-04, 5.77735651e-04, 9.44020054e-01, 3.29887057e-01],\n",
       "       [5.59843615e-04, 5.59843615e-04, 9.48655005e-01, 3.16311642e-01],\n",
       "       [5.58245709e-04, 5.58245709e-04, 9.43714371e-01, 3.30760583e-01],\n",
       "       [6.58427588e-04, 6.58427588e-04, 9.42868306e-01, 3.33164360e-01],\n",
       "       [5.05948106e-04, 5.05948106e-04, 9.46122958e-01, 3.23806788e-01],\n",
       "       [5.47995431e-04, 5.47995431e-04, 9.53238053e-01, 3.02219480e-01],\n",
       "       [5.11592935e-04, 5.11592935e-04, 9.32889717e-01, 3.60161426e-01],\n",
       "       [5.08022403e-04, 5.08022403e-04, 9.43905624e-01, 3.30214562e-01],\n",
       "       [5.69406008e-04, 5.69406008e-04, 9.34964665e-01, 3.54739943e-01],\n",
       "       [4.52007423e-04, 4.52007423e-04, 9.50119604e-01, 3.11885122e-01],\n",
       "       [5.03589330e-04, 5.03589330e-04, 9.40453074e-01, 3.39922798e-01],\n",
       "       [5.90303653e-04, 5.90303653e-04, 9.49798577e-01, 3.12860936e-01],\n",
       "       [5.09618518e-04, 5.09618518e-04, 9.38972119e-01, 3.43992500e-01],\n",
       "       [5.12853827e-04, 5.12853827e-04, 9.49805289e-01, 3.12840835e-01],\n",
       "       [5.88186857e-04, 5.88186857e-04, 9.45216280e-01, 3.26443706e-01],\n",
       "       [5.54796889e-04, 5.54796889e-04, 9.41490320e-01, 3.37039110e-01],\n",
       "       [5.85428497e-04, 5.85428497e-04, 9.46345165e-01, 3.23156530e-01],\n",
       "       [5.63328611e-04, 5.63328611e-04, 9.44138752e-01, 3.29547238e-01],\n",
       "       [5.60039804e-04, 5.60039804e-04, 9.49547488e-01, 3.13622290e-01]])"
      ]
     },
     "execution_count": 106,
     "metadata": {},
     "output_type": "execute_result"
    }
   ],
   "source": [
    "from sklearn.preprocessing import normalize\n",
    "data=normalize(data)\n",
    "data"
   ]
  },
  {
   "cell_type": "code",
   "execution_count": 107,
   "metadata": {},
   "outputs": [
    {
     "data": {
      "text/html": [
       "<div>\n",
       "<style scoped>\n",
       "    .dataframe tbody tr th:only-of-type {\n",
       "        vertical-align: middle;\n",
       "    }\n",
       "\n",
       "    .dataframe tbody tr th {\n",
       "        vertical-align: top;\n",
       "    }\n",
       "\n",
       "    .dataframe thead th {\n",
       "        text-align: right;\n",
       "    }\n",
       "</style>\n",
       "<table border=\"1\" class=\"dataframe\">\n",
       "  <thead>\n",
       "    <tr style=\"text-align: right;\">\n",
       "      <th></th>\n",
       "      <th>0</th>\n",
       "      <th>1</th>\n",
       "      <th>2</th>\n",
       "      <th>3</th>\n",
       "    </tr>\n",
       "  </thead>\n",
       "  <tbody>\n",
       "    <tr>\n",
       "      <th>0</th>\n",
       "      <td>0.000210</td>\n",
       "      <td>0.000210</td>\n",
       "      <td>0.947033</td>\n",
       "      <td>0.321135</td>\n",
       "    </tr>\n",
       "    <tr>\n",
       "      <th>1</th>\n",
       "      <td>0.000253</td>\n",
       "      <td>0.000253</td>\n",
       "      <td>0.944745</td>\n",
       "      <td>0.327805</td>\n",
       "    </tr>\n",
       "    <tr>\n",
       "      <th>2</th>\n",
       "      <td>0.000224</td>\n",
       "      <td>0.000224</td>\n",
       "      <td>0.954261</td>\n",
       "      <td>0.298976</td>\n",
       "    </tr>\n",
       "    <tr>\n",
       "      <th>3</th>\n",
       "      <td>0.000251</td>\n",
       "      <td>0.000251</td>\n",
       "      <td>0.946939</td>\n",
       "      <td>0.321413</td>\n",
       "    </tr>\n",
       "    <tr>\n",
       "      <th>4</th>\n",
       "      <td>0.000224</td>\n",
       "      <td>0.000224</td>\n",
       "      <td>0.934580</td>\n",
       "      <td>0.355753</td>\n",
       "    </tr>\n",
       "  </tbody>\n",
       "</table>\n",
       "</div>"
      ],
      "text/plain": [
       "          0         1         2         3\n",
       "0  0.000210  0.000210  0.947033  0.321135\n",
       "1  0.000253  0.000253  0.944745  0.327805\n",
       "2  0.000224  0.000224  0.954261  0.298976\n",
       "3  0.000251  0.000251  0.946939  0.321413\n",
       "4  0.000224  0.000224  0.934580  0.355753"
      ]
     },
     "execution_count": 107,
     "metadata": {},
     "output_type": "execute_result"
    }
   ],
   "source": [
    "df=pd.DataFrame(data)\n",
    "df.head()"
   ]
  },
  {
   "cell_type": "code",
   "execution_count": 108,
   "metadata": {},
   "outputs": [
    {
     "data": {
      "text/html": [
       "<div>\n",
       "<style scoped>\n",
       "    .dataframe tbody tr th:only-of-type {\n",
       "        vertical-align: middle;\n",
       "    }\n",
       "\n",
       "    .dataframe tbody tr th {\n",
       "        vertical-align: top;\n",
       "    }\n",
       "\n",
       "    .dataframe thead th {\n",
       "        text-align: right;\n",
       "    }\n",
       "</style>\n",
       "<table border=\"1\" class=\"dataframe\">\n",
       "  <thead>\n",
       "    <tr style=\"text-align: right;\">\n",
       "      <th></th>\n",
       "      <th>0</th>\n",
       "      <th>1</th>\n",
       "      <th>2</th>\n",
       "    </tr>\n",
       "  </thead>\n",
       "  <tbody>\n",
       "    <tr>\n",
       "      <th>0</th>\n",
       "      <td>0.000210</td>\n",
       "      <td>0.000210</td>\n",
       "      <td>0.947033</td>\n",
       "    </tr>\n",
       "    <tr>\n",
       "      <th>1</th>\n",
       "      <td>0.000253</td>\n",
       "      <td>0.000253</td>\n",
       "      <td>0.944745</td>\n",
       "    </tr>\n",
       "    <tr>\n",
       "      <th>2</th>\n",
       "      <td>0.000224</td>\n",
       "      <td>0.000224</td>\n",
       "      <td>0.954261</td>\n",
       "    </tr>\n",
       "    <tr>\n",
       "      <th>3</th>\n",
       "      <td>0.000251</td>\n",
       "      <td>0.000251</td>\n",
       "      <td>0.946939</td>\n",
       "    </tr>\n",
       "    <tr>\n",
       "      <th>4</th>\n",
       "      <td>0.000224</td>\n",
       "      <td>0.000224</td>\n",
       "      <td>0.934580</td>\n",
       "    </tr>\n",
       "  </tbody>\n",
       "</table>\n",
       "</div>"
      ],
      "text/plain": [
       "          0         1         2\n",
       "0  0.000210  0.000210  0.947033\n",
       "1  0.000253  0.000253  0.944745\n",
       "2  0.000224  0.000224  0.954261\n",
       "3  0.000251  0.000251  0.946939\n",
       "4  0.000224  0.000224  0.934580"
      ]
     },
     "execution_count": 108,
     "metadata": {},
     "output_type": "execute_result"
    }
   ],
   "source": [
    "x=df.drop(3,axis=1)\n",
    "x.head()"
   ]
  },
  {
   "cell_type": "code",
   "execution_count": 109,
   "metadata": {},
   "outputs": [
    {
     "data": {
      "text/plain": [
       "0    0.321135\n",
       "1    0.327805\n",
       "2    0.298976\n",
       "3    0.321413\n",
       "4    0.355753\n",
       "Name: 3, dtype: float64"
      ]
     },
     "execution_count": 109,
     "metadata": {},
     "output_type": "execute_result"
    }
   ],
   "source": [
    "y=df[3]\n",
    "y.head()"
   ]
  },
  {
   "cell_type": "code",
   "execution_count": 110,
   "metadata": {},
   "outputs": [
    {
     "name": "stdout",
     "output_type": "stream",
     "text": [
      "max r2 score corresponding to 25 is 0.9991017838082902\n"
     ]
    }
   ],
   "source": [
    "from sklearn.metrics import mean_squared_error\n",
    "from sklearn.metrics import mean_absolute_error\n",
    "from sklearn.metrics import r2_score\n",
    "from sklearn.model_selection import train_test_split\n",
    "from sklearn import linear_model\n",
    "max_r_score=0\n",
    "for r_state in range (0,100):\n",
    "    x_train,x_test,y_train,y_test=train_test_split(x,y,test_size=.22,random_state=r_state)\n",
    "    lr=linear_model.LinearRegression()\n",
    "    lr.fit(x_train,y_train)\n",
    "    y_pred=lr.predict(x_test)\n",
    "    r2_scr=r2_score(y_test,y_pred)\n",
    "    if r2_scr>max_r_score:\n",
    "        max_r_score=r2_scr\n",
    "        final_r_state=r_state\n",
    "print(\"max r2 score corresponding to\",final_r_state,'is',max_r_score)"
   ]
  },
  {
   "cell_type": "code",
   "execution_count": 111,
   "metadata": {},
   "outputs": [],
   "source": [
    "lr=LinearRegression()"
   ]
  },
  {
   "cell_type": "code",
   "execution_count": 112,
   "metadata": {},
   "outputs": [
    {
     "data": {
      "text/plain": [
       "LinearRegression(copy_X=True, fit_intercept=True, n_jobs=None, normalize=False)"
      ]
     },
     "execution_count": 112,
     "metadata": {},
     "output_type": "execute_result"
    }
   ],
   "source": [
    "lr.fit(x_train,y_train)"
   ]
  },
  {
   "cell_type": "code",
   "execution_count": 113,
   "metadata": {},
   "outputs": [],
   "source": [
    "predlr=lr.predict(x_test)"
   ]
  },
  {
   "cell_type": "code",
   "execution_count": 114,
   "metadata": {},
   "outputs": [],
   "source": [
    "from sklearn.metrics import mean_squared_error\n",
    "from sklearn.metrics import mean_absolute_error\n",
    "from sklearn.metrics import r2_score"
   ]
  },
  {
   "cell_type": "code",
   "execution_count": 115,
   "metadata": {},
   "outputs": [
    {
     "name": "stdout",
     "output_type": "stream",
     "text": [
      "0.9983523964685397\n",
      "4.0467923790507157e-07\n"
     ]
    }
   ],
   "source": [
    "print(r2_score(y_test,predlr))\n",
    "print(mean_squared_error(y_test,predlr))"
   ]
  },
  {
   "cell_type": "code",
   "execution_count": 117,
   "metadata": {},
   "outputs": [],
   "source": [
    "from sklearn.tree import DecisionTreeRegressor  "
   ]
  },
  {
   "cell_type": "code",
   "execution_count": 118,
   "metadata": {},
   "outputs": [],
   "source": [
    "dtc=DecisionTreeRegressor()"
   ]
  },
  {
   "cell_type": "code",
   "execution_count": 119,
   "metadata": {},
   "outputs": [
    {
     "data": {
      "text/plain": [
       "DecisionTreeRegressor(criterion='mse', max_depth=None, max_features=None,\n",
       "                      max_leaf_nodes=None, min_impurity_decrease=0.0,\n",
       "                      min_impurity_split=None, min_samples_leaf=1,\n",
       "                      min_samples_split=2, min_weight_fraction_leaf=0.0,\n",
       "                      presort=False, random_state=None, splitter='best')"
      ]
     },
     "execution_count": 119,
     "metadata": {},
     "output_type": "execute_result"
    }
   ],
   "source": [
    "dtc.fit(x_train,y_train)"
   ]
  },
  {
   "cell_type": "code",
   "execution_count": 120,
   "metadata": {},
   "outputs": [],
   "source": [
    "preddtc=dtc.predict(x_test)"
   ]
  },
  {
   "cell_type": "code",
   "execution_count": 121,
   "metadata": {},
   "outputs": [
    {
     "name": "stdout",
     "output_type": "stream",
     "text": [
      "0.9974532370362266\n",
      "6.255279717634986e-07\n"
     ]
    }
   ],
   "source": [
    "print(r2_score(y_test,preddtc))\n",
    "print(mean_squared_error(y_test,preddtc))"
   ]
  },
  {
   "cell_type": "code",
   "execution_count": 122,
   "metadata": {},
   "outputs": [
    {
     "name": "stderr",
     "output_type": "stream",
     "text": [
      "C:\\Users\\max\\Anaconda3\\lib\\site-packages\\sklearn\\externals\\joblib\\__init__.py:15: DeprecationWarning: sklearn.externals.joblib is deprecated in 0.21 and will be removed in 0.23. Please import this functionality directly from joblib, which can be installed with: pip install joblib. If this warning is raised when loading pickled models, you may need to re-serialize those models with scikit-learn 0.21+.\n",
      "  warnings.warn(msg, category=DeprecationWarning)\n"
     ]
    },
    {
     "data": {
      "text/plain": [
       "['Headbrain.pkl']"
      ]
     },
     "execution_count": 122,
     "metadata": {},
     "output_type": "execute_result"
    }
   ],
   "source": [
    "#MODEL SAVING\n",
    "from sklearn.externals import joblib\n",
    "joblib.dump(lr,\"Headbrain.pkl\")"
   ]
  },
  {
   "cell_type": "code",
   "execution_count": null,
   "metadata": {},
   "outputs": [],
   "source": []
  }
 ],
 "metadata": {
  "kernelspec": {
   "display_name": "Python 3",
   "language": "python",
   "name": "python3"
  },
  "language_info": {
   "codemirror_mode": {
    "name": "ipython",
    "version": 3
   },
   "file_extension": ".py",
   "mimetype": "text/x-python",
   "name": "python",
   "nbconvert_exporter": "python",
   "pygments_lexer": "ipython3",
   "version": "3.7.3"
  }
 },
 "nbformat": 4,
 "nbformat_minor": 2
}
