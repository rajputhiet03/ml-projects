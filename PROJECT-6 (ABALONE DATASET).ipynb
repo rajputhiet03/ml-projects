{
 "cells": [
  {
   "cell_type": "markdown",
   "metadata": {},
   "source": [
    "# PROJECT - 6"
   ]
  },
  {
   "cell_type": "markdown",
   "metadata": {},
   "source": [
    "# ABALONE DATASET"
   ]
  },
  {
   "cell_type": "code",
   "execution_count": 1,
   "metadata": {},
   "outputs": [],
   "source": [
    "import pandas as pd\n",
    "import numpy as np\n",
    "import matplotlib.pyplot as plt\n",
    "import seaborn as sns\n",
    "import sklearn\n",
    "from sklearn.model_selection import train_test_split\n",
    "from sklearn.linear_model import LinearRegression"
   ]
  },
  {
   "cell_type": "code",
   "execution_count": 2,
   "metadata": {},
   "outputs": [],
   "source": [
    "import warnings\n",
    "warnings.filterwarnings(\"ignore\")"
   ]
  },
  {
   "cell_type": "code",
   "execution_count": 4,
   "metadata": {},
   "outputs": [
    {
     "data": {
      "text/html": [
       "<div>\n",
       "<style scoped>\n",
       "    .dataframe tbody tr th:only-of-type {\n",
       "        vertical-align: middle;\n",
       "    }\n",
       "\n",
       "    .dataframe tbody tr th {\n",
       "        vertical-align: top;\n",
       "    }\n",
       "\n",
       "    .dataframe thead th {\n",
       "        text-align: right;\n",
       "    }\n",
       "</style>\n",
       "<table border=\"1\" class=\"dataframe\">\n",
       "  <thead>\n",
       "    <tr style=\"text-align: right;\">\n",
       "      <th></th>\n",
       "      <th>V1</th>\n",
       "      <th>V2</th>\n",
       "      <th>V3</th>\n",
       "      <th>V4</th>\n",
       "      <th>V5</th>\n",
       "      <th>V6</th>\n",
       "      <th>V7</th>\n",
       "      <th>V8</th>\n",
       "      <th>Class</th>\n",
       "    </tr>\n",
       "  </thead>\n",
       "  <tbody>\n",
       "    <tr>\n",
       "      <th>0</th>\n",
       "      <td>M</td>\n",
       "      <td>0.455</td>\n",
       "      <td>0.365</td>\n",
       "      <td>0.095</td>\n",
       "      <td>0.5140</td>\n",
       "      <td>0.2245</td>\n",
       "      <td>0.1010</td>\n",
       "      <td>0.150</td>\n",
       "      <td>15</td>\n",
       "    </tr>\n",
       "    <tr>\n",
       "      <th>1</th>\n",
       "      <td>M</td>\n",
       "      <td>0.350</td>\n",
       "      <td>0.265</td>\n",
       "      <td>0.090</td>\n",
       "      <td>0.2255</td>\n",
       "      <td>0.0995</td>\n",
       "      <td>0.0485</td>\n",
       "      <td>0.070</td>\n",
       "      <td>7</td>\n",
       "    </tr>\n",
       "    <tr>\n",
       "      <th>2</th>\n",
       "      <td>F</td>\n",
       "      <td>0.530</td>\n",
       "      <td>0.420</td>\n",
       "      <td>0.135</td>\n",
       "      <td>0.6770</td>\n",
       "      <td>0.2565</td>\n",
       "      <td>0.1415</td>\n",
       "      <td>0.210</td>\n",
       "      <td>9</td>\n",
       "    </tr>\n",
       "    <tr>\n",
       "      <th>3</th>\n",
       "      <td>M</td>\n",
       "      <td>0.440</td>\n",
       "      <td>0.365</td>\n",
       "      <td>0.125</td>\n",
       "      <td>0.5160</td>\n",
       "      <td>0.2155</td>\n",
       "      <td>0.1140</td>\n",
       "      <td>0.155</td>\n",
       "      <td>10</td>\n",
       "    </tr>\n",
       "    <tr>\n",
       "      <th>4</th>\n",
       "      <td>I</td>\n",
       "      <td>0.330</td>\n",
       "      <td>0.255</td>\n",
       "      <td>0.080</td>\n",
       "      <td>0.2050</td>\n",
       "      <td>0.0895</td>\n",
       "      <td>0.0395</td>\n",
       "      <td>0.055</td>\n",
       "      <td>7</td>\n",
       "    </tr>\n",
       "  </tbody>\n",
       "</table>\n",
       "</div>"
      ],
      "text/plain": [
       "  V1     V2     V3     V4      V5      V6      V7     V8  Class\n",
       "0  M  0.455  0.365  0.095  0.5140  0.2245  0.1010  0.150     15\n",
       "1  M  0.350  0.265  0.090  0.2255  0.0995  0.0485  0.070      7\n",
       "2  F  0.530  0.420  0.135  0.6770  0.2565  0.1415  0.210      9\n",
       "3  M  0.440  0.365  0.125  0.5160  0.2155  0.1140  0.155     10\n",
       "4  I  0.330  0.255  0.080  0.2050  0.0895  0.0395  0.055      7"
      ]
     },
     "execution_count": 4,
     "metadata": {},
     "output_type": "execute_result"
    }
   ],
   "source": [
    "data=pd.read_csv(\"abalone.csv\")\n",
    "data.head()"
   ]
  },
  {
   "cell_type": "code",
   "execution_count": 5,
   "metadata": {},
   "outputs": [
    {
     "data": {
      "text/plain": [
       "V1        object\n",
       "V2       float64\n",
       "V3       float64\n",
       "V4       float64\n",
       "V5       float64\n",
       "V6       float64\n",
       "V7       float64\n",
       "V8       float64\n",
       "Class      int64\n",
       "dtype: object"
      ]
     },
     "execution_count": 5,
     "metadata": {},
     "output_type": "execute_result"
    }
   ],
   "source": [
    "data.dtypes"
   ]
  },
  {
   "cell_type": "code",
   "execution_count": 6,
   "metadata": {},
   "outputs": [
    {
     "name": "stdout",
     "output_type": "stream",
     "text": [
      "<class 'pandas.core.frame.DataFrame'>\n",
      "RangeIndex: 4177 entries, 0 to 4176\n",
      "Data columns (total 9 columns):\n",
      "V1       4177 non-null object\n",
      "V2       4177 non-null float64\n",
      "V3       4177 non-null float64\n",
      "V4       4177 non-null float64\n",
      "V5       4177 non-null float64\n",
      "V6       4177 non-null float64\n",
      "V7       4177 non-null float64\n",
      "V8       4177 non-null float64\n",
      "Class    4177 non-null int64\n",
      "dtypes: float64(7), int64(1), object(1)\n",
      "memory usage: 293.8+ KB\n"
     ]
    }
   ],
   "source": [
    "data.info()"
   ]
  },
  {
   "cell_type": "code",
   "execution_count": 7,
   "metadata": {},
   "outputs": [
    {
     "data": {
      "text/html": [
       "<div>\n",
       "<style scoped>\n",
       "    .dataframe tbody tr th:only-of-type {\n",
       "        vertical-align: middle;\n",
       "    }\n",
       "\n",
       "    .dataframe tbody tr th {\n",
       "        vertical-align: top;\n",
       "    }\n",
       "\n",
       "    .dataframe thead th {\n",
       "        text-align: right;\n",
       "    }\n",
       "</style>\n",
       "<table border=\"1\" class=\"dataframe\">\n",
       "  <thead>\n",
       "    <tr style=\"text-align: right;\">\n",
       "      <th></th>\n",
       "      <th>V2</th>\n",
       "      <th>V3</th>\n",
       "      <th>V4</th>\n",
       "      <th>V5</th>\n",
       "      <th>V6</th>\n",
       "      <th>V7</th>\n",
       "      <th>V8</th>\n",
       "      <th>Class</th>\n",
       "    </tr>\n",
       "  </thead>\n",
       "  <tbody>\n",
       "    <tr>\n",
       "      <th>count</th>\n",
       "      <td>4177.000000</td>\n",
       "      <td>4177.000000</td>\n",
       "      <td>4177.000000</td>\n",
       "      <td>4177.000000</td>\n",
       "      <td>4177.000000</td>\n",
       "      <td>4177.000000</td>\n",
       "      <td>4177.000000</td>\n",
       "      <td>4177.000000</td>\n",
       "    </tr>\n",
       "    <tr>\n",
       "      <th>mean</th>\n",
       "      <td>0.523992</td>\n",
       "      <td>0.407881</td>\n",
       "      <td>0.139516</td>\n",
       "      <td>0.828742</td>\n",
       "      <td>0.359367</td>\n",
       "      <td>0.180594</td>\n",
       "      <td>0.238831</td>\n",
       "      <td>9.933684</td>\n",
       "    </tr>\n",
       "    <tr>\n",
       "      <th>std</th>\n",
       "      <td>0.120093</td>\n",
       "      <td>0.099240</td>\n",
       "      <td>0.041827</td>\n",
       "      <td>0.490389</td>\n",
       "      <td>0.221963</td>\n",
       "      <td>0.109614</td>\n",
       "      <td>0.139203</td>\n",
       "      <td>3.224169</td>\n",
       "    </tr>\n",
       "    <tr>\n",
       "      <th>min</th>\n",
       "      <td>0.075000</td>\n",
       "      <td>0.055000</td>\n",
       "      <td>0.000000</td>\n",
       "      <td>0.002000</td>\n",
       "      <td>0.001000</td>\n",
       "      <td>0.000500</td>\n",
       "      <td>0.001500</td>\n",
       "      <td>1.000000</td>\n",
       "    </tr>\n",
       "    <tr>\n",
       "      <th>25%</th>\n",
       "      <td>0.450000</td>\n",
       "      <td>0.350000</td>\n",
       "      <td>0.115000</td>\n",
       "      <td>0.441500</td>\n",
       "      <td>0.186000</td>\n",
       "      <td>0.093500</td>\n",
       "      <td>0.130000</td>\n",
       "      <td>8.000000</td>\n",
       "    </tr>\n",
       "    <tr>\n",
       "      <th>50%</th>\n",
       "      <td>0.545000</td>\n",
       "      <td>0.425000</td>\n",
       "      <td>0.140000</td>\n",
       "      <td>0.799500</td>\n",
       "      <td>0.336000</td>\n",
       "      <td>0.171000</td>\n",
       "      <td>0.234000</td>\n",
       "      <td>9.000000</td>\n",
       "    </tr>\n",
       "    <tr>\n",
       "      <th>75%</th>\n",
       "      <td>0.615000</td>\n",
       "      <td>0.480000</td>\n",
       "      <td>0.165000</td>\n",
       "      <td>1.153000</td>\n",
       "      <td>0.502000</td>\n",
       "      <td>0.253000</td>\n",
       "      <td>0.329000</td>\n",
       "      <td>11.000000</td>\n",
       "    </tr>\n",
       "    <tr>\n",
       "      <th>max</th>\n",
       "      <td>0.815000</td>\n",
       "      <td>0.650000</td>\n",
       "      <td>1.130000</td>\n",
       "      <td>2.825500</td>\n",
       "      <td>1.488000</td>\n",
       "      <td>0.760000</td>\n",
       "      <td>1.005000</td>\n",
       "      <td>29.000000</td>\n",
       "    </tr>\n",
       "  </tbody>\n",
       "</table>\n",
       "</div>"
      ],
      "text/plain": [
       "                V2           V3           V4           V5           V6  \\\n",
       "count  4177.000000  4177.000000  4177.000000  4177.000000  4177.000000   \n",
       "mean      0.523992     0.407881     0.139516     0.828742     0.359367   \n",
       "std       0.120093     0.099240     0.041827     0.490389     0.221963   \n",
       "min       0.075000     0.055000     0.000000     0.002000     0.001000   \n",
       "25%       0.450000     0.350000     0.115000     0.441500     0.186000   \n",
       "50%       0.545000     0.425000     0.140000     0.799500     0.336000   \n",
       "75%       0.615000     0.480000     0.165000     1.153000     0.502000   \n",
       "max       0.815000     0.650000     1.130000     2.825500     1.488000   \n",
       "\n",
       "                V7           V8        Class  \n",
       "count  4177.000000  4177.000000  4177.000000  \n",
       "mean      0.180594     0.238831     9.933684  \n",
       "std       0.109614     0.139203     3.224169  \n",
       "min       0.000500     0.001500     1.000000  \n",
       "25%       0.093500     0.130000     8.000000  \n",
       "50%       0.171000     0.234000     9.000000  \n",
       "75%       0.253000     0.329000    11.000000  \n",
       "max       0.760000     1.005000    29.000000  "
      ]
     },
     "execution_count": 7,
     "metadata": {},
     "output_type": "execute_result"
    }
   ],
   "source": [
    "data.describe()"
   ]
  },
  {
   "cell_type": "code",
   "execution_count": 8,
   "metadata": {},
   "outputs": [
    {
     "data": {
      "text/html": [
       "<div>\n",
       "<style scoped>\n",
       "    .dataframe tbody tr th:only-of-type {\n",
       "        vertical-align: middle;\n",
       "    }\n",
       "\n",
       "    .dataframe tbody tr th {\n",
       "        vertical-align: top;\n",
       "    }\n",
       "\n",
       "    .dataframe thead th {\n",
       "        text-align: right;\n",
       "    }\n",
       "</style>\n",
       "<table border=\"1\" class=\"dataframe\">\n",
       "  <thead>\n",
       "    <tr style=\"text-align: right;\">\n",
       "      <th></th>\n",
       "      <th>V2</th>\n",
       "      <th>V3</th>\n",
       "      <th>V4</th>\n",
       "      <th>V5</th>\n",
       "      <th>V6</th>\n",
       "      <th>V7</th>\n",
       "      <th>V8</th>\n",
       "      <th>Class</th>\n",
       "    </tr>\n",
       "  </thead>\n",
       "  <tbody>\n",
       "    <tr>\n",
       "      <th>V2</th>\n",
       "      <td>1.000000</td>\n",
       "      <td>0.986812</td>\n",
       "      <td>0.827554</td>\n",
       "      <td>0.925261</td>\n",
       "      <td>0.897914</td>\n",
       "      <td>0.903018</td>\n",
       "      <td>0.897706</td>\n",
       "      <td>0.556720</td>\n",
       "    </tr>\n",
       "    <tr>\n",
       "      <th>V3</th>\n",
       "      <td>0.986812</td>\n",
       "      <td>1.000000</td>\n",
       "      <td>0.833684</td>\n",
       "      <td>0.925452</td>\n",
       "      <td>0.893162</td>\n",
       "      <td>0.899724</td>\n",
       "      <td>0.905330</td>\n",
       "      <td>0.574660</td>\n",
       "    </tr>\n",
       "    <tr>\n",
       "      <th>V4</th>\n",
       "      <td>0.827554</td>\n",
       "      <td>0.833684</td>\n",
       "      <td>1.000000</td>\n",
       "      <td>0.819221</td>\n",
       "      <td>0.774972</td>\n",
       "      <td>0.798319</td>\n",
       "      <td>0.817338</td>\n",
       "      <td>0.557467</td>\n",
       "    </tr>\n",
       "    <tr>\n",
       "      <th>V5</th>\n",
       "      <td>0.925261</td>\n",
       "      <td>0.925452</td>\n",
       "      <td>0.819221</td>\n",
       "      <td>1.000000</td>\n",
       "      <td>0.969405</td>\n",
       "      <td>0.966375</td>\n",
       "      <td>0.955355</td>\n",
       "      <td>0.540390</td>\n",
       "    </tr>\n",
       "    <tr>\n",
       "      <th>V6</th>\n",
       "      <td>0.897914</td>\n",
       "      <td>0.893162</td>\n",
       "      <td>0.774972</td>\n",
       "      <td>0.969405</td>\n",
       "      <td>1.000000</td>\n",
       "      <td>0.931961</td>\n",
       "      <td>0.882617</td>\n",
       "      <td>0.420884</td>\n",
       "    </tr>\n",
       "    <tr>\n",
       "      <th>V7</th>\n",
       "      <td>0.903018</td>\n",
       "      <td>0.899724</td>\n",
       "      <td>0.798319</td>\n",
       "      <td>0.966375</td>\n",
       "      <td>0.931961</td>\n",
       "      <td>1.000000</td>\n",
       "      <td>0.907656</td>\n",
       "      <td>0.503819</td>\n",
       "    </tr>\n",
       "    <tr>\n",
       "      <th>V8</th>\n",
       "      <td>0.897706</td>\n",
       "      <td>0.905330</td>\n",
       "      <td>0.817338</td>\n",
       "      <td>0.955355</td>\n",
       "      <td>0.882617</td>\n",
       "      <td>0.907656</td>\n",
       "      <td>1.000000</td>\n",
       "      <td>0.627574</td>\n",
       "    </tr>\n",
       "    <tr>\n",
       "      <th>Class</th>\n",
       "      <td>0.556720</td>\n",
       "      <td>0.574660</td>\n",
       "      <td>0.557467</td>\n",
       "      <td>0.540390</td>\n",
       "      <td>0.420884</td>\n",
       "      <td>0.503819</td>\n",
       "      <td>0.627574</td>\n",
       "      <td>1.000000</td>\n",
       "    </tr>\n",
       "  </tbody>\n",
       "</table>\n",
       "</div>"
      ],
      "text/plain": [
       "             V2        V3        V4        V5        V6        V7        V8  \\\n",
       "V2     1.000000  0.986812  0.827554  0.925261  0.897914  0.903018  0.897706   \n",
       "V3     0.986812  1.000000  0.833684  0.925452  0.893162  0.899724  0.905330   \n",
       "V4     0.827554  0.833684  1.000000  0.819221  0.774972  0.798319  0.817338   \n",
       "V5     0.925261  0.925452  0.819221  1.000000  0.969405  0.966375  0.955355   \n",
       "V6     0.897914  0.893162  0.774972  0.969405  1.000000  0.931961  0.882617   \n",
       "V7     0.903018  0.899724  0.798319  0.966375  0.931961  1.000000  0.907656   \n",
       "V8     0.897706  0.905330  0.817338  0.955355  0.882617  0.907656  1.000000   \n",
       "Class  0.556720  0.574660  0.557467  0.540390  0.420884  0.503819  0.627574   \n",
       "\n",
       "          Class  \n",
       "V2     0.556720  \n",
       "V3     0.574660  \n",
       "V4     0.557467  \n",
       "V5     0.540390  \n",
       "V6     0.420884  \n",
       "V7     0.503819  \n",
       "V8     0.627574  \n",
       "Class  1.000000  "
      ]
     },
     "execution_count": 8,
     "metadata": {},
     "output_type": "execute_result"
    }
   ],
   "source": [
    "data.corr()"
   ]
  },
  {
   "cell_type": "code",
   "execution_count": 9,
   "metadata": {},
   "outputs": [
    {
     "data": {
      "text/plain": [
       "V2       0.120093\n",
       "V3       0.099240\n",
       "V4       0.041827\n",
       "V5       0.490389\n",
       "V6       0.221963\n",
       "V7       0.109614\n",
       "V8       0.139203\n",
       "Class    3.224169\n",
       "dtype: float64"
      ]
     },
     "execution_count": 9,
     "metadata": {},
     "output_type": "execute_result"
    }
   ],
   "source": [
    "data.std()"
   ]
  },
  {
   "cell_type": "code",
   "execution_count": 10,
   "metadata": {},
   "outputs": [
    {
     "data": {
      "text/plain": [
       "V2       0.523992\n",
       "V3       0.407881\n",
       "V4       0.139516\n",
       "V5       0.828742\n",
       "V6       0.359367\n",
       "V7       0.180594\n",
       "V8       0.238831\n",
       "Class    9.933684\n",
       "dtype: float64"
      ]
     },
     "execution_count": 10,
     "metadata": {},
     "output_type": "execute_result"
    }
   ],
   "source": [
    "data.mean()"
   ]
  },
  {
   "cell_type": "code",
   "execution_count": 11,
   "metadata": {},
   "outputs": [
    {
     "data": {
      "text/plain": [
       "V2      -0.639873\n",
       "V3      -0.609198\n",
       "V4       3.128817\n",
       "V5       0.530959\n",
       "V6       0.719098\n",
       "V7       0.591852\n",
       "V8       0.620927\n",
       "Class    1.114102\n",
       "dtype: float64"
      ]
     },
     "execution_count": 11,
     "metadata": {},
     "output_type": "execute_result"
    }
   ],
   "source": [
    "data.skew()"
   ]
  },
  {
   "cell_type": "code",
   "execution_count": 12,
   "metadata": {},
   "outputs": [
    {
     "name": "stdout",
     "output_type": "stream",
     "text": [
      "{} columns were label encoded. 1\n"
     ]
    }
   ],
   "source": [
    "#Converting categorical data in numerical\n",
    "from sklearn .preprocessing import LabelEncoder\n",
    "le=LabelEncoder()\n",
    "le_count=0\n",
    "for col in data.columns[0:]:\n",
    "   if data[col].dtype=='object':\n",
    "    if len(list(data[col].unique()))<=3:\n",
    "        le.fit(data[col])\n",
    "        data[col]=le.transform(data[col])\n",
    "        le_count +=1\n",
    "print('{} columns were label encoded.',format(le_count))"
   ]
  },
  {
   "cell_type": "code",
   "execution_count": 13,
   "metadata": {},
   "outputs": [
    {
     "data": {
      "text/plain": [
       "V1         int32\n",
       "V2       float64\n",
       "V3       float64\n",
       "V4       float64\n",
       "V5       float64\n",
       "V6       float64\n",
       "V7       float64\n",
       "V8       float64\n",
       "Class      int64\n",
       "dtype: object"
      ]
     },
     "execution_count": 13,
     "metadata": {},
     "output_type": "execute_result"
    }
   ],
   "source": [
    "data.dtypes"
   ]
  },
  {
   "cell_type": "markdown",
   "metadata": {},
   "source": [
    "# CHECKING OUTLIERS"
   ]
  },
  {
   "cell_type": "code",
   "execution_count": 14,
   "metadata": {},
   "outputs": [
    {
     "data": {
      "text/plain": [
       "<matplotlib.axes._subplots.AxesSubplot at 0xb1ff4a8>"
      ]
     },
     "execution_count": 14,
     "metadata": {},
     "output_type": "execute_result"
    },
    {
     "data": {
      "image/png": "[encoded data removed]",
      "text/plain": [
       "<Figure size 432x288 with 1 Axes>"
      ]
     },
     "metadata": {
      "needs_background": "light"
     },
     "output_type": "display_data"
    }
   ],
   "source": [
    "data[\"V1\"].plot.box()"
   ]
  },
  {
   "cell_type": "code",
   "execution_count": 15,
   "metadata": {},
   "outputs": [
    {
     "data": {
      "text/plain": [
       "<matplotlib.axes._subplots.AxesSubplot at 0xb2685c0>"
      ]
     },
     "execution_count": 15,
     "metadata": {},
     "output_type": "execute_result"
    },
    {
     "data": {
      "image/png": "[encoded data removed]",
      "text/plain": [
       "<Figure size 432x288 with 1 Axes>"
      ]
     },
     "metadata": {
      "needs_background": "light"
     },
     "output_type": "display_data"
    }
   ],
   "source": [
    "data[\"V2\"].plot.box()"
   ]
  },
  {
   "cell_type": "code",
   "execution_count": 16,
   "metadata": {},
   "outputs": [
    {
     "data": {
      "text/plain": [
       "<matplotlib.axes._subplots.AxesSubplot at 0xb39ce10>"
      ]
     },
     "execution_count": 16,
     "metadata": {},
     "output_type": "execute_result"
    },
    {
     "data": {
      "image/png": "[encoded data removed]",
      "text/plain": [
       "<Figure size 432x288 with 1 Axes>"
      ]
     },
     "metadata": {
      "needs_background": "light"
     },
     "output_type": "display_data"
    }
   ],
   "source": [
    "data[\"V3\"].plot.box()"
   ]
  },
  {
   "cell_type": "code",
   "execution_count": 17,
   "metadata": {},
   "outputs": [
    {
     "data": {
      "text/plain": [
       "<matplotlib.axes._subplots.AxesSubplot at 0xb3db940>"
      ]
     },
     "execution_count": 17,
     "metadata": {},
     "output_type": "execute_result"
    },
    {
     "data": {
      "image/png": "[encoded data removed]",
      "text/plain": [
       "<Figure size 432x288 with 1 Axes>"
      ]
     },
     "metadata": {
      "needs_background": "light"
     },
     "output_type": "display_data"
    }
   ],
   "source": [
    "data[\"V4\"].plot.box()"
   ]
  },
  {
   "cell_type": "code",
   "execution_count": 18,
   "metadata": {},
   "outputs": [
    {
     "data": {
      "text/plain": [
       "<matplotlib.axes._subplots.AxesSubplot at 0xb7600f0>"
      ]
     },
     "execution_count": 18,
     "metadata": {},
     "output_type": "execute_result"
    },
    {
     "data": {
      "image/png": "[encoded data removed]",
      "text/plain": [
       "<Figure size 432x288 with 1 Axes>"
      ]
     },
     "metadata": {
      "needs_background": "light"
     },
     "output_type": "display_data"
    }
   ],
   "source": [
    "data[\"V5\"].plot.box()"
   ]
  },
  {
   "cell_type": "markdown",
   "metadata": {},
   "source": [
    "# REMOVING OUTLIERS"
   ]
  },
  {
   "cell_type": "code",
   "execution_count": 20,
   "metadata": {},
   "outputs": [
    {
     "data": {
      "text/plain": [
       "array([[1.15198011, 0.57455813, 0.43214879, ..., 0.72621157, 0.63821689,\n",
       "        1.57154357],\n",
       "       [1.15198011, 1.44898585, 1.439929  , ..., 1.20522124, 1.21298732,\n",
       "        0.91001299],\n",
       "       [1.28068972, 0.05003309, 0.12213032, ..., 0.35668983, 0.20713907,\n",
       "        0.28962385],\n",
       "       ...,\n",
       "       [1.15198011, 0.6329849 , 0.67640943, ..., 0.97541324, 0.49695471,\n",
       "        0.28962385],\n",
       "       [1.28068972, 0.84118198, 0.77718745, ..., 0.73362741, 0.41073914,\n",
       "        0.02057072],\n",
       "       [1.15198011, 1.54905203, 1.48263359, ..., 1.78744868, 1.84048058,\n",
       "        0.64095986]])"
      ]
     },
     "execution_count": 20,
     "metadata": {},
     "output_type": "execute_result"
    }
   ],
   "source": [
    "from scipy.stats import zscore\n",
    "z=np.abs(zscore(data))\n",
    "z"
   ]
  },
  {
   "cell_type": "code",
   "execution_count": 21,
   "metadata": {},
   "outputs": [
    {
     "name": "stdout",
     "output_type": "stream",
     "text": [
      "(array([   6,   72,   81,   83,  129,  163,  164,  165,  165,  165,  166,\n",
      "        166,  167,  168,  170,  181,  232,  236,  236,  236,  237,  237,\n",
      "        238,  238,  239,  270,  275,  277,  278,  294,  310,  313,  314,\n",
      "        334,  351,  355,  358,  358,  362,  375,  416,  417,  428,  431,\n",
      "        433,  469,  478,  480,  501,  526,  526,  530,  572,  628,  673,\n",
      "        674,  675,  678,  694,  696,  696,  719,  719,  720,  720,  744,\n",
      "        754,  756,  811,  891,  891,  891, 1048, 1051, 1051, 1052, 1193,\n",
      "       1197, 1199, 1202, 1204, 1206, 1206, 1207, 1207, 1207, 1207, 1209,\n",
      "       1209, 1257, 1417, 1417, 1418, 1422, 1426, 1427, 1427, 1427, 1428,\n",
      "       1429, 1429, 1528, 1754, 1756, 1757, 1759, 1761, 1762, 1762, 1762,\n",
      "       1763, 1763, 1763, 1821, 1982, 1986, 1987, 1987, 2051, 2090, 2108,\n",
      "       2108, 2114, 2114, 2157, 2161, 2176, 2180, 2199, 2201, 2208, 2209,\n",
      "       2274, 2275, 2305, 2334, 2334, 2334, 2335, 2344, 2358, 2368, 2381,\n",
      "       2436, 2459, 2471, 2544, 2623, 2624, 2624, 2624, 2625, 2709, 2710,\n",
      "       2710, 2810, 2810, 2811, 2811, 2811, 2862, 2863, 2863, 2863, 3007,\n",
      "       3008, 3140, 3148, 3149, 3149, 3151, 3151, 3188, 3193, 3280, 3359,\n",
      "       3427, 3427, 3427, 3599, 3599, 3628, 3713, 3715, 3715, 3715, 3715,\n",
      "       3800, 3837, 3899, 3899, 3902, 3924, 3930, 3944, 3961, 3962, 3996,\n",
      "       4145, 4148], dtype=int64), array([8, 8, 7, 8, 7, 7, 7, 4, 5, 7, 7, 8, 8, 7, 6, 8, 8, 1, 2, 3, 1, 2,\n",
      "       1, 2, 1, 8, 8, 7, 8, 8, 8, 8, 8, 7, 8, 8, 4, 7, 8, 8, 8, 8, 8, 8,\n",
      "       8, 8, 8, 8, 8, 1, 2, 8, 8, 8, 8, 8, 8, 8, 2, 1, 2, 1, 2, 1, 2, 8,\n",
      "       8, 8, 8, 4, 5, 7, 6, 4, 5, 4, 5, 5, 5, 5, 6, 5, 6, 4, 5, 6, 7, 4,\n",
      "       5, 3, 3, 5, 5, 6, 5, 4, 5, 6, 7, 1, 2, 5, 5, 5, 6, 6, 5, 4, 5, 6,\n",
      "       4, 5, 6, 5, 5, 1, 1, 2, 3, 7, 7, 8, 1, 2, 7, 7, 8, 8, 8, 8, 7, 8,\n",
      "       7, 8, 8, 4, 6, 8, 8, 8, 8, 7, 1, 8, 8, 8, 5, 4, 4, 5, 6, 5, 6, 5,\n",
      "       6, 5, 6, 4, 5, 6, 5, 4, 5, 6, 5, 7, 8, 7, 7, 8, 7, 8, 7, 8, 8, 8,\n",
      "       4, 5, 6, 4, 5, 6, 5, 4, 5, 6, 7, 4, 2, 1, 2, 1, 8, 8, 8, 5, 5, 3,\n",
      "       7, 6], dtype=int64))\n"
     ]
    }
   ],
   "source": [
    "threshold=3\n",
    "print(np.where(z>3))"
   ]
  },
  {
   "cell_type": "code",
   "execution_count": 22,
   "metadata": {},
   "outputs": [
    {
     "data": {
      "text/html": [
       "<div>\n",
       "<style scoped>\n",
       "    .dataframe tbody tr th:only-of-type {\n",
       "        vertical-align: middle;\n",
       "    }\n",
       "\n",
       "    .dataframe tbody tr th {\n",
       "        vertical-align: top;\n",
       "    }\n",
       "\n",
       "    .dataframe thead th {\n",
       "        text-align: right;\n",
       "    }\n",
       "</style>\n",
       "<table border=\"1\" class=\"dataframe\">\n",
       "  <thead>\n",
       "    <tr style=\"text-align: right;\">\n",
       "      <th></th>\n",
       "      <th>V1</th>\n",
       "      <th>V2</th>\n",
       "      <th>V3</th>\n",
       "      <th>V4</th>\n",
       "      <th>V5</th>\n",
       "      <th>V6</th>\n",
       "      <th>V7</th>\n",
       "      <th>V8</th>\n",
       "      <th>Class</th>\n",
       "    </tr>\n",
       "  </thead>\n",
       "  <tbody>\n",
       "    <tr>\n",
       "      <th>0</th>\n",
       "      <td>2</td>\n",
       "      <td>0.455</td>\n",
       "      <td>0.365</td>\n",
       "      <td>0.095</td>\n",
       "      <td>0.5140</td>\n",
       "      <td>0.2245</td>\n",
       "      <td>0.1010</td>\n",
       "      <td>0.150</td>\n",
       "      <td>15</td>\n",
       "    </tr>\n",
       "    <tr>\n",
       "      <th>1</th>\n",
       "      <td>2</td>\n",
       "      <td>0.350</td>\n",
       "      <td>0.265</td>\n",
       "      <td>0.090</td>\n",
       "      <td>0.2255</td>\n",
       "      <td>0.0995</td>\n",
       "      <td>0.0485</td>\n",
       "      <td>0.070</td>\n",
       "      <td>7</td>\n",
       "    </tr>\n",
       "    <tr>\n",
       "      <th>2</th>\n",
       "      <td>0</td>\n",
       "      <td>0.530</td>\n",
       "      <td>0.420</td>\n",
       "      <td>0.135</td>\n",
       "      <td>0.6770</td>\n",
       "      <td>0.2565</td>\n",
       "      <td>0.1415</td>\n",
       "      <td>0.210</td>\n",
       "      <td>9</td>\n",
       "    </tr>\n",
       "    <tr>\n",
       "      <th>3</th>\n",
       "      <td>2</td>\n",
       "      <td>0.440</td>\n",
       "      <td>0.365</td>\n",
       "      <td>0.125</td>\n",
       "      <td>0.5160</td>\n",
       "      <td>0.2155</td>\n",
       "      <td>0.1140</td>\n",
       "      <td>0.155</td>\n",
       "      <td>10</td>\n",
       "    </tr>\n",
       "    <tr>\n",
       "      <th>4</th>\n",
       "      <td>1</td>\n",
       "      <td>0.330</td>\n",
       "      <td>0.255</td>\n",
       "      <td>0.080</td>\n",
       "      <td>0.2050</td>\n",
       "      <td>0.0895</td>\n",
       "      <td>0.0395</td>\n",
       "      <td>0.055</td>\n",
       "      <td>7</td>\n",
       "    </tr>\n",
       "  </tbody>\n",
       "</table>\n",
       "</div>"
      ],
      "text/plain": [
       "   V1     V2     V3     V4      V5      V6      V7     V8  Class\n",
       "0   2  0.455  0.365  0.095  0.5140  0.2245  0.1010  0.150     15\n",
       "1   2  0.350  0.265  0.090  0.2255  0.0995  0.0485  0.070      7\n",
       "2   0  0.530  0.420  0.135  0.6770  0.2565  0.1415  0.210      9\n",
       "3   2  0.440  0.365  0.125  0.5160  0.2155  0.1140  0.155     10\n",
       "4   1  0.330  0.255  0.080  0.2050  0.0895  0.0395  0.055      7"
      ]
     },
     "execution_count": 22,
     "metadata": {},
     "output_type": "execute_result"
    }
   ],
   "source": [
    "data_new=data[(z<3).all(axis=1)]\n",
    "data_new.head()"
   ]
  },
  {
   "cell_type": "code",
   "execution_count": 23,
   "metadata": {},
   "outputs": [],
   "source": [
    "from sklearn.preprocessing import normalize\n",
    "data_new=normalize(data_new)"
   ]
  },
  {
   "cell_type": "code",
   "execution_count": 24,
   "metadata": {},
   "outputs": [
    {
     "data": {
      "text/html": [
       "<div>\n",
       "<style scoped>\n",
       "    .dataframe tbody tr th:only-of-type {\n",
       "        vertical-align: middle;\n",
       "    }\n",
       "\n",
       "    .dataframe tbody tr th {\n",
       "        vertical-align: top;\n",
       "    }\n",
       "\n",
       "    .dataframe thead th {\n",
       "        text-align: right;\n",
       "    }\n",
       "</style>\n",
       "<table border=\"1\" class=\"dataframe\">\n",
       "  <thead>\n",
       "    <tr style=\"text-align: right;\">\n",
       "      <th></th>\n",
       "      <th>0</th>\n",
       "      <th>1</th>\n",
       "      <th>2</th>\n",
       "      <th>3</th>\n",
       "      <th>4</th>\n",
       "      <th>5</th>\n",
       "      <th>6</th>\n",
       "      <th>7</th>\n",
       "      <th>8</th>\n",
       "    </tr>\n",
       "  </thead>\n",
       "  <tbody>\n",
       "    <tr>\n",
       "      <th>0</th>\n",
       "      <td>0.131963</td>\n",
       "      <td>0.030022</td>\n",
       "      <td>0.024083</td>\n",
       "      <td>0.006268</td>\n",
       "      <td>0.033915</td>\n",
       "      <td>0.014813</td>\n",
       "      <td>0.006664</td>\n",
       "      <td>0.009897</td>\n",
       "      <td>0.989724</td>\n",
       "    </tr>\n",
       "    <tr>\n",
       "      <th>1</th>\n",
       "      <td>0.274027</td>\n",
       "      <td>0.047955</td>\n",
       "      <td>0.036309</td>\n",
       "      <td>0.012331</td>\n",
       "      <td>0.030897</td>\n",
       "      <td>0.013633</td>\n",
       "      <td>0.006645</td>\n",
       "      <td>0.009591</td>\n",
       "      <td>0.959095</td>\n",
       "    </tr>\n",
       "    <tr>\n",
       "      <th>2</th>\n",
       "      <td>0.000000</td>\n",
       "      <td>0.058506</td>\n",
       "      <td>0.046363</td>\n",
       "      <td>0.014902</td>\n",
       "      <td>0.074733</td>\n",
       "      <td>0.028315</td>\n",
       "      <td>0.015620</td>\n",
       "      <td>0.023182</td>\n",
       "      <td>0.993498</td>\n",
       "    </tr>\n",
       "    <tr>\n",
       "      <th>3</th>\n",
       "      <td>0.195467</td>\n",
       "      <td>0.043003</td>\n",
       "      <td>0.035673</td>\n",
       "      <td>0.012217</td>\n",
       "      <td>0.050430</td>\n",
       "      <td>0.021062</td>\n",
       "      <td>0.011142</td>\n",
       "      <td>0.015149</td>\n",
       "      <td>0.977334</td>\n",
       "    </tr>\n",
       "    <tr>\n",
       "      <th>4</th>\n",
       "      <td>0.141090</td>\n",
       "      <td>0.046560</td>\n",
       "      <td>0.035978</td>\n",
       "      <td>0.011287</td>\n",
       "      <td>0.028924</td>\n",
       "      <td>0.012628</td>\n",
       "      <td>0.005573</td>\n",
       "      <td>0.007760</td>\n",
       "      <td>0.987632</td>\n",
       "    </tr>\n",
       "  </tbody>\n",
       "</table>\n",
       "</div>"
      ],
      "text/plain": [
       "          0         1         2         3         4         5         6  \\\n",
       "0  0.131963  0.030022  0.024083  0.006268  0.033915  0.014813  0.006664   \n",
       "1  0.274027  0.047955  0.036309  0.012331  0.030897  0.013633  0.006645   \n",
       "2  0.000000  0.058506  0.046363  0.014902  0.074733  0.028315  0.015620   \n",
       "3  0.195467  0.043003  0.035673  0.012217  0.050430  0.021062  0.011142   \n",
       "4  0.141090  0.046560  0.035978  0.011287  0.028924  0.012628  0.005573   \n",
       "\n",
       "          7         8  \n",
       "0  0.009897  0.989724  \n",
       "1  0.009591  0.959095  \n",
       "2  0.023182  0.993498  \n",
       "3  0.015149  0.977334  \n",
       "4  0.007760  0.987632  "
      ]
     },
     "execution_count": 24,
     "metadata": {},
     "output_type": "execute_result"
    }
   ],
   "source": [
    "data_new=pd.DataFrame(data_new)\n",
    "data_new.head()"
   ]
  },
  {
   "cell_type": "code",
   "execution_count": 25,
   "metadata": {},
   "outputs": [
    {
     "name": "stdout",
     "output_type": "stream",
     "text": [
      "(4177, 9)\n",
      "(4027, 9)\n"
     ]
    }
   ],
   "source": [
    "print(data.shape)\n",
    "print(data_new.shape)"
   ]
  },
  {
   "cell_type": "markdown",
   "metadata": {},
   "source": [
    "# VISUALIZATION"
   ]
  },
  {
   "cell_type": "code",
   "execution_count": 26,
   "metadata": {},
   "outputs": [
    {
     "data": {
      "text/plain": [
       "<matplotlib.axes._subplots.AxesSubplot at 0xb7cd668>"
      ]
     },
     "execution_count": 26,
     "metadata": {},
     "output_type": "execute_result"
    },
    {
     "data": {
      "image/png": "[encoded data removed]",
      "text/plain": [
       "<Figure size 432x288 with 2 Axes>"
      ]
     },
     "metadata": {
      "needs_background": "light"
     },
     "output_type": "display_data"
    }
   ],
   "source": [
    "sns.heatmap(data_new.isnull())"
   ]
  },
  {
   "cell_type": "code",
   "execution_count": 27,
   "metadata": {},
   "outputs": [
    {
     "data": {
      "text/plain": [
       "<matplotlib.axes._subplots.AxesSubplot at 0xb8bbef0>"
      ]
     },
     "execution_count": 27,
     "metadata": {},
     "output_type": "execute_result"
    },
    {
     "data": {
      "image/png": "[encoded data removed]",
      "text/plain": [
       "<Figure size 432x288 with 2 Axes>"
      ]
     },
     "metadata": {
      "needs_background": "light"
     },
     "output_type": "display_data"
    }
   ],
   "source": [
    "sns.heatmap(data_new.corr())"
   ]
  },
  {
   "cell_type": "code",
   "execution_count": 29,
   "metadata": {},
   "outputs": [
    {
     "data": {
      "text/plain": [
       "array([[<matplotlib.axes._subplots.AxesSubplot object at 0x000000000C0F1828>,\n",
       "        <matplotlib.axes._subplots.AxesSubplot object at 0x000000000C1620F0>,\n",
       "        <matplotlib.axes._subplots.AxesSubplot object at 0x000000000C1926A0>,\n",
       "        <matplotlib.axes._subplots.AxesSubplot object at 0x000000000C3AFC50>,\n",
       "        <matplotlib.axes._subplots.AxesSubplot object at 0x000000000C3E91D0>,\n",
       "        <matplotlib.axes._subplots.AxesSubplot object at 0x000000000C4177B8>,\n",
       "        <matplotlib.axes._subplots.AxesSubplot object at 0x000000000C448D68>,\n",
       "        <matplotlib.axes._subplots.AxesSubplot object at 0x000000000C480390>,\n",
       "        <matplotlib.axes._subplots.AxesSubplot object at 0x000000000C4803C8>],\n",
       "       [<matplotlib.axes._subplots.AxesSubplot object at 0x000000000C4DFEB8>,\n",
       "        <matplotlib.axes._subplots.AxesSubplot object at 0x000000000C51C4A8>,\n",
       "        <matplotlib.axes._subplots.AxesSubplot object at 0x000000000C54DA20>,\n",
       "        <matplotlib.axes._subplots.AxesSubplot object at 0x000000000C580FD0>,\n",
       "        <matplotlib.axes._subplots.AxesSubplot object at 0x000000000C5BD5C0>,\n",
       "        <matplotlib.axes._subplots.AxesSubplot object at 0x000000000C5ECB70>,\n",
       "        <matplotlib.axes._subplots.AxesSubplot object at 0x000000000C62C160>,\n",
       "        <matplotlib.axes._subplots.AxesSubplot object at 0x000000000C65C710>,\n",
       "        <matplotlib.axes._subplots.AxesSubplot object at 0x000000000C68FCC0>],\n",
       "       [<matplotlib.axes._subplots.AxesSubplot object at 0x000000000C6CD2B0>,\n",
       "        <matplotlib.axes._subplots.AxesSubplot object at 0x000000000C6FD860>,\n",
       "        <matplotlib.axes._subplots.AxesSubplot object at 0x000000000C730E10>,\n",
       "        <matplotlib.axes._subplots.AxesSubplot object at 0x000000000C76D400>,\n",
       "        <matplotlib.axes._subplots.AxesSubplot object at 0x000000000C7A09B0>,\n",
       "        <matplotlib.axes._subplots.AxesSubplot object at 0x000000000C7D4F60>,\n",
       "        <matplotlib.axes._subplots.AxesSubplot object at 0x000000000C810550>,\n",
       "        <matplotlib.axes._subplots.AxesSubplot object at 0x000000000C842B00>,\n",
       "        <matplotlib.axes._subplots.AxesSubplot object at 0x000000000C8800F0>],\n",
       "       [<matplotlib.axes._subplots.AxesSubplot object at 0x000000000C8AF6A0>,\n",
       "        <matplotlib.axes._subplots.AxesSubplot object at 0x000000000C8DFC50>,\n",
       "        <matplotlib.axes._subplots.AxesSubplot object at 0x000000000C91E240>,\n",
       "        <matplotlib.axes._subplots.AxesSubplot object at 0x000000000C9507F0>,\n",
       "        <matplotlib.axes._subplots.AxesSubplot object at 0x000000000C981DA0>,\n",
       "        <matplotlib.axes._subplots.AxesSubplot object at 0x000000000C9C0390>,\n",
       "        <matplotlib.axes._subplots.AxesSubplot object at 0x000000000C9F2940>,\n",
       "        <matplotlib.axes._subplots.AxesSubplot object at 0x000000000CA25EF0>,\n",
       "        <matplotlib.axes._subplots.AxesSubplot object at 0x000000000CA624E0>],\n",
       "       [<matplotlib.axes._subplots.AxesSubplot object at 0x000000000CA92A90>,\n",
       "        <matplotlib.axes._subplots.AxesSubplot object at 0x000000000B8EEEB8>,\n",
       "        <matplotlib.axes._subplots.AxesSubplot object at 0x000000000CAFF4A8>,\n",
       "        <matplotlib.axes._subplots.AxesSubplot object at 0x000000000CB2EA58>,\n",
       "        <matplotlib.axes._subplots.AxesSubplot object at 0x000000000CB71048>,\n",
       "        <matplotlib.axes._subplots.AxesSubplot object at 0x000000000CB9D5F8>,\n",
       "        <matplotlib.axes._subplots.AxesSubplot object at 0x000000000CBCFBA8>,\n",
       "        <matplotlib.axes._subplots.AxesSubplot object at 0x000000000CC0C198>,\n",
       "        <matplotlib.axes._subplots.AxesSubplot object at 0x000000000CC3E748>],\n",
       "       [<matplotlib.axes._subplots.AxesSubplot object at 0x000000000CC71CF8>,\n",
       "        <matplotlib.axes._subplots.AxesSubplot object at 0x000000000CCAE2E8>,\n",
       "        <matplotlib.axes._subplots.AxesSubplot object at 0x000000000CCE0898>,\n",
       "        <matplotlib.axes._subplots.AxesSubplot object at 0x000000000CD13E48>,\n",
       "        <matplotlib.axes._subplots.AxesSubplot object at 0x000000000CD4F438>,\n",
       "        <matplotlib.axes._subplots.AxesSubplot object at 0x000000000CD7F9E8>,\n",
       "        <matplotlib.axes._subplots.AxesSubplot object at 0x000000000CDB3F98>,\n",
       "        <matplotlib.axes._subplots.AxesSubplot object at 0x000000000CDEF588>,\n",
       "        <matplotlib.axes._subplots.AxesSubplot object at 0x000000000CE22B38>],\n",
       "       [<matplotlib.axes._subplots.AxesSubplot object at 0x000000000DE31128>,\n",
       "        <matplotlib.axes._subplots.AxesSubplot object at 0x000000000DE626D8>,\n",
       "        <matplotlib.axes._subplots.AxesSubplot object at 0x000000000DE93C88>,\n",
       "        <matplotlib.axes._subplots.AxesSubplot object at 0x000000000DED0278>,\n",
       "        <matplotlib.axes._subplots.AxesSubplot object at 0x000000000DF02828>,\n",
       "        <matplotlib.axes._subplots.AxesSubplot object at 0x000000000DF35DD8>,\n",
       "        <matplotlib.axes._subplots.AxesSubplot object at 0x000000000DF723C8>,\n",
       "        <matplotlib.axes._subplots.AxesSubplot object at 0x000000000DFA4978>,\n",
       "        <matplotlib.axes._subplots.AxesSubplot object at 0x000000000DFD7F28>],\n",
       "       [<matplotlib.axes._subplots.AxesSubplot object at 0x000000000E011518>,\n",
       "        <matplotlib.axes._subplots.AxesSubplot object at 0x000000000E042AC8>,\n",
       "        <matplotlib.axes._subplots.AxesSubplot object at 0x000000000E0840B8>,\n",
       "        <matplotlib.axes._subplots.AxesSubplot object at 0x000000000E0B1668>,\n",
       "        <matplotlib.axes._subplots.AxesSubplot object at 0x000000000E0E4C18>,\n",
       "        <matplotlib.axes._subplots.AxesSubplot object at 0x000000000E123208>,\n",
       "        <matplotlib.axes._subplots.AxesSubplot object at 0x000000000E1537B8>,\n",
       "        <matplotlib.axes._subplots.AxesSubplot object at 0x000000000E185D68>,\n",
       "        <matplotlib.axes._subplots.AxesSubplot object at 0x000000000E1C5358>],\n",
       "       [<matplotlib.axes._subplots.AxesSubplot object at 0x000000000E1F6908>,\n",
       "        <matplotlib.axes._subplots.AxesSubplot object at 0x000000000E229EB8>,\n",
       "        <matplotlib.axes._subplots.AxesSubplot object at 0x000000000E2654A8>,\n",
       "        <matplotlib.axes._subplots.AxesSubplot object at 0x000000000E297A58>,\n",
       "        <matplotlib.axes._subplots.AxesSubplot object at 0x000000000E2D7048>,\n",
       "        <matplotlib.axes._subplots.AxesSubplot object at 0x000000000E3055F8>,\n",
       "        <matplotlib.axes._subplots.AxesSubplot object at 0x000000000E337BA8>,\n",
       "        <matplotlib.axes._subplots.AxesSubplot object at 0x000000000E377198>,\n",
       "        <matplotlib.axes._subplots.AxesSubplot object at 0x000000000E3A7748>]],\n",
       "      dtype=object)"
      ]
     },
     "execution_count": 29,
     "metadata": {},
     "output_type": "execute_result"
    },
    {
     "data": {
      "image/png": "[encoded data removed]",
      "text/plain": [
       "<Figure size 432x288 with 81 Axes>"
      ]
     },
     "metadata": {
      "needs_background": "light"
     },
     "output_type": "display_data"
    }
   ],
   "source": [
    "from pandas.plotting import scatter_matrix\n",
    "scatter_matrix(data_new)"
   ]
  },
  {
   "cell_type": "code",
   "execution_count": 30,
   "metadata": {},
   "outputs": [
    {
     "data": {
      "text/plain": [
       "array([[<matplotlib.axes._subplots.AxesSubplot object at 0x000000000E5A26A0>,\n",
       "        <matplotlib.axes._subplots.AxesSubplot object at 0x000000000E867240>,\n",
       "        <matplotlib.axes._subplots.AxesSubplot object at 0x000000000E9060F0>],\n",
       "       [<matplotlib.axes._subplots.AxesSubplot object at 0x000000000E966240>,\n",
       "        <matplotlib.axes._subplots.AxesSubplot object at 0x000000000E990748>,\n",
       "        <matplotlib.axes._subplots.AxesSubplot object at 0x000000000E9C1CF8>],\n",
       "       [<matplotlib.axes._subplots.AxesSubplot object at 0x000000000EBFF2B0>,\n",
       "        <matplotlib.axes._subplots.AxesSubplot object at 0x000000000EE52898>,\n",
       "        <matplotlib.axes._subplots.AxesSubplot object at 0x000000000EE528D0>]],\n",
       "      dtype=object)"
      ]
     },
     "execution_count": 30,
     "metadata": {},
     "output_type": "execute_result"
    },
    {
     "data": {
      "image/png": "[encoded data removed]",
      "text/plain": [
       "<Figure size 432x288 with 9 Axes>"
      ]
     },
     "metadata": {
      "needs_background": "light"
     },
     "output_type": "display_data"
    }
   ],
   "source": [
    "data_new.hist()"
   ]
  },
  {
   "cell_type": "markdown",
   "metadata": {},
   "source": [
    "# SPLITTING INTO x AND y"
   ]
  },
  {
   "cell_type": "code",
   "execution_count": 32,
   "metadata": {},
   "outputs": [
    {
     "data": {
      "text/html": [
       "<div>\n",
       "<style scoped>\n",
       "    .dataframe tbody tr th:only-of-type {\n",
       "        vertical-align: middle;\n",
       "    }\n",
       "\n",
       "    .dataframe tbody tr th {\n",
       "        vertical-align: top;\n",
       "    }\n",
       "\n",
       "    .dataframe thead th {\n",
       "        text-align: right;\n",
       "    }\n",
       "</style>\n",
       "<table border=\"1\" class=\"dataframe\">\n",
       "  <thead>\n",
       "    <tr style=\"text-align: right;\">\n",
       "      <th></th>\n",
       "      <th>0</th>\n",
       "      <th>1</th>\n",
       "      <th>2</th>\n",
       "      <th>3</th>\n",
       "      <th>4</th>\n",
       "      <th>5</th>\n",
       "      <th>6</th>\n",
       "      <th>7</th>\n",
       "    </tr>\n",
       "  </thead>\n",
       "  <tbody>\n",
       "    <tr>\n",
       "      <th>0</th>\n",
       "      <td>0.131963</td>\n",
       "      <td>0.030022</td>\n",
       "      <td>0.024083</td>\n",
       "      <td>0.006268</td>\n",
       "      <td>0.033915</td>\n",
       "      <td>0.014813</td>\n",
       "      <td>0.006664</td>\n",
       "      <td>0.009897</td>\n",
       "    </tr>\n",
       "    <tr>\n",
       "      <th>1</th>\n",
       "      <td>0.274027</td>\n",
       "      <td>0.047955</td>\n",
       "      <td>0.036309</td>\n",
       "      <td>0.012331</td>\n",
       "      <td>0.030897</td>\n",
       "      <td>0.013633</td>\n",
       "      <td>0.006645</td>\n",
       "      <td>0.009591</td>\n",
       "    </tr>\n",
       "    <tr>\n",
       "      <th>2</th>\n",
       "      <td>0.000000</td>\n",
       "      <td>0.058506</td>\n",
       "      <td>0.046363</td>\n",
       "      <td>0.014902</td>\n",
       "      <td>0.074733</td>\n",
       "      <td>0.028315</td>\n",
       "      <td>0.015620</td>\n",
       "      <td>0.023182</td>\n",
       "    </tr>\n",
       "    <tr>\n",
       "      <th>3</th>\n",
       "      <td>0.195467</td>\n",
       "      <td>0.043003</td>\n",
       "      <td>0.035673</td>\n",
       "      <td>0.012217</td>\n",
       "      <td>0.050430</td>\n",
       "      <td>0.021062</td>\n",
       "      <td>0.011142</td>\n",
       "      <td>0.015149</td>\n",
       "    </tr>\n",
       "    <tr>\n",
       "      <th>4</th>\n",
       "      <td>0.141090</td>\n",
       "      <td>0.046560</td>\n",
       "      <td>0.035978</td>\n",
       "      <td>0.011287</td>\n",
       "      <td>0.028924</td>\n",
       "      <td>0.012628</td>\n",
       "      <td>0.005573</td>\n",
       "      <td>0.007760</td>\n",
       "    </tr>\n",
       "  </tbody>\n",
       "</table>\n",
       "</div>"
      ],
      "text/plain": [
       "          0         1         2         3         4         5         6  \\\n",
       "0  0.131963  0.030022  0.024083  0.006268  0.033915  0.014813  0.006664   \n",
       "1  0.274027  0.047955  0.036309  0.012331  0.030897  0.013633  0.006645   \n",
       "2  0.000000  0.058506  0.046363  0.014902  0.074733  0.028315  0.015620   \n",
       "3  0.195467  0.043003  0.035673  0.012217  0.050430  0.021062  0.011142   \n",
       "4  0.141090  0.046560  0.035978  0.011287  0.028924  0.012628  0.005573   \n",
       "\n",
       "          7  \n",
       "0  0.009897  \n",
       "1  0.009591  \n",
       "2  0.023182  \n",
       "3  0.015149  \n",
       "4  0.007760  "
      ]
     },
     "execution_count": 32,
     "metadata": {},
     "output_type": "execute_result"
    }
   ],
   "source": [
    "x=data_new.drop(8,axis=1)\n",
    "x.head()"
   ]
  },
  {
   "cell_type": "code",
   "execution_count": 33,
   "metadata": {},
   "outputs": [
    {
     "data": {
      "text/plain": [
       "0    0.989724\n",
       "1    0.959095\n",
       "2    0.993498\n",
       "3    0.977334\n",
       "4    0.987632\n",
       "Name: 8, dtype: float64"
      ]
     },
     "execution_count": 33,
     "metadata": {},
     "output_type": "execute_result"
    }
   ],
   "source": [
    "y=data_new[8]\n",
    "y.head()"
   ]
  },
  {
   "cell_type": "markdown",
   "metadata": {},
   "source": [
    "# TRAINING AND TESTING PHASE"
   ]
  },
  {
   "cell_type": "code",
   "execution_count": 34,
   "metadata": {},
   "outputs": [],
   "source": [
    "x_train,x_test,y_train,y_test=train_test_split(x,y,test_size=.22,random_state=100)"
   ]
  },
  {
   "cell_type": "code",
   "execution_count": 35,
   "metadata": {},
   "outputs": [
    {
     "name": "stdout",
     "output_type": "stream",
     "text": [
      "(3141, 8)\n",
      "(886, 8)\n",
      "(3141,)\n",
      "(886,)\n"
     ]
    }
   ],
   "source": [
    "print(x_train.shape)\n",
    "print(x_test.shape)\n",
    "print(y_train.shape)\n",
    "print(y_test.shape)"
   ]
  },
  {
   "cell_type": "code",
   "execution_count": 37,
   "metadata": {},
   "outputs": [
    {
     "name": "stdout",
     "output_type": "stream",
     "text": [
      "max r2 score corresponding to 43 is 0.8894235104111076\n"
     ]
    }
   ],
   "source": [
    "from sklearn.metrics import mean_squared_error\n",
    "from sklearn.metrics import mean_absolute_error\n",
    "from sklearn.metrics import r2_score\n",
    "from sklearn import linear_model\n",
    "max_r_score=0\n",
    "for r_state in range (0,100):\n",
    "    x_train,x_test,y_train,y_test=train_test_split(x,y,test_size=.21,random_state=r_state)\n",
    "    lm=linear_model.LinearRegression()\n",
    "    lm.fit(x_train,y_train)\n",
    "    y_pred=lm.predict(x_test)\n",
    "    r2_scr=r2_score(y_test,y_pred)\n",
    "    if r2_scr>max_r_score:\n",
    "        max_r_score=r2_scr\n",
    "        final_r_state=r_state\n",
    "print(\"max r2 score corresponding to\",final_r_state,'is',max_r_score)"
   ]
  },
  {
   "cell_type": "code",
   "execution_count": 40,
   "metadata": {},
   "outputs": [
    {
     "data": {
      "text/plain": [
       "0.8287959790123937"
      ]
     },
     "execution_count": 40,
     "metadata": {},
     "output_type": "execute_result"
    }
   ],
   "source": [
    "from sklearn.model_selection import cross_val_score\n",
    "cross_val_score(linear_model.LinearRegression(),x,y,cv=5,scoring=\"r2\").mean()"
   ]
  },
  {
   "cell_type": "code",
   "execution_count": 43,
   "metadata": {},
   "outputs": [
    {
     "data": {
      "text/plain": [
       "0.8230597180004915"
      ]
     },
     "execution_count": 43,
     "metadata": {},
     "output_type": "execute_result"
    }
   ],
   "source": [
    "#max r2 score we get at random state=20\n",
    "x_train,x_test,y_train,y_test=train_test_split(x,y,test_size=.21,random_state=100)\n",
    "lm=LinearRegression()\n",
    "lm.fit(x_train,y_train)\n",
    "y_pred=lm.predict(x_test)\n",
    "lm.score(x_train,y_train)"
   ]
  },
  {
   "cell_type": "code",
   "execution_count": 44,
   "metadata": {},
   "outputs": [
    {
     "data": {
      "text/plain": [
       "array([-0.12447336, -0.14355301,  0.12731433, -0.29321389, -0.15276873,\n",
       "        0.00629569, -0.06300841,  0.1587129 ])"
      ]
     },
     "execution_count": 44,
     "metadata": {},
     "output_type": "execute_result"
    }
   ],
   "source": [
    "lm.coef_"
   ]
  },
  {
   "cell_type": "code",
   "execution_count": 45,
   "metadata": {},
   "outputs": [
    {
     "data": {
      "text/plain": [
       "1.0116562637151985"
      ]
     },
     "execution_count": 45,
     "metadata": {},
     "output_type": "execute_result"
    }
   ],
   "source": [
    "lm.intercept_"
   ]
  },
  {
   "cell_type": "code",
   "execution_count": 46,
   "metadata": {},
   "outputs": [
    {
     "name": "stdout",
     "output_type": "stream",
     "text": [
      "r2 score is: 0.8785562987942652\n",
      "RMSE is: 0.0042602307853638515\n"
     ]
    }
   ],
   "source": [
    "from sklearn.metrics import r2_score\n",
    "from sklearn.metrics import mean_squared_error\n",
    "print(\"r2 score is:\", r2_score(y_test,y_pred))\n",
    "print(\"RMSE is:\",np.sqrt(mean_squared_error(y_test,y_pred)))"
   ]
  },
  {
   "cell_type": "code",
   "execution_count": 47,
   "metadata": {},
   "outputs": [],
   "source": [
    "from sklearn.model_selection import GridSearchCV\n",
    "from sklearn.ensemble import RandomForestRegressor\n",
    "from sklearn.model_selection import cross_val_score"
   ]
  },
  {
   "cell_type": "code",
   "execution_count": 48,
   "metadata": {},
   "outputs": [
    {
     "name": "stdout",
     "output_type": "stream",
     "text": [
      "mean squared errror is\n"
     ]
    },
    {
     "data": {
      "text/plain": [
       "0.0006810477611294965"
      ]
     },
     "execution_count": 48,
     "metadata": {},
     "output_type": "execute_result"
    }
   ],
   "source": [
    "rfr=RandomForestRegressor()\n",
    "rfr.fit(x_train,y_train)\n",
    "print('mean squared errror is',)\n",
    "np.sqrt(mean_squared_error(y_test,rfr.predict(x_test)))"
   ]
  },
  {
   "cell_type": "code",
   "execution_count": 50,
   "metadata": {},
   "outputs": [
    {
     "data": {
      "text/plain": [
       "0.9932131935228098"
      ]
     },
     "execution_count": 50,
     "metadata": {},
     "output_type": "execute_result"
    }
   ],
   "source": [
    "cv=cross_val_score(rfr,x_train,y_train,scoring='r2',cv=10)\n",
    "cv.std()\n",
    "cv.mean()"
   ]
  },
  {
   "cell_type": "code",
   "execution_count": 51,
   "metadata": {},
   "outputs": [
    {
     "data": {
      "text/plain": [
       "RandomForestRegressor(bootstrap=True, criterion='mse', max_depth=30,\n",
       "                      max_features='log2', max_leaf_nodes=None,\n",
       "                      min_impurity_decrease=0.0, min_impurity_split=None,\n",
       "                      min_samples_leaf=1, min_samples_split=4,\n",
       "                      min_weight_fraction_leaf=0.0, n_estimators=10,\n",
       "                      n_jobs=None, oob_score=False, random_state=None,\n",
       "                      verbose=0, warm_start=False)"
      ]
     },
     "execution_count": 51,
     "metadata": {},
     "output_type": "execute_result"
    }
   ],
   "source": [
    "params=[{\n",
    "            \n",
    "            'max_depth':[10,20,30,40,50,60,70,100],\n",
    "            'min_samples_split':[2,3,4,7,10,12],\n",
    "            'min_samples_leaf' :[1,3,5,10,15,20,25],\n",
    "            'max_features':['sqrt','log2'],\n",
    "            \n",
    "        }\n",
    "        ]\n",
    "\n",
    "from sklearn.model_selection import GridSearchCV\n",
    "gc=GridSearchCV(rfr,params,cv=10,scoring='r2',n_jobs=-1)\n",
    "gc.fit(x_train,y_train)\n",
    "gc.best_estimator_"
   ]
  },
  {
   "cell_type": "code",
   "execution_count": 52,
   "metadata": {},
   "outputs": [
    {
     "data": {
      "text/plain": [
       "0.9624661785361418"
      ]
     },
     "execution_count": 52,
     "metadata": {},
     "output_type": "execute_result"
    }
   ],
   "source": [
    "gc.best_score_"
   ]
  },
  {
   "cell_type": "code",
   "execution_count": 53,
   "metadata": {},
   "outputs": [
    {
     "data": {
      "text/plain": [
       "['Abalone.pkl']"
      ]
     },
     "execution_count": 53,
     "metadata": {},
     "output_type": "execute_result"
    }
   ],
   "source": [
    "#save the model\n",
    "from sklearn.externals import joblib\n",
    "joblib.dump(lm,\"Abalone.pkl\")"
   ]
  },
  {
   "cell_type": "code",
   "execution_count": null,
   "metadata": {},
   "outputs": [],
   "source": []
  }
 ],
 "metadata": {
  "kernelspec": {
   "display_name": "Python 3",
   "language": "python",
   "name": "python3"
  },
  "language_info": {
   "codemirror_mode": {
    "name": "ipython",
    "version": 3
   },
   "file_extension": ".py",
   "mimetype": "text/x-python",
   "name": "python",
   "nbconvert_exporter": "python",
   "pygments_lexer": "ipython3",
   "version": "3.7.3"
  }
 },
 "nbformat": 4,
 "nbformat_minor": 2
}
